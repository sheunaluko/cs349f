{
 "cells": [
  {
   "cell_type": "markdown",
   "metadata": {
    "id": "_0fsVLwW6zL2"
   },
   "source": [
    "# **CS349F Review Session 3**"
   ]
  },
  {
   "cell_type": "markdown",
   "metadata": {},
   "source": [
    "# Table of Contents\n",
    "* [**CS349F Review Session 3**](#**CS349F-Review-Session-3**)\n",
    "* [Setup Libraries](#Setup-Libraries)\n",
    "* [Utility Functions](#Utility-Functions)\n",
    "* [Create Trader Object](#Create-Trader-Object)\n",
    "* [1. Multi-symbol Trading](#1.-Multi-symbol-Trading)\n",
    "\t* [1.1 Mean Reversion Trader](#1.1-Mean-Reversion-Trader)\n",
    "\t* [1.2 Create and Start Mean Reversion Trader for Multiple Symbols](#1.2-Create-and-Start-Mean-Reversion-Trader-for-Multiple-Symbols)\n",
    "\t* [1.3 View Pending Orders](#1.3-View-Pending-Orders)\n",
    "\t* [1.4 View Recent Trades](#1.4-View-Recent-Trades)\n"
   ]
  },
  {
   "cell_type": "markdown",
   "metadata": {
    "id": "oOQGK4U3kWgi"
   },
   "source": [
    "# Setup Libraries"
   ]
  },
  {
   "cell_type": "code",
   "execution_count": null,
   "metadata": {
    "cellView": "both",
    "colab": {
     "base_uri": "https://localhost:8080/",
     "height": 368
    },
    "id": "JMg2z0MTCjCD",
    "outputId": "2be47246-266a-45b5-8a37-62825ae20e9c",
    "scrolled": true
   },
   "outputs": [],
   "source": [
    "# Import packages.\n",
    "import datetime\n",
    "import json\n",
    "import os\n",
    "import sys\n",
    "import time\n",
    "import threading\n",
    "\n",
    "import pandas as pd\n",
    "import numpy as np\n",
    "import redis\n",
    "from pandas.core.common import SettingWithCopyWarning\n",
    "\n",
    "import warnings\n",
    "warnings.simplefilter(action=\"ignore\", category=SettingWithCopyWarning)\n",
    "\n",
    "# Import CloudEx.\n",
    "import cloud_ex\n",
    "\n",
    "# Import AlgorithmicTrader helper class.\n",
    "from algorithmic_trader import AlgorithmicTrader\n",
    "from algorithmic_trader import summarize_historical_trades_df\n",
    "\n",
    "# Start Redis backend.\n",
    "os.system(\"redis-server --daemonize yes\")\n",
    "time.sleep(1)\n",
    "\n",
    "# Get CloudEx and VM-specific config \n",
    "def get_vm_config():\n",
    "    with open(\"vm_config.json\", \"r\") as read_file:\n",
    "        config = json.load(read_file)\n",
    "    return config\n",
    "\n",
    "config = get_vm_config()"
   ]
  },
  {
   "cell_type": "markdown",
   "metadata": {},
   "source": [
    "# Utility Functions"
   ]
  },
  {
   "cell_type": "code",
   "execution_count": null,
   "metadata": {
    "id": "T12dnZgSXDim"
   },
   "outputs": [],
   "source": [
    "ORDER_FIELDS_LIST = [\n",
    "    'Symbol', 'OrderID', 'CancelID', 'ClientID', 'OrderType', 'OrderAction',\n",
    "    'SubmitTimestamp', 'GatewayTimestamp', 'EnqueueTimestamp',\n",
    "    'DequeueTimestamp', 'OrderSerialNum', 'LimitPrice', 'ResultType','NumShares'\n",
    "]\n",
    "\n",
    "TRADE_FIELDS_LIST = [\n",
    "    \"Symbol\", \"BuyerSerialNum\", \"SellerSerialNum\", \"BuyerOrderID\",\n",
    "    \"SellerOrderID\", \"BuyerClientID\", \"SellerClientID\", \"ExecPrice\",\n",
    "    \"CashTraded\", \"SharesTraded\", \"CreationTimestamp\", \"ReleaseTimestamp\",\n",
    "    \"TradeSerialNum\"\n",
    "]\n",
    "\n",
    "'''\n",
    "Takes in a cloud_ex.VectorOrder with serialized orders and returns a DataFrame\n",
    "'''\n",
    "def OrderDF(order_vec):\n",
    "    if not len(order_vec):\n",
    "        return pd.DataFrame(columns=ORDER_FIELDS_LIST)\n",
    "    df = pd.DataFrame(order_vec).applymap(lambda x:x.SerializeOrder())[0].str.split('|', expand=True)\n",
    "    df.columns = ORDER_FIELDS_LIST\n",
    "    for label in ['SubmitTimestamp', 'GatewayTimestamp', 'EnqueueTimestamp',\n",
    "                  'DequeueTimestamp', 'OrderSerialNum', 'LimitPrice','NumShares']:\n",
    "        df.loc[:, label] = pd.to_numeric(df[label], errors='coerce')\n",
    "    return df\n",
    "\n",
    "'''\n",
    "Takes in a cloud_ex.VectorOrder with serialized trades and returns a DataFrame\n",
    "'''\n",
    "def TradeDF(trade_vec):\n",
    "    if not len(trade_vec):\n",
    "        return pd.DataFrame(columns=TRADE_FIELDS_LIST)\n",
    "    df = pd.DataFrame(trade_vec).applymap(lambda x:x.SerializeTrade())[0].str.split('|', expand=True)\n",
    "    df.columns = TRADE_FIELDS_LIST\n",
    "    for label in [\"ExecPrice\", \"CashTraded\", \"SharesTraded\",\n",
    "                  \"CreationTimestamp\", \"ReleaseTimestamp\", \"TradeSerialNum\"]:\n",
    "        df.loc[:, label] = pd.to_numeric(df[label], errors='coerce')\n",
    "    return df\n",
    "\n",
    "'''\n",
    "Takes in a cloud_ex.MapStringOrder mapping Order ID strings to outstanding the coorresponding orders, \n",
    "and returns a DataFrame\n",
    "'''\n",
    "def OutstandingOrderDF(outstanding_orders):\n",
    "    if not len(outstanding_orders):\n",
    "        return pd.DataFrame(columns=ORDER_FIELDS_LIST)\n",
    "    df = (pd.DataFrame(outstanding_orders.items())[1]).apply(lambda x:x.SerializeOrder()).str.split('|', expand=True)\n",
    "    df.columns = ORDER_FIELDS_LIST\n",
    "    for label in ['SubmitTimestamp', 'GatewayTimestamp', 'EnqueueTimestamp',\n",
    "                  'DequeueTimestamp', 'OrderSerialNum', 'LimitPrice','NumShares']:\n",
    "        df.loc[:, label] = pd.to_numeric(df[label], errors='coerce')\n",
    "    return df "
   ]
  },
  {
   "cell_type": "markdown",
   "metadata": {},
   "source": [
    "# Create Trader Object"
   ]
  },
  {
   "cell_type": "markdown",
   "metadata": {},
   "source": [
    "This object will instantiate a connection to a gateway in CloudEx. This gateway will relay orders to the matching engine and market data to your client.\n",
    "\n",
    "**Arguments to `cloud_ex.Trader` constructor:**\n",
    "- gateway_ip `str` - The IP address for the gateway assigned to you\n",
    "- client_id `str` - Your client identifier\n",
    "- client_token `str` - Your client token"
   ]
  },
  {
   "cell_type": "code",
   "execution_count": null,
   "metadata": {},
   "outputs": [],
   "source": [
    "# Get relevant fields from VM-specific config. Token is yours only, so don't make it public.\n",
    "gateway_ip = config[\"gateway_ip\"]\n",
    "client_id = config[\"client_id\"]\n",
    "client_token = config[\"client_token\"]\n",
    "\n",
    "# Clear any existing data locally.\n",
    "redis_api = redis.Redis()\n",
    "redis_api.flushall();\n",
    "\n",
    "# Create CloudEx base trader object.\n",
    "trader = cloud_ex.Trader(gateway_ip, client_id, client_token)"
   ]
  },
  {
   "cell_type": "code",
   "execution_count": null,
   "metadata": {},
   "outputs": [],
   "source": [
    "# Get a list of all symbols available for trading.\n",
    "symbol_list = trader.GetSymbols()\n",
    "print(\"These are all the {} symbols available for trading at the CloudEx exchange: {}\".format(\n",
    "    len(symbol_list),symbol_list))"
   ]
  },
  {
   "cell_type": "code",
   "execution_count": null,
   "metadata": {},
   "outputs": [],
   "source": [
    "# Get portfolio matrix\n",
    "portfolio_mat = cloud_ex.MapStringInt()\n",
    "trader.GetPortfolioMatrix(portfolio_mat)\n",
    "print(portfolio_mat)"
   ]
  },
  {
   "cell_type": "markdown",
   "metadata": {
    "id": "d8aJ86PRl2LQ"
   },
   "source": [
    "# 1. Multi-symbol Trading"
   ]
  },
  {
   "cell_type": "markdown",
   "metadata": {},
   "source": [
    "## 1.1 Mean Reversion Trader"
   ]
  },
  {
   "cell_type": "code",
   "execution_count": null,
   "metadata": {},
   "outputs": [],
   "source": [
    "class meanReversionTrader(AlgorithmicTrader):\n",
    "    def __init__(self, trader, symbol_list, bin_interval_ms=500):\n",
    "        \"\"\"\n",
    "        Mean Reversion Trader Class.\n",
    "\n",
    "        :param trader(cloud_ex.Trader): CloudEx's base Trader object.\n",
    "        :param symbol_list: List of ticker symbols (str) to fetch data for.\n",
    "        :param bin_interval_ms: Frequency with which to bin trading data in milliseconds (int).\n",
    "        \"\"\"\n",
    "        # Initialize AlgorithmicTrader.\n",
    "        AlgorithmicTrader.__init__(self, trader, symbol_list, bin_interval_ms=bin_interval_ms)\n",
    "\n",
    "    def algorithm(self, df, **kwargs):\n",
    "        \"\"\" \n",
    "        Calculate buy sell points for an equity.\n",
    "        A buy is triggered when the moving average is threshold% below the price.\n",
    "        A sell is triggered when the moving average is threshold% above the price.\n",
    "        For this implementation we evaluate the stock price at the close of each bin_interval_ms time interval.\n",
    "\n",
    "        :param df: Dataframes with prices for an equity (pd.DataFrame).\n",
    "        Mean reversion specific arguments:\n",
    "          :param ma: Number of bins to consider in the moving average (int).\n",
    "          :param threshold: Amount ma is below/above price (as a percentage) for which to buy/sell (float).\n",
    "\n",
    "        Returns: \n",
    "            An (action, price) pair.\n",
    "            \n",
    "            'action' is None when no action is determined to be taken. This happens either when we do not have enough\n",
    "            data to build a moving average estimate or if the price is within a small threshold above/below\n",
    "            the moving average. In this case, 'price' is also None.\n",
    "\n",
    "            'action' is 'Buy' when the price rises above the threshold defined for the moving average. \n",
    "                The buy price is set to the most recent closing price.\n",
    "                \n",
    "            'action' is 'Sell' when the price drops below the threshold defined for the moving average. \n",
    "                The sell price is set to the most recent closing price.\n",
    "        \"\"\"\n",
    "        # Unpack keyword arguments.\n",
    "        ma = kwargs['ma']\n",
    "        threshold = kwargs['threshold']\n",
    "        \n",
    "        # Handle case when data not available to build moving average.\n",
    "        if len(df) < ma:\n",
    "            return None, None\n",
    "        \n",
    "        # Select the last ma rows from our dataframe for processing.\n",
    "        df = df.iloc[-1*ma:]\n",
    "\n",
    "        df['MA'] = df['ClosePrice'].rolling(ma).mean()\n",
    "        row = df.iloc[-1]\n",
    "\n",
    "        # Check if moving average price is defined.\n",
    "        # This value will be undefined for the first `ma` steps.\n",
    "        if np.isnan(row['MA']):\n",
    "            return None, None\n",
    "\n",
    "        buy_cutoff = (1.0 - threshold / 100.0) * row['MA']\n",
    "        sell_cutoff = (1.0 + threshold / 100.0) * row['MA']\n",
    "        p_s = row['ClosePrice']\n",
    "        if p_s <= buy_cutoff:\n",
    "            return 'Buy', p_s\n",
    "        elif p_s >= sell_cutoff:\n",
    "            return 'Sell', p_s\n",
    "        else:\n",
    "            return None, None"
   ]
  },
  {
   "cell_type": "markdown",
   "metadata": {},
   "source": [
    "## 1.2 Create and Start Mean Reversion Trader for Multiple Symbols"
   ]
  },
  {
   "cell_type": "markdown",
   "metadata": {},
   "source": [
    "First, we will create a mean reversion trader.\n",
    "Once created the trader will pull data from CloudEx, process the data\n",
    "and lastly place buy or sell orders.\n",
    "\n",
    "The `meanReversionTrader` object is created with the following parameters:\n",
    "- trader `cloud_ex.Trader`: The CloudEx base trader object \n",
    "- symbol_list `List(str)`: A list of symbols whose market data we would like to subscribe to\n",
    "\n",
    "We then invoke the trading loop with the following arguments\n",
    "- symbol `str` - The symbol we would like to trade\n",
    "- num_shares `int` - Number of shares to buy/sell per order\n",
    "- num_orders `int` - Number of total orders to place \n",
    "- wait_interval `float` - Time to wait between placing orders (s) \n",
    "- ma `int` - Number of steps in the moving average window \n",
    "- threshold `float` - % above or below the moving average at which we will place orders \n",
    "\n",
    "In the example below we will run the `meanReversionTrader.trade` function in two seperate threads. \n",
    "\n",
    "By doing so, we will start traders for two symbols - AA and AB."
   ]
  },
  {
   "cell_type": "code",
   "execution_count": null,
   "metadata": {},
   "outputs": [],
   "source": [
    "# Create mean reversion trader.\n",
    "mrt = meanReversionTrader(trader, ['AA', 'AB'], bin_interval_ms=2000)"
   ]
  },
  {
   "cell_type": "code",
   "execution_count": null,
   "metadata": {
    "cellView": "both",
    "id": "rjz6t7Ezl-U2"
   },
   "outputs": [],
   "source": [
    "# Setup Trading Parameters.\n",
    "trading_params = [\n",
    "        { # Trading Loop 1 - Symbol AA\n",
    "            'args': {'symbol': 'AA', 'num_shares': 100, 'max_num_orders': 10, 'wait_interval':2}, \n",
    "            'kwargs': {'ma': 25, 'threshold': 3}\n",
    "        },\n",
    "        { # Trading Loop 2 - Symbol AB\n",
    "            'args': {'symbol': 'AB', 'num_shares': 200, 'max_num_orders': 10, 'wait_interval':2}, \n",
    "            'kwargs': {'ma': 40, 'threshold': 5}\n",
    "        },\n",
    "        ]\n",
    "\n",
    "# Create Threads for Trading Loops.\n",
    "threads_list = []\n",
    "for param in trading_params:\n",
    "\n",
    "    # Get arguments and keyword arguments for trading threads.\n",
    "    args = (\n",
    "        param['args']['symbol'],\n",
    "        param['args']['num_shares'],\n",
    "        param['args']['max_num_orders'],\n",
    "        param['args']['wait_interval'],\n",
    "    )\n",
    "    kwargs = param['kwargs']\n",
    "\n",
    "    # Add thread to our thread list\n",
    "    threads_list.append(\n",
    "        threading.Thread(\n",
    "            target=mrt.trade,\n",
    "            args=args,\n",
    "            kwargs=kwargs,\n",
    "    ))\n",
    "\n",
    "# Start threads.\n",
    "for thread in threads_list:\n",
    "    thread.start()\n",
    "\n",
    "# Join threads.\n",
    "for thread in threads_list:\n",
    "    thread.join()"
   ]
  },
  {
   "cell_type": "markdown",
   "metadata": {
    "id": "JNWKs9Dxmn-Y"
   },
   "source": [
    "## 1.3 View Pending Orders"
   ]
  },
  {
   "cell_type": "markdown",
   "metadata": {},
   "source": [
    "You can view all outstanding orders (those that have not been fulfilled) by calling the `trader.GetOutstandingOrders` function. \n",
    "\n",
    "Doing so can give you the information needed to cancel any or all orders.\n"
   ]
  },
  {
   "cell_type": "code",
   "execution_count": null,
   "metadata": {
    "id": "lNEshKidmnVz"
   },
   "outputs": [],
   "source": [
    "outstanding_orders = cloud_ex.MapStringOrder()\n",
    "mrt.trader.GetOutstandingOrders(outstanding_orders)\n",
    "\n",
    "print(\"You have {} outstanding orders.\".format(len(outstanding_orders)))\n",
    "\n",
    "# Transform outstanding orders into a DataFrame\n",
    "outstanding_orders = OutstandingOrderDF(outstanding_orders)\n",
    "outstanding_orders"
   ]
  },
  {
   "cell_type": "markdown",
   "metadata": {
    "id": "gsnbBvGNO4L9"
   },
   "source": [
    "## 1.4 View Recent Trades"
   ]
  },
  {
   "cell_type": "markdown",
   "metadata": {},
   "source": [
    "For any of the symbols we have subscribed to, we can pull recent trades. We will use the `trader.GetRecentTrades` to do so.\n",
    "- symbol `str` - Ticker we will fetch data for.\n",
    "- trade_vec `cloud_ex.VectorTrade` - Datastructure to hold the recent trades. \n",
    "- start_fetch_time `int` - Time (in microseconds) to start fetching data from.\n"
   ]
  },
  {
   "cell_type": "code",
   "execution_count": null,
   "metadata": {
    "id": "YPyucQ8rO26N"
   },
   "outputs": [],
   "source": [
    "# Let's check the trades for symbol AA\n",
    "symbol = 'AA'\n",
    "past_seconds = 60\n",
    "trade_vec = cloud_ex.VectorTrade()\n",
    "start_fetch_time_us = int((time.time() - past_seconds) * 1e6) # We will fetch from past_seconds seconds ago to now.\n",
    "\n",
    "success = mrt.trader.GetRecentTrades(symbol, trade_vec, start_fetch_time_us)\n",
    "if not success:\n",
    "    print(\"Error getting {symbol} trades. Check that {symbol} is in your active symbol list\".format(symbol=symbol))\n",
    "else:\n",
    "    print(\"There were {} Trades for {} in the last {} seconds.\".format(len(trade_vec), symbol, past_seconds))\n",
    "\n",
    "# Transform recent trades into a DataFrame\n",
    "recent_trade_df = TradeDF(trade_vec)\n",
    "recent_trade_df"
   ]
  },
  {
   "cell_type": "code",
   "execution_count": null,
   "metadata": {},
   "outputs": [],
   "source": [
    "# Let's check the trades for symbol AB\n",
    "symbol = 'AB'\n",
    "past_seconds = 60\n",
    "trade_vec = cloud_ex.VectorTrade()\n",
    "start_fetch_time_us = int((time.time() - past_seconds) * 1e6) # We will fetch from past_seconds seconds ago to now.\n",
    "\n",
    "success = mrt.trader.GetRecentTrades(symbol, trade_vec, start_fetch_time_us)\n",
    "if not success:\n",
    "    print(\"Error getting {symbol} trades. Check that {symbol} is in your active symbol list\".format(symbol=symbol))\n",
    "else:\n",
    "    print(\"There were {} Trades for {} in the last {} seconds.\".format(len(trade_vec), symbol, past_seconds))\n",
    "\n",
    "# Transform recent trades into a DataFrame\n",
    "recent_trade_df = TradeDF(trade_vec)\n",
    "recent_trade_df"
   ]
  }
 ],
 "metadata": {
  "colab": {
   "collapsed_sections": [],
   "name": "CS349F - Review Session 2",
   "provenance": [],
   "toc_visible": true
  },
  "kernelspec": {
   "display_name": "Python 3",
   "language": "python",
   "name": "python3"
  },
  "language_info": {
   "codemirror_mode": {
    "name": "ipython",
    "version": 3
   },
   "file_extension": ".py",
   "mimetype": "text/x-python",
   "name": "python",
   "nbconvert_exporter": "python",
   "pygments_lexer": "ipython3",
   "version": "3.8.1"
  }
 },
 "nbformat": 4,
 "nbformat_minor": 4
}
