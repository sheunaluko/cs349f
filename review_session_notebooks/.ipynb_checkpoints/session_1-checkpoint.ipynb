{
 "cells": [
  {
   "cell_type": "markdown",
   "metadata": {
    "id": "_0fsVLwW6zL2"
   },
   "source": [
    "# **CS349F Review Session 1**"
   ]
  },
  {
   "cell_type": "markdown",
   "metadata": {},
   "source": [
    "# Table of Contents\n",
    "* [**CS349F Review Session 1**](#**CS349F-Review-Session-1**)\n",
    "* [Setup](#Setup)\n",
    "* [Utility Functions](#Utility-Functions)\n",
    "* [0. CloudEx Data Types](#0.-CloudEx-Data-Types)\n",
    "\t* [Order](#Order)\n",
    "\t* [Trade](#Trade)\n",
    "* [1. Submitting Orders](#1.-Submitting-Orders)\n",
    "\t* [1.1 Setup CloudEx Trader](#1.1-Setup-CloudEx-Trader)\n",
    "\t* [1.2 Submitting a Buy Order](#1.2-Submitting-a-Buy-Order)\n",
    "\t* [1.3 Submitting a Sell Order](#1.3-Submitting-a-Sell-Order)\n",
    "\t* [1.4 View Pending Orders](#1.4-View-Pending-Orders)\n",
    "\t* [1.5 Cancelling an Order](#1.5-Cancelling-an-Order)\n",
    "* [2. Fetching Real-time Market Data](#2.-Fetching-Real-time-Market-Data)\n",
    "\t* [2.1 Subscribe to data for a set of Symbols](#2.1-Subscribe-to-data-for-a-set-of-Symbols)\n",
    "\t* [2.2 Fetch Recent Trades](#2.2-Fetch-Recent-Trades)\n",
    "\t* [2.3 Fetch Recent Limit Order Books](#2.3-Fetch-Recent-Limit-Order-Books)\n",
    "\t* [2.4 Fetching Portfolio Matrix](#2.4-Fetching-Portfolio-Matrix)\n",
    "* [3. Fetching Historical Symbol Market Data](#3.-Fetching-Historical-Symbol-Market-Data)\n",
    "* [4. Fetching Historical Personal Data](#4.-Fetching-Historical-Personal-Data)\n",
    "\t* [4.1 Fetching Historical Personal Orders](#4.1-Fetching-Historical-Personal-Orders)\n",
    "\t* [4.2 Fetch Historical Personal Trades](#4.2-Fetch-Historical-Personal-Trades)\n"
   ]
  },
  {
   "cell_type": "markdown",
   "metadata": {
    "id": "oOQGK4U3kWgi"
   },
   "source": [
    "# Setup"
   ]
  },
  {
   "cell_type": "code",
   "execution_count": null,
   "metadata": {
    "cellView": "both",
    "format": "row",
    "id": "JMg2z0MTCjCD"
   },
   "outputs": [],
   "source": [
    "# Import packages.\n",
    "import datetime\n",
    "import json\n",
    "import os\n",
    "import sys\n",
    "import time\n",
    "\n",
    "import pandas as pd\n",
    "import redis\n",
    "\n",
    "# CloudEx imports.\n",
    "import cloud_ex\n",
    "\n",
    "# Start Redis and its Python API.\n",
    "os.system(\"redis-server --daemonize yes\")\n",
    "time.sleep(1)\n",
    "\n",
    "# Get CloudEX and VM-specific config \n",
    "def get_vm_config():\n",
    "    with open(\"vm_config.json\", \"r\") as read_file:\n",
    "        config = json.load(read_file)\n",
    "    return config\n",
    "\n",
    "config = get_vm_config()"
   ]
  },
  {
   "cell_type": "markdown",
   "metadata": {},
   "source": [
    "# Utility Functions"
   ]
  },
  {
   "cell_type": "code",
   "execution_count": null,
   "metadata": {},
   "outputs": [],
   "source": [
    "ORDER_FIELDS_LIST = [\n",
    "    'Symbol', 'OrderID', 'CancelID', 'ClientID', 'OrderType', 'OrderAction',\n",
    "    'SubmitTimestamp', 'GatewayTimestamp', 'EnqueueTimestamp',\n",
    "    'DequeueTimestamp', 'OrderSerialNum', 'LimitPrice', 'ResultType','NumShares'\n",
    "]\n",
    "\n",
    "TRADE_FIELDS_LIST = [\n",
    "    \"Symbol\", \"BuyerSerialNum\", \"SellerSerialNum\", \"BuyerOrderID\",\n",
    "    \"SellerOrderID\", \"BuyerClientID\", \"SellerClientID\", \"ExecPrice\",\n",
    "    \"CashTraded\", \"SharesTraded\", \"CreationTimestamp\", \"ReleaseTimestamp\",\n",
    "    \"TradeSerialNum\"\n",
    "]\n",
    "\n",
    "'''\n",
    "Takes in a cloud_ex.VectorOrder with serialized orders and returns a DataFrame\n",
    "'''\n",
    "def OrderDF(order_vec):\n",
    "    if not len(order_vec):\n",
    "        return pd.DataFrame(columns=ORDER_FIELDS_LIST)\n",
    "    df = pd.DataFrame(order_vec).applymap(lambda x:x.SerializeOrder())[0].str.split('|', expand=True)\n",
    "    df.columns = ORDER_FIELDS_LIST\n",
    "    for label in ['SubmitTimestamp', 'GatewayTimestamp', 'EnqueueTimestamp',\n",
    "                  'DequeueTimestamp', 'OrderSerialNum', 'LimitPrice','NumShares']:\n",
    "        df.loc[:, label] = pd.to_numeric(df[label], errors='coerce')\n",
    "    return df\n",
    "\n",
    "'''\n",
    "Takes in a cloud_ex.VectorOrder with serialized trades and returns a DataFrame\n",
    "'''\n",
    "def TradeDF(trade_vec):\n",
    "    if not len(trade_vec):\n",
    "        return pd.DataFrame(columns=TRADE_FIELDS_LIST)\n",
    "    df = pd.DataFrame(trade_vec).applymap(lambda x:x.SerializeTrade())[0].str.split('|', expand=True)\n",
    "    df.columns = TRADE_FIELDS_LIST\n",
    "    for label in [\"ExecPrice\", \"CashTraded\", \"SharesTraded\",\n",
    "                  \"CreationTimestamp\", \"ReleaseTimestamp\", \"TradeSerialNum\"]:\n",
    "        df.loc[:, label] = pd.to_numeric(df[label], errors='coerce')\n",
    "    return df\n",
    "\n",
    "'''\n",
    "Takes in a cloud_ex.MapStringOrder mapping Order IDs to outstanding orders, and returns a DataFrame\n",
    "'''\n",
    "def OutstandingOrderDF(outstanding_orders):\n",
    "    if not len(outstanding_orders):\n",
    "        return pd.DataFrame(columns=ORDER_FIELDS_LIST)\n",
    "    df = (pd.DataFrame(outstanding_orders.items())[1]).apply(lambda x:x.SerializeOrder()).str.split('|', expand=True)\n",
    "    df.columns = ORDER_FIELDS_LIST\n",
    "    for label in ['SubmitTimestamp', 'GatewayTimestamp', 'EnqueueTimestamp',\n",
    "                  'DequeueTimestamp', 'OrderSerialNum', 'LimitPrice','NumShares']:\n",
    "        df.loc[:, label] = pd.to_numeric(df[label], errors='coerce')\n",
    "    return df "
   ]
  },
  {
   "cell_type": "markdown",
   "metadata": {},
   "source": [
    "# 0. CloudEx Data Types"
   ]
  },
  {
   "cell_type": "markdown",
   "metadata": {},
   "source": [
    "## Order"
   ]
  },
  {
   "cell_type": "code",
   "execution_count": null,
   "metadata": {},
   "outputs": [],
   "source": [
    "dummy_order = \"AA|AA.099950160218272693456410000063|NULL|C3|L|B|1602182726927431|1602182726934577|1602182726934784|1602182726934928|7|50|V|100\"\n",
    "order_object = cloud_ex.Order(dummy_order)\n",
    "\n",
    "# These are the fields contained in an Order object\n",
    "print(ORDER_FIELDS_LIST)"
   ]
  },
  {
   "cell_type": "code",
   "execution_count": null,
   "metadata": {},
   "outputs": [],
   "source": [
    "print(order_object.symbol_)\n",
    "print(order_object.order_id_) # assigned by gateway\n",
    "print(order_object.type_)\n",
    "print(order_object.action_)\n",
    "print(order_object.limit_price_)\n",
    "print(order_object.result_) # whether order was valid/invalid; assigned by matching engine\n",
    "print(order_object.num_shares_)"
   ]
  },
  {
   "cell_type": "markdown",
   "metadata": {},
   "source": [
    "## Trade"
   ]
  },
  {
   "cell_type": "code",
   "execution_count": null,
   "metadata": {},
   "outputs": [],
   "source": [
    "dummy_trade = \"AA|4|5|AA.099950160218241778214310000033|AA.000050160218241778354510000043|C3|C3|50|5000|100|1602182417783908|1602182417784258|10003\"\n",
    "trade_object = cloud_ex.Trade(dummy_trade)\n",
    "\n",
    "# These are the fields contained in an Trade object\n",
    "print(TRADE_FIELDS_LIST)"
   ]
  },
  {
   "cell_type": "code",
   "execution_count": null,
   "metadata": {},
   "outputs": [],
   "source": [
    "print(trade_object.symbol_)\n",
    "print(trade_object.exec_price_)\n",
    "print(trade_object.cash_traded_)\n",
    "print(trade_object.shares_traded_) # whether order was valid/invalid; assigned by matching engine\n",
    "print(trade_object.trade_serial_num_)"
   ]
  },
  {
   "cell_type": "markdown",
   "metadata": {
    "id": "d8aJ86PRl2LQ"
   },
   "source": [
    "# 1. Submitting Orders"
   ]
  },
  {
   "cell_type": "markdown",
   "metadata": {
    "id": "NO_b-B1RSecU"
   },
   "source": [
    "## 1.1 Setup CloudEx Trader"
   ]
  },
  {
   "cell_type": "markdown",
   "metadata": {},
   "source": [
    "This object will instantiate a connection to a gateway in CloudEx. This Gateway will relay order to the matching engine and market data to your client.\n",
    "\n",
    "**Arguments to `Trader` constructor:**\n",
    "- gateway_ip `str` - The IP address for the gateway assigned to you\n",
    "- client_id `str` - Your client identifier\n",
    "- client_token `str` - Your client token"
   ]
  },
  {
   "cell_type": "code",
   "execution_count": null,
   "metadata": {
    "format": "row",
    "id": "QUTHI9H0ppJ6"
   },
   "outputs": [],
   "source": [
    "# Get relevant fields from VM-specific config. Token is yours only, so don't make it public.\n",
    "gateway_ip = config[\"gateway_ip\"]\n",
    "client_id = config[\"client_id\"]\n",
    "client_token = config[\"client_token\"]\n",
    "\n",
    "# Clear any existing data locally.\n",
    "redis_api = redis.Redis()\n",
    "redis_api.flushall();\n",
    "\n",
    "# Create trader object.\n",
    "trader = cloud_ex.Trader(gateway_ip, client_id, client_token)"
   ]
  },
  {
   "cell_type": "code",
   "execution_count": null,
   "metadata": {},
   "outputs": [],
   "source": [
    "# Get a list of all symbols available for trading.\n",
    "symbol_list = trader.GetSymbols()\n",
    "print(\"These are all the {} symbols available for trading at the CloudEx exchange: {}\".format(\n",
    "    len(symbol_list),symbol_list))"
   ]
  },
  {
   "cell_type": "markdown",
   "metadata": {
    "id": "tFmDyuIlmTrp"
   },
   "source": [
    "## 1.2 Submitting a Buy Order"
   ]
  },
  {
   "cell_type": "markdown",
   "metadata": {},
   "source": [
    "We will create a buy order object and collect information on the order we would like to place. \n",
    "\n",
    "**Arguments to `Trader.SubmitOrder()`:**\n",
    "- symbol `str` - The symbol we would like to trade\n",
    "- order `cloud_ex.Order` - The Order object that will be updated by submission info\n",
    "- order_type `cloud_ex.OrderType` - The type of order to place, whether a limit (`cloud_ex.OrderType.limit`) or a market order (`cloud_ex.OrderType.market`)\n",
    "- order_action `cloud_ex.OrderType` - Whether the order is a buy (`cloud_ex.OrderAction.buy`) or sell order (`cloud_ex.OrderAction.sell`)\n",
    "- num_shares `int` - Number of shares to buy/sell\n",
    "- price `int` - The order's price (integer) "
   ]
  },
  {
   "cell_type": "code",
   "execution_count": null,
   "metadata": {
    "format": "row",
    "id": "rjz6t7Ezl-U2"
   },
   "outputs": [],
   "source": [
    "# Create a limit buy order.\n",
    "order_ = cloud_ex.Order() # Create an order object.\n",
    "type_ = cloud_ex.OrderType.limit # Limit Order\n",
    "action_ = cloud_ex.OrderAction.buy # Mark the order as a buy.\n",
    "\n",
    "# Fill in details on what symbol you will buy, how many shares and for how much.\n",
    "symbol = 'AA'\n",
    "num_shares = 100\n",
    "price = 45\n",
    "\n",
    "# Place the order.\n",
    "result = trader.SubmitOrder(symbol, order_, type_,\n",
    "                                  action_, num_shares, price)"
   ]
  },
  {
   "cell_type": "code",
   "execution_count": null,
   "metadata": {
    "id": "tNEF_aKjwE6n"
   },
   "outputs": [],
   "source": [
    "# Let's check the order ID now that we've submitted the order.\n",
    "if result == cloud_ex.OrderResult.in_sequencer:\n",
    "  print(order_.order_id_) # Our order is at the matching engine.\n",
    "else:\n",
    "    print(\"ERROR: return code: {}\".format(result))"
   ]
  },
  {
   "cell_type": "markdown",
   "metadata": {
    "id": "1OIEt2usmbQn"
   },
   "source": [
    "## 1.3 Submitting a Sell Order\n"
   ]
  },
  {
   "cell_type": "markdown",
   "metadata": {},
   "source": [
    "We will place an order as before but we set the order action to `cloud_ex.OrderAction.sell`."
   ]
  },
  {
   "cell_type": "code",
   "execution_count": null,
   "metadata": {
    "id": "6Ztjl9BWmebY"
   },
   "outputs": [],
   "source": [
    "# Create a limit sell order.\n",
    "order_ = cloud_ex.Order() # Create an order object.\n",
    "type_ = cloud_ex.OrderType.limit # Limit Order\n",
    "action_ = cloud_ex.OrderAction.sell # Mark the order as a sell.\n",
    "\n",
    "# Fill in details on what symbol you will buy, how many shares and for how much.\n",
    "symbol = 'AA'\n",
    "num_shares = 80\n",
    "price = 50\n",
    "\n",
    "# Place the order.\n",
    "result = trader.SubmitOrder(symbol, order_, type_,\n",
    "                                  action_, num_shares, price)"
   ]
  },
  {
   "cell_type": "code",
   "execution_count": null,
   "metadata": {
    "id": "oh34UccwwS1w"
   },
   "outputs": [],
   "source": [
    "# Again, let's check the order ID now that we've submitted the order.\n",
    "if result == cloud_ex.OrderResult.in_sequencer:\n",
    "  order_id = order_.order_id_\n",
    "  print(order_id) # Our order is at the matching engine.\n",
    "else:\n",
    "    print(\"ERROR: return code: {}\".format(result))"
   ]
  },
  {
   "cell_type": "markdown",
   "metadata": {
    "id": "JNWKs9Dxmn-Y"
   },
   "source": [
    "## 1.4 View Pending Orders"
   ]
  },
  {
   "cell_type": "markdown",
   "metadata": {},
   "source": [
    "You can view all outstanding orders (those that have not been fulfilled) by calling the **`Trader.GetOutstandingOrders`** function. Doing so can give you the information needed to cancel any or all orders."
   ]
  },
  {
   "cell_type": "code",
   "execution_count": null,
   "metadata": {
    "id": "lNEshKidmnVz"
   },
   "outputs": [],
   "source": [
    "outstanding_orders = cloud_ex.MapStringOrder()\n",
    "\n",
    "trader.GetOutstandingOrders(outstanding_orders)\n",
    "print(\"You have {} outstanding orders.\".format(len(outstanding_orders)))\n",
    "\n",
    "# Transform outstanding orders into a DataFrame\n",
    "outstanding_orders = OutstandingOrderDF(outstanding_orders)\n",
    "outstanding_orders"
   ]
  },
  {
   "cell_type": "markdown",
   "metadata": {
    "id": "p-vDX4u2mfEG"
   },
   "source": [
    "## 1.5 Cancelling an Order"
   ]
  },
  {
   "cell_type": "markdown",
   "metadata": {},
   "source": [
    "Given an order ID, we can cancel it if has not been fulfilled. <br/>\n",
    "Let's try to cancel the sell order we just placed using the **`Trader.SubmitCancel`** function.\n",
    "\n",
    "**Arguments to `Trader.SubmitCancel()`:**\n",
    "- order_id `str` - The order id for order to cancel."
   ]
  },
  {
   "cell_type": "code",
   "execution_count": null,
   "metadata": {
    "id": "m9PuYDvXmi3w"
   },
   "outputs": [],
   "source": [
    "result = trader.SubmitCancel(order_id)\n",
    "\n",
    "# Let's check to see the status of the cancelled order.\n",
    "if result == cloud_ex.OrderResult.in_sequencer:\n",
    "  print(\"Cancel order succesfully reaches the matching engine.\")\n",
    "else:\n",
    "  print(\"ERROR: return code: {}\".format(result))"
   ]
  },
  {
   "cell_type": "markdown",
   "metadata": {
    "id": "3raxfhall_Cw"
   },
   "source": [
    "# 2. Fetching Real-time Market Data"
   ]
  },
  {
   "cell_type": "markdown",
   "metadata": {
    "id": "2DMOPPBQmzKE"
   },
   "source": [
    "## 2.1 Subscribe to data for a set of Symbols"
   ]
  },
  {
   "cell_type": "markdown",
   "metadata": {},
   "source": [
    "Before we fetch market data, we will configure our trading api to pull data for a subset of tickers we are interested in.\n",
    "\n",
    "Arguments to **`Trader.ConfigActiveSymbols`**:\n",
    "- symbols `list` - list of tickers `str` that we will fetch data for"
   ]
  },
  {
   "cell_type": "code",
   "execution_count": null,
   "metadata": {
    "id": "E8KpbIPQm8pg"
   },
   "outputs": [],
   "source": [
    "active_symbol_list = ['AA', 'AB', 'AC', 'AD', 'AE']\n",
    "\n",
    "success = trader.ConfigActiveSymbols(active_symbol_list)\n",
    "if not success:\n",
    "    print(\"Error setting active symbols. Check that all symbols in {} are in the full symbol list.\".format(active_symbol_list))\n",
    "else:\n",
    "    print(\"Successfully subscribed to {}\".format(active_symbol_list))"
   ]
  },
  {
   "cell_type": "markdown",
   "metadata": {
    "id": "ANSgZbrTm9QH"
   },
   "source": [
    "## 2.2 Fetch Recent Trades"
   ]
  },
  {
   "cell_type": "markdown",
   "metadata": {},
   "source": [
    "For any of the symbols we have subscribed to, we can pull recent trades. We will use the **`Trader.GetRecentTrades`** to do so.\n",
    "\n",
    "Arguments to **`Trader.GetRecentTrades()`**:\n",
    "- symbol `str` - Ticker we will fetch data for.\n",
    "- trade_vec `cloud_ex.VectorTrade` - Data structure to hold the recent trades.\n",
    "- start_fetch_time `int` - Time (in unix epoch microseconds) to start fetching data from."
   ]
  },
  {
   "cell_type": "code",
   "execution_count": null,
   "metadata": {
    "id": "qG-OL0MHm_qK"
   },
   "outputs": [],
   "source": [
    "symbol = 'AA'\n",
    "past_seconds = 60\n",
    "trade_vec = cloud_ex.VectorTrade()\n",
    "start_fetch_time_us = int((time.time() - past_seconds) * 1e6) # We will fetch from past_seconds seconds ago to now.\n",
    "\n",
    "success = trader.GetRecentTrades(symbol, trade_vec, start_fetch_time_us)\n",
    "if not success:\n",
    "    print(\"Error getting {symbol} trades. Check that {symbol} is in your active symbol list\".format(symbol=symbol))\n",
    "else:\n",
    "    print(\"There were {} Trades for {} in the last {} seconds.\".format(len(trade_vec), symbol, past_seconds))\n",
    "\n",
    "# Transform recent trades into a DataFrame\n",
    "recent_trade_df = TradeDF(trade_vec)\n",
    "recent_trade_df"
   ]
  },
  {
   "cell_type": "markdown",
   "metadata": {
    "id": "TyIiqM69nAbR"
   },
   "source": [
    "## 2.3 Fetch Recent Limit Order Books"
   ]
  },
  {
   "cell_type": "markdown",
   "metadata": {},
   "source": [
    "For any of the symbols we have subscribed to, we can pull recent limit order books. We will use the **`Trader.GetRecentLOBs`** to do so.\n",
    "\n",
    "Arguments to **`Trader.GetRecentLOBs()`**:\n",
    "- symbol `str` - Ticker we will fetch data for.\n",
    "- trade_vec `cloud_ex.VectorLOB` - Data structure to hold the recent LOBs.\n",
    "- start_fetch_time `int` - Time (in unix epoch microseconds) to start fetching data from."
   ]
  },
  {
   "cell_type": "code",
   "execution_count": null,
   "metadata": {
    "id": "QbkGYRGrnCt4"
   },
   "outputs": [],
   "source": [
    "symbol = 'AA'\n",
    "past_seconds = 60\n",
    "lob_vec = cloud_ex.VectorLOB()\n",
    "start_fetch_time_us = int((time.time()-past_seconds) * 1e6) # We will fetch from 5 seconds ago to now.\n",
    "\n",
    "success = trader.GetRecentLOBs(symbol, lob_vec, start_fetch_time_us)\n",
    "if not success:\n",
    "    print(\"Error getting {symbol} LOBs. Check that {symbol} is in your active symbol list\".format(symbol=symbol))\n",
    "else:\n",
    "    print(\"Received {} LOBs for {} in the last {} seconds.\".format(len(lob_vec), symbol, past_seconds))"
   ]
  },
  {
   "cell_type": "code",
   "execution_count": null,
   "metadata": {},
   "outputs": [],
   "source": [
    "import datetime\n",
    "for lob in lob_vec:\n",
    "    print(datetime.datetime.fromtimestamp(10**-6*lob.creation_timestamp_))"
   ]
  },
  {
   "cell_type": "markdown",
   "metadata": {},
   "source": [
    "## 2.4 Fetching Portfolio Matrix"
   ]
  },
  {
   "cell_type": "markdown",
   "metadata": {},
   "source": [
    "We can track the current portfolio matrix using the **`Trader.GetPortfolioMatrix`** function. It populates a MapStringInt with our portfolio values, mapping from symbol name (`str`) to symbol balance (`int`). \n",
    "\n",
    "Note that your cash is denoted as `CASH` in this map."
   ]
  },
  {
   "cell_type": "code",
   "execution_count": null,
   "metadata": {
    "id": "6F20xj967s1C"
   },
   "outputs": [],
   "source": [
    "portfolio_mat = cloud_ex.MapStringInt()\n",
    "\n",
    "trader.GetPortfolioMatrix(portfolio_mat)\n",
    "\n",
    "print(portfolio_mat)"
   ]
  },
  {
   "cell_type": "markdown",
   "metadata": {},
   "source": [
    "# 3. Fetching Historical Symbol Market Data"
   ]
  },
  {
   "cell_type": "code",
   "execution_count": null,
   "metadata": {},
   "outputs": [],
   "source": [
    "symbol = 'AA'\n",
    "seconds_in_past = 60*60*24 # One day\n",
    "end_time_ms = int(time.time()*1e3)\n",
    "start_time_ms = end_time_ms - int(seconds_in_past*1e3)\n",
    "\n",
    "symbol_trades_vec = cloud_ex.VectorTrade()\n",
    "\n",
    "cloud_ex.MarketDataAPI.PullTrades(config['project_id'], config['bigtable_id'], \n",
    "                                          config['table_name'], symbol, start_time_ms, \n",
    "                                          end_time_ms, symbol_trades_vec)\n",
    "print(\"There are a total of {} trade(s) in the last day.\".format(len(symbol_trades_vec)))\n",
    "symbol_historical_trades_df = TradeDF(symbol_trades_vec)\n",
    "\n",
    "symbol_historical_trades_df"
   ]
  },
  {
   "cell_type": "markdown",
   "metadata": {
    "id": "jA-evqxRnMI4"
   },
   "source": [
    "# 4. Fetching Historical Personal Data"
   ]
  },
  {
   "cell_type": "markdown",
   "metadata": {
    "id": "gM4aQ4h3nWLV"
   },
   "source": [
    "## 4.1 Fetching Historical Personal Orders"
   ]
  },
  {
   "cell_type": "markdown",
   "metadata": {},
   "source": [
    "You can view all your historical orders using **`Trader.GetAllHistoricalOrders`**. The resulting data can inform which orders you placed and when."
   ]
  },
  {
   "cell_type": "code",
   "execution_count": null,
   "metadata": {
    "id": "5Uqkwl_ZnV6V"
   },
   "outputs": [],
   "source": [
    "my_historical_orders = cloud_ex.VectorOrder()\n",
    "\n",
    "trader.GetAllHistoricalOrders(my_historical_orders)\n",
    "print(\"You have submitted a total of {} order(s).\".format(len(my_historical_orders)))\n",
    "my_historical_orders_df = OrderDF(my_historical_orders)\n",
    "\n",
    "my_historical_orders_df"
   ]
  },
  {
   "cell_type": "code",
   "execution_count": null,
   "metadata": {
    "format": "row"
   },
   "outputs": [],
   "source": [
    "my_historical_orders_df[my_historical_orders_df['ResultType']!='V']"
   ]
  },
  {
   "cell_type": "markdown",
   "metadata": {
    "id": "zTLtohM8nSGk"
   },
   "source": [
    "## 4.2 Fetch Historical Personal Trades"
   ]
  },
  {
   "cell_type": "markdown",
   "metadata": {},
   "source": [
    "You can view all your historical trades using **`Trader.GetAllHistoricalTrades`**. The resulting data can inform which of your orders got transacted and for how much."
   ]
  },
  {
   "cell_type": "code",
   "execution_count": null,
   "metadata": {
    "id": "7hAEF1H9nZCl"
   },
   "outputs": [],
   "source": [
    "my_historical_trades = cloud_ex.VectorTrade()\n",
    "\n",
    "trader.GetAllHistoricalTrades(my_historical_trades)\n",
    "print(\"You have made a total of {} trade(s).\".format(len(my_historical_trades)))\n",
    "my_historical_trades_df = TradeDF(my_historical_trades)\n",
    "\n",
    "my_historical_trades_df"
   ]
  }
 ],
 "metadata": {
  "colab": {
   "collapsed_sections": [
    "oOQGK4U3kWgi"
   ],
   "name": "CS349F - Review Session 1",
   "provenance": [],
   "toc_visible": true
  },
  "kernelspec": {
   "display_name": "Python 3",
   "language": "python",
   "name": "python3"
  },
  "language_info": {
   "codemirror_mode": {
    "name": "ipython",
    "version": 3
   },
   "file_extension": ".py",
   "mimetype": "text/x-python",
   "name": "python",
   "nbconvert_exporter": "python",
   "pygments_lexer": "ipython3",
   "version": "3.7.7"
  }
 },
 "nbformat": 4,
 "nbformat_minor": 1
}
