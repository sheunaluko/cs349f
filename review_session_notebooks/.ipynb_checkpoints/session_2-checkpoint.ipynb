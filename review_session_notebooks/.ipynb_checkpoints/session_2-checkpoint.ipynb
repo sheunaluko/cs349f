{
 "cells": [
  {
   "cell_type": "markdown",
   "metadata": {
    "id": "_0fsVLwW6zL2"
   },
   "source": [
    "# **CS349F Review Session 2**"
   ]
  },
  {
   "cell_type": "markdown",
   "metadata": {},
   "source": [
    "# Table of Contents\n",
    "* [**CS349F Review Session 2**](#**CS349F-Review-Session-2**)\n",
    "* [Setup Libraries](#Setup-Libraries)\n",
    "* [Utility Functions](#Utility-Functions)\n",
    "* [1. Instantiate Your CloudEx Trader Object](#1.-Instantiate-Your-CloudEx-Trader-Object)\n",
    "\t* [1.1 Create Trader Object](#1.1-Create-Trader-Object)\n",
    "\t* [1.2 Get all My Pending Orders](#1.2-Get-all-My-Pending-Orders)\n",
    "\t* [1.3 Get All My Historical Orders](#1.3-Get-All-My-Historical-Orders)\n",
    "\t* [1.4 Get All My Historical Trades](#1.4-Get-All-My-Historical-Trades)\n",
    "\t* [1.5 Get My Portfolio Matrix](#1.5-Get-My-Portfolio-Matrix)\n",
    "* [2. Mean Reversion Trading](#2.-Mean-Reversion-Trading)\n",
    "\t* [2.1 Subclass Mean Reversion Trader from Algorithmic Trader](#2.1-Subclass-Mean-Reversion-Trader-from-Algorithmic-Trader)\n",
    "\t* [2.2 Create and Start Mean Reversion Trader](#2.2-Create-and-Start-Mean-Reversion-Trader)\n",
    "\t* [2.3 View Pending Orders](#2.3-View-Pending-Orders)\n",
    "\t* [2.4 View Recent Trades](#2.4-View-Recent-Trades)\n",
    "* [3. Momentum Trading](#3.-Momentum-Trading)\n",
    "\t* [3.1 Subclass Momentum Trader from Algorithmic Trader](#3.1-Subclass-Momentum-Trader-from-Algorithmic-Trader)\n",
    "\t* [3.2 Create and Start Momentum Trader](#3.2-Create-and-Start-Momentum-Trader)\n",
    "\t* [3.3 View Pending Orders](#3.3-View-Pending-Orders)\n",
    "\t* [3.4 View Recent Trades](#3.4-View-Recent-Trades)\n",
    "* [4. Pairs Trading](#4.-Pairs-Trading)\n",
    "\t* [4.1 Subclass Pairs Trader from Algorithmic Trader](#4.1-Subclass-Pairs-Trader-from-Algorithmic-Trader)\n",
    "\t* [4.2 Create and Start Pairs Trader](#4.2-Create-and-Start-Pairs-Trader)\n",
    "\t* [4.3 View Pending Orders](#4.3-View-Pending-Orders)\n",
    "\t* [4.4 View Recent Trades](#4.4-View-Recent-Trades)\n",
    "* [5. Backtesting](#5.-Backtesting)\n",
    "\t* [5.1 Get Symbol Historical Data](#5.1-Get-Symbol-Historical-Data)\n",
    "\t* [5.2 Setup the Mean Reversion Trader](#5.2-Setup-the-Mean-Reversion-Trader)\n",
    "\t* [5.3 Backtest Mean Reversion Trader](#5.3-Backtest-Mean-Reversion-Trader)\n"
   ]
  },
  {
   "cell_type": "markdown",
   "metadata": {
    "id": "oOQGK4U3kWgi"
   },
   "source": [
    "# Setup Libraries"
   ]
  },
  {
   "cell_type": "code",
   "execution_count": null,
   "metadata": {
    "cellView": "both",
    "colab": {
     "base_uri": "https://localhost:8080/",
     "height": 368
    },
    "id": "JMg2z0MTCjCD",
    "outputId": "2be47246-266a-45b5-8a37-62825ae20e9c",
    "scrolled": true
   },
   "outputs": [],
   "source": [
    "# Import packages.\n",
    "import datetime\n",
    "import json\n",
    "import os\n",
    "import sys\n",
    "import time\n",
    "\n",
    "import pandas as pd\n",
    "import numpy as np\n",
    "import redis\n",
    "from pandas.core.common import SettingWithCopyWarning\n",
    "\n",
    "import warnings\n",
    "warnings.simplefilter(action=\"ignore\", category=SettingWithCopyWarning)\n",
    "\n",
    "# Import CloudEx.\n",
    "import cloud_ex\n",
    "\n",
    "# Import AlgorithmicTrader helper class.\n",
    "from algorithmic_trader import AlgorithmicTrader\n",
    "from algorithmic_trader import summarize_historical_trades_df\n",
    "\n",
    "# Start Redis backend.\n",
    "os.system(\"redis-server --daemonize yes\")\n",
    "time.sleep(1)\n",
    "\n",
    "# Get CloudEx and VM-specific config \n",
    "def get_vm_config():\n",
    "    with open(\"vm_config.json\", \"r\") as read_file:\n",
    "        config = json.load(read_file)\n",
    "    return config\n",
    "\n",
    "config = get_vm_config()"
   ]
  },
  {
   "cell_type": "markdown",
   "metadata": {},
   "source": [
    "# Utility Functions"
   ]
  },
  {
   "cell_type": "code",
   "execution_count": null,
   "metadata": {
    "id": "T12dnZgSXDim"
   },
   "outputs": [],
   "source": [
    "ORDER_FIELDS_LIST = [\n",
    "    'Symbol', 'OrderID', 'CancelID', 'ClientID', 'OrderType', 'OrderAction',\n",
    "    'SubmitTimestamp', 'GatewayTimestamp', 'EnqueueTimestamp',\n",
    "    'DequeueTimestamp', 'OrderSerialNum', 'LimitPrice', 'ResultType','NumShares'\n",
    "]\n",
    "\n",
    "TRADE_FIELDS_LIST = [\n",
    "    \"Symbol\", \"BuyerSerialNum\", \"SellerSerialNum\", \"BuyerOrderID\",\n",
    "    \"SellerOrderID\", \"BuyerClientID\", \"SellerClientID\", \"ExecPrice\",\n",
    "    \"CashTraded\", \"SharesTraded\", \"CreationTimestamp\", \"ReleaseTimestamp\",\n",
    "    \"TradeSerialNum\"\n",
    "]\n",
    "\n",
    "'''\n",
    "Takes in a cloud_ex.VectorOrder with serialized orders and returns a DataFrame\n",
    "'''\n",
    "def OrderDF(order_vec):\n",
    "    if not len(order_vec):\n",
    "        return pd.DataFrame(columns=ORDER_FIELDS_LIST)\n",
    "    df = pd.DataFrame(order_vec).applymap(lambda x:x.SerializeOrder())[0].str.split('|', expand=True)\n",
    "    df.columns = ORDER_FIELDS_LIST\n",
    "    for label in ['SubmitTimestamp', 'GatewayTimestamp', 'EnqueueTimestamp',\n",
    "                  'DequeueTimestamp', 'OrderSerialNum', 'LimitPrice','NumShares']:\n",
    "        df.loc[:, label] = pd.to_numeric(df[label], errors='coerce')\n",
    "    return df\n",
    "\n",
    "'''\n",
    "Takes in a cloud_ex.VectorOrder with serialized trades and returns a DataFrame\n",
    "'''\n",
    "def TradeDF(trade_vec):\n",
    "    if not len(trade_vec):\n",
    "        return pd.DataFrame(columns=TRADE_FIELDS_LIST)\n",
    "    df = pd.DataFrame(trade_vec).applymap(lambda x:x.SerializeTrade())[0].str.split('|', expand=True)\n",
    "    df.columns = TRADE_FIELDS_LIST\n",
    "    for label in [\"ExecPrice\", \"CashTraded\", \"SharesTraded\",\n",
    "                  \"CreationTimestamp\", \"ReleaseTimestamp\", \"TradeSerialNum\"]:\n",
    "        df.loc[:, label] = pd.to_numeric(df[label], errors='coerce')\n",
    "    return df\n",
    "\n",
    "'''\n",
    "Takes in a cloud_ex.MapStringOrder mapping Order ID strings to outstanding the coorresponding orders, \n",
    "and returns a DataFrame\n",
    "'''\n",
    "def OutstandingOrderDF(outstanding_orders):\n",
    "    if not len(outstanding_orders):\n",
    "        return pd.DataFrame(columns=ORDER_FIELDS_LIST)\n",
    "    df = (pd.DataFrame(outstanding_orders.items())[1]).apply(lambda x:x.SerializeOrder()).str.split('|', expand=True)\n",
    "    df.columns = ORDER_FIELDS_LIST\n",
    "    for label in ['SubmitTimestamp', 'GatewayTimestamp', 'EnqueueTimestamp',\n",
    "                  'DequeueTimestamp', 'OrderSerialNum', 'LimitPrice','NumShares']:\n",
    "        df.loc[:, label] = pd.to_numeric(df[label], errors='coerce')\n",
    "    return df "
   ]
  },
  {
   "cell_type": "markdown",
   "metadata": {},
   "source": [
    "# 1. Instantiate Your CloudEx Trader Object"
   ]
  },
  {
   "cell_type": "markdown",
   "metadata": {},
   "source": [
    "## 1.1 Create Trader Object "
   ]
  },
  {
   "cell_type": "markdown",
   "metadata": {},
   "source": [
    "This object will instantiate a connection to a gateway in CloudEx. This gateway will relay orders to the matching engine and market data to your client.\n",
    "\n",
    "**Arguments to `cloud_ex.Trader` constructor:**\n",
    "- gateway_ip `str` - The IP address for the gateway assigned to you\n",
    "- client_id `str` - Your client identifier\n",
    "- client_token `str` - Your client token"
   ]
  },
  {
   "cell_type": "code",
   "execution_count": null,
   "metadata": {},
   "outputs": [],
   "source": [
    "# Get relevant fields from VM-specific config. Token is yours only, so don't make it public.\n",
    "gateway_ip = config[\"gateway_ip\"]\n",
    "client_id = config[\"client_id\"]\n",
    "client_token = config[\"client_token\"]\n",
    "\n",
    "# Clear any existing data locally.\n",
    "redis_api = redis.Redis()\n",
    "redis_api.flushall();\n",
    "\n",
    "# Create CloudEx base trader object.\n",
    "trader = cloud_ex.Trader(gateway_ip, client_id, client_token)"
   ]
  },
  {
   "cell_type": "code",
   "execution_count": null,
   "metadata": {},
   "outputs": [],
   "source": [
    "# Get a list of all symbols available for trading.\n",
    "symbol_list = trader.GetSymbols()\n",
    "print(\"These are all the {} symbols available for trading at the CloudEx exchange: {}\".format(\n",
    "    len(symbol_list),symbol_list))"
   ]
  },
  {
   "cell_type": "markdown",
   "metadata": {},
   "source": [
    "## 1.2 Get all My Pending Orders"
   ]
  },
  {
   "cell_type": "code",
   "execution_count": null,
   "metadata": {},
   "outputs": [],
   "source": [
    "outstanding_orders = cloud_ex.MapStringOrder()\n",
    "trader.GetOutstandingOrders(outstanding_orders)\n",
    "\n",
    "print(\"You have {} outstanding orders.\".format(len(outstanding_orders)))\n",
    "\n",
    "# Transform outstanding orders into a DataFrame\n",
    "outstanding_orders = OutstandingOrderDF(outstanding_orders)\n",
    "outstanding_orders"
   ]
  },
  {
   "cell_type": "markdown",
   "metadata": {},
   "source": [
    "## 1.3 Get All My Historical Orders"
   ]
  },
  {
   "cell_type": "code",
   "execution_count": null,
   "metadata": {},
   "outputs": [],
   "source": [
    "# Get all my historical orders\n",
    "my_historical_orders = cloud_ex.VectorOrder()\n",
    "\n",
    "trader.GetAllHistoricalOrders(my_historical_orders)\n",
    "print(\"You have submitted a total of {} order(s).\".format(len(my_historical_orders)))\n",
    "my_historical_orders_df = OrderDF(my_historical_orders)\n",
    "\n",
    "my_historical_orders_df"
   ]
  },
  {
   "cell_type": "markdown",
   "metadata": {},
   "source": [
    "## 1.4 Get All My Historical Trades"
   ]
  },
  {
   "cell_type": "code",
   "execution_count": null,
   "metadata": {},
   "outputs": [],
   "source": [
    "# Get all my historical trades\n",
    "my_historical_trades = cloud_ex.VectorTrade()\n",
    "\n",
    "trader.GetAllHistoricalTrades(my_historical_trades)\n",
    "print(\"You have made a total of {} trade(s).\".format(len(my_historical_trades)))\n",
    "my_historical_trades_df = TradeDF(my_historical_trades)\n",
    "\n",
    "my_historical_trades_df"
   ]
  },
  {
   "cell_type": "markdown",
   "metadata": {},
   "source": [
    "## 1.5 Get My Portfolio Matrix"
   ]
  },
  {
   "cell_type": "code",
   "execution_count": null,
   "metadata": {},
   "outputs": [],
   "source": [
    "portfolio_mat = cloud_ex.MapStringInt()\n",
    "\n",
    "trader.GetPortfolioMatrix(portfolio_mat)\n",
    "\n",
    "print(portfolio_mat)"
   ]
  },
  {
   "cell_type": "markdown",
   "metadata": {
    "id": "d8aJ86PRl2LQ"
   },
   "source": [
    "# 2. Mean Reversion Trading"
   ]
  },
  {
   "cell_type": "markdown",
   "metadata": {},
   "source": [
    "## 2.1 Subclass Mean Reversion Trader from Algorithmic Trader"
   ]
  },
  {
   "cell_type": "code",
   "execution_count": null,
   "metadata": {},
   "outputs": [],
   "source": [
    "class meanReversionTrader(AlgorithmicTrader):\n",
    "    def __init__(self, trader, symbol_list, bin_interval_ms=500):\n",
    "        \"\"\"\n",
    "        Mean Reversion Trader Class.\n",
    "\n",
    "        :param trader(cloud_ex.Trader): CloudEx's base Trader object.\n",
    "        :param symbol_list: List of ticker symbols (str) to fetch data for.\n",
    "        :param bin_interval_ms: Frequency with which to bin trading data in milliseconds (int).\n",
    "        \"\"\"\n",
    "        # Initialize AlgorithmicTrader.\n",
    "        AlgorithmicTrader.__init__(self, trader, symbol_list, bin_interval_ms=bin_interval_ms)\n",
    "\n",
    "    def algorithm(self, df, **kwargs):\n",
    "        \"\"\" \n",
    "        Calculate buy sell points for an equity.\n",
    "        A buy is triggered when the moving average is threshold% below the price.\n",
    "        A sell is triggered when the moving average is threshold% above the price.\n",
    "        For this implementation we evaluate the stock price at the close of each bin_interval_ms time interval.\n",
    "\n",
    "        :param df: Dataframes with prices for an equity (pd.DataFrame).\n",
    "        Mean reversion specific arguments:\n",
    "          :param ma: Number of bins to consider in the moving average (int).\n",
    "          :param threshold: Amount ma is below/above price (as a percentage) for which to buy/sell (float).\n",
    "\n",
    "        Returns: \n",
    "            An (action, price) pair.\n",
    "            \n",
    "            'action' is None when no action is determined to be taken. This happens either when we do not have enough\n",
    "            data to build a moving average estimate or if the price is within a small threshold above/below\n",
    "            the moving average. In this case, 'price' is also None.\n",
    "\n",
    "            'action' is 'Buy' when the price rises above the threshold defined for the moving average. \n",
    "                The buy price is set to the most recent closing price.\n",
    "                \n",
    "            'action' is 'Sell' when the price drops below the threshold defined for the moving average. \n",
    "                The sell price is set to the most recent closing price.\n",
    "        \"\"\"\n",
    "        # Unpack keyword arguments.\n",
    "        ma = kwargs['ma']\n",
    "        threshold = kwargs['threshold']\n",
    "        \n",
    "        # Handle case when data not available to build moving average.\n",
    "        if len(df) < ma:\n",
    "            return None, None\n",
    "        \n",
    "        # Select the last ma rows from our dataframe for processing.\n",
    "        df = df.iloc[-1*ma:]\n",
    "\n",
    "        df['MA'] = df['ClosePrice'].rolling(ma).mean()\n",
    "        row = df.iloc[-1]\n",
    "\n",
    "        # Check if moving average price is defined.\n",
    "        # This value will be undefined for the first `ma` steps.\n",
    "        if np.isnan(row['MA']):\n",
    "            return None, None\n",
    "\n",
    "        buy_cutoff = (1.0 - threshold / 100.0) * row['MA']\n",
    "        sell_cutoff = (1.0 + threshold / 100.0) * row['MA']\n",
    "        p_s = row['ClosePrice']\n",
    "        if p_s <= buy_cutoff:\n",
    "            return 'Buy', p_s\n",
    "        elif p_s >= sell_cutoff:\n",
    "            return 'Sell', p_s\n",
    "        else:\n",
    "            return None, None"
   ]
  },
  {
   "cell_type": "markdown",
   "metadata": {},
   "source": [
    "## 2.2 Create and Start Mean Reversion Trader"
   ]
  },
  {
   "cell_type": "markdown",
   "metadata": {},
   "source": [
    "First, we will create a mean reversion trader.\n",
    "Once created the trader will pull data from CloudEx, process the data\n",
    "and lastly place buy or sell orders.\n",
    "\n",
    "The `meanReversionTrader` object is created with the following parameters:\n",
    "- trader `cloud_ex.Trader`: The CloudEx base trader object \n",
    "- symbol_list `List(str)`: A list of symbols whose market data we would like to subscribe to\n",
    "\n",
    "We then invoke the trading loop with the following arguments\n",
    "- symbol `str` - The symbol we would like to trade\n",
    "- num_shares `int` - Number of shares to buy/sell per order\n",
    "- num_orders `int` - Number of total orders to place \n",
    "- wait_interval `float` - Time to wait between placing orders (s) \n",
    "- ma `int` - Number of steps in the moving average window \n",
    "- threshold `float` - % above or below the moving average at which we will place orders \n",
    "\n",
    "When you have the above information, you can run the order loop using the `meanReversionTrader.trade` function."
   ]
  },
  {
   "cell_type": "code",
   "execution_count": null,
   "metadata": {
    "cellView": "both",
    "id": "rjz6t7Ezl-U2"
   },
   "outputs": [],
   "source": [
    "# Algorithm Settings.\n",
    "symbol = 'AA'\n",
    "num_shares = 100\n",
    "num_orders = 20\n",
    "wait_interval = 0.5\n",
    "moving_average = 29\n",
    "threshold = 1\n",
    "\n",
    "# Create and run mean reversion trader.\n",
    "mrt = meanReversionTrader(trader, [symbol])\n",
    "mrt_order_id_list = mrt.trade(symbol,\n",
    "                      num_shares,\n",
    "                      num_orders,\n",
    "                      wait_interval,\n",
    "                      ma=moving_average,\n",
    "                      threshold=threshold)\n",
    "num_submitted_orders = len([order_id for order_id in mrt_order_id_list if order_id])\n",
    "print(\"\\n\\nSubmitted orders in {} out of {} iterations\".format(num_submitted_orders, len(mrt_order_id_list)))"
   ]
  },
  {
   "cell_type": "markdown",
   "metadata": {
    "id": "JNWKs9Dxmn-Y"
   },
   "source": [
    "## 2.3 View Pending Orders"
   ]
  },
  {
   "cell_type": "markdown",
   "metadata": {},
   "source": [
    "You can view all outstanding orders (those that have not been fulfilled) by calling the `trader.GetOutstandingOrders` function. \n",
    "\n",
    "Doing so can give you the information needed to cancel any or all orders.\n"
   ]
  },
  {
   "cell_type": "code",
   "execution_count": null,
   "metadata": {
    "id": "lNEshKidmnVz"
   },
   "outputs": [],
   "source": [
    "outstanding_orders = cloud_ex.MapStringOrder()\n",
    "mrt.trader.GetOutstandingOrders(outstanding_orders)\n",
    "\n",
    "print(\"You have {} outstanding orders.\".format(len(outstanding_orders)))\n",
    "\n",
    "# Transform outstanding orders into a DataFrame\n",
    "outstanding_orders = OutstandingOrderDF(outstanding_orders)\n",
    "outstanding_orders"
   ]
  },
  {
   "cell_type": "markdown",
   "metadata": {
    "id": "gsnbBvGNO4L9"
   },
   "source": [
    "## 2.4 View Recent Trades"
   ]
  },
  {
   "cell_type": "markdown",
   "metadata": {},
   "source": [
    "For any of the symbols we have subscribed to, we can pull recent trades. We will use the `trader.GetRecentTrades` to do so.\n",
    "- symbol `str` - Ticker we will fetch data for.\n",
    "- trade_vec `cloud_ex.VectorTrade` - Datastructure to hold the recent trades. \n",
    "- start_fetch_time `int` - Time (in microseconds) to start fetching data from.\n"
   ]
  },
  {
   "cell_type": "code",
   "execution_count": null,
   "metadata": {
    "id": "YPyucQ8rO26N"
   },
   "outputs": [],
   "source": [
    "# 'symbol' should be same symbol we used before\n",
    "symbol = 'AA'\n",
    "past_seconds = 60\n",
    "trade_vec = cloud_ex.VectorTrade()\n",
    "start_fetch_time_us = int((time.time() - past_seconds) * 1e6) # We will fetch from past_seconds seconds ago to now.\n",
    "\n",
    "success = mrt.trader.GetRecentTrades(symbol, trade_vec, start_fetch_time_us)\n",
    "if not success:\n",
    "    print(\"Error getting {symbol} trades. Check that {symbol} is in your active symbol list\".format(symbol=symbol))\n",
    "else:\n",
    "    print(\"There were {} Trades for {} in the last {} seconds.\".format(len(trade_vec), symbol, past_seconds))\n",
    "\n",
    "# Transform recent trades into a DataFrame\n",
    "recent_trade_df = TradeDF(trade_vec)\n",
    "recent_trade_df"
   ]
  },
  {
   "cell_type": "markdown",
   "metadata": {
    "id": "3raxfhall_Cw"
   },
   "source": [
    "# 3. Momentum Trading"
   ]
  },
  {
   "cell_type": "markdown",
   "metadata": {},
   "source": [
    "## 3.1 Subclass Momentum Trader from Algorithmic Trader"
   ]
  },
  {
   "cell_type": "code",
   "execution_count": null,
   "metadata": {},
   "outputs": [],
   "source": [
    "class momentumTrader(AlgorithmicTrader):\n",
    "    def __init__(self, trader, symbol_list, bin_interval_ms=500):\n",
    "        \"\"\"\n",
    "        Momentum Trader Class.\n",
    "\n",
    "        :param trader(cloud_ex.Trader): CloudEx's base Trader object\n",
    "        :param symbol_list: List of ticker symbols (str) to fetch data for.\n",
    "        :param bin_interval_ms: Frequency with which to bin trading data in milliseconds (int).\n",
    "        \"\"\"\n",
    "        # Initialize Trader.\n",
    "        AlgorithmicTrader.__init__(self, trader, symbol_list, bin_interval_ms=bin_interval_ms)\n",
    "\n",
    "    def algorithm(self, df, **kwargs):\n",
    "        \"\"\"\n",
    "        Calculate buy sell points for an equity.\n",
    "        A buy is triggered when the weighted rate of change for the past two time intervals is above a given threshold.\n",
    "        A sell is triggered when the weighted rate of change for the past two time intervals is below a given threshold.\n",
    "        For this implementation we evaluate the rate of change for stock price from open to close for each bin_interval_ms time interval.\n",
    "\n",
    "        :param df: Dataframes with prices for an equity (pd.DataFrame).\n",
    "        Momentum specific arguments:\n",
    "        :param threshold: Weighted rate of change above/below which we will buy/sell (float).\n",
    "        :param p1: weight for t-1 rate of change, Note: p1+p2=1 (float).\n",
    "        :param p2: Weight for t-2 rate of change, Note: p1+p2=1 (float).\n",
    "\n",
    "        Returns: \n",
    "            An (action, price) pair.\n",
    "            \n",
    "            'action' is None when no action is determined to be taken. This happens either when we do not have enough\n",
    "            data to build a moving average estimate or if the price is within a small threshold above/below\n",
    "            the moving average. In this case, 'price' is also None.\n",
    "\n",
    "            'action' is 'Buy' when the price rises above the threshold defined for the moving average. \n",
    "                The buy price is set to the most recent closing price.\n",
    "                \n",
    "            'action' is 'Sell' when the price drops below the threshold defined for the moving average. \n",
    "                The sell price is set to the most recent closing price.\n",
    "        \"\"\"\n",
    "        # Handle case when data not available to get momentum.\n",
    "        if len(df) < 2:\n",
    "            return None, None\n",
    "\n",
    "        # Select the last few rows from our dataframe for processing.\n",
    "        df = df.iloc[-2:]\n",
    "        \n",
    "        # Unpack keyword arguments\n",
    "        threshold = kwargs['threshold']\n",
    "        p1 = kwargs['p1']\n",
    "        p2 = kwargs['p2']\n",
    "\n",
    "        # Calculate the rate of change for our equity at each timestep.\n",
    "        df['Perc Change'] = (df['ClosePrice'] / df['OpenPrice'] - 1)\n",
    "        row = df.iloc[-1]\n",
    "        prev_row = df.iloc[-2]\n",
    "\n",
    "        # Check if percentage change of previous row is defined.\n",
    "        # This value will be undefined for the first step.\n",
    "        if np.isnan(prev_row['Perc Change']):\n",
    "            return None, None\n",
    "\n",
    "        # Find the weighted average of recent moves (as a percent of stock price).\n",
    "        weighted_ave_roc = p1 * row['Perc Change'] + p2 * prev_row[\n",
    "            'Perc Change']\n",
    "        print(\"Momentum value= \", weighted_ave_roc*100)\n",
    "        p_s = row['ClosePrice']\n",
    "        \n",
    "        if weighted_ave_roc >= threshold / 100.0:\n",
    "            return 'Buy', p_s\n",
    "        elif weighted_ave_roc <= -threshold / 100.0:\n",
    "            return 'Sell', p_s\n",
    "        else:\n",
    "            return None, None\n"
   ]
  },
  {
   "cell_type": "markdown",
   "metadata": {
    "id": "2DMOPPBQmzKE"
   },
   "source": [
    "## 3.2 Create and Start Momentum Trader"
   ]
  },
  {
   "cell_type": "markdown",
   "metadata": {},
   "source": [
    "First, we will create a momentum trader.\n",
    "Once created the trader will pull data from CloudEx, process the data\n",
    "and lastly place buy or sell orders.\n",
    "\n",
    "The `momentumTrader` object is created with the following parameters:\n",
    "- trader `cloud_ex.Trader`: The CloudEx base trader object \n",
    "- symbol_list `List(str)`: A list of symbols whose market data we would like to subscribe to\n",
    "\n",
    "We then invoke the trading loop with the following arguments\n",
    "- symbol `str` - The symbol we would like to trade \n",
    "- num_shares `int` - Number of shares to buy/sell per order  \n",
    "- num_orders `int` - Number of total orders to place \n",
    "- wait_interval `float` - Time to wait between placing orders (s) \n",
    "- threshold `float` - % above or below the moving average at which we will place orders \n",
    "- p1 `float` - Weight for t-1 rate of change \n",
    "- p2 `float` - Weight for t-2 rate of change \n",
    "\n",
    "When you have the above information, you can run the order loop using the `momentumTrader.trade` function."
   ]
  },
  {
   "cell_type": "code",
   "execution_count": null,
   "metadata": {
    "cellView": "both",
    "id": "E8KpbIPQm8pg"
   },
   "outputs": [],
   "source": [
    "symbol = 'AI'\n",
    "num_shares = 100\n",
    "num_orders = 10\n",
    "wait_interval = 3\n",
    "threshold = 1\n",
    "p1 = .5\n",
    "p2 = .5\n",
    "\n",
    "# Create and run momentum trader.\n",
    "mt = momentumTrader(trader, [symbol], bin_interval_ms=wait_interval*1000)\n",
    "mt_order_id_list = mt.trade(symbol,\n",
    "                      num_shares,\n",
    "                      num_orders,\n",
    "                      wait_interval,\n",
    "                      p1=p1,\n",
    "                      p2=p2,\n",
    "                      threshold=threshold)\n",
    "\n",
    "num_submitted_orders = len([order_id for order_id in mt_order_id_list if order_id])\n",
    "print(\"\\n\\nSubmitted orders in {} out of {} iterations\".format(num_submitted_orders, len(mt_order_id_list)))"
   ]
  },
  {
   "cell_type": "markdown",
   "metadata": {},
   "source": [
    "## 3.3 View Pending Orders"
   ]
  },
  {
   "cell_type": "markdown",
   "metadata": {},
   "source": [
    "As before, you can view all outstanding orders (those that have not been fulfilled) by calling the `trader.GetOutstandingOrders` function. \n",
    "\n",
    "Doing so can give you the information needed to cancel any or all orders.\n"
   ]
  },
  {
   "cell_type": "code",
   "execution_count": null,
   "metadata": {},
   "outputs": [],
   "source": [
    "outstanding_orders = cloud_ex.MapStringOrder()\n",
    "mt.trader.GetOutstandingOrders(outstanding_orders)\n",
    "\n",
    "print(\"You have {} outstanding orders.\".format(len(outstanding_orders)))\n",
    "\n",
    "# Transform outstanding orders into a DataFrame\n",
    "outstanding_orders = OutstandingOrderDF(outstanding_orders)\n",
    "outstanding_orders"
   ]
  },
  {
   "cell_type": "markdown",
   "metadata": {
    "id": "ANSgZbrTm9QH"
   },
   "source": [
    "## 3.4 View Recent Trades"
   ]
  },
  {
   "cell_type": "markdown",
   "metadata": {},
   "source": [
    "As before, for any of the symbols we have subscribed to, we can pull recent trades. We will use the `trader.GetRecentTrades` to do so.\n",
    "- symbol `str` - Ticker we will fetch data for.\n",
    "- trade_vec `cloud_ex.VectorTrade` - Datastructure to hold the recent trades. \n",
    "- start_fetch_time `int` - Time (in microseconds) to start fetching data from.\n"
   ]
  },
  {
   "cell_type": "code",
   "execution_count": null,
   "metadata": {
    "id": "qG-OL0MHm_qK"
   },
   "outputs": [],
   "source": [
    "# 'symbol' should be same symbol we used before\n",
    "symbol = 'AI'\n",
    "past_seconds = 60\n",
    "trade_vec = cloud_ex.VectorTrade()\n",
    "start_fetch_time_us = int((time.time() - past_seconds) * 1e6) # We will fetch from past_seconds seconds ago to now.\n",
    "\n",
    "success = mt.trader.GetRecentTrades(symbol, trade_vec, start_fetch_time_us)\n",
    "if not success:\n",
    "    print(\"Error getting {symbol} trades. Check that {symbol} is in your active symbol list\".format(symbol=symbol))\n",
    "else:\n",
    "    print(\"There were {} Trades for {} in the last {} seconds.\".format(len(trade_vec), symbol, past_seconds))\n",
    "\n",
    "# Transform recent trades into a DataFrame\n",
    "recent_trade_df = TradeDF(trade_vec)\n",
    "recent_trade_df"
   ]
  },
  {
   "cell_type": "markdown",
   "metadata": {
    "id": "jA-evqxRnMI4"
   },
   "source": [
    "# 4. Pairs Trading"
   ]
  },
  {
   "cell_type": "markdown",
   "metadata": {
    "id": "gM4aQ4h3nWLV"
   },
   "source": [
    "## 4.1 Subclass Pairs Trader from Algorithmic Trader"
   ]
  },
  {
   "cell_type": "code",
   "execution_count": null,
   "metadata": {},
   "outputs": [],
   "source": [
    "class pairsTrader(AlgorithmicTrader):\n",
    "    def __init__(self, trader, symbol_list, bin_interval_ms=500):\n",
    "        \"\"\"\n",
    "        Pairs Trader Class.\n",
    "\n",
    "        :param trader(cloud_ex.Trader): CloudEx's base Trader object\n",
    "        :param symbol_list: List of ticker symbols (str) to fetch data for.\n",
    "        :param bin_interval_ms: Frequency with which to bin trading data in milliseconds (int).\n",
    "        \"\"\"\n",
    "        # Initialize Trader.\n",
    "        AlgorithmicTrader.__init__(self, trader, symbol_list, bin_interval_ms=bin_interval_ms)\n",
    "\n",
    "    def algorithm(self, df1, symbol2, ma, threshold):\n",
    "        \"\"\" Calculate buy sell points for an equity.\n",
    "            We will difference the two time series in our pairs trading strategy in the following order:\n",
    "                differenced_time_series(t) = symbol_1(t) - symbol_2(t)\n",
    "            A buy is triggered when the moving average (of the difference time series) is threshold% below the current price.\n",
    "            A sell is triggered when the moving average (of the difference time series) is threshold% above the current price.\n",
    "            For this implementation we evaluate the stock price at the close of each bin_interval_ms time interval.\n",
    "            \n",
    "        Arguments:\n",
    "            :param df1: Dataframes with prices for the first symbol (pd.DataFrame).\n",
    "            :param symbol2: the second symbol in our pairs trading strategy (str).\n",
    "            :param ma: Number of periods to consider in the moving average (int).\n",
    "            :param threshold: Amount ma is below/above price (as a percentage) for which to buy/sell (float).\n",
    "\n",
    "        Returns: \n",
    "            An (action, price) pair.\n",
    "            \n",
    "            'action' is None when no action is determined to be taken. This happens either when we do not have enough\n",
    "            data to build a moving average estimate or if the price is within a small threshold above/below\n",
    "            the moving average. In this case, 'price' is also None.\n",
    "\n",
    "            'action' is 'Buy' when the price rises above the threshold defined for the moving average. \n",
    "                The buy price is set to the most recent closing price.\n",
    "                \n",
    "            'action' is 'Sell' when the price drops below the threshold defined for the moving average. \n",
    "                The sell price is set to the most recent closing price.\n",
    "        \"\"\"\n",
    "        # Get dataframe for second symbol.\n",
    "        self._update_time_and_sales(symbol2)\n",
    "        # df2 {pd.DataFrame} -- Dataframe with prices for the second equity.\n",
    "        df2 = self.summarized_time_and_sales_dict[symbol2]\n",
    "        \n",
    "        # Handle case when data not available to build moving average.\n",
    "        if len(df1) < ma or len(df2) < ma:\n",
    "            return None, None\n",
    "        \n",
    "        df1 = df1.iloc[-1*ma:]\n",
    "        df2 = df2.iloc[-1*ma:]\n",
    "        \n",
    "        # Check that the dataframe indexes (timestamps) match for the two symbols we are trading.\n",
    "        if df1.index.values[-1] != df2.index.values[-1]:\n",
    "            return None, None\n",
    "        \n",
    "        # Get difference time series, pair_df.\n",
    "        pair_df = df1 - df2\n",
    "        pair_df['MA'] = pair_df['ClosePrice'].rolling(ma).mean()\n",
    "        row = pair_df.iloc[-1]\n",
    "\n",
    "        # Check if moving average price is defined.\n",
    "        # This value will be undefined for the first `ma` steps.\n",
    "        if np.isnan(row['MA']):\n",
    "            return None, None\n",
    "\n",
    "        buy_cutoff = (1.0 - threshold / 100.0) * row['MA']\n",
    "        sell_cutoff = (1.0 + threshold / 100.0) * row['MA']\n",
    "        p_s = row['ClosePrice']\n",
    "\n",
    "        p_s1 = df1.iloc[-1]['ClosePrice']\n",
    "        if p_s <= buy_cutoff:\n",
    "            return 'Buy', p_s1  # Sell s1 (can also buy s2)\n",
    "        elif p_s >= sell_cutoff:\n",
    "            return 'Sell', p_s1  # Buy s1 (can also sell s2)\n",
    "        else:\n",
    "            return None, None"
   ]
  },
  {
   "cell_type": "markdown",
   "metadata": {},
   "source": [
    "## 4.2 Create and Start Pairs Trader"
   ]
  },
  {
   "cell_type": "markdown",
   "metadata": {},
   "source": [
    "First, we will create a pairs trader.\n",
    "Once created the trader will pull data from CloudEx, process the data\n",
    "and lastly place buy or sell orders.\n",
    "\n",
    "The `pairsTrader` object is created with the following parameters:\n",
    "- trader `cloud_ex.Trader`: The CloudEx base trader object \n",
    "- symbol_list `List(str)`: A list of symbols whose market data we would like to subscribe to\n",
    "\n",
    "We then invoke the trading loop with the following arguments\n",
    "- symbol1, symbol2 `str` - The two symbol we would like to trade using pairs trading\n",
    "- num_shares `int` - Number of shares to buy/sell per order  \n",
    "- num_orders `int` - Number of total orders to place \n",
    "- wait_interval `float` - Time to wait between placing orders (s) \n",
    "- ma `int` - Number of steps in the moving average window \n",
    "- threshold `float` - % above or below the moving average at which we will place orders \n",
    "\n",
    "When you have the above information, you can run the order loop using the `pairsTrader.trade` function."
   ]
  },
  {
   "cell_type": "code",
   "execution_count": null,
   "metadata": {
    "id": "5Uqkwl_ZnV6V"
   },
   "outputs": [],
   "source": [
    "# Algorithm Settings\n",
    "symbol1 = 'AE'\n",
    "symbol2 = 'AF'\n",
    "num_shares = 100\n",
    "num_orders = 20\n",
    "wait_interval = .5\n",
    "moving_average = 10\n",
    "threshold = 5\n",
    "\n",
    "# Create and run pairs trader.\n",
    "pt = pairsTrader(trader, [symbol1, symbol2])\n",
    "pt_order_id_list = pt.trade(symbol1,\n",
    "                    num_shares,\n",
    "                    num_orders,\n",
    "                    wait_interval,\n",
    "                    ma=moving_average,\n",
    "                    threshold=threshold,\n",
    "                    symbol2=symbol2)\n",
    "\n",
    "num_submitted_orders = len([order_id for order_id in pt_order_id_list if order_id])\n",
    "print(\"\\n\\nSubmitted orders in {} out of {} iterations\".format(num_submitted_orders, len(pt_order_id_list)))"
   ]
  },
  {
   "cell_type": "markdown",
   "metadata": {},
   "source": [
    "## 4.3 View Pending Orders"
   ]
  },
  {
   "cell_type": "markdown",
   "metadata": {},
   "source": [
    "As before, you can view all outstanding orders (those that have not been fulfilled) by calling the `trader.GetOutstandingOrders` function. \n",
    "\n",
    "Doing so can give you the information needed to cancel any or all orders."
   ]
  },
  {
   "cell_type": "code",
   "execution_count": null,
   "metadata": {},
   "outputs": [],
   "source": [
    "outstanding_orders = cloud_ex.MapStringOrder()\n",
    "pt.trader.GetOutstandingOrders(outstanding_orders)\n",
    "\n",
    "print(\"You have {} outstanding orders.\".format(len(outstanding_orders)))\n",
    "\n",
    "# Transform outstanding orders into a DataFrame\n",
    "outstanding_orders = OutstandingOrderDF(outstanding_orders)\n",
    "outstanding_orders"
   ]
  },
  {
   "cell_type": "markdown",
   "metadata": {
    "id": "menSPrpsTF2y"
   },
   "source": [
    "## 4.4 View Recent Trades"
   ]
  },
  {
   "cell_type": "markdown",
   "metadata": {},
   "source": [
    "As before, for any of the symbols we have subscribed to, we can pull recent trades. We will use the `trader.GetRecentTrades` to do so.\n",
    "- symbol `str` - Ticker we will fetch data for.\n",
    "- trade_vec `cloud_ex.VectorTrade` - Datastructure to hold the recent trades. \n",
    "- start_fetch_time `int` - Time (in microseconds) to start fetching data from."
   ]
  },
  {
   "cell_type": "code",
   "execution_count": null,
   "metadata": {
    "id": "S1Hl-EQKTF2z"
   },
   "outputs": [],
   "source": [
    "symbol = 'AE' # Same symbol we used before\n",
    "past_seconds = 60\n",
    "trade_vec = cloud_ex.VectorTrade()\n",
    "start_fetch_time_us = int((time.time() - past_seconds) * 1e6) # We will fetch from past_seconds seconds ago to now.\n",
    "\n",
    "success = pt.trader.GetRecentTrades(symbol, trade_vec, start_fetch_time_us)\n",
    "if not success:\n",
    "    print(\"Error getting {symbol} trades. Check that {symbol} is in your active symbol list\".format(symbol=symbol))\n",
    "else:\n",
    "    print(\"There were {} Trades for {} in the last {} seconds.\".format(len(trade_vec), symbol, past_seconds))\n",
    "\n",
    "# Transform recent trades into a DataFrame\n",
    "recent_trade_df = TradeDF(trade_vec)\n",
    "recent_trade_df"
   ]
  },
  {
   "cell_type": "markdown",
   "metadata": {
    "id": "hY1b_tfPTQfg"
   },
   "source": [
    "# 5. Backtesting"
   ]
  },
  {
   "cell_type": "markdown",
   "metadata": {},
   "source": [
    "## 5.1 Get Symbol Historical Data"
   ]
  },
  {
   "cell_type": "code",
   "execution_count": null,
   "metadata": {},
   "outputs": [],
   "source": [
    "symbol = 'AA'\n",
    "seconds_in_past = 60*60*24 # One day\n",
    "end_time_ms = int(time.time()*1e3)\n",
    "start_time_ms = end_time_ms - int(seconds_in_past*1e3)\n",
    "\n",
    "symbol_trades_vec = cloud_ex.VectorTrade()\n",
    "\n",
    "cloud_ex.MarketDataAPI.PullTrades(config['project_id'], config['bigtable_id'], \n",
    "                                          config['table_name'], symbol, start_time_ms, \n",
    "                                          end_time_ms, symbol_trades_vec)\n",
    "print(\"There are a total of {} trade(s) in the last day.\".format(len(symbol_trades_vec)))\n",
    "symbol_historical_trades_df = TradeDF(symbol_trades_vec)\n",
    "\n",
    "symbol_historical_trades_df = symbol_historical_trades_df.sort_values(by=\"CreationTimestamp\")\n",
    "symbol_historical_trades_df"
   ]
  },
  {
   "cell_type": "code",
   "execution_count": null,
   "metadata": {},
   "outputs": [],
   "source": [
    "bin_interval_ms = 500\n",
    "summarize_historical_trades_df(symbol_historical_trades_df, bin_interval_ms)"
   ]
  },
  {
   "cell_type": "markdown",
   "metadata": {
    "id": "eQhgxJ95TXTI"
   },
   "source": [
    "## 5.2 Setup the Mean Reversion Trader"
   ]
  },
  {
   "cell_type": "code",
   "execution_count": null,
   "metadata": {
    "id": "usRwHYBWTgL7"
   },
   "outputs": [],
   "source": [
    "symbol = 'AA'\n",
    "# Create mean reversion trader for backtesting.\n",
    "mrt = meanReversionTrader(trader, [symbol])"
   ]
  },
  {
   "cell_type": "markdown",
   "metadata": {
    "id": "6yJMJYCpTqzQ"
   },
   "source": [
    "## 5.3 Backtest Mean Reversion Trader"
   ]
  },
  {
   "cell_type": "markdown",
   "metadata": {},
   "source": [
    "We can backtest the choice of parameters (`moving_average` and `threshold`) that we have selected by evaluating performance on historical data. \n",
    "\n",
    "`backtest()` Arguments:\n",
    "- symbol_historical_trades_df `pd.DataFrame` - Stock time series dataframe to backtest on. \n",
    "- num_shares `int`: Number of shares to buy or sell. \n",
    "- init_capital `int`: Amount of capital to start with. \n",
    "- init_shares `int`: Number of shares to start with. \n",
    "- Specific to mean reversion algorithm:\n",
    " - ma `int` - Number of steps in the moving average window \n",
    " - threshold `float` - % above or below the moving average at which we will place orders \n",
    "\n",
    "`backtest()` returns:\n",
    "- ROI (%)\n",
    "- a list of (time index, action, price) tuples"
   ]
  },
  {
   "cell_type": "code",
   "execution_count": null,
   "metadata": {
    "id": "hxVQsMpxTwPQ"
   },
   "outputs": [],
   "source": [
    "# Initial capital and shares we will use for the backtest. \n",
    "# Bad parameters.\n",
    "num_shares = 10\n",
    "moving_average = 10\n",
    "threshold = 5\n",
    "init_capital = 100000\n",
    "init_shares = 1000\n",
    "\n",
    "roi, action_list = mrt.backtest(symbol_historical_trades_df,\n",
    "             num_shares, \n",
    "             init_capital, \n",
    "             init_shares, \n",
    "             ma=moving_average, \n",
    "             threshold=threshold)\n",
    "\n",
    "print(action_list)\n",
    "print(\"Mean Reversion Trader, ma={ma} threshold={threshold} ----- ROI={roi}%\".format(\n",
    "    ma=moving_average, threshold=threshold, roi=roi))"
   ]
  },
  {
   "cell_type": "code",
   "execution_count": null,
   "metadata": {},
   "outputs": [],
   "source": [
    "# Initial capital and shares we will use for the backtest. \n",
    "# Good parameters.\n",
    "num_shares = 10\n",
    "moving_average = 29\n",
    "threshold = 1\n",
    "init_capital = 100000\n",
    "init_shares = 1000\n",
    "\n",
    "roi, action_list = mrt.backtest(symbol_historical_trades_df,\n",
    "             num_shares, \n",
    "             init_capital, \n",
    "             init_shares, \n",
    "             ma=moving_average, \n",
    "             threshold=threshold)\n",
    "\n",
    "print(action_list)\n",
    "print(\"Mean Reversion Trader, ma={ma} threshold={threshold} ----- ROI={roi}%\".format(\n",
    "    ma=moving_average, threshold=threshold, roi=roi))"
   ]
  }
 ],
 "metadata": {
  "colab": {
   "collapsed_sections": [],
   "name": "CS349F - Review Session 2",
   "provenance": [],
   "toc_visible": true
  },
  "kernelspec": {
   "display_name": "Python 3",
   "language": "python",
   "name": "python3"
  },
  "language_info": {
   "codemirror_mode": {
    "name": "ipython",
    "version": 3
   },
   "file_extension": ".py",
   "mimetype": "text/x-python",
   "name": "python",
   "nbconvert_exporter": "python",
   "pygments_lexer": "ipython3",
   "version": "3.7.7"
  }
 },
 "nbformat": 4,
 "nbformat_minor": 1
}
