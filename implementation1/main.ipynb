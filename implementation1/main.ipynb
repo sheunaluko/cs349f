{
 "cells": [
  {
   "cell_type": "markdown",
   "metadata": {},
   "source": [
    "# CloudEx Algo Main Script"
   ]
  },
  {
   "cell_type": "markdown",
   "metadata": {},
   "source": [
    "#### Default Imports"
   ]
  },
  {
   "cell_type": "code",
   "execution_count": 1,
   "metadata": {},
   "outputs": [],
   "source": [
    "import sys \n",
    "sys.path\n",
    "\n",
    "new_paths = ['/usr/lib/python37.zip', '/usr/lib/python3.7', '/usr/lib/python3.7/lib-dynload', '/usr/local/lib/python3.7/dist-packages', '/usr/lib/python3/dist-packages', '/root/CloudExchange', '/root/']\n",
    "for p in new_paths : \n",
    "    sys.path.append(p) \n"
   ]
  },
  {
   "cell_type": "code",
   "execution_count": 2,
   "metadata": {},
   "outputs": [
    {
     "data": {
      "text/plain": [
       "['/root/cs349f/implementation1',\n",
       " '/root/.pyenv/versions/3.7.7/lib/python37.zip',\n",
       " '/root/.pyenv/versions/3.7.7/lib/python3.7',\n",
       " '/root/.pyenv/versions/3.7.7/lib/python3.7/lib-dynload',\n",
       " '',\n",
       " '/home/steam1994/.local/lib/python3.7/site-packages',\n",
       " '/root/.pyenv/versions/3.7.7/lib/python3.7/site-packages',\n",
       " '/home/steam1994/.local/lib/python3.7/site-packages/IPython/extensions',\n",
       " '/home/steam1994/.ipython',\n",
       " '/usr/lib/python37.zip',\n",
       " '/usr/lib/python3.7',\n",
       " '/usr/lib/python3.7/lib-dynload',\n",
       " '/usr/local/lib/python3.7/dist-packages',\n",
       " '/usr/lib/python3/dist-packages',\n",
       " '/root/CloudExchange',\n",
       " '/root/']"
      ]
     },
     "execution_count": 2,
     "metadata": {},
     "output_type": "execute_result"
    }
   ],
   "source": [
    "sys.path"
   ]
  },
  {
   "cell_type": "code",
   "execution_count": 20,
   "metadata": {},
   "outputs": [],
   "source": [
    "# Import packages.\n",
    "import datetime\n",
    "import json\n",
    "import os\n",
    "import sys\n",
    "import time\n",
    "\n",
    "import pandas as pd\n",
    "import numpy as np\n",
    "import redis\n",
    "from pandas.core.common import SettingWithCopyWarning\n",
    "\n",
    "import warnings\n",
    "warnings.simplefilter(action=\"ignore\", category=SettingWithCopyWarning)\n",
    "\n",
    "# CloudEx imports.\n",
    "import cloud_ex\n",
    "\n",
    "# Import AlgorithmicTrader helper class.\n",
    "from algorithmic_trader_shay import AlgorithmicTrader\n",
    "from algorithmic_trader_shay import summarize_historical_trades_df\n",
    "\n",
    "# Start Redis and its Python API.\n",
    "os.system(\"redis-server --daemonize yes\")\n",
    "time.sleep(1)\n",
    "\n",
    "# Get CloudEX and VM-specific config. \n",
    "# NOTE: gateway_ip will be null when the exchange is not online \n",
    "def get_vm_config():\n",
    "    with open(\"/root/vm_config.json\", \"r\") as read_file:\n",
    "        config = json.load(read_file)\n",
    "    return config\n",
    "\n",
    "config = get_vm_config()\n",
    "\n",
    "\n",
    "# utilities  \n",
    "\n",
    "ORDER_FIELDS_LIST = [\n",
    "    'Symbol', 'OrderID', 'CancelID', 'ClientID', 'OrderType', 'OrderAction',\n",
    "    'SubmitTimestamp', 'GatewayTimestamp', 'EnqueueTimestamp',\n",
    "    'DequeueTimestamp', 'OrderSerialNum', 'LimitPrice', 'ResultType','NumShares'\n",
    "]\n",
    "\n",
    "TRADE_FIELDS_LIST = [\n",
    "    \"Symbol\", \"BuyerSerialNum\", \"SellerSerialNum\", \"BuyerOrderID\",\n",
    "    \"SellerOrderID\", \"BuyerClientID\", \"SellerClientID\", \"ExecPrice\",\n",
    "    \"CashTraded\", \"SharesTraded\", \"CreationTimestamp\", \"ReleaseTimestamp\",\n",
    "    \"TradeSerialNum\"\n",
    "]\n",
    "\n",
    "'''\n",
    "Takes in a cloud_ex.VectorOrder with serialized orders and returns a DataFrame\n",
    "'''\n",
    "def OrderDF(order_vec):\n",
    "    if not len(order_vec):\n",
    "        return pd.DataFrame(columns=ORDER_FIELDS_LIST)\n",
    "    df = pd.DataFrame(order_vec).applymap(lambda x:x.SerializeOrder())[0].str.split('|', expand=True)\n",
    "    df.columns = ORDER_FIELDS_LIST\n",
    "    for label in ['SubmitTimestamp', 'GatewayTimestamp', 'EnqueueTimestamp',\n",
    "                  'DequeueTimestamp', 'OrderSerialNum', 'LimitPrice','NumShares']:\n",
    "        df.loc[:, label] = pd.to_numeric(df[label], errors='coerce')\n",
    "    return df\n",
    "\n",
    "'''\n",
    "Takes in a cloud_ex.VectorOrder with serialized trades and returns a DataFrame\n",
    "'''\n",
    "def TradeDF(trade_vec):\n",
    "    if not len(trade_vec):\n",
    "        return pd.DataFrame(columns=TRADE_FIELDS_LIST)\n",
    "    df = pd.DataFrame(trade_vec).applymap(lambda x:x.SerializeTrade())[0].str.split('|', expand=True)\n",
    "    df.columns = TRADE_FIELDS_LIST\n",
    "    for label in [\"ExecPrice\", \"CashTraded\", \"SharesTraded\",\n",
    "                  \"CreationTimestamp\", \"ReleaseTimestamp\", \"TradeSerialNum\"]:\n",
    "        df.loc[:, label] = pd.to_numeric(df[label], errors='coerce')\n",
    "    return df\n",
    "\n",
    "'''\n",
    "Takes in a cloud_ex.MapStringOrder mapping Order ID strings to outstanding the coorresponding orders, \n",
    "and returns a DataFrame\n",
    "'''\n",
    "def OutstandingOrderDF(outstanding_orders):\n",
    "    if not len(outstanding_orders):\n",
    "        return pd.DataFrame(columns=ORDER_FIELDS_LIST)\n",
    "    df = (pd.DataFrame(outstanding_orders.items())[1]).apply(lambda x:x.SerializeOrder()).str.split('|', expand=True)\n",
    "    df.columns = ORDER_FIELDS_LIST\n",
    "    for label in ['SubmitTimestamp', 'GatewayTimestamp', 'EnqueueTimestamp',\n",
    "                  'DequeueTimestamp', 'OrderSerialNum', 'LimitPrice','NumShares']:\n",
    "        df.loc[:, label] = pd.to_numeric(df[label], errors='coerce')\n",
    "    return df "
   ]
  },
  {
   "cell_type": "code",
   "execution_count": 4,
   "metadata": {},
   "outputs": [
    {
     "data": {
      "text/plain": [
       "{'gateway_ip': None,\n",
       " 'client_id': 'C15',\n",
       " 'client_token': 'dyjpqwzyvminsvjpxtyasxdnzpnqkuux',\n",
       " 'project_id': 'jinkun-pro1',\n",
       " 'bigtable_id': 'test-bt',\n",
       " 'table_name': 'record-tb'}"
      ]
     },
     "execution_count": 4,
     "metadata": {},
     "output_type": "execute_result"
    }
   ],
   "source": [
    "config"
   ]
  },
  {
   "cell_type": "markdown",
   "metadata": {},
   "source": [
    "#### Custom Imports"
   ]
  },
  {
   "cell_type": "code",
   "execution_count": 5,
   "metadata": {},
   "outputs": [],
   "source": [
    "import importlib \n",
    "import sys \n",
    "#importlib.reload(sys.modules['mean_reversion_shay'])"
   ]
  },
  {
   "cell_type": "code",
   "execution_count": 6,
   "metadata": {},
   "outputs": [],
   "source": [
    "import strategies_shay   \n",
    "import threading\n",
    "import utilities as u \n",
    "default_symbols = ['AA', 'AB', 'AC', 'AD', 'AE', 'AF', 'AG', 'AH', 'AI', 'AJ', 'AK', 'AL', 'AM', 'AN', 'AO', 'AP', 'AQ', 'AR', 'AS', 'AT', 'AU', 'AV', 'AW', 'AX', 'AY', 'AZ', 'BA', 'BB', 'BC', 'BD', 'BE', 'BF', 'BG', 'BH', 'BI', 'BJ', 'BK', 'BL', 'BM', 'BN', 'BO', 'BP', 'BQ', 'BR', 'BS', 'BT', 'BU', 'BV', 'BW', 'BX', 'BY', 'BZ', 'CA', 'CB', 'CC', 'CD', 'CE', 'CF', 'CG', 'CH', 'CI', 'CJ', 'CK', 'CL', 'CM', 'CN', 'CO', 'CP', 'CQ', 'CR', 'CS', 'CT', 'CU', 'CV', 'CW', 'CX', 'CY', 'CZ', 'DA', 'DB', 'DC', 'DD', 'DE', 'DF', 'DG', 'DH', 'DI', 'DJ', 'DK', 'DL', 'DM', 'DN', 'DO', 'DP', 'DQ', 'DR', 'DS', 'DT', 'DU', 'DV']\n",
    "default_top_symbols = ['CQ', 'BV', 'BP', 'BY', 'CR', 'BL', 'BO', 'CX', 'DE', 'BF']"
   ]
  },
  {
   "cell_type": "code",
   "execution_count": 7,
   "metadata": {},
   "outputs": [],
   "source": [
    "trader = None"
   ]
  },
  {
   "cell_type": "markdown",
   "metadata": {},
   "source": [
    "#### Get the trader object"
   ]
  },
  {
   "cell_type": "code",
   "execution_count": 8,
   "metadata": {},
   "outputs": [],
   "source": [
    "def getTrader() : \n",
    "    global trader\n",
    "    if trader : \n",
    "        u.debug(\"Returning saved trader\")\n",
    "        return trader \n",
    "\n",
    "    # Get relevant fields from VM-specific config. Token is yours only, so don't make it public.\n",
    "    gateway_ip = config[\"gateway_ip\"]\n",
    "    client_id = config[\"client_id\"]\n",
    "    client_token = config[\"client_token\"]\n",
    "\n",
    "    # Clear any existing data locally.\n",
    "    redis_api = redis.Redis()\n",
    "    redis_api.flushall();\n",
    "\n",
    "    # Create CloudEx base trader object.\n",
    "    trader = cloud_ex.Trader(gateway_ip, client_id, client_token)\n",
    "    return trader \n",
    "\n",
    "def getSymbols() : \n",
    "    trader = getTrader() \n",
    "    return trader.GetSymbols()\n",
    "\n",
    "\n",
    "def getPortfolio(): \n",
    "    portfolio_mat = cloud_ex.MapStringInt()\n",
    "    return trader.GetPortfolioMatrix(portfolio_mat)\n",
    "    "
   ]
  },
  {
   "cell_type": "code",
   "execution_count": null,
   "metadata": {
    "scrolled": true
   },
   "outputs": [],
   "source": [
    "T = getTrader()"
   ]
  },
  {
   "cell_type": "code",
   "execution_count": null,
   "metadata": {},
   "outputs": [],
   "source": [
    "config['gateway_ip']"
   ]
  },
  {
   "cell_type": "markdown",
   "metadata": {},
   "source": [
    "#### Main Todos\n",
    "\n"
   ]
  },
  {
   "cell_type": "markdown",
   "metadata": {},
   "source": [
    "#### TRADING PARAMETERS"
   ]
  },
  {
   "cell_type": "code",
   "execution_count": 9,
   "metadata": {},
   "outputs": [],
   "source": [
    "GLOBALS = { \n",
    "    'NUM_SHARES' :  1 , \n",
    "    'BIN_INTERVAL_MS' : 500,  #interval to bin the data with \n",
    "    'WAIT_INTERVAL_MS' : 500, \n",
    "    'BACKTEST_LOOKBACK_PERIOD_SECONDS' : 60*5  , #amount of historical data to backtest on \n",
    "    'MAX_NUM_ORDERS' : 60*5*2 , #how long the algo will trade for, in # of bins \n",
    "} "
   ]
  },
  {
   "cell_type": "markdown",
   "metadata": {},
   "source": [
    "### Selecting symbols to trade on based on aggregate volume over last n seconds  \n",
    "\n",
    "We need to figure out which symbols to trade on prior to the initiation of trading. It seems natural to rank them by some metric and then take the top N of them, for example volume "
   ]
  },
  {
   "cell_type": "code",
   "execution_count": 10,
   "metadata": {},
   "outputs": [],
   "source": [
    "def aggregate_volume(symbol, seconds_in_past) : \n",
    "    \"\"\"\n",
    "    Gets the most recent 'seconds_in_past' historical data for the symbol and compute the total \n",
    "    'CashTraded' \n",
    "    \"\"\"\n",
    "    u.debug(\"Getting aggregate volume for {}\".format(symbol))\n",
    "    end_time_ms = int(time.time()*1e3)\n",
    "    start_time_ms = end_time_ms - int(seconds_in_past*1e3)\n",
    "    symbol_trades_vec = cloud_ex.VectorTrade()  \n",
    "    cloud_ex.MarketDataAPI.PullTrades(config['project_id'], config['bigtable_id'], \n",
    "                                          config['table_name'], symbol, start_time_ms, \n",
    "                                          end_time_ms, symbol_trades_vec)\n",
    "    sym_df = TradeDF(symbol_trades_vec)\n",
    "    return np.sum(sym_df['CashTraded'])    "
   ]
  },
  {
   "cell_type": "code",
   "execution_count": 11,
   "metadata": {},
   "outputs": [],
   "source": [
    "def rank_symbols_by_volume(symbols , seconds_in_past) : \n",
    "    data = [ [symbol, aggregate_volume(symbol,seconds_in_past)  ] for  symbol in symbols ] \n",
    "    data.sort(key=lambda x:  x[1] , reverse=True )\n",
    "    return data"
   ]
  },
  {
   "cell_type": "code",
   "execution_count": 12,
   "metadata": {},
   "outputs": [],
   "source": [
    "def get_top_n_symbols_by_volume(symbols,seconds_in_past, n )  : \n",
    "    ranked = rank_symbols_by_volume(symbols,seconds_in_past) \n",
    "    \n",
    "    syms = [ x[0] for x in ranked[0:n]] \n",
    "    return (syms , ranked)  "
   ]
  },
  {
   "cell_type": "code",
   "execution_count": null,
   "metadata": {
    "jupyter": {
     "outputs_hidden": true
    },
    "scrolled": true
   },
   "outputs": [],
   "source": [
    "top_symbols, symbol_ranks = get_top_n_symbols_by_volume(default_symbols, 60*5, 10)"
   ]
  },
  {
   "cell_type": "code",
   "execution_count": null,
   "metadata": {},
   "outputs": [],
   "source": [
    "top_symbols"
   ]
  },
  {
   "cell_type": "code",
   "execution_count": null,
   "metadata": {
    "jupyter": {
     "outputs_hidden": true
    },
    "scrolled": true
   },
   "outputs": [],
   "source": [
    "symbol_ranks"
   ]
  },
  {
   "cell_type": "markdown",
   "metadata": {},
   "source": [
    "### QUERY ORDER HISTORY"
   ]
  },
  {
   "cell_type": "code",
   "execution_count": 13,
   "metadata": {},
   "outputs": [],
   "source": [
    "### Order Monitoring \n",
    "def outstanding_orders() : \n",
    "    outstanding_orders = cloud_ex.MapStringOrder()\n",
    "    trader.GetOutstandingOrders(outstanding_orders)\n",
    "    u.debug(\"You have {} outstanding orders.\".format(len(outstanding_orders)))\n",
    "    # Transform outstanding orders into a DataFrame\n",
    "    outstanding_orders = OutstandingOrderDF(outstanding_orders)\n",
    "    return outstanding_orders\n",
    "    \n",
    "def historical_orders() : \n",
    "    my_historical_orders = cloud_ex.VectorOrder()\n",
    "    trader.GetAllHistoricalOrders(my_historical_orders)\n",
    "    u.debug(\"You have submitted a total of {} order(s).\".format(len(my_historical_orders))) \n",
    "    my_historical_orders_df = OrderDF(my_historical_orders)\n",
    "    return my_historical_orders_df\n",
    "\n",
    "def historical_trades() : \n",
    "    my_historical_trades = cloud_ex.VectorTrade()\n",
    "    trader.GetAllHistoricalTrades(my_historical_trades)\n",
    "    u.debug(\"You have made a total of {} trade(s).\".format(len(my_historical_trades)))\n",
    "    my_historical_trades_df = TradeDF(my_historical_trades)\n",
    "    return my_historical_trades_df"
   ]
  },
  {
   "cell_type": "code",
   "execution_count": null,
   "metadata": {},
   "outputs": [],
   "source": [
    "outstanding_orders()"
   ]
  },
  {
   "cell_type": "markdown",
   "metadata": {},
   "source": [
    "# 1. Backtesting"
   ]
  },
  {
   "cell_type": "markdown",
   "metadata": {},
   "source": [
    "Let's see how we can backtest our trading algorithms to get them ready for live trading. In the following cells we will download historical data and evaluate how well a mean reversion trader would have done."
   ]
  },
  {
   "cell_type": "markdown",
   "metadata": {},
   "source": [
    "## 1.1 Get our bank of strategies"
   ]
  },
  {
   "cell_type": "markdown",
   "metadata": {},
   "source": [
    "### Note on strategy and strategy parameters terminology\n",
    "\n",
    "A strategy is implemented with specific parameters. <b>The pair of the strategy and parameters will be called an \"algo\"</b>\n",
    "The backtest logic will take a dictionary of string keys (identifiers) to a tuple of (strategy , params). This dictionary will be called \"algo_bank\" \n",
    "\n",
    "For example => "
   ]
  },
  {
   "cell_type": "code",
   "execution_count": 14,
   "metadata": {},
   "outputs": [],
   "source": [
    "# NOte a fully specified strategy is called an \"algo\" and consists of a tuple of (strategy, kwargs) where kwargs provide\n",
    "# the parameters for the strategy \n",
    "\n",
    "def mean_reversion_algo(ma,t) : \n",
    "    # Helper function for making the \"algo\" data structure\n",
    "    # NOTE this returns a TUPLE of (strategy , kwargs)\n",
    "    return (strategies_shay.strategies['mean_reversion'].strategy, { 'ma' : ma, 'threshold' : t} ) \n",
    "\n",
    "def momentum_algo(p1,p2,t) : \n",
    "    # NOTE this returns a TUPLE of (strategy , kwargs)\n",
    "    return (strategies_shay.strategies['momentum'].strategy, { 'p1' : p1, 'p2' : p2, 'threshold' : t} ) \n",
    "\n",
    "def random_buy_algo(p) : \n",
    "    return (strategies_shay.strategies['random_buy'].strategy , { 'p' : p} ) \n",
    "\n",
    "def random_sell_algo(p) : \n",
    "    return (strategies_shay.strategies['random_sell'].strategy , { 'p' : p} ) \n",
    "\n",
    "\n",
    "# Define an \"Algo Bank\", which holds the (strategy, kwargs) pair, indexed by a unique identifier \n",
    "algo_bank = { \n",
    "    'mr_10_3' : mean_reversion_algo(10,3),\n",
    "    'mr_10_5' : mean_reversion_algo(10,5), \n",
    "    'mr_10_10' : mean_reversion_algo(10,10),\n",
    "    'mo_5_5_1' : momentum_algo(0.5,0.5,1) , \n",
    "    'mo_5_5_3' : momentum_algo(0.5,0.5,3) , \n",
    "    'mo_8_2_1' : momentum_algo(0.8,0.2,1) , \n",
    "    'mo_8_2_3' : momentum_algo(0.8,0.2,3) , \n",
    "    'rb_10'    : random_buy_algo(0.1) , \n",
    "    'rb_50'    : random_buy_algo(0.5) , \n",
    "    'rs_10'    : random_sell_algo(0.1) , \n",
    "    'rs_50'    : random_sell_algo(0.5) , \n",
    " \n",
    "}\n"
   ]
  },
  {
   "cell_type": "code",
   "execution_count": 15,
   "metadata": {},
   "outputs": [],
   "source": [
    "def backtest_strategy_with_symbol(data,strategy, symbol, kwargs = {} ) :  \n",
    "    \"\"\"\n",
    "    Backtests a given strategy, kwarg pair on a diven symbol using the last seconds_in_past seconds of historical data \n",
    "    \"\"\"\n",
    "   \n",
    "    \n",
    "    #bin_interval_ms = 500\n",
    "    #summarize_historical_trades_df(symbol_historical_trades_df, bin_interval_ms)\n",
    "    \n",
    "    # Initial capital and shares we will use for the backtest. \n",
    "    init_capital = 100000\n",
    "    init_shares = 1000\n",
    "\n",
    "    # Set up trading algorithm parameters.\n",
    "    num_shares = 10\n",
    "\n",
    "    # Set up the strategy \n",
    "    trader = None\n",
    "    algo = strategy(trader, [symbol],GLOBALS['BIN_INTERVAL_MS'])  # instantiates the strategy which is subclass of algorithmic_trader\n",
    "\n",
    "    # Run the backtest.\n",
    "    roi, action_list = algo.backtest(data,\n",
    "                 num_shares, \n",
    "                 init_capital, \n",
    "                 init_shares, \n",
    "                 **kwargs)\n",
    "\n",
    "    u.debug(\"Algo ROI={}%\".format(roi))\n",
    "    return roi,action_list\n",
    "    \n",
    "    "
   ]
  },
  {
   "cell_type": "code",
   "execution_count": 16,
   "metadata": {},
   "outputs": [],
   "source": [
    "def backtest_algobank_on_symbols(algobank, symbols) : \n",
    "    \"\"\"\n",
    "    Backtests all algos ( strategy, kwarg pairs) on each symbol in symbols, over the last seconds_in_past seconds \n",
    "    of data \n",
    "    \n",
    "    Returns the results in a sorted list with algos ranked by roi \n",
    "    \"\"\"\n",
    "    results = [] \n",
    "    \n",
    "    end_time_ms = int(time.time()*1e3)\n",
    "    start_time_ms = end_time_ms - int(GLOBALS['BACKTEST_LOOKBACK_PERIOD_SECONDS']*1e3)\n",
    "    symbol_trades_vec = cloud_ex.VectorTrade()  \n",
    "    cloud_ex.MarketDataAPI.PullTrades(config['project_id'], config['bigtable_id'], \n",
    "                                          config['table_name'], symbol, start_time_ms, \n",
    "                                          end_time_ms, symbol_trades_vec)\n",
    "    u.debug(\"There are a total of {} trades for {} symbol\".format(len(symbol_trades_vec), symbol))\n",
    "    symbol_historical_trades_df = TradeDF(symbol_trades_vec)\n",
    "    symbol_historical_trades_df = symbol_historical_trades_df.sort_values(by=\"CreationTimestamp\")\n",
    "    \n",
    "    \n",
    "    for symbol in symbols : \n",
    "        u.debug(\"\\n\\nBacktesting symbol: {}\".format(symbol) ) \n",
    "        for (algoname,algo) in algobank.items() : \n",
    "            strategy, kwargs = algo\n",
    "            u.debug(\"algo={}\".format(algoname))\n",
    "            roi,action_list = backtest_strategy_with_symbol(symbol_historical_trades_df,strategy, symbol, kwargs)\n",
    "            results.append( [  roi, symbol, algoname,action_list ])\n",
    "            u.debug(\"Made {} trades with roi: {}\".format(len(action_list), roi))\n",
    "    \n",
    "    results.sort(key=lambda x : x[0], reverse=True) \n",
    "    return results         \n",
    "\n",
    "            "
   ]
  },
  {
   "cell_type": "code",
   "execution_count": null,
   "metadata": {
    "jupyter": {
     "outputs_hidden": true
    }
   },
   "outputs": [],
   "source": [
    "backtest_results = backtest_algobank_on_symbols(algo_bank, default_top_symbols[0:5])"
   ]
  },
  {
   "cell_type": "code",
   "execution_count": null,
   "metadata": {},
   "outputs": [],
   "source": [
    "backtest_results"
   ]
  },
  {
   "cell_type": "markdown",
   "metadata": {},
   "source": [
    "# Deploying the trading threads \n",
    "\n",
    "Worked more on this and completed it -- see <b>trade_algorithmically</b> function below. Nothing is tested yet so will expect bugs. But for now each thread will log its own submitted order ids to a logfile named by algo+timestamp. "
   ]
  },
  {
   "cell_type": "code",
   "execution_count": 17,
   "metadata": {},
   "outputs": [],
   "source": [
    "test_ranking = [[11, 'CQ', 'mo_8_2_3', []],\n",
    "     [10,'CQ', 'mo_8_2_1', [] ] , \n",
    "     [8, 'CQ', 'mo_5_5_1', [] ] , \n",
    "     [6,'CQ', 'mr_10_10', []], \n",
    "     [6, 'CQ', 'mr_10_5', []],\n",
    "     [4, 'CQ', 'mr_10_3', []]] \n"
   ]
  },
  {
   "cell_type": "code",
   "execution_count": 32,
   "metadata": {},
   "outputs": [],
   "source": [
    "def run_and_evaluate_algorithm(**kwargs) : \n",
    "    \"\"\"\n",
    "    Intended as target of new thread() \n",
    "    1. Launches the algo on the symbol and starts trading \n",
    "    2. should calculate ROI of the algo \n",
    "    4. Writes ROI and submitted order ids to disk \n",
    "    \"\"\"\n",
    "    name     = kwargs['name']\n",
    "    strategy = kwargs['strategy']  \n",
    "    strategy_parameters = kwargs['strategy_parameters'] \n",
    "    num_shares = kwargs['num_shares'] \n",
    "    max_num_orders = kwargs['max_num_orders'] \n",
    "    symbol   = kwargs['symbol']\n",
    "    trader   = kwargs['trader'] #reference to the 1 trader instance connnected to cloudX\n",
    "    \n",
    "    # create the AlgorithmicTrader Object \n",
    "    algo = strategy(trader, [symbol], bin_interval_ms=GLOBALS['BIN_INTERVAL_MS']) \n",
    "    \n",
    "    # get and set id for this trader  (for logging purposes)\n",
    "    trader_id = name + \"_\" + str(time.time()).split(\".\")[0]\n",
    "    #print(trader_id) \n",
    "    #print(type(algo))\n",
    "    #algo.super().set_id(trader_id)  #added this method \n",
    "    \n",
    "    # Calculate portfolio state pre-trading \n",
    "    pass \n",
    "\n",
    "    # start and finish trading\n",
    "    order_ids = algo.trade(symbol,num_shares,max_num_orders,GLOBALS['WAIT_INTERVAL_MS'] ,**strategy_parameters)\n",
    "    # can SIMULATE if we want \n",
    "    \n",
    "    # calculate portfolio state post-trading\n",
    "    pass \n",
    "\n",
    "    #time.sleep(10)\n",
    "    # write the order ids to a log file \n",
    "    u.logfile(trader_id + \"_order_ids\", json.dumps(order_ids) )\n",
    "    # write the ROI information a log file \n",
    "    pass     \n",
    "\n",
    "def run_algorithm_in_thread(kwargs) : \n",
    "    # create the thread \n",
    "    t = threading.Thread(target=run_and_evaluate_algorithm,\n",
    "                         kwargs=kwargs)\n",
    "    # start the thread \n",
    "    t.start() \n",
    "    # return it \n",
    "    return t \n",
    "\n",
    "def deploy_top_N_algorithms(trader,ranked_algos, N,  num_shares, max_num_orders) : \n",
    "    sublist = ranked_algos[0:N] \n",
    "    ts = []\n",
    "    for to_deploy in sublist : \n",
    "        roi, symbol, algoname , _  =  to_deploy \n",
    "        strategy, strategy_parameters = algo_bank[algoname]  \n",
    "        \n",
    "        arguments = { \n",
    "            'name' : algoname, \n",
    "            'strategy' : strategy, \n",
    "            'strategy_parameters' : strategy_parameters, \n",
    "            'num_shares' : num_shares, \n",
    "            'max_num_orders' : max_num_orders,  \n",
    "            'symbol' : symbol , \n",
    "            'trader' : trader ,\n",
    "        }\n",
    "        ts.append(run_algorithm_in_thread(arguments))\n",
    "        \n",
    "    return ts \n",
    "\n",
    "\n",
    "def trade_algorithmically(trader,algobank,symbols,N=5) : \n",
    "    while True : \n",
    "        ranked = backtest_algobank_on_symbols(algobank,symbols)\n",
    "        algo_threads = deploy_top_N_algorithms(trader,ranked,N, GLOBALS['NUM_SHARES'] , GLOBALS['MAX_NUM_ORDERS']) \n",
    "        for t in algo_threads : \n",
    "            t.join() "
   ]
  },
  {
   "cell_type": "code",
   "execution_count": 31,
   "metadata": {},
   "outputs": [
    {
     "name": "stdout",
     "output_type": "stream",
     "text": [
      "Running in offline mode. Could not set active symbols.\n",
      "Running in offline mode. Could not set active symbols.\n",
      "Running in offline mode. Could not set active symbols.\n",
      "Running in offline mode. Could not set active symbols.\n",
      "Running in offline mode. Could not set active symbols.\n"
     ]
    }
   ],
   "source": [
    "ts = deploy_top_N_algorithms(None, test_ranking, 5, GLOBALS['NUM_SHARES'], GLOBALS['MAX_NUM_ORDERS'])\n",
    "for t in ts : \n",
    "    t.join()"
   ]
  },
  {
   "cell_type": "code",
   "execution_count": 22,
   "metadata": {},
   "outputs": [
    {
     "data": {
      "text/plain": [
       "<module 'algorithmic_trader_shay' from '/root/cs349f/implementation1/algorithmic_trader_shay.py'>"
      ]
     },
     "execution_count": 22,
     "metadata": {},
     "output_type": "execute_result"
    }
   ],
   "source": [
    "import importlib \n",
    "importlib.reload(sys.modules['algorithmic_trader_shay'])"
   ]
  },
  {
   "cell_type": "code",
   "execution_count": null,
   "metadata": {},
   "outputs": [],
   "source": []
  }
 ],
 "metadata": {
  "kernelspec": {
   "display_name": "Python 3",
   "language": "python",
   "name": "python3"
  },
  "language_info": {
   "codemirror_mode": {
    "name": "ipython",
    "version": 3
   },
   "file_extension": ".py",
   "mimetype": "text/x-python",
   "name": "python",
   "nbconvert_exporter": "python",
   "pygments_lexer": "ipython3",
   "version": "3.7.7"
  }
 },
 "nbformat": 4,
 "nbformat_minor": 4
}
