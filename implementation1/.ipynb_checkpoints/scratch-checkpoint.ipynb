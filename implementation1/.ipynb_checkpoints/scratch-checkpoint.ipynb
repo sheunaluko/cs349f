{
 "cells": [
  {
   "cell_type": "code",
   "execution_count": 2,
   "metadata": {},
   "outputs": [],
   "source": [
    "import numpy as np"
   ]
  },
  {
   "cell_type": "code",
   "execution_count": 7,
   "metadata": {},
   "outputs": [],
   "source": [
    "a = [ np.random.rand() for x in range(200) ] \n"
   ]
  },
  {
   "cell_type": "code",
   "execution_count": 10,
   "metadata": {},
   "outputs": [
    {
     "data": {
      "text/plain": [
       "0.003913780350509488"
      ]
     },
     "execution_count": 10,
     "metadata": {},
     "output_type": "execute_result"
    }
   ],
   "source": [
    "import os \n",
    "import time \n",
    "import threading\n",
    "import utilities as u \n",
    "\n",
    "def log_target(msg=\"default\") :\n",
    "    while True  : \n",
    "        print(msg)\n",
    "        u.logfile(\"threadlog\",\"!\")\n",
    "        if os.environ['SHUTDOWN_THREADS'] == \"TRUE\": \n",
    "            return \n",
    "        time.sleep(1)\n",
    "    \n",
    "def log_thread(blah) : \n",
    "    return threading.Thread(target=log_target,kwargs={'msg' : blah})\n",
    "\n",
    "\n",
    "\n",
    "\n",
    "def toggle_threads() : \n",
    "    current = os.environ['SHUTDOWN_THREADS'] \n",
    "    os.environ['SHUTDOWN_THREADS'] = \"FALSE\" if (current == \"TRUE\") else \"TRUE\"\n",
    "    print(os.environ['SHUTDOWN_THREADS'])\n",
    "\n",
    "lt = log_thread(\"hehe\")\n",
    "lt.start()\n",
    "\n",
    "toggle_threads()\n",
    "\n",
    "ts = threading.enumerate()"
   ]
  }
 ],
 "metadata": {
  "kernelspec": {
   "display_name": "Python 3",
   "language": "python",
   "name": "python3"
  },
  "language_info": {
   "codemirror_mode": {
    "name": "ipython",
    "version": 3
   },
   "file_extension": ".py",
   "mimetype": "text/x-python",
   "name": "python",
   "nbconvert_exporter": "python",
   "pygments_lexer": "ipython3",
   "version": "3.8.1"
  }
 },
 "nbformat": 4,
 "nbformat_minor": 4
}
