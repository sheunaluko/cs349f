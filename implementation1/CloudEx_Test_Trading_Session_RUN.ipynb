{
 "cells": [
  {
   "cell_type": "markdown",
   "metadata": {},
   "source": [
    "# CloudEx Test Trading Session\n",
    "\n",
    "### CloudEx Offline Session 5-7pm (PST)\n",
    "* [0. Setup/Imports](#0.-Setup/Imports)\n",
    "\t* [Setup Libraries:](#Setup-Libraries:)\n",
    "\t* [Add Utility Functions](#Add-Utility-Functions)\n",
    "* [1. Backtesting](#1.-Backtesting)\n",
    "\t* [1.1 Create Mean Reversion Trading Class](#1.1-Create-Mean-Reversion-Trading-Class)\n",
    "\t* [1.2 Get Symbol Historical Data](#1.2-Get-Symbol-Historical-Data)\n",
    "\t* [1.3 Backtest Mean Reversion Trader](#1.3-Backtest-Mean-Reversion-Trader)\n",
    "\n",
    "### CloudEx Live Session 7-9pm (PST)\n",
    "* [2. Connect to Live Exchange](#2.-Connect-to-Live-Exchange)\n",
    "\t* [2.1 Create Trader Object](#2.1-Create-Trader-Object)\n",
    "\t* [2.2 Get My Outstanding and Historical Orders](#2.2-Get-My-Outstanding-and-Historical-Orders)\n",
    "\t* [2.3 Get My Historical Trades](#2.3-Get-My-Historical-Trades)\n",
    "\t* [2.4 Get My Portfolio Matrix](#2.4-Get-My-Portfolio-Matrix)\n",
    "* [3. Run Trading Algorithm in Live Environment](#3.-Run-Trading-Algorithm-in-Live-Environment)\n",
    "\t* [3.1 Create and Start Mean Reversion Trader](#3.1-Create-and-Start-Mean-Reversion-Trader)\n"
   ]
  },
  {
   "cell_type": "markdown",
   "metadata": {},
   "source": [
    "# 0. Setup/Imports"
   ]
  },
  {
   "cell_type": "markdown",
   "metadata": {},
   "source": [
    "For this section, execute the following cells. We will import the required packages and add some utility functions for handling CloudEx data structures."
   ]
  },
  {
   "cell_type": "markdown",
   "metadata": {},
   "source": [
    "## Setup Libraries:"
   ]
  },
  {
   "cell_type": "code",
   "execution_count": 1,
   "metadata": {},
   "outputs": [],
   "source": [
    "# Import packages.\n",
    "import datetime\n",
    "import json\n",
    "import os\n",
    "import sys\n",
    "import time\n",
    "\n",
    "import pandas as pd\n",
    "import numpy as np\n",
    "import redis\n",
    "from pandas.core.common import SettingWithCopyWarning\n",
    "\n",
    "import warnings\n",
    "warnings.simplefilter(action=\"ignore\", category=SettingWithCopyWarning)\n",
    "\n",
    "# CloudEx imports.\n",
    "import cloud_ex\n",
    "\n",
    "# Import AlgorithmicTrader helper class.\n",
    "from algorithmic_trader import AlgorithmicTrader\n",
    "from algorithmic_trader import summarize_historical_trades_df\n",
    "\n",
    "# Start Redis and its Python API.\n",
    "os.system(\"redis-server --daemonize yes\")\n",
    "time.sleep(1)\n",
    "\n",
    "# Get CloudEX and VM-specific config. \n",
    "# NOTE: gateway_ip will be null when the exchange is not online \n",
    "def get_vm_config():\n",
    "    with open(\"vm_config.json\", \"r\") as read_file:\n",
    "        config = json.load(read_file)\n",
    "    return config\n",
    "\n",
    "config = get_vm_config()"
   ]
  },
  {
   "cell_type": "code",
   "execution_count": 2,
   "metadata": {},
   "outputs": [
    {
     "data": {
      "text/plain": [
       "{'gateway_ip': '10.128.15.220',\n",
       " 'client_id': 'C15',\n",
       " 'client_token': 'gaqxbfhabzvewlhdkowlimilhglzkhjx',\n",
       " 'project_id': 'jinkun-pro1',\n",
       " 'bigtable_id': 'test-bt',\n",
       " 'table_name': 'record-tb'}"
      ]
     },
     "execution_count": 2,
     "metadata": {},
     "output_type": "execute_result"
    }
   ],
   "source": [
    "config"
   ]
  },
  {
   "cell_type": "markdown",
   "metadata": {},
   "source": [
    "## Add Utility Functions"
   ]
  },
  {
   "cell_type": "code",
   "execution_count": 3,
   "metadata": {},
   "outputs": [],
   "source": [
    "ORDER_FIELDS_LIST = [\n",
    "    'Symbol', 'OrderID', 'CancelID', 'ClientID', 'OrderType', 'OrderAction',\n",
    "    'SubmitTimestamp', 'GatewayTimestamp', 'EnqueueTimestamp',\n",
    "    'DequeueTimestamp', 'OrderSerialNum', 'LimitPrice', 'ResultType','NumShares'\n",
    "]\n",
    "\n",
    "TRADE_FIELDS_LIST = [\n",
    "    \"Symbol\", \"BuyerSerialNum\", \"SellerSerialNum\", \"BuyerOrderID\",\n",
    "    \"SellerOrderID\", \"BuyerClientID\", \"SellerClientID\", \"ExecPrice\",\n",
    "    \"CashTraded\", \"SharesTraded\", \"CreationTimestamp\", \"ReleaseTimestamp\",\n",
    "    \"TradeSerialNum\"\n",
    "]\n",
    "\n",
    "'''\n",
    "Takes in a cloud_ex.VectorOrder with serialized orders and returns a DataFrame\n",
    "'''\n",
    "def OrderDF(order_vec):\n",
    "    if not len(order_vec):\n",
    "        return pd.DataFrame(columns=ORDER_FIELDS_LIST)\n",
    "    df = pd.DataFrame(order_vec).applymap(lambda x:x.SerializeOrder())[0].str.split('|', expand=True)\n",
    "    df.columns = ORDER_FIELDS_LIST\n",
    "    for label in ['SubmitTimestamp', 'GatewayTimestamp', 'EnqueueTimestamp',\n",
    "                  'DequeueTimestamp', 'OrderSerialNum', 'LimitPrice','NumShares']:\n",
    "        df.loc[:, label] = pd.to_numeric(df[label], errors='coerce')\n",
    "    return df\n",
    "\n",
    "'''\n",
    "Takes in a cloud_ex.VectorOrder with serialized trades and returns a DataFrame\n",
    "'''\n",
    "def TradeDF(trade_vec):\n",
    "    if not len(trade_vec):\n",
    "        return pd.DataFrame(columns=TRADE_FIELDS_LIST)\n",
    "    df = pd.DataFrame(trade_vec).applymap(lambda x:x.SerializeTrade())[0].str.split('|', expand=True)\n",
    "    df.columns = TRADE_FIELDS_LIST\n",
    "    for label in [\"ExecPrice\", \"CashTraded\", \"SharesTraded\",\n",
    "                  \"CreationTimestamp\", \"ReleaseTimestamp\", \"TradeSerialNum\"]:\n",
    "        df.loc[:, label] = pd.to_numeric(df[label], errors='coerce')\n",
    "    return df\n",
    "\n",
    "'''\n",
    "Takes in a cloud_ex.MapStringOrder mapping Order ID strings to outstanding the coorresponding orders, \n",
    "and returns a DataFrame\n",
    "'''\n",
    "def OutstandingOrderDF(outstanding_orders):\n",
    "    if not len(outstanding_orders):\n",
    "        return pd.DataFrame(columns=ORDER_FIELDS_LIST)\n",
    "    df = (pd.DataFrame(outstanding_orders.items())[1]).apply(lambda x:x.SerializeOrder()).str.split('|', expand=True)\n",
    "    df.columns = ORDER_FIELDS_LIST\n",
    "    for label in ['SubmitTimestamp', 'GatewayTimestamp', 'EnqueueTimestamp',\n",
    "                  'DequeueTimestamp', 'OrderSerialNum', 'LimitPrice','NumShares']:\n",
    "        df.loc[:, label] = pd.to_numeric(df[label], errors='coerce')\n",
    "    return df "
   ]
  },
  {
   "cell_type": "markdown",
   "metadata": {},
   "source": [
    "# 1. Backtesting"
   ]
  },
  {
   "cell_type": "markdown",
   "metadata": {},
   "source": [
    "Let's see how we can backtest our trading algorithms to get them ready for live trading. In the following cells we will download historical data and evaluate how well a mean reversion trader would have done."
   ]
  },
  {
   "cell_type": "markdown",
   "metadata": {},
   "source": [
    "## 1.1 Create Mean Reversion Trading Class"
   ]
  },
  {
   "cell_type": "code",
   "execution_count": 4,
   "metadata": {},
   "outputs": [],
   "source": [
    "class meanReversionTrader(AlgorithmicTrader):\n",
    "    def __init__(self, trader, symbol_list, bin_interval_ms=500):\n",
    "        \"\"\"\n",
    "        Mean Reversion Trader Class.\n",
    "\n",
    "        :param trader(cloud_ex.Trader): CloudEx's base Trader object.\n",
    "        :param symbol_list: List of ticker symbols (str) to fetch data for.\n",
    "        :param bin_interval_ms: Frequency with which to bin trading data in milliseconds (int).\n",
    "        \"\"\"\n",
    "        # Initialize AlgorithmicTrader.\n",
    "        AlgorithmicTrader.__init__(self, trader, symbol_list, bin_interval_ms=bin_interval_ms)\n",
    "\n",
    "    def algorithm(self, df, **kwargs):\n",
    "        \"\"\" \n",
    "        Calculate buy sell points for an equity.\n",
    "        A buy is triggered when the moving average is threshold% below the price.\n",
    "        A sell is triggered when the moving average is threshold% above the price.\n",
    "        For this implementation we evaluate the stock price at the close of each bin_interval_ms time interval.\n",
    "\n",
    "        :param df: Dataframes with prices for an equity (pd.DataFrame).\n",
    "        Mean reversion specific arguments:\n",
    "          :param ma: Number of bins to consider in the moving average (int).\n",
    "          :param threshold: Amount ma is below/above price (as a percentage) for which to buy/sell (float).\n",
    "\n",
    "        Returns: \n",
    "            An (action, price) pair.\n",
    "            \n",
    "            'action' is None when no action is determined to be taken. This happens either when we do not have enough\n",
    "            data to build a moving average estimate or if the price is within a small threshold above/below\n",
    "            the moving average. In this case, 'price' is also None.\n",
    "\n",
    "            'action' is 'Buy' when the price rises above the threshold defined for the moving average. \n",
    "                The buy price is set to the most recent closing price.\n",
    "                \n",
    "            'action' is 'Sell' when the price drops below the threshold defined for the moving average. \n",
    "                The sell price is set to the most recent closing price.\n",
    "        \"\"\"\n",
    "        # Unpack keyword arguments.\n",
    "        ma = kwargs['ma']\n",
    "        threshold = kwargs['threshold']\n",
    "        \n",
    "        # Handle case when data not available to build moving average.\n",
    "        if len(df) < ma:\n",
    "            return None, None\n",
    "        \n",
    "        # Select the last ma rows from our dataframe for processing.\n",
    "        df = df.iloc[-1*ma:]\n",
    "\n",
    "        df['MA'] = df['ClosePrice'].rolling(ma).mean()\n",
    "        row = df.iloc[-1]\n",
    "\n",
    "        # Check if moving average price is defined.\n",
    "        # This value will be undefined for the first `ma` steps.\n",
    "        if np.isnan(row['MA']):\n",
    "            return None, None\n",
    "\n",
    "        buy_cutoff = (1.0 - threshold / 100.0) * row['MA']\n",
    "        sell_cutoff = (1.0 + threshold / 100.0) * row['MA']\n",
    "        p_s = row['ClosePrice']\n",
    "        if p_s <= buy_cutoff:\n",
    "            return 'Buy', p_s\n",
    "        elif p_s >= sell_cutoff:\n",
    "            return 'Sell', p_s\n",
    "        else:\n",
    "            return None, None"
   ]
  },
  {
   "cell_type": "markdown",
   "metadata": {},
   "source": [
    "## 1.2 Get Symbol Historical Data"
   ]
  },
  {
   "cell_type": "code",
   "execution_count": 5,
   "metadata": {},
   "outputs": [
    {
     "name": "stdout",
     "output_type": "stream",
     "text": [
      "There are a total of 11499 trade(s) in the last day.\n"
     ]
    },
    {
     "data": {
      "text/html": [
       "<div>\n",
       "<style scoped>\n",
       "    .dataframe tbody tr th:only-of-type {\n",
       "        vertical-align: middle;\n",
       "    }\n",
       "\n",
       "    .dataframe tbody tr th {\n",
       "        vertical-align: top;\n",
       "    }\n",
       "\n",
       "    .dataframe thead th {\n",
       "        text-align: right;\n",
       "    }\n",
       "</style>\n",
       "<table border=\"1\" class=\"dataframe\">\n",
       "  <thead>\n",
       "    <tr style=\"text-align: right;\">\n",
       "      <th></th>\n",
       "      <th>Symbol</th>\n",
       "      <th>BuyerSerialNum</th>\n",
       "      <th>SellerSerialNum</th>\n",
       "      <th>BuyerOrderID</th>\n",
       "      <th>SellerOrderID</th>\n",
       "      <th>BuyerClientID</th>\n",
       "      <th>SellerClientID</th>\n",
       "      <th>ExecPrice</th>\n",
       "      <th>CashTraded</th>\n",
       "      <th>SharesTraded</th>\n",
       "      <th>CreationTimestamp</th>\n",
       "      <th>ReleaseTimestamp</th>\n",
       "      <th>TradeSerialNum</th>\n",
       "    </tr>\n",
       "  </thead>\n",
       "  <tbody>\n",
       "    <tr>\n",
       "      <th>0</th>\n",
       "      <td>AA</td>\n",
       "      <td>0</td>\n",
       "      <td>0</td>\n",
       "      <td>NULL</td>\n",
       "      <td>NULL</td>\n",
       "      <td>NULL</td>\n",
       "      <td>NULL</td>\n",
       "      <td>6</td>\n",
       "      <td>6</td>\n",
       "      <td>1</td>\n",
       "      <td>1603331001572611</td>\n",
       "      <td>1603331001572961</td>\n",
       "      <td>34</td>\n",
       "    </tr>\n",
       "    <tr>\n",
       "      <th>1</th>\n",
       "      <td>AA</td>\n",
       "      <td>0</td>\n",
       "      <td>0</td>\n",
       "      <td>NULL</td>\n",
       "      <td>NULL</td>\n",
       "      <td>NULL</td>\n",
       "      <td>NULL</td>\n",
       "      <td>6</td>\n",
       "      <td>6</td>\n",
       "      <td>1</td>\n",
       "      <td>1603331001584590</td>\n",
       "      <td>1603331001584940</td>\n",
       "      <td>36</td>\n",
       "    </tr>\n",
       "    <tr>\n",
       "      <th>2</th>\n",
       "      <td>AA</td>\n",
       "      <td>0</td>\n",
       "      <td>0</td>\n",
       "      <td>NULL</td>\n",
       "      <td>NULL</td>\n",
       "      <td>NULL</td>\n",
       "      <td>NULL</td>\n",
       "      <td>6</td>\n",
       "      <td>6</td>\n",
       "      <td>1</td>\n",
       "      <td>1603331002964052</td>\n",
       "      <td>1603331002964402</td>\n",
       "      <td>129</td>\n",
       "    </tr>\n",
       "    <tr>\n",
       "      <th>3</th>\n",
       "      <td>AA</td>\n",
       "      <td>0</td>\n",
       "      <td>0</td>\n",
       "      <td>NULL</td>\n",
       "      <td>NULL</td>\n",
       "      <td>NULL</td>\n",
       "      <td>NULL</td>\n",
       "      <td>6</td>\n",
       "      <td>6</td>\n",
       "      <td>1</td>\n",
       "      <td>1603331002965399</td>\n",
       "      <td>1603331002965749</td>\n",
       "      <td>130</td>\n",
       "    </tr>\n",
       "    <tr>\n",
       "      <th>4</th>\n",
       "      <td>AA</td>\n",
       "      <td>0</td>\n",
       "      <td>0</td>\n",
       "      <td>NULL</td>\n",
       "      <td>NULL</td>\n",
       "      <td>NULL</td>\n",
       "      <td>NULL</td>\n",
       "      <td>6</td>\n",
       "      <td>6</td>\n",
       "      <td>1</td>\n",
       "      <td>1603331004321147</td>\n",
       "      <td>1603331004321497</td>\n",
       "      <td>313</td>\n",
       "    </tr>\n",
       "    <tr>\n",
       "      <th>...</th>\n",
       "      <td>...</td>\n",
       "      <td>...</td>\n",
       "      <td>...</td>\n",
       "      <td>...</td>\n",
       "      <td>...</td>\n",
       "      <td>...</td>\n",
       "      <td>...</td>\n",
       "      <td>...</td>\n",
       "      <td>...</td>\n",
       "      <td>...</td>\n",
       "      <td>...</td>\n",
       "      <td>...</td>\n",
       "      <td>...</td>\n",
       "    </tr>\n",
       "    <tr>\n",
       "      <th>11494</th>\n",
       "      <td>AA</td>\n",
       "      <td>0</td>\n",
       "      <td>0</td>\n",
       "      <td>NULL</td>\n",
       "      <td>NULL</td>\n",
       "      <td>NULL</td>\n",
       "      <td>NULL</td>\n",
       "      <td>38</td>\n",
       "      <td>38</td>\n",
       "      <td>1</td>\n",
       "      <td>1603338056645464</td>\n",
       "      <td>1603338056645814</td>\n",
       "      <td>1124088</td>\n",
       "    </tr>\n",
       "    <tr>\n",
       "      <th>11495</th>\n",
       "      <td>AA</td>\n",
       "      <td>0</td>\n",
       "      <td>0</td>\n",
       "      <td>NULL</td>\n",
       "      <td>NULL</td>\n",
       "      <td>NULL</td>\n",
       "      <td>NULL</td>\n",
       "      <td>38</td>\n",
       "      <td>38</td>\n",
       "      <td>1</td>\n",
       "      <td>1603338057867388</td>\n",
       "      <td>1603338057867738</td>\n",
       "      <td>1124292</td>\n",
       "    </tr>\n",
       "    <tr>\n",
       "      <th>11496</th>\n",
       "      <td>AA</td>\n",
       "      <td>0</td>\n",
       "      <td>0</td>\n",
       "      <td>NULL</td>\n",
       "      <td>NULL</td>\n",
       "      <td>NULL</td>\n",
       "      <td>NULL</td>\n",
       "      <td>38</td>\n",
       "      <td>38</td>\n",
       "      <td>1</td>\n",
       "      <td>1603338057872257</td>\n",
       "      <td>1603338057872607</td>\n",
       "      <td>1124295</td>\n",
       "    </tr>\n",
       "    <tr>\n",
       "      <th>11497</th>\n",
       "      <td>AA</td>\n",
       "      <td>0</td>\n",
       "      <td>0</td>\n",
       "      <td>NULL</td>\n",
       "      <td>NULL</td>\n",
       "      <td>NULL</td>\n",
       "      <td>NULL</td>\n",
       "      <td>38</td>\n",
       "      <td>38</td>\n",
       "      <td>1</td>\n",
       "      <td>1603338059213551</td>\n",
       "      <td>1603338059213901</td>\n",
       "      <td>1124490</td>\n",
       "    </tr>\n",
       "    <tr>\n",
       "      <th>11498</th>\n",
       "      <td>AA</td>\n",
       "      <td>0</td>\n",
       "      <td>0</td>\n",
       "      <td>NULL</td>\n",
       "      <td>NULL</td>\n",
       "      <td>NULL</td>\n",
       "      <td>NULL</td>\n",
       "      <td>38</td>\n",
       "      <td>38</td>\n",
       "      <td>1</td>\n",
       "      <td>1603338059214747</td>\n",
       "      <td>1603338059215097</td>\n",
       "      <td>1124491</td>\n",
       "    </tr>\n",
       "  </tbody>\n",
       "</table>\n",
       "<p>11499 rows × 13 columns</p>\n",
       "</div>"
      ],
      "text/plain": [
       "      Symbol BuyerSerialNum SellerSerialNum BuyerOrderID SellerOrderID  \\\n",
       "0         AA              0               0         NULL          NULL   \n",
       "1         AA              0               0         NULL          NULL   \n",
       "2         AA              0               0         NULL          NULL   \n",
       "3         AA              0               0         NULL          NULL   \n",
       "4         AA              0               0         NULL          NULL   \n",
       "...      ...            ...             ...          ...           ...   \n",
       "11494     AA              0               0         NULL          NULL   \n",
       "11495     AA              0               0         NULL          NULL   \n",
       "11496     AA              0               0         NULL          NULL   \n",
       "11497     AA              0               0         NULL          NULL   \n",
       "11498     AA              0               0         NULL          NULL   \n",
       "\n",
       "      BuyerClientID SellerClientID  ExecPrice  CashTraded  SharesTraded  \\\n",
       "0              NULL           NULL          6           6             1   \n",
       "1              NULL           NULL          6           6             1   \n",
       "2              NULL           NULL          6           6             1   \n",
       "3              NULL           NULL          6           6             1   \n",
       "4              NULL           NULL          6           6             1   \n",
       "...             ...            ...        ...         ...           ...   \n",
       "11494          NULL           NULL         38          38             1   \n",
       "11495          NULL           NULL         38          38             1   \n",
       "11496          NULL           NULL         38          38             1   \n",
       "11497          NULL           NULL         38          38             1   \n",
       "11498          NULL           NULL         38          38             1   \n",
       "\n",
       "       CreationTimestamp  ReleaseTimestamp  TradeSerialNum  \n",
       "0       1603331001572611  1603331001572961              34  \n",
       "1       1603331001584590  1603331001584940              36  \n",
       "2       1603331002964052  1603331002964402             129  \n",
       "3       1603331002965399  1603331002965749             130  \n",
       "4       1603331004321147  1603331004321497             313  \n",
       "...                  ...               ...             ...  \n",
       "11494   1603338056645464  1603338056645814         1124088  \n",
       "11495   1603338057867388  1603338057867738         1124292  \n",
       "11496   1603338057872257  1603338057872607         1124295  \n",
       "11497   1603338059213551  1603338059213901         1124490  \n",
       "11498   1603338059214747  1603338059215097         1124491  \n",
       "\n",
       "[11499 rows x 13 columns]"
      ]
     },
     "execution_count": 5,
     "metadata": {},
     "output_type": "execute_result"
    }
   ],
   "source": [
    "symbol = 'AA'\n",
    "seconds_in_past = 60*60*24 # One day\n",
    "end_time_ms = int(time.time()*1e3)\n",
    "start_time_ms = end_time_ms - int(seconds_in_past*1e3)\n",
    "\n",
    "symbol_trades_vec = cloud_ex.VectorTrade()\n",
    "\n",
    "cloud_ex.MarketDataAPI.PullTrades(config['project_id'], config['bigtable_id'], \n",
    "                                          config['table_name'], symbol, start_time_ms, \n",
    "                                          end_time_ms, symbol_trades_vec)\n",
    "print(\"There are a total of {} trade(s) in the last day.\".format(len(symbol_trades_vec)))\n",
    "symbol_historical_trades_df = TradeDF(symbol_trades_vec)\n",
    "\n",
    "symbol_historical_trades_df = symbol_historical_trades_df.sort_values(by=\"CreationTimestamp\")\n",
    "symbol_historical_trades_df"
   ]
  },
  {
   "cell_type": "code",
   "execution_count": 6,
   "metadata": {},
   "outputs": [
    {
     "data": {
      "text/html": [
       "<div>\n",
       "<style scoped>\n",
       "    .dataframe tbody tr th:only-of-type {\n",
       "        vertical-align: middle;\n",
       "    }\n",
       "\n",
       "    .dataframe tbody tr th {\n",
       "        vertical-align: top;\n",
       "    }\n",
       "\n",
       "    .dataframe thead th {\n",
       "        text-align: right;\n",
       "    }\n",
       "</style>\n",
       "<table border=\"1\" class=\"dataframe\">\n",
       "  <thead>\n",
       "    <tr style=\"text-align: right;\">\n",
       "      <th></th>\n",
       "      <th>MinPrice</th>\n",
       "      <th>MaxPrice</th>\n",
       "      <th>OpenPrice</th>\n",
       "      <th>ClosePrice</th>\n",
       "      <th>Volume</th>\n",
       "    </tr>\n",
       "    <tr>\n",
       "      <th>time</th>\n",
       "      <th></th>\n",
       "      <th></th>\n",
       "      <th></th>\n",
       "      <th></th>\n",
       "      <th></th>\n",
       "    </tr>\n",
       "  </thead>\n",
       "  <tbody>\n",
       "    <tr>\n",
       "      <th>2020-10-22 01:43:21.500</th>\n",
       "      <td>6.0</td>\n",
       "      <td>6.0</td>\n",
       "      <td>6.0</td>\n",
       "      <td>6.0</td>\n",
       "      <td>2.0</td>\n",
       "    </tr>\n",
       "    <tr>\n",
       "      <th>2020-10-22 01:43:22.000</th>\n",
       "      <td>6.0</td>\n",
       "      <td>6.0</td>\n",
       "      <td>6.0</td>\n",
       "      <td>6.0</td>\n",
       "      <td>0.0</td>\n",
       "    </tr>\n",
       "    <tr>\n",
       "      <th>2020-10-22 01:43:22.500</th>\n",
       "      <td>6.0</td>\n",
       "      <td>6.0</td>\n",
       "      <td>6.0</td>\n",
       "      <td>6.0</td>\n",
       "      <td>2.0</td>\n",
       "    </tr>\n",
       "    <tr>\n",
       "      <th>2020-10-22 01:43:23.000</th>\n",
       "      <td>6.0</td>\n",
       "      <td>6.0</td>\n",
       "      <td>6.0</td>\n",
       "      <td>6.0</td>\n",
       "      <td>0.0</td>\n",
       "    </tr>\n",
       "    <tr>\n",
       "      <th>2020-10-22 01:43:23.500</th>\n",
       "      <td>6.0</td>\n",
       "      <td>6.0</td>\n",
       "      <td>6.0</td>\n",
       "      <td>6.0</td>\n",
       "      <td>0.0</td>\n",
       "    </tr>\n",
       "    <tr>\n",
       "      <th>...</th>\n",
       "      <td>...</td>\n",
       "      <td>...</td>\n",
       "      <td>...</td>\n",
       "      <td>...</td>\n",
       "      <td>...</td>\n",
       "    </tr>\n",
       "    <tr>\n",
       "      <th>2020-10-22 03:40:57.000</th>\n",
       "      <td>38.0</td>\n",
       "      <td>38.0</td>\n",
       "      <td>38.0</td>\n",
       "      <td>38.0</td>\n",
       "      <td>0.0</td>\n",
       "    </tr>\n",
       "    <tr>\n",
       "      <th>2020-10-22 03:40:57.500</th>\n",
       "      <td>38.0</td>\n",
       "      <td>38.0</td>\n",
       "      <td>38.0</td>\n",
       "      <td>38.0</td>\n",
       "      <td>2.0</td>\n",
       "    </tr>\n",
       "    <tr>\n",
       "      <th>2020-10-22 03:40:58.000</th>\n",
       "      <td>38.0</td>\n",
       "      <td>38.0</td>\n",
       "      <td>38.0</td>\n",
       "      <td>38.0</td>\n",
       "      <td>0.0</td>\n",
       "    </tr>\n",
       "    <tr>\n",
       "      <th>2020-10-22 03:40:58.500</th>\n",
       "      <td>38.0</td>\n",
       "      <td>38.0</td>\n",
       "      <td>38.0</td>\n",
       "      <td>38.0</td>\n",
       "      <td>0.0</td>\n",
       "    </tr>\n",
       "    <tr>\n",
       "      <th>2020-10-22 03:40:59.000</th>\n",
       "      <td>38.0</td>\n",
       "      <td>38.0</td>\n",
       "      <td>38.0</td>\n",
       "      <td>38.0</td>\n",
       "      <td>2.0</td>\n",
       "    </tr>\n",
       "  </tbody>\n",
       "</table>\n",
       "<p>14116 rows × 5 columns</p>\n",
       "</div>"
      ],
      "text/plain": [
       "                         MinPrice  MaxPrice  OpenPrice  ClosePrice  Volume\n",
       "time                                                                      \n",
       "2020-10-22 01:43:21.500       6.0       6.0        6.0         6.0     2.0\n",
       "2020-10-22 01:43:22.000       6.0       6.0        6.0         6.0     0.0\n",
       "2020-10-22 01:43:22.500       6.0       6.0        6.0         6.0     2.0\n",
       "2020-10-22 01:43:23.000       6.0       6.0        6.0         6.0     0.0\n",
       "2020-10-22 01:43:23.500       6.0       6.0        6.0         6.0     0.0\n",
       "...                           ...       ...        ...         ...     ...\n",
       "2020-10-22 03:40:57.000      38.0      38.0       38.0        38.0     0.0\n",
       "2020-10-22 03:40:57.500      38.0      38.0       38.0        38.0     2.0\n",
       "2020-10-22 03:40:58.000      38.0      38.0       38.0        38.0     0.0\n",
       "2020-10-22 03:40:58.500      38.0      38.0       38.0        38.0     0.0\n",
       "2020-10-22 03:40:59.000      38.0      38.0       38.0        38.0     2.0\n",
       "\n",
       "[14116 rows x 5 columns]"
      ]
     },
     "execution_count": 6,
     "metadata": {},
     "output_type": "execute_result"
    }
   ],
   "source": [
    "bin_interval_ms = 500\n",
    "summarize_historical_trades_df(symbol_historical_trades_df, bin_interval_ms)"
   ]
  },
  {
   "cell_type": "markdown",
   "metadata": {},
   "source": [
    "## 1.3 Backtest Mean Reversion Trader"
   ]
  },
  {
   "cell_type": "markdown",
   "metadata": {},
   "source": [
    "We can backtest the choice of parameters (`moving_average` and `threshold`) that we have selected by evaluating performance on historical data. \n",
    "\n",
    "`backtest()` Arguments:\n",
    "- symbol_historical_trades_df `pd.DataFrame` - Stock time series dataframe to backtest on. \n",
    "- num_shares `int`: Number of shares to buy or sell. \n",
    "- init_capital `int`: Amount of capital to start with. \n",
    "- init_shares `int`: Number of shares to start with. \n",
    "- Specific to mean reversion algorithm:\n",
    " - ma `int` - Number of steps in the moving average window \n",
    " - threshold `float` - % above or below the moving average at which we will place orders \n",
    "\n",
    "`backtest()` returns:\n",
    "- ROI (%)\n",
    "- a list of (time index, action, price) tuples"
   ]
  },
  {
   "cell_type": "code",
   "execution_count": 7,
   "metadata": {},
   "outputs": [
    {
     "name": "stdout",
     "output_type": "stream",
     "text": [
      "Running in offline mode. Could not set active symbols.\n",
      "[(29, 'Sell', 38.0), (30, 'Sell', 38.0), (31, 'Sell', 38.0), (32, 'Sell', 38.0), (33, 'Sell', 38.0), (34, 'Sell', 38.0), (35, 'Sell', 38.0), (36, 'Sell', 38.0), (37, 'Sell', 38.0), (38, 'Sell', 38.0), (39, 'Sell', 38.0), (40, 'Sell', 38.0), (41, 'Sell', 38.0), (42, 'Sell', 38.0), (43, 'Sell', 38.0), (44, 'Sell', 38.0), (45, 'Sell', 38.0), (46, 'Sell', 38.0), (47, 'Sell', 38.0), (88, 'Sell', 56.0), (89, 'Sell', 56.0), (90, 'Sell', 56.0), (91, 'Sell', 56.0), (92, 'Sell', 56.0), (93, 'Sell', 56.0), (94, 'Sell', 56.0), (95, 'Sell', 56.0), (96, 'Sell', 56.0), (97, 'Sell', 56.0), (98, 'Sell', 56.0), (99, 'Sell', 55.0), (100, 'Sell', 55.0), (101, 'Sell', 56.0), (102, 'Sell', 56.0), (103, 'Sell', 56.0), (104, 'Sell', 56.0), (105, 'Buy', 38.0), (106, 'Buy', 38.0), (107, 'Buy', 38.0), (108, 'Buy', 38.0), (109, 'Buy', 38.0), (110, 'Buy', 38.0), (111, 'Buy', 38.0), (112, 'Buy', 38.0), (113, 'Buy', 38.0), (114, 'Buy', 38.0), (115, 'Buy', 38.0), (116, 'Buy', 38.0), (117, 'Buy', 38.0), (118, 'Buy', 38.0), (119, 'Buy', 38.0), (120, 'Buy', 38.0), (121, 'Buy', 38.0), (122, 'Buy', 38.0), (123, 'Buy', 38.0), (124, 'Buy', 38.0), (125, 'Buy', 38.0), (126, 'Buy', 38.0), (127, 'Buy', 38.0), (128, 'Buy', 38.0), (129, 'Buy', 38.0), (130, 'Buy', 38.0), (131, 'Buy', 38.0), (132, 'Buy', 38.0), (178, 'Buy', 6.0), (179, 'Buy', 6.0), (180, 'Buy', 6.0), (181, 'Buy', 6.0), (182, 'Buy', 6.0), (183, 'Buy', 6.0), (184, 'Buy', 6.0), (185, 'Buy', 6.0), (186, 'Buy', 6.0), (187, 'Buy', 6.0), (188, 'Buy', 6.0), (189, 'Buy', 6.0), (190, 'Buy', 6.0), (191, 'Buy', 6.0), (192, 'Buy', 6.0), (193, 'Buy', 6.0), (194, 'Buy', 6.0), (195, 'Buy', 6.0), (196, 'Buy', 6.0), (197, 'Buy', 6.0), (198, 'Sell', 38.0), (199, 'Sell', 38.0), (200, 'Sell', 38.0), (201, 'Sell', 38.0), (202, 'Sell', 38.0), (203, 'Sell', 38.0), (204, 'Sell', 38.0), (205, 'Sell', 38.0), (206, 'Sell', 38.0), (207, 'Sell', 38.0), (208, 'Sell', 38.0), (209, 'Sell', 38.0), (210, 'Sell', 38.0), (211, 'Sell', 38.0), (212, 'Sell', 38.0), (213, 'Sell', 38.0), (214, 'Sell', 38.0), (215, 'Sell', 38.0), (216, 'Sell', 38.0), (217, 'Sell', 38.0), (218, 'Sell', 38.0), (219, 'Sell', 38.0), (220, 'Sell', 38.0), (221, 'Sell', 38.0), (222, 'Sell', 38.0), (223, 'Sell', 38.0), (224, 'Sell', 38.0), (225, 'Sell', 38.0), (268, 'Sell', 56.0), (269, 'Sell', 56.0), (270, 'Sell', 56.0), (271, 'Sell', 56.0), (272, 'Sell', 56.0), (273, 'Sell', 56.0), (274, 'Sell', 56.0), (275, 'Sell', 56.0), (276, 'Sell', 56.0), (277, 'Sell', 56.0), (278, 'Sell', 56.0), (279, 'Sell', 56.0), (280, 'Sell', 56.0), (281, 'Sell', 56.0), (282, 'Sell', 56.0), (283, 'Sell', 56.0), (284, 'Buy', 38.0), (285, 'Buy', 38.0), (286, 'Buy', 38.0), (287, 'Buy', 38.0), (288, 'Buy', 38.0), (289, 'Buy', 38.0), (290, 'Buy', 38.0), (291, 'Buy', 38.0), (292, 'Buy', 38.0), (293, 'Buy', 38.0), (294, 'Buy', 38.0), (295, 'Buy', 38.0), (296, 'Buy', 38.0), (297, 'Buy', 38.0), (298, 'Buy', 38.0), (299, 'Buy', 38.0), (300, 'Buy', 38.0), (301, 'Buy', 38.0), (302, 'Buy', 38.0), (303, 'Buy', 38.0), (304, 'Buy', 38.0), (305, 'Buy', 38.0), (306, 'Buy', 38.0), (307, 'Buy', 38.0), (308, 'Buy', 38.0), (309, 'Buy', 38.0), (310, 'Buy', 38.0), (311, 'Buy', 38.0), (351, 'Buy', 6.0), (352, 'Buy', 6.0), (353, 'Buy', 6.0), (354, 'Buy', 6.0), (355, 'Buy', 6.0), (356, 'Buy', 6.0), (357, 'Buy', 6.0), (358, 'Buy', 6.0), (359, 'Buy', 6.0), (360, 'Buy', 6.0), (361, 'Buy', 6.0), (362, 'Buy', 6.0), (363, 'Buy', 6.0), (364, 'Buy', 6.0), (365, 'Buy', 6.0), (366, 'Buy', 6.0), (367, 'Buy', 6.0), (368, 'Sell', 38.0), (369, 'Sell', 38.0), (370, 'Sell', 38.0), (371, 'Sell', 38.0), (372, 'Sell', 38.0), (373, 'Sell', 38.0), (374, 'Sell', 38.0), (375, 'Sell', 38.0), (376, 'Sell', 38.0), (377, 'Sell', 38.0), (378, 'Sell', 38.0), (379, 'Sell', 38.0), (380, 'Sell', 38.0), (381, 'Sell', 38.0), (382, 'Sell', 38.0), (383, 'Sell', 38.0), (384, 'Sell', 38.0), (385, 'Sell', 38.0), (386, 'Sell', 38.0), (387, 'Sell', 38.0), (388, 'Sell', 38.0), (389, 'Sell', 38.0), (390, 'Sell', 38.0), (391, 'Sell', 38.0), (392, 'Sell', 38.0), (393, 'Sell', 38.0), (394, 'Sell', 38.0), (395, 'Sell', 38.0), (421, 'Buy', 37.0), (422, 'Buy', 37.0), (433, 'Sell', 56.0), (434, 'Sell', 56.0), (435, 'Sell', 56.0), (436, 'Sell', 56.0), (437, 'Sell', 56.0), (438, 'Sell', 56.0), (439, 'Sell', 56.0), (440, 'Sell', 56.0), (441, 'Sell', 56.0), (442, 'Sell', 56.0), (443, 'Sell', 56.0), (444, 'Sell', 56.0), (445, 'Sell', 56.0), (446, 'Sell', 56.0), (447, 'Sell', 56.0), (448, 'Sell', 56.0), (449, 'Buy', 38.0), (450, 'Buy', 38.0), (451, 'Buy', 38.0), (452, 'Buy', 38.0), (453, 'Buy', 38.0), (454, 'Buy', 38.0), (455, 'Buy', 38.0), (456, 'Buy', 38.0), (457, 'Buy', 38.0), (458, 'Buy', 38.0), (459, 'Buy', 38.0), (460, 'Buy', 38.0), (461, 'Buy', 38.0), (462, 'Buy', 38.0), (463, 'Buy', 38.0), (464, 'Buy', 38.0), (465, 'Buy', 38.0), (466, 'Buy', 38.0), (467, 'Buy', 38.0), (468, 'Buy', 38.0), (469, 'Buy', 38.0), (470, 'Buy', 38.0), (471, 'Buy', 38.0), (472, 'Buy', 38.0), (473, 'Buy', 38.0), (474, 'Buy', 38.0), (475, 'Buy', 38.0), (476, 'Buy', 38.0), (518, 'Buy', 37.0), (519, 'Buy', 37.0), (520, 'Buy', 37.0), (524, 'Buy', 6.0), (525, 'Buy', 6.0), (526, 'Buy', 6.0), (527, 'Buy', 6.0), (528, 'Buy', 6.0), (529, 'Buy', 6.0), (530, 'Buy', 6.0), (531, 'Buy', 6.0), (532, 'Buy', 6.0), (533, 'Buy', 6.0), (534, 'Buy', 6.0), (535, 'Buy', 6.0), (536, 'Buy', 6.0), (537, 'Buy', 6.0), (538, 'Buy', 6.0), (539, 'Buy', 6.0), (540, 'Buy', 6.0), (541, 'Sell', 38.0), (542, 'Sell', 38.0), (543, 'Sell', 38.0), (544, 'Sell', 38.0), (545, 'Sell', 38.0), (546, 'Sell', 38.0), (547, 'Sell', 38.0), (548, 'Sell', 38.0), (549, 'Sell', 38.0), (550, 'Sell', 38.0), (551, 'Sell', 38.0), (552, 'Sell', 38.0), (553, 'Sell', 38.0), (554, 'Sell', 38.0), (555, 'Sell', 38.0), (556, 'Sell', 38.0), (557, 'Sell', 38.0), (558, 'Sell', 38.0), (559, 'Sell', 38.0), (560, 'Sell', 38.0), (561, 'Sell', 38.0), (562, 'Sell', 38.0), (563, 'Sell', 38.0), (564, 'Sell', 38.0), (565, 'Sell', 38.0), (566, 'Sell', 38.0), (567, 'Sell', 38.0), (568, 'Sell', 38.0), (583, 'Buy', 37.0), (584, 'Buy', 37.0), (607, 'Sell', 56.0), (608, 'Sell', 56.0), (609, 'Sell', 56.0), (610, 'Sell', 56.0), (611, 'Sell', 56.0), (612, 'Sell', 56.0), (613, 'Sell', 56.0), (614, 'Sell', 56.0), (615, 'Sell', 56.0), (616, 'Sell', 56.0), (617, 'Sell', 56.0), (618, 'Sell', 56.0), (619, 'Sell', 56.0), (620, 'Sell', 56.0), (621, 'Sell', 56.0), (622, 'Sell', 56.0), (623, 'Sell', 56.0), (624, 'Sell', 56.0), (625, 'Buy', 38.0), (626, 'Buy', 38.0), (627, 'Buy', 38.0), (628, 'Buy', 38.0), (629, 'Buy', 37.0), (630, 'Buy', 37.0), (631, 'Buy', 37.0), (632, 'Buy', 38.0), (633, 'Buy', 38.0), (634, 'Buy', 38.0), (635, 'Buy', 38.0), (636, 'Buy', 38.0), (637, 'Buy', 38.0), (638, 'Buy', 38.0), (639, 'Buy', 38.0), (640, 'Buy', 38.0), (641, 'Buy', 38.0), (642, 'Buy', 38.0), (643, 'Buy', 37.0), (644, 'Buy', 37.0), (645, 'Buy', 38.0), (646, 'Buy', 38.0), (647, 'Buy', 38.0), (648, 'Buy', 38.0), (649, 'Buy', 38.0), (650, 'Buy', 38.0), (651, 'Buy', 38.0), (652, 'Buy', 38.0), (697, 'Buy', 6.0), (698, 'Buy', 6.0), (699, 'Buy', 6.0), (700, 'Buy', 6.0), (701, 'Buy', 6.0), (702, 'Buy', 6.0), (703, 'Buy', 6.0), (704, 'Buy', 6.0), (705, 'Buy', 6.0), (706, 'Buy', 6.0), (707, 'Buy', 6.0), (708, 'Buy', 6.0), (709, 'Buy', 6.0), (710, 'Buy', 6.0), (711, 'Buy', 6.0), (712, 'Buy', 6.0), (713, 'Buy', 5.0), (714, 'Buy', 5.0), (715, 'Sell', 38.0), (716, 'Sell', 38.0), (717, 'Sell', 38.0), (718, 'Sell', 38.0), (719, 'Sell', 38.0), (720, 'Sell', 38.0), (721, 'Sell', 38.0), (722, 'Sell', 38.0), (723, 'Sell', 38.0), (724, 'Sell', 38.0), (725, 'Sell', 38.0), (726, 'Sell', 38.0), (727, 'Sell', 38.0), (728, 'Sell', 38.0), (729, 'Sell', 38.0), (730, 'Sell', 38.0), (731, 'Sell', 38.0), (732, 'Sell', 38.0), (733, 'Sell', 38.0), (734, 'Sell', 38.0), (735, 'Sell', 38.0), (736, 'Sell', 38.0), (737, 'Sell', 38.0), (738, 'Sell', 38.0), (739, 'Sell', 38.0), (740, 'Sell', 38.0), (741, 'Sell', 38.0), (742, 'Sell', 38.0), (744, 'Buy', 37.0), (745, 'Buy', 37.0), (779, 'Sell', 56.0), (780, 'Sell', 56.0), (781, 'Sell', 56.0), (782, 'Sell', 56.0), (783, 'Sell', 56.0), (784, 'Sell', 56.0), (785, 'Sell', 56.0), (786, 'Sell', 56.0), (787, 'Sell', 56.0), (788, 'Sell', 56.0), (789, 'Sell', 56.0), (790, 'Sell', 56.0), (791, 'Sell', 56.0), (792, 'Sell', 56.0), (793, 'Sell', 56.0), (794, 'Sell', 56.0), (795, 'Sell', 56.0), (796, 'Buy', 38.0), (797, 'Buy', 38.0), (798, 'Buy', 38.0), (799, 'Buy', 38.0), (800, 'Buy', 38.0), (801, 'Buy', 38.0), (802, 'Buy', 38.0), (803, 'Buy', 38.0), (804, 'Buy', 38.0), (805, 'Buy', 38.0), (806, 'Buy', 38.0), (807, 'Buy', 38.0), (808, 'Buy', 38.0), (809, 'Buy', 38.0), (810, 'Buy', 38.0), (811, 'Buy', 38.0), (812, 'Buy', 38.0), (813, 'Buy', 38.0), (814, 'Buy', 38.0), (815, 'Buy', 38.0), (816, 'Buy', 38.0), (817, 'Buy', 38.0), (818, 'Buy', 38.0), (819, 'Buy', 38.0), (820, 'Buy', 38.0), (821, 'Buy', 38.0), (822, 'Buy', 38.0), (823, 'Buy', 38.0), (866, 'Buy', 6.0), (867, 'Buy', 6.0), (868, 'Buy', 6.0), (869, 'Buy', 6.0), (870, 'Buy', 6.0), (871, 'Buy', 6.0), (872, 'Buy', 6.0), (873, 'Buy', 6.0), (874, 'Buy', 6.0), (875, 'Buy', 6.0), (876, 'Buy', 6.0), (877, 'Buy', 6.0), (878, 'Buy', 6.0), (879, 'Buy', 6.0), (880, 'Buy', 5.0), (881, 'Buy', 5.0), (882, 'Buy', 6.0), (883, 'Buy', 6.0), (884, 'Sell', 38.0), (885, 'Sell', 38.0), (886, 'Sell', 38.0), (887, 'Sell', 38.0), (888, 'Sell', 38.0), (889, 'Sell', 38.0), (890, 'Sell', 38.0), (891, 'Sell', 38.0), (892, 'Sell', 37.0), (893, 'Sell', 37.0), (894, 'Sell', 38.0), (895, 'Sell', 38.0), (896, 'Sell', 38.0), (897, 'Sell', 38.0), (898, 'Sell', 38.0), (899, 'Sell', 38.0), (900, 'Sell', 38.0), (901, 'Sell', 38.0), (902, 'Sell', 38.0), (903, 'Sell', 38.0), (904, 'Sell', 38.0), (905, 'Sell', 38.0), (906, 'Sell', 38.0), (907, 'Sell', 38.0), (908, 'Sell', 38.0), (909, 'Sell', 38.0), (910, 'Sell', 38.0), (911, 'Sell', 38.0), (953, 'Sell', 56.0), (954, 'Sell', 56.0), (955, 'Sell', 56.0), (956, 'Sell', 56.0), (957, 'Sell', 56.0), (958, 'Sell', 56.0), (959, 'Sell', 56.0), (960, 'Sell', 56.0), (961, 'Sell', 56.0), (962, 'Sell', 56.0), (963, 'Sell', 56.0), (964, 'Sell', 56.0), (965, 'Sell', 56.0), (966, 'Sell', 56.0), (967, 'Sell', 56.0), (968, 'Sell', 56.0), (969, 'Sell', 56.0), (970, 'Sell', 56.0), (971, 'Buy', 38.0), (972, 'Buy', 38.0), (973, 'Buy', 38.0), (974, 'Buy', 38.0), (975, 'Buy', 38.0), (976, 'Buy', 38.0), (977, 'Buy', 38.0), (978, 'Buy', 38.0), (979, 'Buy', 38.0), (980, 'Buy', 38.0), (981, 'Buy', 38.0), (982, 'Buy', 38.0), (983, 'Buy', 38.0), (984, 'Buy', 38.0), (985, 'Buy', 38.0), (986, 'Buy', 38.0), (987, 'Buy', 38.0), (988, 'Buy', 38.0), (989, 'Buy', 38.0), (990, 'Buy', 38.0), (991, 'Buy', 38.0), (992, 'Buy', 38.0), (993, 'Buy', 38.0), (994, 'Buy', 38.0), (995, 'Buy', 38.0), (996, 'Buy', 38.0), (997, 'Buy', 38.0), (998, 'Buy', 38.0), (1009, 'Buy', 37.0), (1010, 'Buy', 37.0), (1042, 'Buy', 6.0), (1043, 'Buy', 6.0), (1044, 'Buy', 6.0), (1045, 'Buy', 5.0), (1046, 'Buy', 5.0), (1047, 'Buy', 6.0), (1048, 'Buy', 6.0), (1049, 'Buy', 6.0), (1050, 'Buy', 6.0), (1051, 'Buy', 6.0), (1052, 'Buy', 6.0), (1053, 'Buy', 6.0), (1054, 'Buy', 6.0), (1055, 'Buy', 6.0), (1056, 'Buy', 6.0), (1057, 'Buy', 6.0), (1058, 'Buy', 5.0), (1059, 'Buy', 5.0), (1060, 'Buy', 6.0), (1061, 'Sell', 38.0), (1062, 'Sell', 38.0), (1063, 'Sell', 38.0), (1064, 'Sell', 38.0), (1065, 'Sell', 38.0), (1066, 'Sell', 38.0), (1067, 'Sell', 38.0), (1068, 'Sell', 38.0), (1069, 'Sell', 38.0), (1070, 'Sell', 38.0), (1071, 'Sell', 38.0), (1072, 'Sell', 38.0), (1073, 'Sell', 38.0), (1074, 'Sell', 38.0), (1075, 'Sell', 38.0), (1076, 'Sell', 38.0), (1077, 'Sell', 38.0), (1078, 'Sell', 38.0), (1079, 'Sell', 38.0), (1080, 'Sell', 38.0), (1081, 'Sell', 38.0), (1082, 'Sell', 38.0), (1083, 'Sell', 38.0), (1084, 'Sell', 38.0), (1085, 'Sell', 38.0), (1086, 'Sell', 38.0), (1087, 'Sell', 38.0), (1088, 'Sell', 38.0), (1135, 'Sell', 56.0), (1136, 'Sell', 56.0), (1137, 'Sell', 56.0), (1138, 'Sell', 56.0), (1139, 'Sell', 56.0), (1140, 'Sell', 56.0), (1141, 'Sell', 56.0), (1142, 'Sell', 56.0), (1143, 'Sell', 56.0), (1144, 'Sell', 56.0), (1145, 'Sell', 56.0), (1146, 'Sell', 56.0), (1147, 'Sell', 56.0), (1148, 'Sell', 56.0), (1149, 'Sell', 56.0), (1150, 'Sell', 56.0), (1151, 'Sell', 55.0), (1152, 'Sell', 55.0), (1153, 'Buy', 38.0), (1154, 'Buy', 38.0), (1155, 'Buy', 38.0), (1156, 'Buy', 38.0), (1157, 'Buy', 38.0), (1158, 'Buy', 38.0), (1159, 'Buy', 38.0), (1160, 'Buy', 38.0), (1161, 'Buy', 38.0), (1162, 'Buy', 38.0), (1163, 'Buy', 38.0), (1164, 'Buy', 38.0), (1165, 'Buy', 38.0), (1166, 'Buy', 38.0), (1167, 'Buy', 38.0), (1168, 'Buy', 38.0), (1169, 'Buy', 38.0), (1170, 'Buy', 38.0), (1171, 'Buy', 38.0), (1172, 'Buy', 38.0), (1173, 'Buy', 38.0), (1174, 'Buy', 38.0), (1175, 'Buy', 38.0), (1176, 'Buy', 38.0), (1177, 'Buy', 38.0), (1178, 'Buy', 38.0), (1179, 'Buy', 38.0), (1180, 'Buy', 38.0), (1221, 'Buy', 6.0), (1222, 'Buy', 6.0), (1223, 'Buy', 6.0), (1224, 'Buy', 6.0), (1225, 'Buy', 6.0), (1226, 'Buy', 6.0), (1227, 'Buy', 6.0), (1228, 'Buy', 6.0), (1229, 'Buy', 6.0), (1230, 'Buy', 6.0), (1231, 'Buy', 6.0), (1232, 'Buy', 6.0), (1233, 'Buy', 6.0), (1234, 'Buy', 6.0), (1235, 'Buy', 6.0), (1236, 'Buy', 6.0), (1237, 'Sell', 38.0), (1238, 'Sell', 38.0), (1239, 'Sell', 38.0), (1240, 'Sell', 38.0), (1241, 'Sell', 38.0), (1242, 'Sell', 38.0), (1243, 'Sell', 38.0), (1244, 'Sell', 38.0), (1245, 'Sell', 38.0), (1246, 'Sell', 38.0), (1247, 'Sell', 38.0), (1248, 'Sell', 38.0), (1249, 'Sell', 38.0), (1250, 'Sell', 38.0), (1251, 'Sell', 38.0), (1252, 'Sell', 38.0), (1253, 'Sell', 38.0), (1254, 'Sell', 37.0), (1255, 'Sell', 37.0), (1256, 'Sell', 37.0), (1257, 'Sell', 38.0), (1258, 'Sell', 38.0), (1259, 'Sell', 38.0), (1260, 'Sell', 38.0), (1261, 'Sell', 38.0), (1262, 'Sell', 38.0), (1263, 'Sell', 38.0), (1264, 'Sell', 38.0), (1305, 'Sell', 56.0), (1306, 'Sell', 56.0), (1307, 'Sell', 56.0), (1308, 'Sell', 56.0), (1309, 'Sell', 56.0), (1310, 'Sell', 56.0), (1311, 'Sell', 56.0), (1312, 'Sell', 56.0), (1313, 'Sell', 56.0), (1314, 'Sell', 56.0), (1315, 'Sell', 56.0), (1316, 'Sell', 56.0), (1317, 'Sell', 56.0), (1318, 'Sell', 56.0), (1319, 'Sell', 56.0), (1320, 'Sell', 56.0), (1321, 'Sell', 56.0), (1322, 'Sell', 56.0), (1323, 'Sell', 56.0), (1324, 'Buy', 38.0), (1325, 'Buy', 38.0), (1326, 'Buy', 37.0), (1327, 'Buy', 37.0), (1328, 'Buy', 38.0), (1329, 'Buy', 38.0), (1330, 'Buy', 38.0), (1331, 'Buy', 37.0), (1332, 'Buy', 37.0), (1333, 'Buy', 37.0), (1334, 'Buy', 38.0), (1335, 'Buy', 38.0), (1336, 'Buy', 38.0), (1337, 'Buy', 38.0), (1338, 'Buy', 38.0), (1339, 'Buy', 38.0), (1340, 'Buy', 38.0), (1341, 'Buy', 38.0), (1342, 'Buy', 38.0), (1343, 'Buy', 38.0), (1344, 'Buy', 38.0), (1345, 'Buy', 38.0), (1346, 'Buy', 38.0), (1347, 'Buy', 38.0), (1348, 'Buy', 38.0), (1349, 'Buy', 38.0), (1350, 'Buy', 38.0), (1351, 'Buy', 38.0), (1374, 'Buy', 37.0), (1375, 'Buy', 37.0), (1395, 'Buy', 37.0), (1396, 'Buy', 37.0), (1397, 'Buy', 37.0), (1398, 'Buy', 6.0), (1399, 'Buy', 6.0), (1400, 'Buy', 6.0), (1401, 'Buy', 6.0), (1402, 'Buy', 6.0), (1403, 'Buy', 6.0), (1404, 'Buy', 6.0), (1405, 'Buy', 6.0), (1406, 'Buy', 6.0), (1407, 'Buy', 6.0), (1408, 'Buy', 6.0), (1409, 'Buy', 6.0), (1410, 'Buy', 6.0), (1411, 'Buy', 6.0), (1412, 'Buy', 6.0), (1413, 'Buy', 6.0), (1414, 'Buy', 6.0), (1415, 'Sell', 38.0), (1416, 'Sell', 38.0), (1417, 'Sell', 38.0), (1418, 'Sell', 38.0), (1419, 'Sell', 38.0), (1420, 'Sell', 38.0), (1421, 'Sell', 38.0), (1422, 'Sell', 38.0), (1423, 'Sell', 38.0), (1424, 'Sell', 38.0), (1425, 'Sell', 38.0), (1426, 'Sell', 38.0), (1427, 'Sell', 38.0), (1428, 'Sell', 38.0), (1429, 'Sell', 38.0), (1430, 'Sell', 38.0), (1431, 'Sell', 38.0), (1432, 'Sell', 38.0), (1433, 'Sell', 38.0), (1434, 'Sell', 38.0), (1435, 'Sell', 38.0), (1436, 'Sell', 38.0), (1437, 'Sell', 38.0), (1438, 'Sell', 38.0), (1439, 'Sell', 38.0), (1440, 'Sell', 38.0), (1441, 'Sell', 38.0), (1442, 'Sell', 38.0), (1452, 'Buy', 37.0), (1453, 'Buy', 37.0), (1486, 'Sell', 56.0), (1487, 'Sell', 56.0), (1488, 'Sell', 56.0), (1489, 'Sell', 56.0), (1490, 'Sell', 56.0), (1491, 'Sell', 56.0), (1492, 'Sell', 56.0), (1493, 'Sell', 56.0), (1494, 'Sell', 56.0), (1495, 'Sell', 56.0), (1496, 'Sell', 56.0), (1497, 'Sell', 55.0), (1498, 'Sell', 55.0), (1499, 'Sell', 55.0), (1500, 'Sell', 56.0), (1501, 'Sell', 56.0), (1502, 'Buy', 38.0), (1503, 'Buy', 38.0), (1504, 'Buy', 38.0), (1505, 'Buy', 38.0), (1506, 'Buy', 38.0), (1507, 'Buy', 38.0), (1508, 'Buy', 38.0), (1509, 'Buy', 38.0), (1510, 'Buy', 38.0), (1511, 'Buy', 38.0), (1512, 'Buy', 38.0), (1513, 'Buy', 38.0), (1514, 'Buy', 38.0), (1515, 'Buy', 38.0), (1516, 'Buy', 38.0), (1517, 'Buy', 38.0), (1518, 'Buy', 38.0), (1519, 'Buy', 38.0), (1520, 'Buy', 38.0), (1521, 'Buy', 38.0), (1522, 'Buy', 38.0), (1523, 'Buy', 38.0), (1524, 'Buy', 38.0), (1525, 'Buy', 38.0), (1526, 'Buy', 38.0), (1527, 'Buy', 38.0), (1528, 'Buy', 38.0), (1529, 'Buy', 38.0), (1571, 'Buy', 6.0), (1572, 'Buy', 6.0), (1573, 'Buy', 6.0), (1574, 'Buy', 6.0), (1575, 'Buy', 6.0), (1576, 'Buy', 6.0), (1577, 'Buy', 6.0), (1578, 'Buy', 6.0), (1579, 'Buy', 6.0), (1580, 'Buy', 6.0), (1581, 'Buy', 6.0), (1582, 'Buy', 6.0), (1583, 'Buy', 6.0), (1584, 'Buy', 6.0), (1585, 'Buy', 6.0), (1586, 'Buy', 6.0), (1587, 'Buy', 6.0), (1588, 'Sell', 38.0), (1589, 'Sell', 38.0), (1590, 'Sell', 38.0), (1591, 'Sell', 38.0), (1592, 'Sell', 38.0), (1593, 'Sell', 38.0), (1594, 'Sell', 38.0), (1595, 'Sell', 38.0), (1596, 'Sell', 38.0), (1597, 'Sell', 38.0), (1598, 'Sell', 38.0), (1599, 'Sell', 38.0), (1600, 'Sell', 38.0), (1601, 'Sell', 38.0), (1602, 'Sell', 38.0), (1603, 'Sell', 38.0), (1604, 'Sell', 38.0), (1605, 'Sell', 38.0), (1606, 'Sell', 38.0), (1607, 'Sell', 38.0), (1608, 'Sell', 38.0), (1609, 'Sell', 38.0), (1610, 'Sell', 38.0), (1611, 'Sell', 38.0), (1612, 'Sell', 38.0), (1613, 'Sell', 38.0), (1614, 'Sell', 38.0), (1615, 'Sell', 38.0), (1654, 'Sell', 56.0), (1655, 'Sell', 56.0), (1656, 'Sell', 56.0), (1657, 'Sell', 56.0), (1658, 'Sell', 56.0), (1659, 'Sell', 56.0), (1660, 'Sell', 56.0), (1661, 'Sell', 56.0), (1662, 'Sell', 56.0), (1663, 'Sell', 56.0), (1664, 'Sell', 56.0), (1665, 'Sell', 56.0), (1666, 'Sell', 56.0), (1667, 'Sell', 56.0), (1668, 'Sell', 56.0), (1669, 'Sell', 56.0), (1670, 'Sell', 56.0), (1671, 'Buy', 38.0), (1672, 'Buy', 38.0), (1673, 'Buy', 38.0), (1674, 'Buy', 38.0), (1675, 'Buy', 38.0), (1676, 'Buy', 38.0), (1677, 'Buy', 38.0), (1678, 'Buy', 38.0), (1679, 'Buy', 38.0), (1680, 'Buy', 38.0), (1681, 'Buy', 38.0), (1682, 'Buy', 38.0), (1683, 'Buy', 38.0), (1684, 'Buy', 38.0), (1685, 'Buy', 38.0), (1686, 'Buy', 38.0), (1687, 'Buy', 38.0), (1688, 'Buy', 38.0), (1689, 'Buy', 38.0), (1690, 'Buy', 38.0), (1691, 'Buy', 38.0), (1692, 'Buy', 38.0), (1693, 'Buy', 38.0), (1694, 'Buy', 38.0), (1695, 'Buy', 38.0), (1696, 'Buy', 38.0), (1697, 'Buy', 38.0), (1698, 'Buy', 38.0), (1721, 'Buy', 37.0), (1722, 'Buy', 37.0), (1740, 'Buy', 5.0), (1741, 'Buy', 5.0), (1742, 'Buy', 6.0), (1743, 'Buy', 6.0), (1744, 'Buy', 6.0), (1745, 'Buy', 6.0), (1746, 'Buy', 6.0), (1747, 'Buy', 6.0), (1748, 'Buy', 6.0), (1749, 'Buy', 6.0), (1750, 'Buy', 6.0), (1751, 'Buy', 6.0), (1752, 'Buy', 6.0), (1753, 'Buy', 6.0), (1754, 'Buy', 6.0), (1755, 'Buy', 6.0), (1756, 'Sell', 38.0), (1757, 'Sell', 38.0), (1758, 'Sell', 38.0), (1759, 'Sell', 38.0), (1760, 'Sell', 38.0), (1761, 'Sell', 38.0), (1762, 'Sell', 38.0), (1763, 'Sell', 38.0), (1764, 'Sell', 38.0), (1765, 'Sell', 38.0), (1766, 'Sell', 38.0), (1767, 'Sell', 38.0), (1768, 'Sell', 38.0), (1769, 'Sell', 38.0), (1770, 'Sell', 38.0), (1771, 'Sell', 38.0), (1772, 'Sell', 38.0), (1773, 'Sell', 38.0), (1774, 'Sell', 38.0), (1775, 'Sell', 38.0), (1776, 'Sell', 38.0), (1777, 'Sell', 38.0), (1778, 'Sell', 38.0), (1779, 'Sell', 38.0), (1780, 'Sell', 38.0), (1781, 'Sell', 38.0), (1782, 'Sell', 38.0), (1783, 'Sell', 38.0), (1801, 'Buy', 37.0), (1802, 'Buy', 37.0), (1803, 'Buy', 37.0), (1825, 'Sell', 56.0), (1826, 'Sell', 56.0), (1827, 'Sell', 56.0), (1828, 'Sell', 56.0), (1829, 'Sell', 56.0), (1830, 'Sell', 56.0), (1831, 'Sell', 56.0), (1832, 'Sell', 56.0), (1833, 'Sell', 56.0), (1834, 'Sell', 56.0), (1835, 'Sell', 56.0), (1836, 'Sell', 56.0), (1837, 'Sell', 56.0), (1838, 'Sell', 56.0), (1839, 'Sell', 56.0), (1840, 'Sell', 56.0), (1841, 'Buy', 38.0), (1842, 'Buy', 38.0), (1843, 'Buy', 38.0), (1844, 'Buy', 38.0), (1845, 'Buy', 39.0), (1846, 'Buy', 38.0), (1847, 'Buy', 38.0), (1848, 'Buy', 38.0), (1849, 'Buy', 38.0), (1850, 'Buy', 38.0), (1851, 'Buy', 38.0), (1852, 'Buy', 38.0), (1853, 'Buy', 38.0), (1854, 'Buy', 38.0), (1855, 'Buy', 38.0), (1856, 'Buy', 38.0), (1857, 'Buy', 38.0), (1858, 'Buy', 38.0), (1859, 'Buy', 38.0), (1860, 'Buy', 38.0), (1861, 'Buy', 38.0), (1862, 'Buy', 38.0), (1863, 'Buy', 38.0), (1864, 'Buy', 38.0), (1865, 'Buy', 38.0), (1866, 'Buy', 38.0), (1867, 'Buy', 38.0), (1868, 'Buy', 38.0), (1880, 'Buy', 37.0), (1881, 'Buy', 37.0), (1907, 'Buy', 6.0), (1908, 'Buy', 6.0), (1909, 'Buy', 6.0), (1910, 'Buy', 6.0), (1911, 'Buy', 6.0), (1912, 'Buy', 6.0), (1913, 'Buy', 6.0), (1914, 'Buy', 6.0), (1915, 'Buy', 6.0), (1916, 'Buy', 6.0), (1917, 'Buy', 6.0), (1918, 'Buy', 6.0), (1919, 'Buy', 6.0), (1920, 'Buy', 6.0), (1921, 'Buy', 6.0), (1922, 'Buy', 6.0), (1923, 'Buy', 6.0), (1924, 'Buy', 6.0), (1925, 'Buy', 6.0), (1926, 'Buy', 6.0), (1927, 'Sell', 38.0), (1928, 'Sell', 38.0), (1929, 'Sell', 38.0), (1930, 'Sell', 38.0), (1931, 'Sell', 38.0), (1932, 'Sell', 38.0), (1933, 'Sell', 38.0), (1934, 'Sell', 38.0), (1935, 'Sell', 38.0), (1936, 'Sell', 38.0), (1937, 'Sell', 38.0), (1938, 'Sell', 38.0), (1939, 'Sell', 38.0), (1940, 'Sell', 38.0), (1941, 'Sell', 38.0), (1942, 'Sell', 38.0), (1943, 'Sell', 38.0), (1944, 'Sell', 38.0), (1945, 'Sell', 38.0), (1946, 'Sell', 38.0), (1947, 'Sell', 38.0), (1948, 'Sell', 38.0), (1949, 'Sell', 38.0), (1950, 'Sell', 38.0), (1951, 'Sell', 38.0), (1952, 'Sell', 38.0), (1953, 'Sell', 38.0), (1954, 'Sell', 38.0), (1996, 'Sell', 56.0), (1997, 'Sell', 56.0), (1998, 'Sell', 56.0), (1999, 'Sell', 56.0), (2000, 'Sell', 56.0), (2001, 'Sell', 56.0), (2002, 'Sell', 56.0), (2003, 'Sell', 56.0), (2004, 'Sell', 56.0), (2005, 'Sell', 56.0), (2006, 'Sell', 56.0), (2007, 'Sell', 56.0), (2008, 'Sell', 56.0), (2009, 'Sell', 56.0), (2010, 'Sell', 56.0), (2011, 'Sell', 56.0), (2012, 'Sell', 56.0), (2013, 'Sell', 56.0), (2014, 'Buy', 38.0), (2015, 'Buy', 38.0), (2016, 'Buy', 38.0), (2017, 'Buy', 38.0), (2018, 'Buy', 38.0), (2019, 'Buy', 38.0), (2020, 'Buy', 38.0), (2021, 'Buy', 38.0), (2022, 'Buy', 38.0), (2023, 'Buy', 38.0), (2024, 'Buy', 38.0), (2025, 'Buy', 38.0), (2026, 'Buy', 38.0), (2027, 'Buy', 38.0), (2028, 'Buy', 38.0), (2029, 'Buy', 38.0), (2030, 'Buy', 38.0), (2031, 'Buy', 38.0), (2032, 'Buy', 38.0), (2033, 'Buy', 38.0), (2034, 'Buy', 38.0), (2035, 'Buy', 38.0), (2036, 'Buy', 38.0), (2037, 'Buy', 38.0), (2038, 'Buy', 38.0), (2039, 'Buy', 38.0), (2040, 'Buy', 38.0), (2041, 'Buy', 38.0), (2085, 'Buy', 6.0), (2086, 'Buy', 6.0), (2087, 'Buy', 6.0), (2088, 'Buy', 6.0), (2089, 'Buy', 6.0), (2090, 'Buy', 6.0), (2091, 'Buy', 6.0), (2092, 'Buy', 6.0), (2093, 'Buy', 6.0), (2094, 'Buy', 6.0), (2095, 'Buy', 6.0), (2096, 'Buy', 6.0), (2097, 'Buy', 6.0), (2098, 'Buy', 6.0), (2099, 'Buy', 6.0), (2100, 'Buy', 6.0), (2101, 'Sell', 38.0), (2102, 'Sell', 38.0), (2103, 'Sell', 38.0), (2104, 'Sell', 38.0), (2105, 'Sell', 38.0), (2106, 'Sell', 38.0), (2107, 'Sell', 38.0), (2108, 'Sell', 38.0), (2109, 'Sell', 38.0), (2110, 'Sell', 38.0), (2111, 'Sell', 38.0), (2112, 'Sell', 38.0), (2113, 'Sell', 38.0), (2114, 'Sell', 38.0), (2115, 'Sell', 38.0), (2116, 'Sell', 38.0), (2117, 'Sell', 38.0), (2118, 'Sell', 38.0), (2119, 'Sell', 38.0), (2120, 'Sell', 38.0), (2121, 'Sell', 38.0), (2122, 'Sell', 38.0), (2123, 'Sell', 38.0), (2124, 'Sell', 38.0), (2125, 'Sell', 38.0), (2126, 'Sell', 38.0), (2127, 'Sell', 38.0), (2128, 'Sell', 38.0), (2169, 'Sell', 56.0), (2170, 'Sell', 56.0), (2171, 'Sell', 56.0), (2172, 'Sell', 56.0), (2173, 'Sell', 56.0), (2174, 'Sell', 56.0), (2175, 'Sell', 56.0), (2176, 'Sell', 56.0), (2177, 'Sell', 56.0), (2178, 'Sell', 56.0), (2179, 'Sell', 56.0), (2180, 'Sell', 56.0), (2181, 'Sell', 56.0), (2182, 'Sell', 56.0), (2183, 'Sell', 56.0), (2184, 'Sell', 56.0), (2185, 'Sell', 56.0), (2186, 'Sell', 56.0), (2187, 'Buy', 38.0), (2188, 'Buy', 38.0), (2189, 'Buy', 38.0), (2190, 'Buy', 38.0), (2191, 'Buy', 38.0), (2192, 'Buy', 38.0), (2193, 'Buy', 38.0), (2194, 'Buy', 38.0), (2195, 'Buy', 38.0), (2196, 'Buy', 38.0), (2197, 'Buy', 37.0), (2198, 'Buy', 37.0), (2199, 'Buy', 37.0), (2200, 'Buy', 38.0), (2201, 'Buy', 38.0), (2202, 'Buy', 38.0), (2203, 'Buy', 38.0), (2204, 'Buy', 38.0), (2205, 'Buy', 38.0), (2206, 'Buy', 38.0), (2207, 'Buy', 38.0), (2208, 'Buy', 38.0), (2209, 'Buy', 38.0), (2210, 'Buy', 38.0), (2211, 'Buy', 38.0), (2212, 'Buy', 38.0), (2213, 'Buy', 38.0), (2214, 'Buy', 38.0), (2256, 'Buy', 6.0), (2257, 'Buy', 6.0), (2258, 'Buy', 6.0), (2259, 'Buy', 6.0), (2260, 'Buy', 6.0), (2261, 'Buy', 6.0), (2262, 'Buy', 6.0), (2263, 'Buy', 6.0), (2264, 'Buy', 6.0), (2265, 'Buy', 6.0), (2266, 'Buy', 6.0), (2267, 'Buy', 6.0), (2268, 'Buy', 6.0), (2269, 'Buy', 6.0), (2270, 'Buy', 6.0), (2271, 'Buy', 6.0), (2272, 'Buy', 6.0), (2273, 'Sell', 38.0), (2274, 'Sell', 38.0), (2275, 'Sell', 38.0), (2276, 'Sell', 38.0), (2277, 'Sell', 38.0), (2278, 'Sell', 38.0), (2279, 'Sell', 38.0), (2280, 'Sell', 38.0), (2281, 'Sell', 38.0), (2282, 'Sell', 38.0), (2283, 'Sell', 38.0), (2284, 'Sell', 38.0), (2285, 'Sell', 38.0), (2286, 'Sell', 38.0), (2287, 'Sell', 38.0), (2288, 'Sell', 38.0), (2289, 'Sell', 38.0), (2290, 'Sell', 38.0), (2291, 'Sell', 38.0), (2292, 'Sell', 38.0), (2293, 'Sell', 38.0), (2294, 'Sell', 38.0), (2295, 'Sell', 38.0), (2296, 'Sell', 38.0), (2297, 'Sell', 38.0), (2298, 'Sell', 38.0), (2299, 'Sell', 38.0), (2300, 'Sell', 38.0), (2333, 'Buy', 37.0), (2334, 'Buy', 37.0), (2340, 'Sell', 56.0), (2341, 'Sell', 56.0), (2342, 'Sell', 56.0), (2343, 'Sell', 56.0), (2344, 'Sell', 56.0), (2345, 'Sell', 56.0), (2346, 'Sell', 56.0), (2347, 'Sell', 56.0), (2348, 'Sell', 56.0), (2349, 'Sell', 56.0), (2350, 'Sell', 56.0), (2351, 'Sell', 56.0), (2352, 'Sell', 56.0), (2353, 'Sell', 56.0), (2354, 'Sell', 56.0), (2355, 'Sell', 56.0), (2356, 'Sell', 56.0), (2357, 'Buy', 38.0), (2358, 'Buy', 38.0), (2359, 'Buy', 38.0), (2360, 'Buy', 38.0), (2361, 'Buy', 38.0), (2362, 'Buy', 38.0), (2363, 'Buy', 38.0), (2364, 'Buy', 38.0), (2365, 'Buy', 38.0), (2366, 'Buy', 38.0), (2367, 'Buy', 38.0), (2368, 'Buy', 38.0), (2369, 'Buy', 38.0), (2370, 'Buy', 38.0), (2371, 'Buy', 38.0), (2372, 'Buy', 38.0), (2373, 'Buy', 38.0), (2374, 'Buy', 38.0), (2375, 'Buy', 38.0), (2376, 'Buy', 38.0), (2377, 'Buy', 38.0), (2378, 'Buy', 38.0), (2379, 'Buy', 38.0), (2380, 'Buy', 38.0), (2381, 'Buy', 38.0), (2382, 'Buy', 38.0), (2383, 'Buy', 38.0), (2384, 'Buy', 38.0), (2418, 'Buy', 37.0), (2419, 'Buy', 37.0), (2425, 'Buy', 6.0), (2426, 'Buy', 6.0), (2427, 'Buy', 6.0), (2428, 'Buy', 6.0), (2429, 'Buy', 6.0), (2430, 'Buy', 6.0), (2431, 'Buy', 6.0), (2432, 'Buy', 6.0), (2433, 'Buy', 6.0), (2434, 'Buy', 6.0), (2435, 'Buy', 6.0), (2436, 'Buy', 6.0), (2437, 'Buy', 6.0), (2438, 'Buy', 6.0), (2439, 'Buy', 6.0), (2440, 'Buy', 6.0), (2441, 'Sell', 38.0), (2442, 'Sell', 38.0), (2443, 'Sell', 38.0), (2444, 'Sell', 38.0), (2445, 'Sell', 38.0), (2446, 'Sell', 38.0), (2447, 'Sell', 38.0), (2448, 'Sell', 38.0), (2449, 'Sell', 38.0), (2450, 'Sell', 38.0), (2451, 'Sell', 38.0), (2452, 'Sell', 38.0), (2453, 'Sell', 38.0), (2454, 'Sell', 38.0), (2455, 'Sell', 38.0), (2456, 'Sell', 38.0), (2457, 'Sell', 38.0), (2458, 'Sell', 38.0), (2459, 'Sell', 38.0), (2460, 'Sell', 38.0), (2461, 'Sell', 38.0), (2462, 'Sell', 38.0), (2463, 'Sell', 38.0), (2464, 'Sell', 38.0), (2465, 'Sell', 38.0), (2466, 'Sell', 38.0), (2467, 'Sell', 38.0), (2468, 'Sell', 38.0), (2471, 'Buy', 37.0), (2472, 'Buy', 37.0), (2507, 'Sell', 56.0), (2508, 'Sell', 56.0), (2509, 'Sell', 56.0), (2510, 'Sell', 56.0), (2511, 'Sell', 56.0), (2512, 'Sell', 56.0), (2513, 'Sell', 56.0), (2514, 'Sell', 56.0), (2515, 'Sell', 56.0), (2516, 'Sell', 56.0), (2517, 'Sell', 56.0), (2518, 'Sell', 56.0), (2519, 'Sell', 56.0), (2520, 'Sell', 56.0), (2521, 'Sell', 55.0), (2522, 'Sell', 55.0), (2523, 'Sell', 55.0), (2524, 'Buy', 38.0), (2525, 'Buy', 38.0), (2526, 'Buy', 38.0), (2527, 'Buy', 38.0), (2528, 'Buy', 38.0), (2529, 'Buy', 38.0), (2530, 'Buy', 38.0), (2531, 'Buy', 38.0), (2532, 'Buy', 38.0), (2533, 'Buy', 38.0), (2534, 'Buy', 38.0), (2535, 'Buy', 38.0), (2536, 'Buy', 38.0), (2537, 'Buy', 38.0), (2538, 'Buy', 38.0), (2539, 'Buy', 38.0), (2540, 'Buy', 38.0), (2541, 'Buy', 38.0), (2542, 'Buy', 38.0), (2543, 'Buy', 38.0), (2544, 'Buy', 38.0), (2545, 'Buy', 38.0), (2546, 'Buy', 38.0), (2547, 'Buy', 38.0), (2548, 'Buy', 38.0), (2549, 'Buy', 38.0), (2550, 'Buy', 38.0), (2551, 'Buy', 38.0), (2574, 'Buy', 37.0), (2575, 'Buy', 37.0), (2576, 'Buy', 37.0), (2577, 'Buy', 37.0), (2594, 'Buy', 6.0), (2595, 'Buy', 6.0), (2596, 'Buy', 6.0), (2597, 'Buy', 6.0), (2598, 'Buy', 6.0), (2599, 'Buy', 6.0), (2600, 'Buy', 6.0), (2601, 'Buy', 6.0), (2602, 'Buy', 6.0), (2603, 'Buy', 6.0), (2604, 'Buy', 6.0), (2605, 'Buy', 5.0), (2606, 'Buy', 5.0), (2607, 'Buy', 5.0), (2608, 'Buy', 6.0), (2609, 'Buy', 6.0), (2610, 'Buy', 6.0), (2611, 'Buy', 6.0), (2612, 'Buy', 6.0), (2613, 'Sell', 38.0), (2614, 'Sell', 38.0), (2615, 'Sell', 38.0), (2616, 'Sell', 38.0), (2617, 'Sell', 38.0), (2618, 'Sell', 38.0), (2619, 'Sell', 38.0), (2620, 'Sell', 38.0), (2621, 'Sell', 38.0), (2622, 'Sell', 38.0), (2623, 'Sell', 38.0), (2624, 'Sell', 38.0), (2625, 'Sell', 38.0), (2626, 'Sell', 38.0), (2627, 'Sell', 38.0), (2628, 'Sell', 38.0), (2629, 'Sell', 38.0), (2630, 'Sell', 38.0), (2631, 'Sell', 38.0), (2632, 'Sell', 38.0), (2633, 'Sell', 38.0), (2634, 'Sell', 38.0), (2635, 'Sell', 38.0), (2636, 'Sell', 38.0), (2637, 'Sell', 38.0), (2638, 'Sell', 38.0), (2639, 'Sell', 38.0), (2640, 'Sell', 38.0), (2684, 'Sell', 56.0), (2685, 'Sell', 56.0), (2686, 'Sell', 56.0), (2687, 'Sell', 56.0), (2688, 'Sell', 56.0), (2689, 'Sell', 56.0), (2690, 'Sell', 56.0), (2691, 'Sell', 56.0), (2692, 'Sell', 56.0), (2693, 'Sell', 56.0), (2694, 'Sell', 56.0), (2695, 'Sell', 56.0), (2696, 'Sell', 56.0), (2697, 'Sell', 56.0), (2698, 'Sell', 56.0), (2699, 'Sell', 56.0), (2700, 'Sell', 56.0), (2701, 'Sell', 56.0), (2702, 'Buy', 38.0), (2703, 'Buy', 38.0), (2704, 'Buy', 38.0), (2705, 'Buy', 38.0), (2706, 'Buy', 38.0), (2707, 'Buy', 38.0), (2708, 'Buy', 38.0), (2709, 'Buy', 38.0), (2710, 'Buy', 38.0), (2711, 'Buy', 38.0), (2712, 'Buy', 38.0), (2713, 'Buy', 38.0), (2714, 'Buy', 38.0), (2715, 'Buy', 38.0), (2716, 'Buy', 38.0), (2717, 'Buy', 38.0), (2718, 'Buy', 38.0), (2719, 'Buy', 38.0), (2720, 'Buy', 38.0), (2721, 'Buy', 38.0), (2722, 'Buy', 38.0), (2723, 'Buy', 38.0), (2724, 'Buy', 38.0), (2725, 'Buy', 38.0), (2726, 'Buy', 38.0), (2727, 'Buy', 38.0), (2728, 'Buy', 38.0), (2729, 'Buy', 38.0), (2764, 'Buy', 37.0), (2765, 'Buy', 37.0), (2769, 'Buy', 6.0), (2770, 'Buy', 6.0), (2771, 'Buy', 6.0), (2772, 'Buy', 6.0), (2773, 'Buy', 6.0), (2774, 'Buy', 6.0), (2775, 'Buy', 6.0), (2776, 'Buy', 6.0), (2777, 'Buy', 6.0), (2778, 'Buy', 6.0), (2779, 'Buy', 6.0), (2780, 'Buy', 6.0), (2781, 'Buy', 6.0), (2782, 'Buy', 6.0), (2783, 'Buy', 6.0), (2784, 'Buy', 6.0), (2785, 'Buy', 6.0), (2786, 'Sell', 38.0), (2787, 'Sell', 38.0), (2788, 'Sell', 38.0), (2789, 'Sell', 38.0), (2790, 'Sell', 38.0), (2791, 'Sell', 38.0), (2792, 'Sell', 38.0), (2793, 'Sell', 38.0), (2794, 'Sell', 38.0), (2795, 'Sell', 38.0), (2796, 'Sell', 38.0), (2797, 'Sell', 38.0), (2798, 'Sell', 38.0), (2799, 'Sell', 38.0), (2800, 'Sell', 38.0), (2801, 'Sell', 38.0), (2802, 'Sell', 38.0), (2803, 'Sell', 38.0), (2804, 'Sell', 38.0), (2805, 'Sell', 38.0), (2806, 'Sell', 38.0), (2807, 'Sell', 38.0), (2808, 'Sell', 38.0), (2809, 'Sell', 38.0), (2810, 'Sell', 38.0), (2811, 'Sell', 38.0), (2812, 'Sell', 38.0), (2813, 'Sell', 38.0), (2815, 'Buy', 37.0), (2816, 'Buy', 37.0), (2817, 'Buy', 37.0), (2853, 'Sell', 56.0), (2854, 'Sell', 56.0), (2855, 'Sell', 56.0), (2856, 'Sell', 56.0), (2857, 'Sell', 56.0), (2858, 'Sell', 56.0), (2859, 'Sell', 56.0), (2860, 'Sell', 56.0), (2861, 'Sell', 56.0), (2862, 'Sell', 56.0), (2863, 'Sell', 56.0), (2864, 'Sell', 56.0), (2865, 'Sell', 56.0), (2866, 'Sell', 56.0), (2867, 'Sell', 56.0), (2868, 'Sell', 56.0), (2869, 'Buy', 38.0), (2870, 'Buy', 38.0), (2871, 'Buy', 38.0), (2872, 'Buy', 38.0), (2873, 'Buy', 38.0), (2874, 'Buy', 38.0), (2875, 'Buy', 38.0), (2876, 'Buy', 38.0), (2877, 'Buy', 38.0), (2878, 'Buy', 38.0), (2879, 'Buy', 38.0), (2880, 'Buy', 38.0), (2881, 'Buy', 38.0), (2882, 'Buy', 38.0), (2883, 'Buy', 38.0), (2884, 'Buy', 38.0), (2885, 'Buy', 38.0), (2886, 'Buy', 38.0), (2887, 'Buy', 38.0), (2888, 'Buy', 38.0), (2889, 'Buy', 38.0), (2890, 'Buy', 38.0), (2891, 'Buy', 38.0), (2892, 'Buy', 38.0), (2893, 'Buy', 38.0), (2894, 'Buy', 38.0), (2895, 'Buy', 38.0), (2896, 'Buy', 38.0), (2931, 'Buy', 37.0), (2932, 'Buy', 37.0), (2933, 'Buy', 37.0), (2937, 'Buy', 6.0), (2938, 'Buy', 6.0), (2939, 'Buy', 6.0), (2940, 'Buy', 6.0), (2941, 'Buy', 6.0), (2942, 'Buy', 6.0), (2943, 'Buy', 6.0), (2944, 'Buy', 6.0), (2945, 'Buy', 6.0), (2946, 'Buy', 6.0), (2947, 'Buy', 6.0), (2948, 'Buy', 6.0), (2949, 'Buy', 6.0), (2950, 'Buy', 6.0), (2951, 'Buy', 6.0), (2952, 'Buy', 6.0), (2953, 'Buy', 6.0), (2954, 'Buy', 6.0), (2955, 'Buy', 6.0), (2956, 'Buy', 6.0), (2957, 'Sell', 38.0), (2958, 'Sell', 38.0), (2959, 'Sell', 38.0), (2960, 'Sell', 38.0), (2961, 'Sell', 38.0), (2962, 'Sell', 38.0), (2963, 'Sell', 38.0), (2964, 'Sell', 38.0), (2965, 'Sell', 38.0), (2966, 'Sell', 38.0), (2967, 'Sell', 38.0), (2968, 'Sell', 38.0), (2969, 'Sell', 38.0), (2970, 'Sell', 38.0), (2971, 'Sell', 38.0), (2972, 'Sell', 38.0), (2973, 'Sell', 38.0), (2974, 'Sell', 38.0), (2975, 'Sell', 38.0), (2976, 'Sell', 38.0), (2977, 'Sell', 38.0), (2978, 'Sell', 38.0), (2979, 'Sell', 38.0), (2980, 'Sell', 38.0), (2981, 'Sell', 38.0), (2982, 'Sell', 38.0), (2983, 'Sell', 38.0), (2984, 'Sell', 38.0), (3013, 'Buy', 37.0), (3014, 'Buy', 37.0), (3027, 'Sell', 56.0), (3028, 'Sell', 56.0), (3029, 'Sell', 56.0), (3030, 'Sell', 56.0), (3031, 'Sell', 56.0), (3032, 'Sell', 56.0), (3033, 'Sell', 56.0), (3034, 'Sell', 56.0), (3035, 'Sell', 56.0), (3036, 'Sell', 56.0), (3037, 'Sell', 56.0), (3038, 'Sell', 56.0), (3039, 'Sell', 56.0), (3040, 'Sell', 56.0), (3041, 'Sell', 56.0), (3042, 'Sell', 56.0), (3043, 'Sell', 56.0), (3044, 'Buy', 38.0), (3045, 'Buy', 38.0), (3046, 'Buy', 38.0), (3047, 'Buy', 38.0), (3048, 'Buy', 38.0), (3049, 'Buy', 38.0), (3050, 'Buy', 38.0), (3051, 'Buy', 38.0), (3052, 'Buy', 38.0), (3053, 'Buy', 38.0), (3054, 'Buy', 38.0), (3055, 'Buy', 38.0), (3056, 'Buy', 38.0), (3057, 'Buy', 38.0), (3058, 'Buy', 38.0), (3059, 'Buy', 38.0), (3060, 'Buy', 38.0), (3061, 'Buy', 38.0), (3062, 'Buy', 38.0), (3063, 'Buy', 38.0), (3064, 'Buy', 38.0), (3065, 'Buy', 38.0), (3066, 'Buy', 38.0), (3067, 'Buy', 38.0), (3068, 'Buy', 38.0), (3069, 'Buy', 37.0), (3070, 'Buy', 37.0), (3071, 'Buy', 38.0), (3106, 'Buy', 6.0), (3107, 'Buy', 6.0), (3108, 'Buy', 6.0), (3109, 'Buy', 6.0), (3110, 'Buy', 6.0), (3111, 'Buy', 6.0), (3112, 'Buy', 6.0), (3113, 'Buy', 6.0), (3114, 'Buy', 6.0), (3115, 'Buy', 6.0), (3116, 'Buy', 6.0), (3117, 'Buy', 6.0), (3118, 'Buy', 6.0), (3119, 'Buy', 6.0), (3120, 'Buy', 6.0), (3121, 'Buy', 6.0), (3122, 'Buy', 6.0), (3123, 'Buy', 6.0), (3124, 'Sell', 37.0), (3125, 'Sell', 37.0), (3126, 'Sell', 38.0), (3127, 'Sell', 38.0), (3128, 'Sell', 38.0), (3129, 'Sell', 38.0), (3130, 'Sell', 38.0), (3131, 'Sell', 38.0), (3132, 'Sell', 38.0), (3133, 'Sell', 38.0), (3134, 'Sell', 38.0), (3135, 'Sell', 38.0), (3136, 'Sell', 38.0), (3137, 'Sell', 38.0), (3138, 'Sell', 38.0), (3139, 'Sell', 38.0), (3140, 'Sell', 38.0), (3141, 'Sell', 38.0), (3142, 'Sell', 38.0), (3143, 'Sell', 38.0), (3144, 'Sell', 38.0), (3145, 'Sell', 38.0), (3146, 'Sell', 38.0), (3147, 'Sell', 38.0), (3148, 'Sell', 38.0), (3149, 'Sell', 38.0), (3150, 'Sell', 38.0), (3151, 'Sell', 38.0), (3196, 'Sell', 56.0), (3197, 'Sell', 56.0), (3198, 'Sell', 56.0), (3199, 'Sell', 56.0), (3200, 'Sell', 56.0), (3201, 'Sell', 56.0), (3202, 'Sell', 56.0), (3203, 'Sell', 56.0), (3204, 'Sell', 56.0), (3205, 'Sell', 56.0), (3206, 'Sell', 56.0), (3207, 'Sell', 56.0), (3208, 'Sell', 56.0), (3209, 'Sell', 56.0), (3210, 'Sell', 56.0), (3211, 'Sell', 56.0), (3212, 'Sell', 56.0), (3213, 'Sell', 56.0), (3214, 'Sell', 56.0), (3215, 'Buy', 38.0), (3216, 'Buy', 38.0), (3217, 'Buy', 38.0), (3218, 'Buy', 38.0), (3219, 'Buy', 38.0), (3220, 'Buy', 38.0), (3221, 'Buy', 38.0), (3222, 'Buy', 38.0), (3223, 'Buy', 38.0), (3224, 'Buy', 38.0), (3225, 'Buy', 38.0), (3226, 'Buy', 38.0), (3227, 'Buy', 38.0), (3228, 'Buy', 38.0), (3229, 'Buy', 38.0), (3230, 'Buy', 38.0), (3231, 'Buy', 38.0), (3232, 'Buy', 38.0), (3233, 'Buy', 38.0), (3234, 'Buy', 38.0), (3235, 'Buy', 38.0), (3236, 'Buy', 38.0), (3237, 'Buy', 38.0), (3238, 'Buy', 38.0), (3239, 'Buy', 38.0), (3240, 'Buy', 38.0), (3241, 'Buy', 38.0), (3242, 'Buy', 38.0), (3275, 'Buy', 37.0), (3276, 'Buy', 37.0), (3283, 'Buy', 6.0), (3284, 'Buy', 6.0), (3285, 'Buy', 6.0), (3286, 'Buy', 6.0), (3287, 'Buy', 6.0), (3288, 'Buy', 6.0), (3289, 'Buy', 6.0), (3290, 'Buy', 6.0), (3291, 'Buy', 6.0), (3292, 'Buy', 6.0), (3293, 'Buy', 6.0), (3294, 'Buy', 6.0), (3295, 'Buy', 6.0), (3296, 'Buy', 6.0), (3297, 'Buy', 6.0), (3298, 'Buy', 6.0), (3299, 'Buy', 6.0), (3300, 'Buy', 6.0), (3301, 'Buy', 6.0), (3302, 'Sell', 38.0), (3303, 'Sell', 38.0), (3304, 'Sell', 38.0), (3305, 'Sell', 38.0), (3306, 'Sell', 38.0), (3307, 'Sell', 38.0), (3308, 'Sell', 38.0), (3309, 'Sell', 38.0), (3310, 'Sell', 38.0), (3311, 'Sell', 38.0), (3312, 'Sell', 38.0), (3313, 'Sell', 38.0), (3314, 'Sell', 38.0), (3315, 'Sell', 38.0), (3316, 'Sell', 38.0), (3317, 'Sell', 38.0), (3318, 'Sell', 38.0), (3319, 'Sell', 38.0), (3320, 'Sell', 38.0), (3321, 'Sell', 38.0), (3322, 'Sell', 38.0), (3323, 'Sell', 38.0), (3324, 'Sell', 38.0), (3325, 'Sell', 38.0), (3326, 'Sell', 38.0), (3327, 'Sell', 38.0), (3328, 'Sell', 38.0), (3329, 'Sell', 38.0), (3374, 'Sell', 56.0), (3375, 'Sell', 56.0), (3376, 'Sell', 56.0), (3377, 'Sell', 56.0), (3378, 'Sell', 56.0), (3379, 'Sell', 56.0), (3380, 'Sell', 56.0), (3381, 'Sell', 56.0), (3382, 'Sell', 56.0), (3383, 'Sell', 56.0), (3384, 'Sell', 56.0), (3385, 'Sell', 56.0), (3386, 'Sell', 56.0), (3387, 'Sell', 56.0), (3388, 'Sell', 56.0), (3389, 'Sell', 56.0), (3390, 'Sell', 56.0), (3391, 'Buy', 38.0), (3392, 'Buy', 38.0), (3393, 'Buy', 38.0), (3394, 'Buy', 38.0), (3395, 'Buy', 38.0), (3396, 'Buy', 38.0), (3397, 'Buy', 38.0), (3398, 'Buy', 38.0), (3399, 'Buy', 38.0), (3400, 'Buy', 38.0), (3401, 'Buy', 38.0), (3402, 'Buy', 38.0), (3403, 'Buy', 38.0), (3404, 'Buy', 38.0), (3405, 'Buy', 38.0), (3406, 'Buy', 38.0), (3407, 'Buy', 38.0), (3408, 'Buy', 38.0), (3409, 'Buy', 38.0), (3410, 'Buy', 38.0), (3411, 'Buy', 38.0), (3412, 'Buy', 38.0), (3413, 'Buy', 38.0), (3414, 'Buy', 38.0), (3415, 'Buy', 38.0), (3416, 'Buy', 38.0), (3417, 'Buy', 38.0), (3418, 'Buy', 38.0), (3439, 'Buy', 37.0), (3440, 'Buy', 37.0), (3441, 'Buy', 37.0), (3461, 'Buy', 6.0), (3462, 'Buy', 6.0), (3463, 'Buy', 6.0), (3464, 'Buy', 6.0), (3465, 'Buy', 6.0), (3466, 'Buy', 6.0), (3467, 'Buy', 6.0), (3468, 'Buy', 6.0), (3469, 'Buy', 6.0), (3470, 'Buy', 6.0), (3471, 'Buy', 6.0), (3472, 'Buy', 6.0), (3473, 'Buy', 6.0), (3474, 'Buy', 6.0), (3475, 'Buy', 6.0), (3476, 'Buy', 6.0), (3477, 'Sell', 38.0), (3478, 'Sell', 38.0), (3479, 'Sell', 38.0), (3480, 'Sell', 38.0), (3481, 'Sell', 38.0), (3482, 'Sell', 38.0), (3483, 'Sell', 38.0), (3484, 'Sell', 38.0), (3485, 'Sell', 38.0), (3486, 'Sell', 38.0), (3487, 'Sell', 38.0), (3488, 'Sell', 38.0), (3489, 'Sell', 38.0), (3490, 'Sell', 38.0), (3491, 'Sell', 38.0), (3492, 'Sell', 38.0), (3493, 'Sell', 38.0), (3494, 'Sell', 38.0), (3495, 'Sell', 38.0), (3496, 'Sell', 37.0), (3497, 'Sell', 37.0), (3498, 'Sell', 38.0), (3499, 'Sell', 38.0), (3500, 'Sell', 38.0), (3501, 'Sell', 38.0), (3502, 'Sell', 38.0), (3503, 'Sell', 38.0), (3504, 'Sell', 38.0), (3533, 'Buy', 37.0), (3534, 'Buy', 37.0), (3544, 'Sell', 56.0), (3545, 'Sell', 56.0), (3546, 'Sell', 56.0), (3547, 'Sell', 56.0), (3548, 'Sell', 56.0), (3549, 'Sell', 56.0), (3550, 'Sell', 56.0), (3551, 'Sell', 56.0), (3552, 'Sell', 56.0), (3553, 'Sell', 56.0), (3554, 'Sell', 56.0), (3555, 'Sell', 56.0), (3556, 'Sell', 56.0), (3557, 'Sell', 56.0), (3558, 'Sell', 56.0), (3559, 'Sell', 56.0), (3560, 'Sell', 56.0), (3561, 'Buy', 38.0), (3562, 'Buy', 38.0), (3563, 'Buy', 38.0), (3564, 'Buy', 38.0), (3565, 'Buy', 38.0), (3566, 'Buy', 38.0), (3567, 'Buy', 38.0), (3568, 'Buy', 38.0), (3569, 'Buy', 38.0), (3570, 'Buy', 38.0), (3571, 'Buy', 38.0), (3572, 'Buy', 38.0), (3573, 'Buy', 38.0), (3574, 'Buy', 38.0), (3575, 'Buy', 38.0), (3576, 'Buy', 38.0), (3577, 'Buy', 38.0), (3578, 'Buy', 38.0), (3579, 'Buy', 38.0), (3580, 'Buy', 38.0), (3581, 'Buy', 38.0), (3582, 'Buy', 37.0), (3583, 'Buy', 37.0), (3584, 'Buy', 38.0), (3585, 'Buy', 38.0), (3586, 'Buy', 38.0), (3587, 'Buy', 38.0), (3588, 'Buy', 38.0), (3633, 'Buy', 6.0), (3634, 'Buy', 6.0), (3635, 'Buy', 6.0), (3636, 'Buy', 6.0), (3637, 'Buy', 6.0), (3638, 'Buy', 6.0), (3639, 'Buy', 6.0), (3640, 'Buy', 6.0), (3641, 'Buy', 6.0), (3642, 'Buy', 6.0), (3643, 'Buy', 6.0), (3644, 'Buy', 6.0), (3645, 'Buy', 6.0), (3646, 'Buy', 6.0), (3647, 'Buy', 6.0), (3648, 'Buy', 6.0), (3649, 'Buy', 6.0), (3650, 'Sell', 38.0), (3651, 'Sell', 38.0), (3652, 'Sell', 38.0), (3653, 'Sell', 38.0), (3654, 'Sell', 38.0), (3655, 'Sell', 38.0), (3656, 'Sell', 38.0), (3657, 'Sell', 38.0), (3658, 'Sell', 38.0), (3659, 'Sell', 38.0), (3660, 'Sell', 38.0), (3661, 'Sell', 38.0), (3662, 'Sell', 38.0), (3663, 'Sell', 38.0), (3664, 'Sell', 38.0), (3665, 'Sell', 38.0), (3666, 'Sell', 38.0), (3667, 'Sell', 38.0), (3668, 'Sell', 38.0), (3669, 'Sell', 38.0), (3670, 'Sell', 38.0), (3671, 'Sell', 38.0), (3672, 'Sell', 38.0), (3673, 'Sell', 38.0), (3674, 'Sell', 38.0), (3675, 'Sell', 38.0), (3676, 'Sell', 38.0), (3677, 'Sell', 38.0), (3709, 'Buy', 37.0), (3710, 'Buy', 37.0), (3716, 'Sell', 56.0), (3717, 'Sell', 56.0), (3718, 'Sell', 55.0), (3719, 'Sell', 55.0), (3720, 'Sell', 56.0), (3721, 'Sell', 56.0), (3722, 'Sell', 56.0), (3723, 'Sell', 56.0), (3724, 'Sell', 56.0), (3725, 'Sell', 56.0), (3726, 'Sell', 56.0), (3727, 'Sell', 56.0), (3728, 'Sell', 56.0), (3729, 'Sell', 56.0), (3730, 'Sell', 56.0), (3731, 'Sell', 56.0), (3732, 'Buy', 38.0), (3733, 'Buy', 38.0), (3734, 'Buy', 38.0), (3735, 'Buy', 38.0), (3736, 'Buy', 38.0), (3737, 'Buy', 38.0), (3738, 'Buy', 38.0), (3739, 'Buy', 38.0), (3740, 'Buy', 38.0), (3741, 'Buy', 38.0), (3742, 'Buy', 38.0), (3743, 'Buy', 38.0), (3744, 'Buy', 38.0), (3745, 'Buy', 38.0), (3746, 'Buy', 38.0), (3747, 'Buy', 38.0), (3748, 'Buy', 38.0), (3749, 'Buy', 38.0), (3750, 'Buy', 38.0), (3751, 'Buy', 38.0), (3752, 'Buy', 38.0), (3753, 'Buy', 38.0), (3754, 'Buy', 38.0), (3755, 'Buy', 38.0), (3756, 'Buy', 38.0), (3757, 'Buy', 38.0), (3758, 'Buy', 38.0), (3759, 'Buy', 37.0), (3760, 'Buy', 37.0), (3761, 'Buy', 37.0), (3762, 'Buy', 37.0), (3763, 'Buy', 37.0), (3771, 'Buy', 37.0), (3772, 'Buy', 37.0), (3777, 'Buy', 37.0), (3778, 'Buy', 37.0), (3779, 'Buy', 37.0), (3799, 'Buy', 6.0), (3800, 'Buy', 6.0), (3801, 'Buy', 6.0), (3802, 'Buy', 6.0), (3803, 'Buy', 6.0), (3804, 'Buy', 6.0), (3805, 'Buy', 6.0), (3806, 'Buy', 6.0), (3807, 'Buy', 6.0), (3808, 'Buy', 6.0), (3809, 'Buy', 6.0), (3810, 'Buy', 6.0), (3811, 'Buy', 6.0), (3812, 'Buy', 6.0), (3813, 'Buy', 6.0), (3814, 'Buy', 6.0), (3815, 'Buy', 6.0), (3816, 'Sell', 38.0), (3817, 'Sell', 38.0), (3818, 'Sell', 38.0), (3819, 'Sell', 38.0), (3820, 'Sell', 38.0), (3821, 'Sell', 38.0), (3822, 'Sell', 38.0), (3823, 'Sell', 38.0), (3824, 'Sell', 38.0), (3825, 'Sell', 38.0), (3826, 'Sell', 38.0), (3827, 'Sell', 38.0), (3828, 'Sell', 38.0), (3829, 'Sell', 38.0), (3830, 'Sell', 38.0), (3831, 'Sell', 38.0), (3832, 'Sell', 38.0), (3833, 'Sell', 38.0), (3834, 'Sell', 37.0), (3835, 'Sell', 37.0), (3836, 'Sell', 38.0), (3837, 'Sell', 38.0), (3838, 'Sell', 38.0), (3839, 'Sell', 38.0), (3840, 'Sell', 38.0), (3841, 'Sell', 38.0), (3842, 'Sell', 38.0), (3843, 'Sell', 38.0), (3881, 'Buy', 37.0), (3882, 'Buy', 37.0), (3884, 'Sell', 56.0), (3885, 'Sell', 56.0), (3886, 'Sell', 56.0), (3887, 'Sell', 56.0), (3888, 'Sell', 56.0), (3889, 'Sell', 56.0), (3890, 'Sell', 56.0), (3891, 'Sell', 56.0), (3892, 'Sell', 56.0), (3893, 'Sell', 56.0), (3894, 'Sell', 56.0), (3895, 'Sell', 56.0), (3896, 'Sell', 56.0), (3897, 'Sell', 56.0), (3898, 'Sell', 56.0), (3899, 'Sell', 56.0), (3900, 'Sell', 56.0), (3901, 'Sell', 56.0), (3902, 'Buy', 38.0), (3903, 'Buy', 38.0), (3904, 'Buy', 38.0), (3905, 'Buy', 38.0), (3906, 'Buy', 38.0), (3907, 'Buy', 38.0), (3908, 'Buy', 38.0), (3909, 'Buy', 38.0), (3910, 'Buy', 38.0), (3911, 'Buy', 38.0), (3912, 'Buy', 38.0), (3913, 'Buy', 38.0), (3914, 'Buy', 38.0), (3915, 'Buy', 38.0), (3916, 'Buy', 38.0), (3917, 'Buy', 38.0), (3918, 'Buy', 38.0), (3919, 'Buy', 38.0), (3920, 'Buy', 38.0), (3921, 'Buy', 38.0), (3922, 'Buy', 38.0), (3923, 'Buy', 38.0), (3924, 'Buy', 38.0), (3925, 'Buy', 38.0), (3926, 'Buy', 38.0), (3927, 'Buy', 38.0), (3928, 'Buy', 38.0), (3929, 'Buy', 38.0), (3973, 'Buy', 6.0), (3974, 'Buy', 6.0), (3975, 'Buy', 6.0), (3976, 'Buy', 6.0), (3977, 'Buy', 6.0), (3978, 'Buy', 6.0), (3979, 'Buy', 6.0), (3980, 'Buy', 6.0), (3981, 'Buy', 6.0), (3982, 'Buy', 6.0), (3983, 'Buy', 6.0), (3984, 'Buy', 6.0), (3985, 'Buy', 6.0), (3986, 'Buy', 6.0), (3987, 'Buy', 6.0), (3988, 'Buy', 6.0), (3989, 'Buy', 6.0), (3990, 'Buy', 6.0), (3991, 'Sell', 38.0), (3992, 'Sell', 38.0), (3993, 'Sell', 38.0), (3994, 'Sell', 38.0), (3995, 'Sell', 38.0), (3996, 'Sell', 38.0), (3997, 'Sell', 38.0), (3998, 'Sell', 38.0), (3999, 'Sell', 38.0), (4000, 'Sell', 38.0), (4001, 'Sell', 38.0), (4002, 'Sell', 38.0), (4003, 'Sell', 38.0), (4004, 'Sell', 38.0), (4005, 'Sell', 38.0), (4006, 'Sell', 38.0), (4007, 'Sell', 38.0), (4008, 'Sell', 38.0), (4009, 'Sell', 38.0), (4010, 'Sell', 38.0), (4011, 'Sell', 38.0), (4012, 'Sell', 38.0), (4013, 'Sell', 38.0), (4014, 'Sell', 38.0), (4015, 'Sell', 38.0), (4016, 'Sell', 38.0), (4017, 'Sell', 38.0), (4018, 'Sell', 38.0), (4060, 'Sell', 56.0), (4061, 'Sell', 56.0), (4062, 'Sell', 56.0), (4063, 'Sell', 56.0), (4064, 'Sell', 56.0), (4065, 'Sell', 56.0), (4066, 'Sell', 56.0), (4067, 'Sell', 56.0), (4068, 'Sell', 56.0), (4069, 'Sell', 56.0), (4070, 'Sell', 56.0), (4071, 'Sell', 56.0), (4072, 'Sell', 56.0), (4073, 'Sell', 56.0), (4074, 'Sell', 56.0), (4075, 'Sell', 56.0), (4076, 'Sell', 56.0), (4077, 'Buy', 38.0), (4078, 'Buy', 38.0), (4079, 'Buy', 38.0), (4080, 'Buy', 38.0), (4081, 'Buy', 38.0), (4082, 'Buy', 38.0), (4083, 'Buy', 38.0), (4084, 'Buy', 38.0), (4085, 'Buy', 38.0), (4086, 'Buy', 38.0), (4087, 'Buy', 38.0), (4088, 'Buy', 38.0), (4089, 'Buy', 38.0), (4090, 'Buy', 38.0), (4091, 'Buy', 38.0), (4092, 'Buy', 38.0), (4093, 'Buy', 38.0), (4094, 'Buy', 38.0), (4095, 'Buy', 38.0), (4096, 'Buy', 38.0), (4097, 'Buy', 38.0), (4098, 'Buy', 38.0), (4099, 'Buy', 37.0), (4100, 'Buy', 37.0), (4101, 'Buy', 38.0), (4102, 'Buy', 38.0), (4103, 'Buy', 38.0), (4104, 'Buy', 38.0), (4113, 'Buy', 37.0), (4114, 'Buy', 37.0), (4144, 'Buy', 6.0), (4145, 'Buy', 6.0), (4146, 'Buy', 6.0), (4147, 'Buy', 6.0), (4148, 'Buy', 6.0), (4149, 'Buy', 6.0), (4150, 'Buy', 6.0), (4151, 'Buy', 6.0), (4152, 'Buy', 6.0), (4153, 'Buy', 6.0), (4154, 'Buy', 6.0), (4155, 'Buy', 5.0), (4156, 'Buy', 5.0), (4157, 'Buy', 6.0), (4158, 'Buy', 6.0), (4159, 'Buy', 6.0), (4160, 'Buy', 6.0), (4161, 'Buy', 6.0), (4162, 'Sell', 38.0), (4163, 'Sell', 38.0), (4164, 'Sell', 38.0), (4165, 'Sell', 38.0), (4166, 'Sell', 38.0), (4167, 'Sell', 38.0), (4168, 'Sell', 38.0), (4169, 'Sell', 38.0), (4170, 'Sell', 38.0), (4171, 'Sell', 38.0), (4172, 'Sell', 38.0), (4173, 'Sell', 38.0), (4174, 'Sell', 38.0), (4175, 'Sell', 38.0), (4176, 'Sell', 38.0), (4177, 'Sell', 38.0), (4178, 'Sell', 38.0), (4179, 'Sell', 38.0), (4180, 'Sell', 38.0), (4181, 'Sell', 38.0), (4182, 'Sell', 38.0), (4183, 'Sell', 38.0), (4184, 'Sell', 38.0), (4185, 'Sell', 38.0), (4186, 'Sell', 38.0), (4187, 'Sell', 38.0), (4188, 'Sell', 38.0), (4190, 'Buy', 37.0), (4209, 'Buy', 37.0), (4210, 'Buy', 37.0), (4211, 'Buy', 37.0), (4233, 'Sell', 56.0), (4234, 'Sell', 56.0), (4235, 'Sell', 56.0), (4236, 'Sell', 56.0), (4237, 'Sell', 56.0), (4238, 'Sell', 56.0), (4239, 'Sell', 56.0), (4240, 'Sell', 56.0), (4241, 'Sell', 56.0), (4242, 'Sell', 56.0), (4243, 'Sell', 56.0), (4244, 'Sell', 56.0), (4245, 'Sell', 56.0), (4246, 'Sell', 56.0), (4247, 'Sell', 56.0), (4248, 'Sell', 56.0), (4249, 'Sell', 56.0), (4250, 'Sell', 56.0), (4251, 'Buy', 38.0), (4252, 'Buy', 38.0), (4253, 'Buy', 38.0), (4254, 'Buy', 38.0), (4255, 'Buy', 38.0), (4256, 'Buy', 38.0), (4257, 'Buy', 38.0), (4258, 'Buy', 38.0), (4259, 'Buy', 38.0), (4260, 'Buy', 38.0), (4261, 'Buy', 38.0), (4262, 'Buy', 38.0), (4263, 'Buy', 38.0), (4264, 'Buy', 38.0), (4265, 'Buy', 38.0), (4266, 'Buy', 38.0), (4267, 'Buy', 38.0), (4268, 'Buy', 38.0), (4269, 'Buy', 38.0), (4270, 'Buy', 38.0), (4271, 'Buy', 38.0), (4272, 'Buy', 38.0), (4273, 'Buy', 38.0), (4274, 'Buy', 38.0), (4275, 'Buy', 38.0), (4276, 'Buy', 38.0), (4277, 'Buy', 38.0), (4278, 'Buy', 38.0), (4293, 'Buy', 37.0), (4294, 'Buy', 37.0), (4324, 'Buy', 6.0), (4325, 'Buy', 6.0), (4326, 'Buy', 6.0), (4327, 'Buy', 6.0), (4328, 'Buy', 6.0), (4329, 'Buy', 6.0), (4330, 'Buy', 6.0), (4331, 'Buy', 6.0), (4332, 'Buy', 6.0), (4333, 'Buy', 6.0), (4334, 'Buy', 6.0), (4335, 'Buy', 6.0), (4336, 'Buy', 6.0), (4337, 'Buy', 6.0), (4338, 'Buy', 6.0), (4339, 'Sell', 38.0), (4340, 'Sell', 38.0), (4341, 'Sell', 38.0), (4342, 'Sell', 38.0), (4343, 'Sell', 38.0), (4344, 'Sell', 38.0), (4345, 'Sell', 38.0), (4346, 'Sell', 38.0), (4347, 'Sell', 38.0), (4348, 'Sell', 38.0), (4349, 'Sell', 38.0), (4350, 'Sell', 38.0), (4351, 'Sell', 38.0), (4352, 'Sell', 38.0), (4353, 'Sell', 38.0), (4354, 'Sell', 38.0), (4355, 'Sell', 38.0), (4356, 'Sell', 38.0), (4357, 'Sell', 38.0), (4358, 'Sell', 38.0), (4359, 'Sell', 38.0), (4360, 'Sell', 38.0), (4361, 'Sell', 38.0), (4362, 'Sell', 38.0), (4363, 'Sell', 38.0), (4364, 'Sell', 38.0), (4365, 'Sell', 38.0), (4366, 'Sell', 38.0), (4381, 'Buy', 37.0), (4382, 'Buy', 37.0), (4411, 'Sell', 56.0), (4412, 'Sell', 56.0), (4413, 'Sell', 56.0), (4414, 'Sell', 56.0), (4415, 'Sell', 56.0), (4416, 'Sell', 56.0), (4417, 'Sell', 56.0), (4418, 'Sell', 56.0), (4419, 'Sell', 56.0), (4420, 'Sell', 56.0), (4421, 'Sell', 56.0), (4422, 'Sell', 56.0), (4423, 'Sell', 56.0), (4424, 'Sell', 56.0), (4425, 'Sell', 56.0), (4426, 'Sell', 56.0), (4427, 'Sell', 56.0), (4428, 'Sell', 56.0), (4429, 'Sell', 56.0), (4430, 'Sell', 56.0), (4431, 'Sell', 56.0), (4432, 'Buy', 38.0), (4433, 'Buy', 38.0), (4434, 'Buy', 38.0), (4435, 'Buy', 38.0), (4436, 'Buy', 38.0), (4437, 'Buy', 38.0), (4438, 'Buy', 38.0), (4439, 'Buy', 38.0), (4440, 'Buy', 38.0), (4441, 'Buy', 38.0), (4442, 'Buy', 38.0), (4443, 'Buy', 38.0), (4444, 'Buy', 38.0), (4445, 'Buy', 38.0), (4446, 'Buy', 38.0), (4447, 'Buy', 38.0), (4448, 'Buy', 38.0), (4449, 'Buy', 38.0), (4450, 'Buy', 38.0), (4451, 'Buy', 38.0), (4452, 'Buy', 38.0), (4453, 'Buy', 38.0), (4454, 'Buy', 38.0), (4455, 'Buy', 38.0), (4456, 'Buy', 38.0), (4457, 'Buy', 38.0), (4458, 'Buy', 38.0), (4459, 'Buy', 38.0), (4505, 'Buy', 5.0), (4506, 'Buy', 5.0), (4507, 'Buy', 6.0), (4508, 'Buy', 6.0), (4509, 'Buy', 6.0), (4510, 'Buy', 6.0), (4511, 'Buy', 6.0), (4512, 'Buy', 6.0), (4513, 'Buy', 6.0), (4514, 'Buy', 6.0), (4515, 'Buy', 6.0), (4516, 'Buy', 6.0), (4517, 'Buy', 6.0), (4518, 'Buy', 6.0), (4519, 'Buy', 6.0), (4520, 'Buy', 6.0), (4521, 'Buy', 6.0), (4522, 'Sell', 38.0), (4523, 'Sell', 38.0), (4524, 'Sell', 38.0), (4525, 'Sell', 38.0), (4526, 'Sell', 38.0), (4527, 'Sell', 38.0), (4528, 'Sell', 38.0), (4529, 'Sell', 38.0), (4530, 'Sell', 38.0), (4531, 'Sell', 38.0), (4532, 'Sell', 38.0), (4533, 'Sell', 38.0), (4534, 'Sell', 38.0), (4535, 'Sell', 38.0), (4536, 'Sell', 38.0), (4537, 'Sell', 38.0), (4538, 'Sell', 38.0), (4539, 'Sell', 38.0), (4540, 'Sell', 38.0), (4541, 'Sell', 38.0), (4542, 'Sell', 38.0), (4543, 'Sell', 38.0), (4544, 'Sell', 38.0), (4545, 'Sell', 38.0), (4546, 'Sell', 38.0), (4547, 'Sell', 38.0), (4548, 'Sell', 38.0), (4549, 'Sell', 38.0), (4577, 'Buy', 37.0), (4578, 'Buy', 37.0), (4594, 'Sell', 56.0), (4595, 'Sell', 56.0), (4596, 'Sell', 56.0), (4597, 'Sell', 56.0), (4598, 'Sell', 56.0), (4599, 'Sell', 56.0), (4600, 'Sell', 56.0), (4601, 'Sell', 56.0), (4602, 'Sell', 56.0), (4603, 'Sell', 56.0), (4604, 'Sell', 56.0), (4605, 'Sell', 56.0), (4606, 'Sell', 56.0), (4607, 'Sell', 56.0), (4608, 'Sell', 56.0), (4609, 'Sell', 56.0), (4610, 'Sell', 56.0), (4611, 'Sell', 56.0), (4612, 'Sell', 56.0), (4613, 'Sell', 56.0), (4614, 'Buy', 38.0), (4615, 'Buy', 38.0), (4616, 'Buy', 38.0), (4617, 'Buy', 38.0), (4618, 'Buy', 38.0), (4619, 'Buy', 38.0), (4620, 'Buy', 38.0), (4621, 'Buy', 38.0), (4622, 'Buy', 38.0), (4623, 'Buy', 38.0), (4624, 'Buy', 38.0), (4625, 'Buy', 38.0), (4626, 'Buy', 38.0), (4627, 'Buy', 38.0), (4628, 'Buy', 38.0), (4629, 'Buy', 38.0), (4630, 'Buy', 38.0), (4631, 'Buy', 38.0), (4632, 'Buy', 38.0), (4633, 'Buy', 38.0), (4634, 'Buy', 38.0), (4635, 'Buy', 38.0), (4636, 'Buy', 38.0), (4637, 'Buy', 38.0), (4638, 'Buy', 38.0), (4639, 'Buy', 38.0), (4640, 'Buy', 38.0), (4641, 'Buy', 38.0), (4685, 'Buy', 6.0), (4686, 'Buy', 6.0), (4687, 'Buy', 6.0), (4688, 'Buy', 6.0), (4689, 'Buy', 6.0), (4690, 'Buy', 6.0), (4691, 'Buy', 6.0), (4692, 'Buy', 6.0), (4693, 'Buy', 6.0), (4694, 'Buy', 6.0), (4695, 'Buy', 6.0), (4696, 'Buy', 6.0), (4697, 'Buy', 6.0), (4698, 'Buy', 6.0), (4699, 'Buy', 6.0), (4700, 'Buy', 6.0), (4701, 'Sell', 38.0), (4702, 'Sell', 38.0), (4703, 'Sell', 38.0), (4704, 'Sell', 38.0), (4705, 'Sell', 38.0), (4706, 'Sell', 38.0), (4707, 'Sell', 38.0), (4708, 'Sell', 38.0), (4709, 'Sell', 38.0), (4710, 'Sell', 38.0), (4711, 'Sell', 38.0), (4712, 'Sell', 38.0), (4713, 'Sell', 38.0), (4714, 'Sell', 38.0), (4715, 'Sell', 38.0), (4716, 'Sell', 38.0), (4717, 'Sell', 38.0), (4718, 'Sell', 38.0), (4719, 'Sell', 38.0), (4720, 'Sell', 38.0), (4721, 'Sell', 38.0), (4722, 'Sell', 38.0), (4723, 'Sell', 38.0), (4724, 'Sell', 38.0), (4725, 'Sell', 38.0), (4726, 'Sell', 38.0), (4727, 'Sell', 38.0), (4728, 'Sell', 38.0), (4767, 'Sell', 56.0), (4768, 'Sell', 56.0), (4769, 'Sell', 56.0), (4770, 'Sell', 56.0), (4771, 'Sell', 56.0), (4772, 'Sell', 56.0), (4773, 'Sell', 56.0), (4774, 'Sell', 56.0), (4775, 'Sell', 56.0), (4776, 'Sell', 56.0), (4777, 'Sell', 56.0), (4778, 'Sell', 56.0), (4779, 'Sell', 56.0), (4780, 'Sell', 56.0), (4781, 'Sell', 56.0), (4782, 'Sell', 56.0), (4783, 'Sell', 56.0), (4784, 'Buy', 38.0), (4785, 'Buy', 38.0), (4786, 'Buy', 38.0), (4787, 'Buy', 38.0), (4788, 'Buy', 38.0), (4789, 'Buy', 38.0), (4790, 'Buy', 38.0), (4791, 'Buy', 38.0), (4792, 'Buy', 38.0), (4793, 'Buy', 38.0), (4794, 'Buy', 38.0), (4795, 'Buy', 38.0), (4796, 'Buy', 38.0), (4797, 'Buy', 38.0), (4798, 'Buy', 38.0), (4799, 'Buy', 38.0), (4800, 'Buy', 38.0), (4801, 'Buy', 38.0), (4802, 'Buy', 38.0), (4803, 'Buy', 38.0), (4804, 'Buy', 38.0), (4805, 'Buy', 37.0), (4806, 'Buy', 37.0), (4807, 'Buy', 38.0), (4808, 'Buy', 38.0), (4809, 'Buy', 38.0), (4810, 'Buy', 38.0), (4811, 'Buy', 38.0), (4844, 'Buy', 37.0), (4845, 'Buy', 37.0), (4854, 'Buy', 6.0), (4855, 'Buy', 6.0), (4856, 'Buy', 6.0), (4857, 'Buy', 6.0), (4858, 'Buy', 6.0), (4859, 'Buy', 5.0), (4860, 'Buy', 5.0), (4861, 'Buy', 6.0), (4862, 'Buy', 6.0), (4863, 'Buy', 6.0), (4864, 'Buy', 6.0), (4865, 'Buy', 6.0), (4866, 'Buy', 6.0), (4867, 'Buy', 6.0), (4868, 'Buy', 6.0), (4869, 'Buy', 6.0), (4870, 'Buy', 6.0), (4871, 'Sell', 38.0), (4872, 'Sell', 38.0), (4873, 'Sell', 38.0), (4874, 'Sell', 38.0), (4875, 'Sell', 38.0), (4876, 'Sell', 38.0), (4877, 'Sell', 38.0), (4878, 'Sell', 38.0), (4879, 'Sell', 38.0), (4880, 'Sell', 38.0), (4881, 'Sell', 38.0), (4882, 'Sell', 38.0), (4883, 'Sell', 38.0), (4884, 'Sell', 38.0), (4885, 'Sell', 38.0), (4886, 'Sell', 38.0), (4887, 'Sell', 38.0), (4888, 'Sell', 38.0), (4889, 'Sell', 38.0), (4890, 'Sell', 38.0), (4891, 'Sell', 38.0), (4892, 'Sell', 38.0), (4893, 'Sell', 38.0), (4894, 'Sell', 38.0), (4895, 'Sell', 38.0), (4896, 'Sell', 38.0), (4897, 'Sell', 38.0), (4898, 'Sell', 38.0), (4900, 'Buy', 37.0), (4901, 'Buy', 37.0), (4940, 'Sell', 56.0), (4941, 'Sell', 56.0), (4942, 'Sell', 56.0), (4943, 'Sell', 56.0), (4944, 'Sell', 56.0), (4945, 'Sell', 56.0), (4946, 'Sell', 56.0), (4947, 'Sell', 56.0), (4948, 'Sell', 56.0), (4949, 'Sell', 56.0), (4950, 'Sell', 56.0), (4951, 'Sell', 56.0), (4952, 'Sell', 56.0), (4953, 'Sell', 56.0), (4954, 'Sell', 56.0), (4955, 'Buy', 38.0), (4956, 'Buy', 38.0), (4957, 'Buy', 38.0), (4958, 'Buy', 38.0), (4959, 'Buy', 38.0), (4960, 'Buy', 38.0), (4961, 'Buy', 38.0), (4962, 'Buy', 38.0), (4963, 'Buy', 38.0), (4964, 'Buy', 38.0), (4965, 'Buy', 38.0), (4966, 'Buy', 38.0), (4967, 'Buy', 38.0), (4968, 'Buy', 38.0), (4969, 'Buy', 38.0), (4970, 'Buy', 38.0), (4971, 'Buy', 38.0), (4972, 'Buy', 38.0), (4973, 'Buy', 38.0), (4974, 'Buy', 38.0), (4975, 'Buy', 38.0), (4976, 'Buy', 38.0), (4977, 'Buy', 38.0), (4978, 'Buy', 38.0), (4979, 'Buy', 38.0), (4980, 'Buy', 38.0), (4981, 'Buy', 38.0), (4982, 'Buy', 38.0), (4984, 'Buy', 37.0), (4985, 'Buy', 37.0), (5020, 'Buy', 6.0), (5021, 'Buy', 6.0), (5022, 'Buy', 6.0), (5023, 'Buy', 6.0), (5024, 'Buy', 6.0), (5025, 'Buy', 6.0), (5026, 'Buy', 6.0), (5027, 'Buy', 6.0), (5028, 'Buy', 6.0), (5029, 'Buy', 6.0), (5030, 'Buy', 6.0), (5031, 'Buy', 6.0), (5032, 'Buy', 6.0), (5033, 'Buy', 6.0), (5034, 'Buy', 5.0), (5035, 'Buy', 5.0), (5036, 'Buy', 6.0), (5037, 'Buy', 6.0), (5038, 'Sell', 38.0), (5039, 'Sell', 38.0), (5040, 'Sell', 38.0), (5041, 'Sell', 38.0), (5042, 'Sell', 38.0), (5043, 'Sell', 38.0), (5044, 'Sell', 38.0), (5045, 'Sell', 38.0), (5046, 'Sell', 38.0), (5047, 'Sell', 38.0), (5048, 'Sell', 38.0), (5049, 'Sell', 38.0), (5050, 'Sell', 38.0), (5051, 'Sell', 38.0), (5052, 'Sell', 38.0), (5053, 'Sell', 38.0), (5054, 'Sell', 38.0), (5055, 'Sell', 38.0), (5056, 'Sell', 38.0), (5057, 'Sell', 38.0), (5058, 'Sell', 38.0), (5059, 'Sell', 38.0), (5060, 'Sell', 38.0), (5061, 'Sell', 38.0), (5062, 'Sell', 38.0), (5063, 'Sell', 38.0), (5064, 'Sell', 38.0), (5065, 'Sell', 38.0), (5107, 'Sell', 56.0), (5108, 'Sell', 56.0), (5109, 'Sell', 56.0), (5110, 'Sell', 56.0), (5111, 'Sell', 56.0), (5112, 'Sell', 56.0), (5113, 'Sell', 56.0), (5114, 'Sell', 56.0), (5115, 'Sell', 56.0), (5116, 'Sell', 56.0), (5117, 'Sell', 56.0), (5118, 'Sell', 56.0), (5119, 'Sell', 56.0), (5120, 'Sell', 56.0), (5121, 'Sell', 56.0), (5122, 'Sell', 56.0), (5123, 'Sell', 56.0), (5124, 'Sell', 56.0), (5125, 'Buy', 38.0), (5126, 'Buy', 38.0), (5127, 'Buy', 38.0), (5128, 'Buy', 38.0), (5129, 'Buy', 38.0), (5130, 'Buy', 38.0), (5131, 'Buy', 38.0), (5132, 'Buy', 38.0), (5133, 'Buy', 38.0), (5134, 'Buy', 38.0), (5135, 'Buy', 38.0), (5136, 'Buy', 38.0), (5137, 'Buy', 38.0), (5138, 'Buy', 38.0), (5139, 'Buy', 38.0), (5140, 'Buy', 38.0), (5141, 'Buy', 38.0), (5142, 'Buy', 38.0), (5143, 'Buy', 38.0), (5144, 'Buy', 38.0), (5145, 'Buy', 38.0), (5146, 'Buy', 38.0), (5147, 'Buy', 38.0), (5148, 'Buy', 38.0), (5149, 'Buy', 38.0), (5150, 'Buy', 38.0), (5151, 'Buy', 38.0), (5152, 'Buy', 38.0), (5187, 'Buy', 37.0), (5188, 'Buy', 37.0), (5194, 'Buy', 6.0), (5195, 'Buy', 6.0), (5196, 'Buy', 6.0), (5197, 'Buy', 6.0), (5198, 'Buy', 6.0), (5199, 'Buy', 6.0), (5200, 'Buy', 6.0), (5201, 'Buy', 6.0), (5202, 'Buy', 6.0), (5203, 'Buy', 6.0), (5204, 'Buy', 6.0), (5205, 'Buy', 6.0), (5206, 'Buy', 6.0), (5207, 'Buy', 6.0), (5208, 'Buy', 6.0), (5209, 'Buy', 6.0), (5210, 'Buy', 6.0), (5211, 'Buy', 6.0), (5212, 'Sell', 38.0), (5213, 'Sell', 38.0), (5214, 'Sell', 38.0), (5215, 'Sell', 38.0), (5216, 'Sell', 38.0), (5217, 'Sell', 38.0), (5218, 'Sell', 37.0), (5219, 'Sell', 37.0), (5220, 'Sell', 38.0), (5221, 'Sell', 38.0), (5222, 'Sell', 38.0), (5223, 'Sell', 38.0), (5224, 'Sell', 38.0), (5225, 'Sell', 38.0), (5226, 'Sell', 38.0), (5227, 'Sell', 38.0), (5228, 'Sell', 38.0), (5229, 'Sell', 38.0), (5230, 'Sell', 38.0), (5231, 'Sell', 38.0), (5232, 'Sell', 38.0), (5233, 'Sell', 38.0), (5234, 'Sell', 38.0), (5235, 'Sell', 38.0), (5236, 'Sell', 38.0), (5237, 'Sell', 38.0), (5238, 'Sell', 38.0), (5239, 'Sell', 38.0), (5281, 'Sell', 56.0), (5282, 'Sell', 56.0), (5283, 'Sell', 56.0), (5284, 'Sell', 56.0), (5285, 'Sell', 56.0), (5286, 'Sell', 56.0), (5287, 'Sell', 56.0), (5288, 'Sell', 56.0), (5289, 'Sell', 56.0), (5290, 'Sell', 56.0), (5291, 'Sell', 56.0), (5292, 'Sell', 56.0), (5293, 'Sell', 56.0), (5294, 'Sell', 56.0), (5295, 'Sell', 56.0), (5296, 'Sell', 56.0), (5297, 'Sell', 56.0), (5298, 'Sell', 56.0), (5299, 'Buy', 38.0), (5300, 'Buy', 38.0), (5301, 'Buy', 38.0), (5302, 'Buy', 38.0), (5303, 'Buy', 38.0), (5304, 'Buy', 38.0), (5305, 'Buy', 38.0), (5306, 'Buy', 38.0), (5307, 'Buy', 38.0), (5308, 'Buy', 38.0), (5309, 'Buy', 38.0), (5310, 'Buy', 38.0), (5311, 'Buy', 38.0), (5312, 'Buy', 38.0), (5313, 'Buy', 38.0), (5314, 'Buy', 38.0), (5315, 'Buy', 38.0), (5316, 'Buy', 38.0), (5317, 'Buy', 38.0), (5318, 'Buy', 38.0), (5319, 'Buy', 38.0), (5320, 'Buy', 37.0), (5321, 'Buy', 37.0), (5322, 'Buy', 37.0), (5323, 'Buy', 38.0), (5324, 'Buy', 38.0), (5325, 'Buy', 38.0), (5326, 'Buy', 38.0), (5367, 'Buy', 6.0), (5368, 'Buy', 6.0), (5369, 'Buy', 6.0), (5370, 'Buy', 6.0), (5371, 'Buy', 6.0), (5372, 'Buy', 6.0), (5373, 'Buy', 6.0), (5374, 'Buy', 6.0), (5375, 'Buy', 6.0), (5376, 'Buy', 6.0), (5377, 'Buy', 6.0), (5378, 'Buy', 6.0), (5379, 'Buy', 6.0), (5380, 'Buy', 6.0), (5381, 'Buy', 6.0), (5382, 'Buy', 6.0), (5383, 'Buy', 6.0), (5384, 'Buy', 6.0), (5385, 'Sell', 38.0), (5386, 'Sell', 38.0), (5387, 'Sell', 38.0), (5388, 'Sell', 38.0), (5389, 'Sell', 38.0), (5390, 'Sell', 38.0), (5391, 'Sell', 38.0), (5392, 'Sell', 38.0), (5393, 'Sell', 38.0), (5394, 'Sell', 38.0), (5395, 'Sell', 38.0), (5396, 'Sell', 38.0), (5397, 'Sell', 37.0), (5398, 'Sell', 37.0), (5399, 'Sell', 38.0), (5400, 'Sell', 38.0), (5401, 'Sell', 38.0), (5402, 'Sell', 38.0), (5403, 'Sell', 38.0), (5404, 'Sell', 38.0), (5405, 'Sell', 38.0), (5406, 'Sell', 38.0), (5407, 'Sell', 38.0), (5408, 'Sell', 38.0), (5409, 'Sell', 38.0), (5410, 'Sell', 38.0), (5411, 'Sell', 38.0), (5412, 'Sell', 38.0), (5431, 'Buy', 37.0), (5432, 'Buy', 37.0), (5455, 'Sell', 56.0), (5456, 'Sell', 56.0), (5457, 'Sell', 56.0), (5458, 'Sell', 56.0), (5459, 'Sell', 56.0), (5460, 'Sell', 56.0), (5461, 'Sell', 56.0), (5462, 'Sell', 56.0), (5463, 'Sell', 56.0), (5464, 'Sell', 56.0), (5465, 'Sell', 56.0), (5466, 'Sell', 56.0), (5467, 'Sell', 56.0), (5468, 'Sell', 56.0), (5469, 'Sell', 56.0), (5470, 'Sell', 56.0), (5471, 'Sell', 56.0), (5472, 'Sell', 56.0), (5473, 'Sell', 56.0), (5474, 'Sell', 56.0), (5475, 'Buy', 38.0), (5476, 'Buy', 38.0), (5477, 'Buy', 38.0), (5478, 'Buy', 38.0), (5479, 'Buy', 38.0), (5480, 'Buy', 38.0), (5481, 'Buy', 38.0), (5482, 'Buy', 38.0), (5483, 'Buy', 38.0), (5484, 'Buy', 38.0), (5485, 'Buy', 38.0), (5486, 'Buy', 38.0), (5487, 'Buy', 38.0), (5488, 'Buy', 38.0), (5489, 'Buy', 38.0), (5490, 'Buy', 38.0), (5491, 'Buy', 38.0), (5492, 'Buy', 38.0), (5493, 'Buy', 38.0), (5494, 'Buy', 38.0), (5495, 'Buy', 38.0), (5496, 'Buy', 38.0), (5497, 'Buy', 38.0), (5498, 'Buy', 38.0), (5499, 'Buy', 38.0), (5500, 'Buy', 38.0), (5501, 'Buy', 38.0), (5502, 'Buy', 38.0), (5544, 'Buy', 6.0), (5545, 'Buy', 6.0), (5546, 'Buy', 6.0), (5547, 'Buy', 6.0), (5548, 'Buy', 6.0), (5549, 'Buy', 6.0), (5550, 'Buy', 6.0), (5551, 'Buy', 6.0), (5552, 'Buy', 6.0), (5553, 'Buy', 6.0), (5554, 'Buy', 6.0), (5555, 'Buy', 6.0), (5556, 'Buy', 6.0), (5557, 'Buy', 6.0), (5558, 'Buy', 6.0), (5559, 'Buy', 6.0), (5560, 'Buy', 6.0), (5561, 'Sell', 38.0), (5562, 'Sell', 38.0), (5563, 'Sell', 38.0), (5564, 'Sell', 38.0), (5565, 'Sell', 38.0), (5566, 'Sell', 38.0), (5567, 'Sell', 38.0), (5568, 'Sell', 38.0), (5569, 'Sell', 38.0), (5570, 'Sell', 38.0), (5571, 'Sell', 38.0), (5572, 'Sell', 38.0), (5573, 'Sell', 37.0), (5574, 'Sell', 37.0), (5575, 'Sell', 38.0), (5576, 'Sell', 38.0), (5577, 'Sell', 38.0), (5578, 'Sell', 38.0), (5579, 'Sell', 38.0), (5580, 'Sell', 38.0), (5581, 'Sell', 38.0), (5582, 'Sell', 38.0), (5583, 'Sell', 38.0), (5584, 'Sell', 38.0), (5585, 'Sell', 38.0), (5586, 'Sell', 38.0), (5587, 'Sell', 38.0), (5588, 'Sell', 38.0), (5603, 'Buy', 37.0), (5604, 'Buy', 37.0), (5624, 'Sell', 56.0), (5625, 'Sell', 56.0), (5626, 'Sell', 56.0), (5627, 'Sell', 56.0), (5628, 'Sell', 56.0), (5629, 'Sell', 56.0), (5630, 'Sell', 56.0), (5631, 'Sell', 56.0), (5632, 'Sell', 56.0), (5633, 'Sell', 56.0), (5634, 'Sell', 56.0), (5635, 'Sell', 56.0), (5636, 'Sell', 56.0), (5637, 'Sell', 56.0), (5638, 'Sell', 56.0), (5639, 'Sell', 56.0), (5640, 'Buy', 38.0), (5641, 'Buy', 38.0), (5642, 'Buy', 38.0), (5643, 'Buy', 38.0), (5644, 'Buy', 38.0), (5645, 'Buy', 38.0), (5646, 'Buy', 38.0), (5647, 'Buy', 38.0), (5648, 'Buy', 38.0), (5649, 'Buy', 38.0), (5650, 'Buy', 38.0), (5651, 'Buy', 38.0), (5652, 'Buy', 38.0), (5653, 'Buy', 38.0), (5654, 'Buy', 38.0), (5655, 'Buy', 38.0), (5656, 'Buy', 38.0), (5657, 'Buy', 38.0), (5658, 'Buy', 38.0), (5659, 'Buy', 38.0), (5660, 'Buy', 38.0), (5661, 'Buy', 38.0), (5662, 'Buy', 38.0), (5663, 'Buy', 38.0), (5664, 'Buy', 38.0), (5665, 'Buy', 38.0), (5666, 'Buy', 38.0), (5667, 'Buy', 38.0), (5711, 'Buy', 6.0), (5712, 'Buy', 6.0), (5713, 'Buy', 6.0), (5714, 'Buy', 6.0), (5715, 'Buy', 6.0), (5716, 'Buy', 6.0), (5717, 'Buy', 6.0), (5718, 'Buy', 6.0), (5719, 'Buy', 6.0), (5720, 'Buy', 6.0), (5721, 'Buy', 6.0), (5722, 'Buy', 6.0), (5723, 'Buy', 6.0), (5724, 'Buy', 6.0), (5725, 'Buy', 6.0), (5726, 'Buy', 6.0), (5727, 'Buy', 6.0), (5728, 'Buy', 6.0), (5729, 'Sell', 37.0), (5730, 'Sell', 37.0), (5731, 'Sell', 38.0), (5732, 'Sell', 38.0), (5733, 'Sell', 38.0), (5734, 'Sell', 38.0), (5735, 'Sell', 38.0), (5736, 'Sell', 38.0), (5737, 'Sell', 38.0), (5738, 'Sell', 38.0), (5739, 'Sell', 38.0), (5740, 'Sell', 38.0), (5741, 'Sell', 38.0), (5742, 'Sell', 38.0), (5743, 'Sell', 38.0), (5744, 'Sell', 38.0), (5745, 'Sell', 38.0), (5746, 'Sell', 38.0), (5747, 'Sell', 38.0), (5748, 'Sell', 38.0), (5749, 'Sell', 38.0), (5750, 'Sell', 38.0), (5751, 'Sell', 38.0), (5752, 'Sell', 38.0), (5753, 'Sell', 38.0), (5754, 'Sell', 38.0), (5755, 'Sell', 38.0), (5756, 'Sell', 38.0), (5797, 'Sell', 56.0), (5798, 'Sell', 56.0), (5799, 'Sell', 56.0), (5800, 'Sell', 56.0), (5801, 'Sell', 56.0), (5802, 'Sell', 56.0), (5803, 'Sell', 56.0), (5804, 'Sell', 56.0), (5805, 'Sell', 56.0), (5806, 'Sell', 56.0), (5807, 'Sell', 56.0), (5808, 'Sell', 56.0), (5809, 'Sell', 56.0), (5810, 'Sell', 56.0), (5811, 'Sell', 56.0), (5812, 'Sell', 56.0), (5813, 'Buy', 38.0), (5814, 'Buy', 38.0), (5815, 'Buy', 38.0), (5816, 'Buy', 38.0), (5817, 'Buy', 38.0), (5818, 'Buy', 38.0), (5819, 'Buy', 38.0), (5820, 'Buy', 38.0), (5821, 'Buy', 38.0), (5822, 'Buy', 38.0), (5823, 'Buy', 38.0), (5824, 'Buy', 38.0), (5825, 'Buy', 38.0), (5826, 'Buy', 38.0), (5827, 'Buy', 38.0), (5828, 'Buy', 38.0), (5829, 'Buy', 38.0), (5830, 'Buy', 38.0), (5831, 'Buy', 38.0), (5832, 'Buy', 37.0), (5833, 'Buy', 37.0), (5834, 'Buy', 37.0), (5835, 'Buy', 38.0), (5836, 'Buy', 38.0), (5837, 'Buy', 38.0), (5838, 'Buy', 38.0), (5839, 'Buy', 38.0), (5840, 'Buy', 38.0), (5884, 'Buy', 6.0), (5885, 'Buy', 6.0), (5886, 'Buy', 6.0), (5887, 'Buy', 6.0), (5888, 'Buy', 6.0), (5889, 'Buy', 6.0), (5890, 'Buy', 6.0), (5891, 'Buy', 6.0), (5892, 'Buy', 6.0), (5893, 'Buy', 6.0), (5894, 'Buy', 6.0), (5895, 'Buy', 6.0), (5896, 'Buy', 6.0), (5897, 'Buy', 6.0), (5898, 'Buy', 6.0), (5899, 'Buy', 6.0), (5900, 'Buy', 6.0), (5901, 'Sell', 37.0), (5902, 'Sell', 37.0), (5903, 'Sell', 38.0), (5904, 'Sell', 38.0), (5905, 'Sell', 38.0), (5906, 'Sell', 38.0), (5907, 'Sell', 38.0), (5908, 'Sell', 38.0), (5909, 'Sell', 38.0), (5910, 'Sell', 38.0), (5911, 'Sell', 38.0), (5912, 'Sell', 38.0), (5913, 'Sell', 38.0), (5914, 'Sell', 38.0), (5915, 'Sell', 38.0), (5916, 'Sell', 38.0), (5917, 'Sell', 38.0), (5918, 'Sell', 38.0), (5919, 'Sell', 38.0), (5920, 'Sell', 38.0), (5921, 'Sell', 38.0), (5922, 'Sell', 38.0), (5923, 'Sell', 38.0), (5924, 'Sell', 38.0), (5925, 'Sell', 38.0), (5926, 'Sell', 38.0), (5927, 'Sell', 38.0), (5928, 'Sell', 38.0), (5969, 'Sell', 56.0), (5970, 'Sell', 56.0), (5971, 'Sell', 56.0), (5972, 'Sell', 56.0), (5973, 'Sell', 56.0), (5974, 'Sell', 56.0), (5975, 'Sell', 56.0), (5976, 'Sell', 56.0), (5977, 'Sell', 56.0), (5978, 'Sell', 56.0), (5979, 'Sell', 56.0), (5980, 'Sell', 56.0), (5981, 'Sell', 56.0), (5982, 'Sell', 56.0), (5983, 'Sell', 56.0), (5984, 'Sell', 56.0), (5985, 'Sell', 56.0), (5986, 'Buy', 38.0), (5987, 'Buy', 38.0), (5988, 'Buy', 38.0), (5989, 'Buy', 38.0), (5990, 'Buy', 38.0), (5991, 'Buy', 38.0), (5992, 'Buy', 38.0), (5993, 'Buy', 38.0), (5994, 'Buy', 38.0), (5995, 'Buy', 38.0), (5996, 'Buy', 38.0), (5997, 'Buy', 38.0), (5998, 'Buy', 38.0), (5999, 'Buy', 38.0), (6000, 'Buy', 38.0), (6001, 'Buy', 38.0), (6002, 'Buy', 38.0), (6003, 'Buy', 38.0), (6004, 'Buy', 38.0), (6005, 'Buy', 38.0), (6006, 'Buy', 38.0), (6007, 'Buy', 38.0), (6008, 'Buy', 38.0), (6009, 'Buy', 38.0), (6010, 'Buy', 38.0), (6011, 'Buy', 38.0), (6012, 'Buy', 38.0), (6013, 'Buy', 37.0), (6014, 'Buy', 37.0), (6025, 'Buy', 37.0), (6026, 'Buy', 37.0), (6055, 'Buy', 6.0), (6056, 'Buy', 6.0), (6057, 'Buy', 6.0), (6058, 'Buy', 6.0), (6059, 'Buy', 5.0), (6060, 'Buy', 5.0), (6061, 'Buy', 6.0), (6062, 'Buy', 6.0), (6063, 'Buy', 6.0), (6064, 'Buy', 6.0), (6065, 'Buy', 6.0), (6066, 'Buy', 6.0), (6067, 'Buy', 6.0), (6068, 'Buy', 6.0), (6069, 'Buy', 5.0), (6070, 'Buy', 5.0), (6071, 'Sell', 38.0), (6072, 'Sell', 38.0), (6073, 'Sell', 38.0), (6074, 'Sell', 38.0), (6075, 'Sell', 38.0), (6076, 'Sell', 38.0), (6077, 'Sell', 38.0), (6078, 'Sell', 38.0), (6079, 'Sell', 38.0), (6080, 'Sell', 38.0), (6081, 'Sell', 38.0), (6082, 'Sell', 38.0), (6083, 'Sell', 38.0), (6084, 'Sell', 38.0), (6085, 'Sell', 38.0), (6086, 'Sell', 38.0), (6087, 'Sell', 38.0), (6088, 'Sell', 38.0), (6089, 'Sell', 38.0), (6090, 'Sell', 38.0), (6091, 'Sell', 38.0), (6092, 'Sell', 38.0), (6093, 'Sell', 38.0), (6094, 'Sell', 38.0), (6095, 'Sell', 38.0), (6096, 'Sell', 38.0), (6097, 'Sell', 38.0), (6098, 'Sell', 38.0), (6140, 'Sell', 56.0), (6141, 'Sell', 56.0), (6142, 'Sell', 56.0), (6143, 'Sell', 56.0), (6144, 'Sell', 56.0), (6145, 'Sell', 56.0), (6146, 'Sell', 56.0), (6147, 'Sell', 56.0), (6148, 'Sell', 56.0), (6149, 'Sell', 56.0), (6150, 'Sell', 56.0), (6151, 'Sell', 56.0), (6152, 'Sell', 56.0), (6153, 'Sell', 56.0), (6154, 'Sell', 56.0), (6155, 'Sell', 56.0), (6156, 'Sell', 56.0), (6157, 'Buy', 38.0), (6158, 'Buy', 38.0), (6159, 'Buy', 38.0), (6160, 'Buy', 38.0), (6161, 'Buy', 38.0), (6162, 'Buy', 38.0), (6163, 'Buy', 38.0), (6164, 'Buy', 38.0), (6165, 'Buy', 38.0), (6166, 'Buy', 38.0), (6167, 'Buy', 38.0), (6168, 'Buy', 38.0), (6169, 'Buy', 38.0), (6170, 'Buy', 38.0), (6171, 'Buy', 38.0), (6172, 'Buy', 38.0), (6173, 'Buy', 38.0), (6174, 'Buy', 38.0), (6175, 'Buy', 38.0), (6176, 'Buy', 38.0), (6177, 'Buy', 37.0), (6178, 'Buy', 37.0), (6179, 'Buy', 38.0), (6180, 'Buy', 38.0), (6181, 'Buy', 38.0), (6182, 'Buy', 38.0), (6183, 'Buy', 38.0), (6184, 'Buy', 38.0), (6223, 'Buy', 6.0), (6224, 'Buy', 6.0), (6225, 'Buy', 6.0), (6226, 'Buy', 6.0), (6227, 'Buy', 6.0), (6228, 'Buy', 6.0), (6229, 'Buy', 6.0), (6230, 'Buy', 6.0), (6231, 'Buy', 6.0), (6232, 'Buy', 6.0), (6233, 'Buy', 6.0), (6234, 'Buy', 6.0), (6235, 'Buy', 6.0), (6236, 'Buy', 6.0), (6237, 'Buy', 6.0), (6238, 'Buy', 6.0), (6239, 'Buy', 6.0), (6240, 'Sell', 38.0), (6241, 'Sell', 38.0), (6242, 'Sell', 38.0), (6243, 'Sell', 38.0), (6244, 'Sell', 38.0), (6245, 'Sell', 38.0), (6246, 'Sell', 38.0), (6247, 'Sell', 38.0), (6248, 'Sell', 38.0), (6249, 'Sell', 38.0), (6250, 'Sell', 38.0), (6251, 'Sell', 38.0), (6252, 'Sell', 38.0), (6253, 'Sell', 38.0), (6254, 'Sell', 38.0), (6255, 'Sell', 38.0), (6256, 'Sell', 38.0), (6257, 'Sell', 38.0), (6258, 'Sell', 38.0), (6259, 'Sell', 38.0), (6260, 'Sell', 38.0), (6261, 'Sell', 38.0), (6262, 'Sell', 38.0), (6263, 'Sell', 38.0), (6264, 'Sell', 38.0), (6265, 'Sell', 38.0), (6266, 'Sell', 38.0), (6267, 'Sell', 38.0), (6306, 'Sell', 56.0), (6307, 'Sell', 56.0), (6308, 'Sell', 56.0), (6309, 'Sell', 56.0), (6310, 'Sell', 56.0), (6311, 'Sell', 56.0), (6312, 'Sell', 56.0), (6313, 'Sell', 56.0), (6314, 'Sell', 56.0), (6315, 'Sell', 56.0), (6316, 'Sell', 56.0), (6317, 'Sell', 56.0), (6318, 'Sell', 56.0), (6319, 'Sell', 56.0), (6320, 'Sell', 56.0), (6321, 'Sell', 56.0), (6322, 'Buy', 38.0), (6323, 'Buy', 38.0), (6324, 'Buy', 38.0), (6325, 'Buy', 38.0), (6326, 'Buy', 38.0), (6327, 'Buy', 38.0), (6328, 'Buy', 38.0), (6329, 'Buy', 38.0), (6330, 'Buy', 37.0), (6331, 'Buy', 37.0), (6332, 'Buy', 38.0), (6333, 'Buy', 38.0), (6334, 'Buy', 38.0), (6335, 'Buy', 38.0), (6336, 'Buy', 38.0), (6337, 'Buy', 38.0), (6338, 'Buy', 38.0), (6339, 'Buy', 38.0), (6340, 'Buy', 38.0), (6341, 'Buy', 38.0), (6342, 'Buy', 38.0), (6343, 'Buy', 38.0), (6344, 'Buy', 38.0), (6345, 'Buy', 38.0), (6346, 'Buy', 38.0), (6347, 'Buy', 37.0), (6348, 'Buy', 37.0), (6349, 'Buy', 38.0), (6397, 'Buy', 6.0), (6398, 'Buy', 6.0), (6399, 'Buy', 6.0), (6400, 'Buy', 6.0), (6401, 'Buy', 6.0), (6402, 'Buy', 6.0), (6403, 'Buy', 6.0), (6404, 'Buy', 6.0), (6405, 'Buy', 6.0), (6406, 'Buy', 6.0), (6407, 'Buy', 6.0), (6408, 'Buy', 6.0), (6409, 'Buy', 6.0), (6410, 'Buy', 6.0), (6411, 'Buy', 6.0), (6412, 'Buy', 6.0), (6413, 'Buy', 6.0), (6414, 'Buy', 6.0), (6415, 'Buy', 6.0), (6416, 'Buy', 6.0), (6417, 'Buy', 6.0), (6418, 'Sell', 38.0), (6419, 'Sell', 38.0), (6420, 'Sell', 38.0), (6421, 'Sell', 38.0), (6422, 'Sell', 38.0), (6423, 'Sell', 38.0), (6424, 'Sell', 38.0), (6425, 'Sell', 38.0), (6426, 'Sell', 38.0), (6427, 'Sell', 38.0), (6428, 'Sell', 38.0), (6429, 'Sell', 38.0), (6430, 'Sell', 38.0), (6431, 'Sell', 38.0), (6432, 'Sell', 38.0), (6433, 'Sell', 38.0), (6434, 'Sell', 38.0), (6435, 'Sell', 38.0), (6436, 'Sell', 38.0), (6437, 'Sell', 38.0), (6438, 'Sell', 38.0), (6439, 'Sell', 38.0), (6440, 'Sell', 38.0), (6441, 'Sell', 38.0), (6442, 'Sell', 38.0), (6443, 'Sell', 37.0), (6444, 'Sell', 37.0), (6445, 'Sell', 38.0), (6487, 'Sell', 56.0), (6488, 'Sell', 56.0), (6489, 'Sell', 56.0), (6490, 'Sell', 56.0), (6491, 'Sell', 56.0), (6492, 'Sell', 56.0), (6493, 'Sell', 56.0), (6494, 'Sell', 56.0), (6495, 'Sell', 56.0), (6496, 'Sell', 56.0), (6497, 'Sell', 56.0), (6498, 'Sell', 56.0), (6499, 'Sell', 56.0), (6500, 'Sell', 56.0), (6501, 'Sell', 56.0), (6502, 'Sell', 56.0), (6503, 'Sell', 56.0), (6504, 'Sell', 56.0), (6505, 'Sell', 56.0), (6506, 'Buy', 38.0), (6507, 'Buy', 38.0), (6508, 'Buy', 38.0), (6509, 'Buy', 38.0), (6510, 'Buy', 38.0), (6511, 'Buy', 38.0), (6512, 'Buy', 38.0), (6513, 'Buy', 38.0), (6514, 'Buy', 38.0), (6515, 'Buy', 38.0), (6516, 'Buy', 38.0), (6517, 'Buy', 38.0), (6518, 'Buy', 38.0), (6519, 'Buy', 38.0), (6520, 'Buy', 38.0), (6521, 'Buy', 38.0), (6522, 'Buy', 38.0), (6523, 'Buy', 38.0), (6524, 'Buy', 38.0), (6525, 'Buy', 38.0), (6526, 'Buy', 38.0), (6527, 'Buy', 38.0), (6528, 'Buy', 38.0), (6529, 'Buy', 38.0), (6530, 'Buy', 38.0), (6531, 'Buy', 38.0), (6532, 'Buy', 38.0), (6533, 'Buy', 38.0), (6575, 'Buy', 6.0), (6576, 'Buy', 6.0), (6577, 'Buy', 6.0), (6578, 'Buy', 6.0), (6579, 'Buy', 6.0), (6580, 'Buy', 6.0), (6581, 'Buy', 6.0), (6582, 'Buy', 6.0), (6583, 'Buy', 6.0), (6584, 'Buy', 6.0), (6585, 'Buy', 6.0), (6586, 'Buy', 6.0), (6587, 'Buy', 6.0), (6588, 'Buy', 6.0), (6589, 'Buy', 6.0), (6590, 'Buy', 6.0), (6591, 'Sell', 38.0), (6592, 'Sell', 38.0), (6593, 'Sell', 38.0), (6594, 'Sell', 37.0), (6595, 'Sell', 37.0), (6596, 'Sell', 38.0), (6597, 'Sell', 38.0), (6598, 'Sell', 38.0), (6599, 'Sell', 38.0), (6600, 'Sell', 38.0), (6601, 'Sell', 38.0), (6602, 'Sell', 38.0), (6603, 'Sell', 38.0), (6604, 'Sell', 38.0), (6605, 'Sell', 38.0), (6606, 'Sell', 38.0), (6607, 'Sell', 38.0), (6608, 'Sell', 38.0), (6609, 'Sell', 38.0), (6610, 'Sell', 38.0), (6611, 'Sell', 38.0), (6612, 'Sell', 38.0), (6613, 'Sell', 38.0), (6614, 'Sell', 38.0), (6615, 'Sell', 38.0), (6616, 'Sell', 38.0), (6617, 'Sell', 38.0), (6618, 'Sell', 38.0), (6635, 'Buy', 37.0), (6636, 'Buy', 37.0), (6637, 'Buy', 37.0), (6661, 'Sell', 56.0), (6662, 'Sell', 56.0), (6663, 'Sell', 56.0), (6664, 'Sell', 56.0), (6665, 'Sell', 56.0), (6666, 'Sell', 56.0), (6667, 'Sell', 56.0), (6668, 'Sell', 56.0), (6669, 'Sell', 56.0), (6670, 'Sell', 56.0), (6671, 'Sell', 56.0), (6672, 'Sell', 56.0), (6673, 'Sell', 56.0), (6674, 'Sell', 56.0), (6675, 'Sell', 56.0), (6676, 'Sell', 56.0), (6677, 'Sell', 56.0), (6678, 'Sell', 56.0), (6679, 'Sell', 56.0), (6680, 'Buy', 38.0), (6681, 'Buy', 38.0), (6682, 'Buy', 38.0), (6683, 'Buy', 38.0), (6684, 'Buy', 38.0), (6685, 'Buy', 38.0), (6686, 'Buy', 38.0), (6687, 'Buy', 38.0), (6688, 'Buy', 38.0), (6689, 'Buy', 38.0), (6690, 'Buy', 38.0), (6691, 'Buy', 38.0), (6692, 'Buy', 38.0), (6693, 'Buy', 38.0), (6694, 'Buy', 38.0), (6695, 'Buy', 38.0), (6696, 'Buy', 38.0), (6697, 'Buy', 38.0), (6698, 'Buy', 38.0), (6699, 'Buy', 38.0), (6700, 'Buy', 38.0), (6701, 'Buy', 38.0), (6702, 'Buy', 38.0), (6703, 'Buy', 38.0), (6704, 'Buy', 38.0), (6705, 'Buy', 38.0), (6706, 'Buy', 38.0), (6707, 'Buy', 38.0), (6755, 'Buy', 6.0), (6756, 'Buy', 6.0), (6757, 'Buy', 6.0), (6758, 'Buy', 6.0), (6759, 'Buy', 6.0), (6760, 'Buy', 6.0), (6761, 'Buy', 5.0), (6762, 'Buy', 5.0), (6763, 'Buy', 6.0), (6764, 'Buy', 6.0), (6765, 'Buy', 6.0), (6766, 'Buy', 6.0), (6767, 'Buy', 6.0), (6768, 'Buy', 6.0), (6769, 'Buy', 6.0), (6770, 'Buy', 6.0), (6771, 'Sell', 38.0), (6772, 'Sell', 38.0), (6773, 'Sell', 38.0), (6774, 'Sell', 38.0), (6775, 'Sell', 38.0), (6776, 'Sell', 38.0), (6777, 'Sell', 38.0), (6778, 'Sell', 38.0), (6779, 'Sell', 38.0), (6780, 'Sell', 38.0), (6781, 'Sell', 38.0), (6782, 'Sell', 38.0), (6783, 'Sell', 38.0), (6784, 'Sell', 38.0), (6785, 'Sell', 38.0), (6786, 'Sell', 38.0), (6787, 'Sell', 38.0), (6788, 'Sell', 38.0), (6789, 'Sell', 38.0), (6790, 'Sell', 38.0), (6791, 'Sell', 38.0), (6792, 'Sell', 38.0), (6793, 'Sell', 38.0), (6794, 'Sell', 37.0), (6795, 'Sell', 37.0), (6796, 'Sell', 38.0), (6797, 'Sell', 38.0), (6799, 'Buy', 37.0), (6841, 'Sell', 56.0), (6842, 'Sell', 56.0), (6843, 'Sell', 56.0), (6844, 'Sell', 56.0), (6845, 'Sell', 56.0), (6846, 'Sell', 56.0), (6847, 'Sell', 56.0), (6848, 'Sell', 56.0), (6849, 'Sell', 56.0), (6850, 'Sell', 56.0), (6851, 'Sell', 56.0), (6852, 'Sell', 56.0), (6853, 'Sell', 56.0), (6854, 'Sell', 56.0), (6855, 'Sell', 56.0), (6856, 'Buy', 38.0), (6857, 'Buy', 38.0), (6858, 'Buy', 38.0), (6859, 'Buy', 38.0), (6860, 'Buy', 38.0), (6861, 'Buy', 38.0), (6862, 'Buy', 38.0), (6863, 'Buy', 38.0), (6864, 'Buy', 38.0), (6865, 'Buy', 38.0), (6866, 'Buy', 38.0), (6867, 'Buy', 38.0), (6868, 'Buy', 38.0), (6869, 'Buy', 38.0), (6870, 'Buy', 38.0), (6871, 'Buy', 38.0), (6872, 'Buy', 38.0), (6873, 'Buy', 38.0), (6874, 'Buy', 38.0), (6875, 'Buy', 38.0), (6876, 'Buy', 38.0), (6877, 'Buy', 38.0), (6878, 'Buy', 38.0), (6879, 'Buy', 38.0), (6880, 'Buy', 38.0), (6881, 'Buy', 38.0), (6882, 'Buy', 38.0), (6883, 'Buy', 38.0), (6924, 'Buy', 6.0), (6925, 'Buy', 6.0), (6926, 'Buy', 6.0), (6927, 'Buy', 6.0), (6928, 'Buy', 6.0), (6929, 'Buy', 6.0), (6930, 'Buy', 6.0), (6931, 'Buy', 6.0), (6932, 'Buy', 6.0), (6933, 'Buy', 6.0), (6934, 'Buy', 6.0), (6935, 'Buy', 6.0), (6936, 'Buy', 6.0), (6937, 'Buy', 6.0), (6938, 'Buy', 6.0), (6939, 'Buy', 6.0), (6940, 'Buy', 6.0), (6941, 'Buy', 5.0), (6942, 'Buy', 5.0), (6943, 'Sell', 38.0), (6944, 'Sell', 38.0), (6945, 'Sell', 38.0), (6946, 'Sell', 38.0), (6947, 'Sell', 38.0), (6948, 'Sell', 38.0), (6949, 'Sell', 38.0), (6950, 'Sell', 38.0), (6951, 'Sell', 37.0), (6952, 'Sell', 37.0), (6953, 'Sell', 38.0), (6954, 'Sell', 38.0), (6955, 'Sell', 38.0), (6956, 'Sell', 38.0), (6957, 'Sell', 38.0), (6958, 'Sell', 38.0), (6959, 'Sell', 38.0), (6960, 'Sell', 38.0), (6961, 'Sell', 38.0), (6962, 'Sell', 38.0), (6963, 'Sell', 38.0), (6964, 'Sell', 38.0), (6965, 'Sell', 38.0), (6966, 'Sell', 38.0), (6967, 'Sell', 38.0), (6968, 'Sell', 38.0), (6969, 'Sell', 38.0), (6970, 'Sell', 38.0), (7011, 'Sell', 56.0), (7012, 'Sell', 56.0), (7013, 'Sell', 56.0), (7014, 'Sell', 56.0), (7015, 'Sell', 56.0), (7016, 'Sell', 56.0), (7017, 'Sell', 56.0), (7018, 'Sell', 56.0), (7019, 'Sell', 56.0), (7020, 'Sell', 56.0), (7021, 'Sell', 56.0), (7022, 'Sell', 56.0), (7023, 'Sell', 56.0), (7024, 'Sell', 56.0), (7025, 'Sell', 56.0), (7026, 'Sell', 56.0), (7027, 'Sell', 56.0), (7028, 'Buy', 38.0), (7029, 'Buy', 38.0), (7030, 'Buy', 38.0), (7031, 'Buy', 38.0), (7032, 'Buy', 38.0), (7033, 'Buy', 38.0), (7034, 'Buy', 38.0), (7035, 'Buy', 38.0), (7036, 'Buy', 38.0), (7037, 'Buy', 38.0), (7038, 'Buy', 38.0), (7039, 'Buy', 38.0), (7040, 'Buy', 38.0), (7041, 'Buy', 38.0), (7042, 'Buy', 38.0), (7043, 'Buy', 38.0), (7044, 'Buy', 38.0), (7045, 'Buy', 38.0), (7046, 'Buy', 38.0), (7047, 'Buy', 38.0), (7048, 'Buy', 38.0), (7049, 'Buy', 38.0), (7050, 'Buy', 38.0), (7051, 'Buy', 38.0), (7052, 'Buy', 38.0), (7053, 'Buy', 38.0), (7054, 'Buy', 38.0), (7055, 'Buy', 38.0), (7098, 'Buy', 6.0), (7099, 'Buy', 6.0), (7100, 'Buy', 6.0), (7101, 'Buy', 6.0), (7102, 'Buy', 6.0), (7103, 'Buy', 6.0), (7104, 'Buy', 6.0), (7105, 'Buy', 6.0), (7106, 'Buy', 6.0), (7107, 'Buy', 6.0), (7108, 'Buy', 6.0), (7109, 'Buy', 6.0), (7110, 'Buy', 6.0), (7111, 'Buy', 6.0), (7112, 'Buy', 6.0), (7113, 'Buy', 6.0), (7114, 'Buy', 6.0), (7115, 'Buy', 6.0), (7116, 'Buy', 6.0), (7117, 'Sell', 38.0), (7118, 'Sell', 38.0), (7119, 'Sell', 38.0), (7120, 'Sell', 38.0), (7121, 'Sell', 38.0), (7122, 'Sell', 38.0), (7123, 'Sell', 37.0), (7124, 'Sell', 37.0), (7125, 'Sell', 38.0), (7126, 'Sell', 38.0), (7127, 'Sell', 38.0), (7128, 'Sell', 38.0), (7129, 'Sell', 38.0), (7130, 'Sell', 38.0), (7131, 'Sell', 38.0), (7132, 'Sell', 38.0), (7133, 'Sell', 38.0), (7134, 'Sell', 38.0), (7135, 'Sell', 38.0), (7136, 'Sell', 38.0), (7137, 'Sell', 38.0), (7138, 'Sell', 38.0), (7139, 'Sell', 38.0), (7140, 'Sell', 38.0), (7141, 'Sell', 38.0), (7142, 'Sell', 38.0), (7143, 'Sell', 38.0), (7144, 'Sell', 38.0), (7170, 'Buy', 37.0), (7171, 'Buy', 37.0), (7172, 'Buy', 37.0), (7186, 'Sell', 55.0), (7187, 'Sell', 55.0), (7188, 'Sell', 56.0), (7189, 'Sell', 56.0), (7190, 'Sell', 56.0), (7191, 'Sell', 56.0), (7192, 'Sell', 56.0), (7193, 'Sell', 56.0), (7194, 'Sell', 56.0), (7195, 'Sell', 56.0), (7196, 'Sell', 56.0), (7197, 'Sell', 56.0), (7198, 'Sell', 56.0), (7199, 'Sell', 56.0), (7200, 'Sell', 56.0), (7201, 'Sell', 56.0), (7202, 'Sell', 56.0), (7203, 'Sell', 56.0), (7204, 'Sell', 56.0), (7205, 'Buy', 38.0), (7206, 'Buy', 38.0), (7207, 'Buy', 38.0), (7208, 'Buy', 38.0), (7209, 'Buy', 38.0), (7210, 'Buy', 38.0), (7211, 'Buy', 38.0), (7212, 'Buy', 38.0), (7213, 'Buy', 38.0), (7214, 'Buy', 38.0), (7215, 'Buy', 38.0), (7216, 'Buy', 38.0), (7217, 'Buy', 38.0), (7218, 'Buy', 38.0), (7219, 'Buy', 38.0), (7220, 'Buy', 38.0), (7221, 'Buy', 38.0), (7222, 'Buy', 38.0), (7223, 'Buy', 38.0), (7224, 'Buy', 38.0), (7225, 'Buy', 38.0), (7226, 'Buy', 38.0), (7227, 'Buy', 38.0), (7228, 'Buy', 38.0), (7229, 'Buy', 38.0), (7230, 'Buy', 38.0), (7231, 'Buy', 38.0), (7232, 'Buy', 38.0), (7258, 'Buy', 37.0), (7259, 'Buy', 37.0), (7276, 'Buy', 6.0), (7277, 'Buy', 6.0), (7278, 'Buy', 6.0), (7279, 'Buy', 6.0), (7280, 'Buy', 6.0), (7281, 'Buy', 6.0), (7282, 'Buy', 6.0), (7283, 'Buy', 6.0), (7284, 'Buy', 6.0), (7285, 'Buy', 6.0), (7286, 'Buy', 6.0), (7287, 'Buy', 6.0), (7288, 'Buy', 6.0), (7289, 'Buy', 6.0), (7290, 'Buy', 6.0), (7291, 'Buy', 6.0), (7292, 'Buy', 6.0), (7293, 'Buy', 6.0), (7294, 'Buy', 6.0), (7295, 'Buy', 6.0), (7296, 'Buy', 6.0), (7297, 'Sell', 38.0), (7298, 'Sell', 38.0), (7299, 'Sell', 38.0), (7300, 'Sell', 38.0), (7301, 'Sell', 38.0), (7302, 'Sell', 38.0), (7303, 'Sell', 38.0), (7304, 'Sell', 38.0), (7305, 'Sell', 38.0), (7306, 'Sell', 38.0), (7307, 'Sell', 38.0), (7308, 'Sell', 38.0), (7309, 'Sell', 38.0), (7310, 'Sell', 38.0), (7311, 'Sell', 38.0), (7312, 'Sell', 38.0), (7313, 'Sell', 38.0), (7314, 'Sell', 38.0), (7315, 'Sell', 38.0), (7316, 'Sell', 38.0), (7317, 'Sell', 38.0), (7318, 'Sell', 38.0), (7319, 'Sell', 38.0), (7320, 'Sell', 38.0), (7321, 'Sell', 38.0), (7322, 'Sell', 38.0), (7323, 'Sell', 38.0), (7324, 'Sell', 38.0), (7369, 'Sell', 56.0), (7370, 'Sell', 56.0), (7371, 'Sell', 56.0), (7372, 'Sell', 56.0), (7373, 'Sell', 56.0), (7374, 'Sell', 56.0), (7375, 'Sell', 56.0), (7376, 'Sell', 56.0), (7377, 'Sell', 56.0), (7378, 'Sell', 56.0), (7379, 'Sell', 56.0), (7380, 'Sell', 56.0), (7381, 'Sell', 56.0), (7382, 'Sell', 55.0), (7383, 'Sell', 55.0), (7384, 'Sell', 56.0), (7385, 'Sell', 56.0), (7386, 'Buy', 38.0), (7387, 'Buy', 38.0), (7388, 'Buy', 38.0), (7389, 'Buy', 38.0), (7390, 'Buy', 38.0), (7391, 'Buy', 38.0), (7392, 'Buy', 38.0), (7393, 'Buy', 38.0), (7394, 'Buy', 38.0), (7395, 'Buy', 38.0), (7396, 'Buy', 38.0), (7397, 'Buy', 38.0), (7398, 'Buy', 38.0), (7399, 'Buy', 38.0), (7400, 'Buy', 38.0), (7401, 'Buy', 38.0), (7402, 'Buy', 38.0), (7403, 'Buy', 38.0), (7404, 'Buy', 38.0), (7405, 'Buy', 38.0), (7406, 'Buy', 38.0), (7407, 'Buy', 38.0), (7408, 'Buy', 38.0), (7409, 'Buy', 38.0), (7410, 'Buy', 38.0), (7411, 'Buy', 38.0), (7412, 'Buy', 38.0), (7413, 'Buy', 38.0), (7457, 'Buy', 6.0), (7458, 'Buy', 6.0), (7459, 'Buy', 6.0), (7460, 'Buy', 6.0), (7461, 'Buy', 6.0), (7462, 'Buy', 6.0), (7463, 'Buy', 6.0), (7464, 'Buy', 6.0), (7465, 'Buy', 6.0), (7466, 'Buy', 6.0), (7467, 'Buy', 6.0), (7468, 'Buy', 6.0), (7469, 'Buy', 6.0), (7470, 'Buy', 6.0), (7471, 'Buy', 6.0), (7472, 'Sell', 38.0), (7473, 'Sell', 38.0), (7474, 'Sell', 38.0), (7475, 'Sell', 38.0), (7476, 'Sell', 38.0), (7477, 'Sell', 38.0), (7478, 'Sell', 38.0), (7479, 'Sell', 38.0), (7480, 'Sell', 38.0), (7481, 'Sell', 38.0), (7482, 'Sell', 38.0), (7483, 'Sell', 38.0), (7484, 'Sell', 38.0), (7485, 'Sell', 38.0), (7486, 'Sell', 38.0), (7487, 'Sell', 38.0), (7488, 'Sell', 38.0), (7489, 'Sell', 38.0), (7490, 'Sell', 38.0), (7491, 'Sell', 38.0), (7492, 'Sell', 38.0), (7493, 'Sell', 38.0), (7494, 'Sell', 38.0), (7495, 'Sell', 38.0), (7496, 'Sell', 38.0), (7497, 'Sell', 38.0), (7498, 'Sell', 38.0), (7499, 'Sell', 38.0), (7538, 'Sell', 56.0), (7539, 'Sell', 56.0), (7540, 'Sell', 56.0), (7541, 'Sell', 56.0), (7542, 'Sell', 56.0), (7543, 'Sell', 56.0), (7544, 'Sell', 56.0), (7545, 'Sell', 56.0), (7546, 'Sell', 56.0), (7547, 'Sell', 56.0), (7548, 'Sell', 55.0), (7549, 'Sell', 55.0), (7550, 'Sell', 56.0), (7551, 'Sell', 56.0), (7552, 'Sell', 56.0), (7553, 'Sell', 56.0), (7554, 'Sell', 56.0), (7555, 'Buy', 37.0), (7556, 'Buy', 37.0), (7557, 'Buy', 38.0), (7558, 'Buy', 38.0), (7559, 'Buy', 38.0), (7560, 'Buy', 38.0), (7561, 'Buy', 38.0), (7562, 'Buy', 38.0), (7563, 'Buy', 38.0), (7564, 'Buy', 38.0), (7565, 'Buy', 38.0), (7566, 'Buy', 38.0), (7567, 'Buy', 38.0), (7568, 'Buy', 38.0), (7569, 'Buy', 38.0), (7570, 'Buy', 38.0), (7571, 'Buy', 38.0), (7572, 'Buy', 38.0), (7573, 'Buy', 38.0), (7574, 'Buy', 38.0), (7575, 'Buy', 38.0), (7576, 'Buy', 38.0), (7577, 'Buy', 38.0), (7578, 'Buy', 38.0), (7579, 'Buy', 38.0), (7580, 'Buy', 38.0), (7581, 'Buy', 38.0), (7582, 'Buy', 38.0), (7619, 'Buy', 37.0), (7620, 'Buy', 37.0), (7623, 'Buy', 6.0), (7624, 'Buy', 6.0), (7625, 'Buy', 6.0), (7626, 'Buy', 6.0), (7627, 'Buy', 6.0), (7628, 'Buy', 6.0), (7629, 'Buy', 6.0), (7630, 'Buy', 6.0), (7631, 'Buy', 6.0), (7632, 'Buy', 6.0), (7633, 'Buy', 6.0), (7634, 'Buy', 6.0), (7635, 'Buy', 6.0), (7636, 'Buy', 6.0), (7637, 'Buy', 6.0), (7638, 'Buy', 6.0), (7639, 'Buy', 6.0), (7640, 'Buy', 6.0), (7641, 'Sell', 38.0), (7642, 'Sell', 38.0), (7643, 'Sell', 38.0), (7644, 'Sell', 38.0), (7645, 'Sell', 38.0), (7646, 'Sell', 38.0), (7647, 'Sell', 38.0), (7648, 'Sell', 38.0), (7649, 'Sell', 38.0), (7650, 'Sell', 38.0), (7651, 'Sell', 38.0), (7652, 'Sell', 38.0), (7653, 'Sell', 38.0), (7654, 'Sell', 38.0), (7655, 'Sell', 38.0), (7656, 'Sell', 38.0), (7657, 'Sell', 38.0), (7658, 'Sell', 38.0), (7659, 'Sell', 38.0), (7660, 'Sell', 38.0), (7661, 'Sell', 38.0), (7662, 'Sell', 38.0), (7663, 'Sell', 38.0), (7664, 'Sell', 38.0), (7665, 'Sell', 38.0), (7666, 'Sell', 38.0), (7667, 'Sell', 38.0), (7668, 'Sell', 38.0), (7698, 'Buy', 37.0), (7699, 'Buy', 37.0), (7709, 'Sell', 56.0), (7710, 'Sell', 56.0), (7711, 'Sell', 56.0), (7712, 'Sell', 56.0), (7713, 'Sell', 56.0), (7714, 'Sell', 56.0), (7715, 'Sell', 56.0), (7716, 'Sell', 56.0), (7717, 'Sell', 56.0), (7718, 'Sell', 56.0), (7719, 'Sell', 56.0), (7720, 'Sell', 56.0), (7721, 'Sell', 56.0), (7722, 'Sell', 56.0), (7723, 'Sell', 56.0), (7724, 'Sell', 56.0), (7725, 'Sell', 56.0), (7726, 'Sell', 56.0), (7727, 'Buy', 38.0), (7728, 'Buy', 38.0), (7729, 'Buy', 38.0), (7730, 'Buy', 38.0), (7731, 'Buy', 38.0), (7732, 'Buy', 38.0), (7733, 'Buy', 38.0), (7734, 'Buy', 38.0), (7735, 'Buy', 38.0), (7736, 'Buy', 38.0), (7737, 'Buy', 38.0), (7738, 'Buy', 38.0), (7739, 'Buy', 38.0), (7740, 'Buy', 38.0), (7741, 'Buy', 38.0), (7742, 'Buy', 38.0), (7743, 'Buy', 38.0), (7744, 'Buy', 38.0), (7745, 'Buy', 38.0), (7746, 'Buy', 38.0), (7747, 'Buy', 38.0), (7748, 'Buy', 38.0), (7749, 'Buy', 38.0), (7750, 'Buy', 38.0), (7751, 'Buy', 38.0), (7752, 'Buy', 38.0), (7753, 'Buy', 38.0), (7754, 'Buy', 38.0), (7798, 'Buy', 6.0), (7799, 'Buy', 6.0), (7800, 'Buy', 6.0), (7801, 'Buy', 6.0), (7802, 'Buy', 6.0), (7803, 'Buy', 6.0), (7804, 'Buy', 6.0), (7805, 'Buy', 6.0), (7806, 'Buy', 6.0), (7807, 'Buy', 6.0), (7808, 'Buy', 6.0), (7809, 'Buy', 6.0), (7810, 'Buy', 6.0), (7811, 'Buy', 6.0), (7812, 'Buy', 6.0), (7813, 'Buy', 6.0), (7814, 'Buy', 6.0), (7815, 'Buy', 6.0), (7816, 'Sell', 38.0), (7817, 'Sell', 38.0), (7818, 'Sell', 38.0), (7819, 'Sell', 38.0), (7820, 'Sell', 38.0), (7821, 'Sell', 38.0), (7822, 'Sell', 38.0), (7823, 'Sell', 38.0), (7824, 'Sell', 38.0), (7825, 'Sell', 38.0), (7826, 'Sell', 38.0), (7827, 'Sell', 38.0), (7828, 'Sell', 38.0), (7829, 'Sell', 38.0), (7830, 'Sell', 38.0), (7831, 'Sell', 38.0), (7832, 'Sell', 38.0), (7833, 'Sell', 38.0), (7834, 'Sell', 38.0), (7835, 'Sell', 38.0), (7836, 'Sell', 38.0), (7837, 'Sell', 38.0), (7838, 'Sell', 38.0), (7839, 'Sell', 38.0), (7840, 'Sell', 38.0), (7841, 'Sell', 38.0), (7842, 'Sell', 38.0), (7843, 'Sell', 38.0), (7851, 'Buy', 37.0), (7852, 'Buy', 37.0), (7884, 'Sell', 56.0), (7885, 'Sell', 56.0), (7886, 'Sell', 56.0), (7887, 'Sell', 56.0), (7888, 'Sell', 56.0), (7889, 'Sell', 56.0), (7890, 'Sell', 56.0), (7891, 'Sell', 55.0), (7892, 'Sell', 55.0), (7893, 'Sell', 55.0), (7894, 'Sell', 56.0), (7895, 'Sell', 56.0), (7896, 'Sell', 56.0), (7897, 'Sell', 56.0), (7898, 'Sell', 56.0), (7899, 'Sell', 56.0), (7900, 'Sell', 56.0), (7901, 'Sell', 56.0), (7902, 'Buy', 38.0), (7903, 'Buy', 38.0), (7904, 'Buy', 38.0), (7905, 'Buy', 38.0), (7906, 'Buy', 38.0), (7907, 'Buy', 38.0), (7908, 'Buy', 38.0), (7909, 'Buy', 38.0), (7910, 'Buy', 38.0), (7911, 'Buy', 38.0), (7912, 'Buy', 38.0), (7913, 'Buy', 38.0), (7914, 'Buy', 38.0), (7915, 'Buy', 38.0), (7916, 'Buy', 38.0), (7917, 'Buy', 38.0), (7918, 'Buy', 38.0), (7919, 'Buy', 38.0), (7920, 'Buy', 38.0), (7921, 'Buy', 38.0), (7922, 'Buy', 38.0), (7923, 'Buy', 38.0), (7924, 'Buy', 38.0), (7925, 'Buy', 38.0), (7926, 'Buy', 38.0), (7927, 'Buy', 38.0), (7928, 'Buy', 38.0), (7929, 'Buy', 38.0), (7958, 'Buy', 37.0), (7959, 'Buy', 37.0), (7960, 'Buy', 37.0), (7970, 'Buy', 6.0), (7971, 'Buy', 6.0), (7972, 'Buy', 6.0), (7973, 'Buy', 6.0), (7974, 'Buy', 6.0), (7975, 'Buy', 6.0), (7976, 'Buy', 6.0), (7977, 'Buy', 6.0), (7978, 'Buy', 6.0), (7979, 'Buy', 6.0), (7980, 'Buy', 6.0), (7981, 'Buy', 6.0), (7982, 'Buy', 6.0), (7983, 'Buy', 6.0), (7984, 'Buy', 6.0), (7985, 'Buy', 6.0), (7986, 'Sell', 38.0), (7987, 'Sell', 38.0), (7988, 'Sell', 38.0), (7989, 'Sell', 38.0), (7990, 'Sell', 38.0), (7991, 'Sell', 38.0), (7992, 'Sell', 38.0), (7993, 'Sell', 38.0), (7994, 'Sell', 38.0), (7995, 'Sell', 38.0), (7996, 'Sell', 38.0), (7997, 'Sell', 38.0), (7998, 'Sell', 38.0), (7999, 'Sell', 38.0), (8000, 'Sell', 38.0), (8001, 'Sell', 38.0), (8002, 'Sell', 38.0), (8003, 'Sell', 38.0), (8004, 'Sell', 38.0), (8005, 'Sell', 38.0), (8006, 'Sell', 38.0), (8007, 'Sell', 38.0), (8008, 'Sell', 38.0), (8009, 'Sell', 37.0), (8010, 'Sell', 37.0), (8011, 'Sell', 38.0), (8012, 'Sell', 38.0), (8013, 'Sell', 38.0), (8051, 'Sell', 56.0), (8052, 'Sell', 56.0), (8053, 'Sell', 56.0), (8054, 'Sell', 56.0), (8055, 'Sell', 56.0), (8056, 'Sell', 56.0), (8057, 'Sell', 56.0), (8058, 'Sell', 56.0), (8059, 'Sell', 56.0), (8060, 'Sell', 56.0), (8061, 'Sell', 56.0), (8062, 'Sell', 56.0), (8063, 'Sell', 56.0), (8064, 'Sell', 56.0), (8065, 'Sell', 56.0), (8066, 'Sell', 56.0), (8067, 'Sell', 56.0), (8068, 'Buy', 38.0), (8069, 'Buy', 38.0), (8070, 'Buy', 38.0), (8071, 'Buy', 38.0), (8072, 'Buy', 38.0), (8073, 'Buy', 38.0), (8074, 'Buy', 38.0), (8075, 'Buy', 38.0), (8076, 'Buy', 38.0), (8077, 'Buy', 38.0), (8078, 'Buy', 38.0), (8079, 'Buy', 38.0), (8080, 'Buy', 38.0), (8081, 'Buy', 38.0), (8082, 'Buy', 38.0), (8083, 'Buy', 38.0), (8084, 'Buy', 38.0), (8085, 'Buy', 38.0), (8086, 'Buy', 38.0), (8087, 'Buy', 38.0), (8088, 'Buy', 38.0), (8089, 'Buy', 38.0), (8090, 'Buy', 38.0), (8091, 'Buy', 38.0), (8092, 'Buy', 38.0), (8093, 'Buy', 38.0), (8094, 'Buy', 38.0), (8095, 'Buy', 38.0), (8130, 'Buy', 6.0), (8131, 'Buy', 6.0), (8132, 'Buy', 6.0), (8133, 'Buy', 6.0), (8134, 'Buy', 6.0), (8135, 'Buy', 6.0), (8136, 'Buy', 6.0), (8137, 'Buy', 6.0), (8138, 'Buy', 6.0), (8139, 'Buy', 6.0), (8140, 'Buy', 6.0), (8141, 'Buy', 6.0), (8142, 'Buy', 6.0), (8143, 'Buy', 6.0), (8144, 'Buy', 6.0), (8145, 'Buy', 6.0), (8146, 'Buy', 6.0), (8147, 'Sell', 38.0), (8148, 'Sell', 38.0), (8149, 'Sell', 38.0), (8150, 'Sell', 38.0), (8151, 'Sell', 38.0), (8152, 'Sell', 38.0), (8153, 'Sell', 38.0), (8154, 'Sell', 38.0), (8155, 'Sell', 38.0), (8156, 'Sell', 38.0), (8157, 'Sell', 38.0), (8158, 'Sell', 38.0), (8159, 'Sell', 38.0), (8160, 'Sell', 38.0), (8161, 'Sell', 38.0), (8162, 'Sell', 38.0), (8163, 'Sell', 38.0), (8164, 'Sell', 38.0), (8165, 'Sell', 38.0), (8166, 'Sell', 38.0), (8167, 'Sell', 38.0), (8168, 'Sell', 38.0), (8169, 'Sell', 38.0), (8170, 'Sell', 38.0), (8171, 'Sell', 38.0), (8172, 'Sell', 38.0), (8173, 'Sell', 38.0), (8174, 'Sell', 38.0), (8218, 'Sell', 56.0), (8219, 'Sell', 56.0), (8220, 'Sell', 56.0), (8221, 'Sell', 56.0), (8222, 'Sell', 56.0), (8223, 'Sell', 56.0), (8224, 'Sell', 56.0), (8225, 'Sell', 56.0), (8226, 'Sell', 56.0), (8227, 'Sell', 56.0), (8228, 'Sell', 56.0), (8229, 'Sell', 56.0), (8230, 'Sell', 56.0), (8231, 'Sell', 56.0), (8232, 'Sell', 56.0), (8233, 'Sell', 56.0), (8234, 'Sell', 56.0), (8235, 'Buy', 38.0), (8236, 'Buy', 38.0), (8237, 'Buy', 38.0), (8238, 'Buy', 38.0), (8239, 'Buy', 38.0), (8240, 'Buy', 38.0), (8241, 'Buy', 38.0), (8242, 'Buy', 38.0), (8243, 'Buy', 38.0), (8244, 'Buy', 38.0), (8245, 'Buy', 38.0), (8246, 'Buy', 38.0), (8247, 'Buy', 38.0), (8248, 'Buy', 38.0), (8249, 'Buy', 38.0), (8250, 'Buy', 38.0), (8251, 'Buy', 38.0), (8252, 'Buy', 38.0), (8253, 'Buy', 38.0), (8254, 'Buy', 38.0), (8255, 'Buy', 38.0), (8256, 'Buy', 38.0), (8257, 'Buy', 38.0), (8258, 'Buy', 38.0), (8259, 'Buy', 38.0), (8260, 'Buy', 38.0), (8261, 'Buy', 38.0), (8262, 'Buy', 38.0), (8305, 'Buy', 6.0), (8306, 'Buy', 6.0), (8307, 'Buy', 6.0), (8308, 'Buy', 6.0), (8309, 'Buy', 6.0), (8310, 'Buy', 6.0), (8311, 'Buy', 6.0), (8312, 'Buy', 6.0), (8313, 'Buy', 6.0), (8314, 'Buy', 6.0), (8315, 'Buy', 6.0), (8316, 'Buy', 6.0), (8317, 'Buy', 6.0), (8318, 'Buy', 6.0), (8319, 'Buy', 6.0), (8320, 'Buy', 6.0), (8321, 'Sell', 38.0), (8322, 'Sell', 38.0), (8323, 'Sell', 38.0), (8324, 'Sell', 38.0), (8325, 'Sell', 38.0), (8326, 'Sell', 38.0), (8327, 'Sell', 38.0), (8328, 'Sell', 38.0), (8329, 'Sell', 38.0), (8330, 'Sell', 38.0), (8331, 'Sell', 38.0), (8332, 'Sell', 38.0), (8333, 'Sell', 38.0), (8334, 'Sell', 38.0), (8335, 'Sell', 37.0), (8336, 'Sell', 37.0), (8337, 'Sell', 37.0), (8338, 'Sell', 38.0), (8339, 'Sell', 38.0), (8340, 'Sell', 38.0), (8341, 'Sell', 38.0), (8342, 'Sell', 38.0), (8343, 'Sell', 38.0), (8344, 'Sell', 38.0), (8345, 'Sell', 38.0), (8346, 'Sell', 38.0), (8347, 'Sell', 38.0), (8348, 'Sell', 38.0), (8388, 'Sell', 56.0), (8389, 'Sell', 56.0), (8390, 'Sell', 56.0), (8391, 'Sell', 56.0), (8392, 'Sell', 56.0), (8393, 'Sell', 56.0), (8394, 'Sell', 56.0), (8395, 'Sell', 56.0), (8396, 'Sell', 56.0), (8397, 'Sell', 56.0), (8398, 'Sell', 56.0), (8399, 'Sell', 56.0), (8400, 'Sell', 56.0), (8401, 'Sell', 56.0), (8402, 'Sell', 56.0), (8403, 'Sell', 56.0), (8404, 'Sell', 56.0), (8405, 'Sell', 56.0), (8406, 'Buy', 38.0), (8407, 'Buy', 38.0), (8408, 'Buy', 38.0), (8409, 'Buy', 38.0), (8410, 'Buy', 38.0), (8411, 'Buy', 38.0), (8412, 'Buy', 38.0), (8413, 'Buy', 38.0), (8414, 'Buy', 38.0), (8415, 'Buy', 38.0), (8416, 'Buy', 38.0), (8417, 'Buy', 38.0), (8418, 'Buy', 38.0), (8419, 'Buy', 37.0), (8420, 'Buy', 37.0), (8421, 'Buy', 37.0), (8422, 'Buy', 38.0), (8423, 'Buy', 38.0), (8424, 'Buy', 38.0), (8425, 'Buy', 38.0), (8426, 'Buy', 38.0), (8427, 'Buy', 38.0), (8428, 'Buy', 38.0), (8429, 'Buy', 38.0), (8430, 'Buy', 38.0), (8431, 'Buy', 38.0), (8432, 'Buy', 38.0), (8433, 'Buy', 38.0), (8470, 'Buy', 37.0), (8471, 'Buy', 37.0), (8475, 'Buy', 5.0), (8476, 'Buy', 5.0), (8477, 'Buy', 6.0), (8478, 'Buy', 6.0), (8479, 'Buy', 6.0), (8480, 'Buy', 6.0), (8481, 'Buy', 6.0), (8482, 'Buy', 6.0), (8483, 'Buy', 6.0), (8484, 'Buy', 6.0), (8485, 'Buy', 6.0), (8486, 'Buy', 6.0), (8487, 'Buy', 6.0), (8488, 'Buy', 6.0), (8489, 'Buy', 6.0), (8490, 'Buy', 6.0), (8491, 'Sell', 38.0), (8492, 'Sell', 38.0), (8493, 'Sell', 38.0), (8494, 'Sell', 38.0), (8495, 'Sell', 38.0), (8496, 'Sell', 38.0), (8497, 'Sell', 38.0), (8498, 'Sell', 38.0), (8499, 'Sell', 38.0), (8500, 'Sell', 38.0), (8501, 'Sell', 38.0), (8502, 'Sell', 38.0), (8503, 'Sell', 38.0), (8504, 'Sell', 38.0), (8505, 'Sell', 38.0), (8506, 'Sell', 38.0), (8507, 'Sell', 38.0), (8508, 'Sell', 38.0), (8509, 'Sell', 38.0), (8510, 'Sell', 38.0), (8511, 'Sell', 38.0), (8512, 'Sell', 38.0), (8513, 'Sell', 38.0), (8514, 'Sell', 38.0), (8515, 'Sell', 38.0), (8516, 'Sell', 38.0), (8517, 'Sell', 38.0), (8518, 'Sell', 38.0), (8538, 'Buy', 37.0), (8539, 'Buy', 37.0), (8549, 'Buy', 37.0), (8550, 'Buy', 37.0), (8563, 'Sell', 56.0), (8564, 'Sell', 56.0), (8565, 'Sell', 56.0), (8566, 'Sell', 56.0), (8567, 'Sell', 56.0), (8568, 'Sell', 56.0), (8569, 'Sell', 56.0), (8570, 'Sell', 56.0), (8571, 'Sell', 56.0), (8572, 'Sell', 56.0), (8573, 'Sell', 56.0), (8574, 'Sell', 56.0), (8575, 'Sell', 56.0), (8576, 'Sell', 56.0), (8577, 'Sell', 56.0), (8578, 'Sell', 56.0), (8579, 'Sell', 56.0), (8580, 'Sell', 56.0), (8581, 'Sell', 56.0), (8582, 'Buy', 38.0), (8583, 'Buy', 38.0), (8584, 'Buy', 38.0), (8585, 'Buy', 38.0), (8586, 'Buy', 38.0), (8587, 'Buy', 38.0), (8588, 'Buy', 38.0), (8589, 'Buy', 38.0), (8590, 'Buy', 38.0), (8591, 'Buy', 38.0), (8592, 'Buy', 38.0), (8593, 'Buy', 38.0), (8594, 'Buy', 38.0), (8595, 'Buy', 38.0), (8596, 'Buy', 38.0), (8597, 'Buy', 38.0), (8598, 'Buy', 38.0), (8599, 'Buy', 37.0), (8600, 'Buy', 37.0), (8601, 'Buy', 37.0), (8602, 'Buy', 38.0), (8603, 'Buy', 38.0), (8604, 'Buy', 38.0), (8605, 'Buy', 38.0), (8606, 'Buy', 38.0), (8607, 'Buy', 38.0), (8608, 'Buy', 38.0), (8609, 'Buy', 38.0), (8652, 'Buy', 6.0), (8653, 'Buy', 6.0), (8654, 'Buy', 6.0), (8655, 'Buy', 6.0), (8656, 'Buy', 6.0), (8657, 'Buy', 6.0), (8658, 'Buy', 6.0), (8659, 'Buy', 6.0), (8660, 'Buy', 6.0), (8661, 'Buy', 6.0), (8662, 'Buy', 6.0), (8663, 'Buy', 6.0), (8664, 'Buy', 6.0), (8665, 'Buy', 6.0), (8666, 'Buy', 6.0), (8667, 'Buy', 6.0), (8668, 'Buy', 6.0), (8669, 'Buy', 6.0), (8670, 'Sell', 38.0), (8671, 'Sell', 38.0), (8672, 'Sell', 38.0), (8673, 'Sell', 38.0), (8674, 'Sell', 38.0), (8675, 'Sell', 38.0), (8676, 'Sell', 38.0), (8677, 'Sell', 38.0), (8678, 'Sell', 38.0), (8679, 'Sell', 38.0), (8680, 'Sell', 38.0), (8681, 'Sell', 38.0), (8682, 'Sell', 38.0), (8683, 'Sell', 38.0), (8684, 'Sell', 38.0), (8685, 'Sell', 38.0), (8686, 'Sell', 38.0), (8687, 'Sell', 38.0), (8688, 'Sell', 38.0), (8689, 'Sell', 38.0), (8690, 'Sell', 38.0), (8691, 'Sell', 38.0), (8692, 'Sell', 38.0), (8693, 'Sell', 38.0), (8694, 'Sell', 38.0), (8695, 'Sell', 38.0), (8696, 'Sell', 38.0), (8697, 'Sell', 38.0), (8715, 'Buy', 37.0), (8716, 'Buy', 37.0), (8738, 'Sell', 56.0), (8739, 'Sell', 56.0), (8740, 'Sell', 56.0), (8741, 'Sell', 56.0), (8742, 'Sell', 56.0), (8743, 'Sell', 56.0), (8744, 'Sell', 56.0), (8745, 'Sell', 56.0), (8746, 'Sell', 56.0), (8747, 'Sell', 56.0), (8748, 'Sell', 56.0), (8749, 'Sell', 56.0), (8750, 'Sell', 56.0), (8751, 'Sell', 56.0), (8752, 'Sell', 56.0), (8753, 'Sell', 56.0), (8754, 'Buy', 38.0), (8755, 'Buy', 38.0), (8756, 'Buy', 38.0), (8757, 'Buy', 38.0), (8758, 'Buy', 38.0), (8759, 'Buy', 38.0), (8760, 'Buy', 38.0), (8761, 'Buy', 38.0), (8762, 'Buy', 38.0), (8763, 'Buy', 38.0), (8764, 'Buy', 38.0), (8765, 'Buy', 38.0), (8766, 'Buy', 38.0), (8767, 'Buy', 38.0), (8768, 'Buy', 38.0), (8769, 'Buy', 38.0), (8770, 'Buy', 38.0), (8771, 'Buy', 38.0), (8772, 'Buy', 38.0), (8773, 'Buy', 38.0), (8774, 'Buy', 38.0), (8775, 'Buy', 38.0), (8776, 'Buy', 38.0), (8777, 'Buy', 38.0), (8778, 'Buy', 38.0), (8779, 'Buy', 38.0), (8780, 'Buy', 38.0), (8781, 'Buy', 38.0), (8817, 'Buy', 37.0), (8818, 'Buy', 37.0), (8823, 'Buy', 6.0), (8824, 'Buy', 6.0), (8825, 'Buy', 6.0), (8826, 'Buy', 6.0), (8827, 'Buy', 6.0), (8828, 'Buy', 6.0), (8829, 'Buy', 6.0), (8830, 'Buy', 6.0), (8831, 'Buy', 6.0), (8832, 'Buy', 6.0), (8833, 'Buy', 6.0), (8834, 'Buy', 6.0), (8835, 'Buy', 6.0), (8836, 'Buy', 6.0), (8837, 'Buy', 6.0), (8838, 'Buy', 6.0), (8839, 'Buy', 6.0), (8840, 'Sell', 38.0), (8841, 'Sell', 38.0), (8842, 'Sell', 38.0), (8843, 'Sell', 38.0), (8844, 'Sell', 38.0), (8845, 'Sell', 38.0), (8846, 'Sell', 38.0), (8847, 'Sell', 38.0), (8848, 'Sell', 38.0), (8849, 'Sell', 38.0), (8850, 'Sell', 38.0), (8851, 'Sell', 38.0), (8852, 'Sell', 38.0), (8853, 'Sell', 38.0), (8854, 'Sell', 38.0), (8855, 'Sell', 38.0), (8856, 'Sell', 38.0), (8857, 'Sell', 38.0), (8858, 'Sell', 38.0), (8859, 'Sell', 38.0), (8860, 'Sell', 38.0), (8861, 'Sell', 38.0), (8862, 'Sell', 38.0), (8863, 'Sell', 38.0), (8864, 'Sell', 38.0), (8865, 'Sell', 38.0), (8866, 'Sell', 38.0), (8867, 'Sell', 38.0), (8907, 'Sell', 56.0), (8908, 'Sell', 56.0), (8909, 'Sell', 56.0), (8910, 'Sell', 56.0), (8911, 'Sell', 56.0), (8912, 'Sell', 56.0), (8913, 'Sell', 56.0), (8914, 'Sell', 56.0), (8915, 'Sell', 56.0), (8916, 'Sell', 56.0), (8917, 'Sell', 56.0), (8918, 'Sell', 56.0), (8919, 'Sell', 56.0), (8920, 'Sell', 56.0), (8921, 'Sell', 56.0), (8922, 'Buy', 38.0), (8923, 'Buy', 38.0), (8924, 'Buy', 38.0), (8925, 'Buy', 38.0), (8926, 'Buy', 38.0), (8927, 'Buy', 38.0), (8928, 'Buy', 38.0), (8929, 'Buy', 38.0), (8930, 'Buy', 38.0), (8931, 'Buy', 38.0), (8932, 'Buy', 38.0), (8933, 'Buy', 38.0), (8934, 'Buy', 38.0), (8935, 'Buy', 38.0), (8936, 'Buy', 38.0), (8937, 'Buy', 38.0), (8938, 'Buy', 38.0), (8939, 'Buy', 38.0), (8940, 'Buy', 38.0), (8941, 'Buy', 38.0), (8942, 'Buy', 38.0), (8943, 'Buy', 38.0), (8944, 'Buy', 38.0), (8945, 'Buy', 38.0), (8946, 'Buy', 38.0), (8947, 'Buy', 38.0), (8948, 'Buy', 38.0), (8949, 'Buy', 38.0), (8990, 'Buy', 6.0), (8991, 'Buy', 6.0), (8992, 'Buy', 6.0), (8993, 'Buy', 6.0), (8994, 'Buy', 6.0), (8995, 'Buy', 6.0), (8996, 'Buy', 6.0), (8997, 'Buy', 6.0), (8998, 'Buy', 6.0), (8999, 'Buy', 6.0), (9000, 'Buy', 6.0), (9001, 'Buy', 6.0), (9002, 'Buy', 6.0), (9003, 'Buy', 6.0), (9004, 'Buy', 6.0), (9005, 'Buy', 6.0), (9006, 'Sell', 38.0), (9007, 'Sell', 38.0), (9008, 'Sell', 38.0), (9009, 'Sell', 38.0), (9010, 'Sell', 38.0), (9011, 'Sell', 38.0), (9012, 'Sell', 38.0), (9013, 'Sell', 38.0), (9014, 'Sell', 38.0), (9015, 'Sell', 38.0), (9016, 'Sell', 38.0), (9017, 'Sell', 38.0), (9018, 'Sell', 38.0), (9019, 'Sell', 38.0), (9020, 'Sell', 38.0), (9021, 'Sell', 38.0), (9022, 'Sell', 38.0), (9023, 'Sell', 38.0), (9024, 'Sell', 38.0), (9025, 'Sell', 38.0), (9026, 'Sell', 38.0), (9027, 'Sell', 38.0), (9028, 'Sell', 38.0), (9029, 'Sell', 38.0), (9030, 'Sell', 38.0), (9031, 'Sell', 38.0), (9032, 'Sell', 38.0), (9033, 'Sell', 38.0), (9060, 'Buy', 37.0), (9061, 'Buy', 37.0), (9072, 'Sell', 56.0), (9073, 'Sell', 56.0), (9074, 'Sell', 56.0), (9075, 'Sell', 56.0), (9076, 'Sell', 55.0), (9077, 'Sell', 55.0), (9078, 'Sell', 55.0), (9079, 'Sell', 56.0), (9080, 'Sell', 56.0), (9081, 'Sell', 56.0), (9082, 'Sell', 56.0), (9083, 'Sell', 56.0), (9084, 'Sell', 56.0), (9085, 'Sell', 56.0), (9086, 'Sell', 56.0), (9087, 'Sell', 56.0), (9088, 'Sell', 56.0), (9089, 'Sell', 56.0), (9090, 'Buy', 38.0), (9091, 'Buy', 38.0), (9092, 'Buy', 38.0), (9093, 'Buy', 38.0), (9094, 'Buy', 37.0), (9095, 'Buy', 37.0), (9096, 'Buy', 38.0), (9097, 'Buy', 38.0), (9098, 'Buy', 38.0), (9099, 'Buy', 38.0), (9100, 'Buy', 38.0), (9101, 'Buy', 38.0), (9102, 'Buy', 38.0), (9103, 'Buy', 38.0), (9104, 'Buy', 38.0), (9105, 'Buy', 38.0), (9106, 'Buy', 38.0), (9107, 'Buy', 38.0), (9108, 'Buy', 38.0), (9109, 'Buy', 38.0), (9110, 'Buy', 38.0), (9111, 'Buy', 38.0), (9112, 'Buy', 38.0), (9113, 'Buy', 38.0), (9114, 'Buy', 37.0), (9115, 'Buy', 37.0), (9116, 'Buy', 38.0), (9117, 'Buy', 38.0), (9158, 'Buy', 6.0), (9159, 'Buy', 6.0), (9160, 'Buy', 6.0), (9161, 'Buy', 6.0), (9162, 'Buy', 6.0), (9163, 'Buy', 6.0), (9164, 'Buy', 6.0), (9165, 'Buy', 6.0), (9166, 'Buy', 6.0), (9167, 'Buy', 6.0), (9168, 'Buy', 6.0), (9169, 'Buy', 6.0), (9170, 'Buy', 6.0), (9171, 'Buy', 6.0), (9172, 'Buy', 6.0), (9173, 'Buy', 6.0), (9174, 'Buy', 6.0), (9175, 'Buy', 6.0), (9176, 'Buy', 6.0), (9177, 'Sell', 38.0), (9178, 'Sell', 38.0), (9179, 'Sell', 38.0), (9180, 'Sell', 38.0), (9181, 'Sell', 38.0), (9182, 'Sell', 38.0), (9183, 'Sell', 38.0), (9184, 'Sell', 38.0), (9185, 'Sell', 38.0), (9186, 'Sell', 38.0), (9187, 'Sell', 38.0), (9188, 'Sell', 38.0), (9189, 'Sell', 38.0), (9190, 'Sell', 38.0), (9191, 'Sell', 38.0), (9192, 'Sell', 38.0), (9193, 'Sell', 38.0), (9194, 'Sell', 38.0), (9195, 'Sell', 38.0), (9196, 'Sell', 38.0), (9197, 'Sell', 38.0), (9198, 'Sell', 38.0), (9199, 'Sell', 38.0), (9200, 'Sell', 38.0), (9201, 'Sell', 38.0), (9202, 'Sell', 38.0), (9203, 'Sell', 38.0), (9204, 'Sell', 38.0), (9246, 'Sell', 56.0), (9247, 'Sell', 56.0), (9248, 'Sell', 56.0), (9249, 'Sell', 56.0), (9250, 'Sell', 56.0), (9251, 'Sell', 56.0), (9252, 'Sell', 56.0), (9253, 'Sell', 56.0), (9254, 'Sell', 56.0), (9255, 'Sell', 56.0), (9256, 'Sell', 56.0), (9257, 'Sell', 56.0), (9258, 'Sell', 56.0), (9259, 'Sell', 56.0), (9260, 'Sell', 56.0), (9261, 'Sell', 56.0), (9262, 'Sell', 56.0), (9263, 'Buy', 38.0), (9264, 'Buy', 38.0), (9265, 'Buy', 38.0), (9266, 'Buy', 38.0), (9267, 'Buy', 38.0), (9268, 'Buy', 38.0), (9269, 'Buy', 38.0), (9270, 'Buy', 38.0), (9271, 'Buy', 38.0), (9272, 'Buy', 38.0), (9273, 'Buy', 38.0), (9274, 'Buy', 38.0), (9275, 'Buy', 38.0), (9276, 'Buy', 38.0), (9277, 'Buy', 38.0), (9278, 'Buy', 38.0), (9279, 'Buy', 38.0), (9280, 'Buy', 38.0), (9281, 'Buy', 38.0), (9282, 'Buy', 38.0), (9283, 'Buy', 38.0), (9284, 'Buy', 38.0), (9285, 'Buy', 38.0), (9286, 'Buy', 38.0), (9287, 'Buy', 38.0), (9288, 'Buy', 38.0), (9289, 'Buy', 38.0), (9290, 'Buy', 38.0), (9333, 'Buy', 6.0), (9334, 'Buy', 6.0), (9335, 'Buy', 6.0), (9336, 'Buy', 6.0), (9337, 'Buy', 6.0), (9338, 'Buy', 6.0), (9339, 'Buy', 6.0), (9340, 'Buy', 6.0), (9341, 'Buy', 6.0), (9342, 'Buy', 6.0), (9343, 'Buy', 6.0), (9344, 'Buy', 6.0), (9345, 'Buy', 6.0), (9346, 'Buy', 6.0), (9347, 'Buy', 6.0), (9348, 'Buy', 6.0), (9349, 'Sell', 38.0), (9350, 'Sell', 38.0), (9351, 'Sell', 38.0), (9352, 'Sell', 38.0), (9353, 'Sell', 38.0), (9354, 'Sell', 38.0), (9355, 'Sell', 38.0), (9356, 'Sell', 38.0), (9357, 'Sell', 38.0), (9358, 'Sell', 38.0), (9359, 'Sell', 38.0), (9360, 'Sell', 38.0), (9361, 'Sell', 38.0), (9362, 'Sell', 38.0), (9363, 'Sell', 38.0), (9364, 'Sell', 38.0), (9365, 'Sell', 38.0), (9366, 'Sell', 38.0), (9367, 'Sell', 38.0), (9368, 'Sell', 38.0), (9369, 'Sell', 38.0), (9370, 'Sell', 38.0), (9371, 'Sell', 38.0), (9372, 'Sell', 38.0), (9373, 'Sell', 38.0), (9374, 'Sell', 38.0), (9375, 'Sell', 38.0), (9376, 'Sell', 38.0), (9415, 'Sell', 56.0), (9416, 'Sell', 56.0), (9417, 'Sell', 56.0), (9418, 'Sell', 56.0), (9419, 'Sell', 56.0), (9420, 'Sell', 56.0), (9421, 'Sell', 56.0), (9422, 'Sell', 56.0), (9423, 'Sell', 56.0), (9424, 'Sell', 56.0), (9425, 'Sell', 56.0), (9426, 'Sell', 56.0), (9427, 'Sell', 56.0), (9428, 'Sell', 56.0), (9429, 'Sell', 56.0), (9430, 'Sell', 56.0), (9431, 'Buy', 38.0), (9432, 'Buy', 38.0), (9433, 'Buy', 38.0), (9434, 'Buy', 38.0), (9435, 'Buy', 38.0), (9436, 'Buy', 38.0), (9437, 'Buy', 38.0), (9438, 'Buy', 38.0), (9439, 'Buy', 38.0), (9440, 'Buy', 38.0), (9441, 'Buy', 38.0), (9442, 'Buy', 38.0), (9443, 'Buy', 38.0), (9444, 'Buy', 38.0), (9445, 'Buy', 38.0), (9446, 'Buy', 38.0), (9447, 'Buy', 38.0), (9448, 'Buy', 38.0), (9449, 'Buy', 38.0), (9450, 'Buy', 38.0), (9451, 'Buy', 38.0), (9452, 'Buy', 38.0), (9453, 'Buy', 38.0), (9454, 'Buy', 38.0), (9455, 'Buy', 38.0), (9456, 'Buy', 38.0), (9457, 'Buy', 38.0), (9458, 'Buy', 38.0), (9503, 'Buy', 6.0), (9504, 'Buy', 6.0), (9505, 'Buy', 6.0), (9506, 'Buy', 6.0), (9507, 'Buy', 6.0), (9508, 'Buy', 6.0), (9509, 'Buy', 6.0), (9510, 'Buy', 6.0), (9511, 'Buy', 6.0), (9512, 'Buy', 6.0), (9513, 'Buy', 6.0), (9514, 'Buy', 6.0), (9515, 'Buy', 6.0), (9516, 'Buy', 6.0), (9517, 'Buy', 6.0), (9518, 'Buy', 6.0), (9519, 'Buy', 6.0), (9520, 'Sell', 37.0), (9521, 'Sell', 37.0), (9522, 'Sell', 38.0), (9523, 'Sell', 38.0), (9524, 'Sell', 38.0), (9525, 'Sell', 38.0), (9526, 'Sell', 38.0), (9527, 'Sell', 38.0), (9528, 'Sell', 38.0), (9529, 'Sell', 38.0), (9530, 'Sell', 38.0), (9531, 'Sell', 38.0), (9532, 'Sell', 38.0), (9533, 'Sell', 38.0), (9534, 'Sell', 38.0), (9535, 'Sell', 38.0), (9536, 'Sell', 38.0), (9537, 'Sell', 38.0), (9538, 'Sell', 38.0), (9539, 'Sell', 38.0), (9540, 'Sell', 38.0), (9541, 'Sell', 38.0), (9542, 'Sell', 38.0), (9543, 'Sell', 38.0), (9544, 'Sell', 38.0), (9545, 'Sell', 38.0), (9546, 'Sell', 38.0), (9547, 'Sell', 38.0), (9587, 'Sell', 56.0), (9588, 'Sell', 56.0), (9589, 'Sell', 56.0), (9590, 'Sell', 56.0), (9591, 'Sell', 56.0), (9592, 'Sell', 56.0), (9593, 'Sell', 56.0), (9594, 'Sell', 56.0), (9595, 'Sell', 56.0), (9596, 'Sell', 56.0), (9597, 'Sell', 56.0), (9598, 'Sell', 56.0), (9599, 'Sell', 56.0), (9600, 'Sell', 56.0), (9601, 'Sell', 56.0), (9602, 'Sell', 56.0), (9603, 'Sell', 56.0), (9604, 'Buy', 38.0), (9605, 'Buy', 38.0), (9606, 'Buy', 38.0), (9607, 'Buy', 38.0), (9608, 'Buy', 38.0), (9609, 'Buy', 38.0), (9610, 'Buy', 38.0), (9611, 'Buy', 38.0), (9612, 'Buy', 38.0), (9613, 'Buy', 38.0), (9614, 'Buy', 38.0), (9615, 'Buy', 38.0), (9616, 'Buy', 38.0), (9617, 'Buy', 38.0), (9618, 'Buy', 38.0), (9619, 'Buy', 38.0), (9620, 'Buy', 38.0), (9621, 'Buy', 38.0), (9622, 'Buy', 38.0), (9623, 'Buy', 38.0), (9624, 'Buy', 38.0), (9625, 'Buy', 38.0), (9626, 'Buy', 38.0), (9627, 'Buy', 38.0), (9628, 'Buy', 38.0), (9629, 'Buy', 38.0), (9630, 'Buy', 38.0), (9631, 'Buy', 38.0), (9675, 'Buy', 6.0), (9676, 'Buy', 6.0), (9677, 'Buy', 6.0), (9678, 'Buy', 6.0), (9679, 'Buy', 6.0), (9680, 'Buy', 6.0), (9681, 'Buy', 6.0), (9682, 'Buy', 6.0), (9683, 'Buy', 6.0), (9684, 'Buy', 6.0), (9685, 'Buy', 6.0), (9686, 'Buy', 6.0), (9687, 'Buy', 6.0), (9688, 'Buy', 6.0), (9689, 'Buy', 6.0), (9690, 'Buy', 6.0), (9691, 'Buy', 6.0), (9692, 'Sell', 38.0), (9693, 'Sell', 38.0), (9694, 'Sell', 38.0), (9695, 'Sell', 38.0), (9696, 'Sell', 38.0), (9697, 'Sell', 38.0), (9698, 'Sell', 38.0), (9699, 'Sell', 38.0), (9700, 'Sell', 38.0), (9701, 'Sell', 38.0), (9702, 'Sell', 38.0), (9703, 'Sell', 38.0), (9704, 'Sell', 38.0), (9705, 'Sell', 38.0), (9706, 'Sell', 38.0), (9707, 'Sell', 38.0), (9708, 'Sell', 38.0), (9709, 'Sell', 38.0), (9710, 'Sell', 38.0), (9711, 'Sell', 38.0), (9712, 'Sell', 38.0), (9713, 'Sell', 38.0), (9714, 'Sell', 38.0), (9715, 'Sell', 38.0), (9716, 'Sell', 38.0), (9717, 'Sell', 38.0), (9718, 'Sell', 38.0), (9719, 'Sell', 38.0), (9764, 'Sell', 56.0), (9765, 'Sell', 56.0), (9766, 'Sell', 56.0), (9767, 'Sell', 56.0), (9768, 'Sell', 56.0), (9769, 'Sell', 56.0), (9770, 'Sell', 56.0), (9771, 'Sell', 56.0), (9772, 'Sell', 56.0), (9773, 'Sell', 56.0), (9774, 'Sell', 56.0), (9775, 'Sell', 56.0), (9776, 'Sell', 56.0), (9777, 'Sell', 56.0), (9778, 'Sell', 56.0), (9779, 'Sell', 56.0), (9780, 'Sell', 56.0), (9781, 'Sell', 56.0), (9782, 'Buy', 38.0), (9783, 'Buy', 38.0), (9784, 'Buy', 38.0), (9785, 'Buy', 38.0), (9786, 'Buy', 38.0), (9787, 'Buy', 38.0), (9788, 'Buy', 38.0), (9789, 'Buy', 38.0), (9790, 'Buy', 38.0), (9791, 'Buy', 38.0), (9792, 'Buy', 38.0), (9793, 'Buy', 38.0), (9794, 'Buy', 38.0), (9795, 'Buy', 38.0), (9796, 'Buy', 38.0), (9797, 'Buy', 38.0), (9798, 'Buy', 38.0), (9799, 'Buy', 38.0), (9800, 'Buy', 38.0), (9801, 'Buy', 38.0), (9802, 'Buy', 38.0), (9803, 'Buy', 38.0), (9804, 'Buy', 38.0), (9805, 'Buy', 38.0), (9806, 'Buy', 38.0), (9807, 'Buy', 38.0), (9808, 'Buy', 38.0), (9809, 'Buy', 38.0), (9812, 'Buy', 37.0), (9813, 'Buy', 37.0), (9850, 'Buy', 6.0), (9851, 'Buy', 6.0), (9852, 'Buy', 6.0), (9853, 'Buy', 6.0), (9854, 'Buy', 6.0), (9855, 'Buy', 6.0), (9856, 'Buy', 6.0), (9857, 'Buy', 6.0), (9858, 'Buy', 6.0), (9859, 'Buy', 6.0), (9860, 'Buy', 6.0), (9861, 'Buy', 6.0), (9862, 'Buy', 6.0), (9863, 'Buy', 6.0), (9864, 'Buy', 6.0), (9865, 'Buy', 6.0), (9866, 'Buy', 6.0), (9867, 'Sell', 38.0), (9868, 'Sell', 38.0), (9869, 'Sell', 38.0), (9870, 'Sell', 38.0), (9871, 'Sell', 38.0), (9872, 'Sell', 38.0), (9873, 'Sell', 37.0), (9874, 'Sell', 37.0), (9875, 'Sell', 38.0), (9876, 'Sell', 38.0), (9877, 'Sell', 38.0), (9878, 'Sell', 38.0), (9879, 'Sell', 38.0), (9880, 'Sell', 38.0), (9881, 'Sell', 38.0), (9882, 'Sell', 38.0), (9883, 'Sell', 38.0), (9884, 'Sell', 38.0), (9885, 'Sell', 38.0), (9886, 'Sell', 38.0), (9887, 'Sell', 38.0), (9888, 'Sell', 38.0), (9889, 'Sell', 38.0), (9890, 'Sell', 38.0), (9891, 'Sell', 38.0), (9892, 'Sell', 38.0), (9893, 'Sell', 38.0), (9894, 'Sell', 38.0), (9935, 'Sell', 56.0), (9936, 'Sell', 56.0), (9937, 'Sell', 56.0), (9938, 'Sell', 56.0), (9939, 'Sell', 56.0), (9940, 'Sell', 56.0), (9941, 'Sell', 56.0), (9942, 'Sell', 56.0), (9943, 'Sell', 56.0), (9944, 'Sell', 56.0), (9945, 'Sell', 56.0), (9946, 'Sell', 56.0), (9947, 'Sell', 56.0), (9948, 'Sell', 56.0), (9949, 'Sell', 56.0), (9950, 'Sell', 56.0), (9951, 'Buy', 38.0), (9952, 'Buy', 38.0), (9953, 'Buy', 38.0), (9954, 'Buy', 38.0), (9955, 'Buy', 37.0), (9956, 'Buy', 37.0), (9957, 'Buy', 38.0), (9958, 'Buy', 38.0), (9959, 'Buy', 38.0), (9960, 'Buy', 38.0), (9961, 'Buy', 38.0), (9962, 'Buy', 38.0), (9963, 'Buy', 38.0), (9964, 'Buy', 38.0), (9965, 'Buy', 38.0), (9966, 'Buy', 38.0), (9967, 'Buy', 38.0), (9968, 'Buy', 38.0), (9969, 'Buy', 38.0), (9970, 'Buy', 38.0), (9971, 'Buy', 38.0), (9972, 'Buy', 38.0), (9973, 'Buy', 38.0), (9974, 'Buy', 38.0), (9975, 'Buy', 38.0), (9976, 'Buy', 38.0), (9977, 'Buy', 38.0), (9978, 'Buy', 38.0), (10017, 'Buy', 6.0), (10018, 'Buy', 6.0), (10019, 'Buy', 6.0), (10020, 'Buy', 6.0), (10021, 'Buy', 6.0), (10022, 'Buy', 6.0), (10023, 'Buy', 6.0), (10024, 'Buy', 6.0), (10025, 'Buy', 6.0), (10026, 'Buy', 6.0), (10027, 'Buy', 6.0), (10028, 'Buy', 6.0), (10029, 'Buy', 6.0), (10030, 'Buy', 6.0), (10031, 'Buy', 6.0), (10032, 'Buy', 6.0), (10033, 'Buy', 6.0), (10034, 'Sell', 38.0), (10035, 'Sell', 38.0), (10036, 'Sell', 38.0), (10037, 'Sell', 38.0), (10038, 'Sell', 38.0), (10039, 'Sell', 38.0), (10040, 'Sell', 38.0), (10041, 'Sell', 38.0), (10042, 'Sell', 38.0), (10043, 'Sell', 38.0), (10044, 'Sell', 38.0), (10045, 'Sell', 38.0), (10046, 'Sell', 38.0), (10047, 'Sell', 38.0), (10048, 'Sell', 38.0), (10049, 'Sell', 38.0), (10050, 'Sell', 38.0), (10051, 'Sell', 38.0), (10052, 'Sell', 38.0), (10053, 'Sell', 38.0), (10054, 'Sell', 38.0), (10055, 'Sell', 38.0), (10056, 'Sell', 38.0), (10057, 'Sell', 38.0), (10058, 'Sell', 38.0), (10059, 'Sell', 38.0), (10060, 'Sell', 38.0), (10061, 'Sell', 38.0), (10071, 'Buy', 37.0), (10072, 'Buy', 37.0), (10103, 'Sell', 56.0), (10104, 'Sell', 56.0), (10105, 'Sell', 56.0), (10106, 'Sell', 56.0), (10107, 'Sell', 56.0), (10108, 'Sell', 56.0), (10109, 'Sell', 56.0), (10110, 'Sell', 56.0), (10111, 'Sell', 56.0), (10112, 'Sell', 56.0), (10113, 'Sell', 56.0), (10114, 'Sell', 56.0), (10115, 'Sell', 56.0), (10116, 'Sell', 56.0), (10117, 'Sell', 56.0), (10118, 'Sell', 56.0), (10119, 'Sell', 56.0), (10120, 'Buy', 38.0), (10121, 'Buy', 38.0), (10122, 'Buy', 38.0), (10123, 'Buy', 38.0), (10124, 'Buy', 38.0), (10125, 'Buy', 38.0), (10126, 'Buy', 38.0), (10127, 'Buy', 38.0), (10128, 'Buy', 38.0), (10129, 'Buy', 38.0), (10130, 'Buy', 38.0), (10131, 'Buy', 38.0), (10132, 'Buy', 38.0), (10133, 'Buy', 38.0), (10134, 'Buy', 38.0), (10135, 'Buy', 38.0), (10136, 'Buy', 38.0), (10137, 'Buy', 38.0), (10138, 'Buy', 38.0), (10139, 'Buy', 38.0), (10140, 'Buy', 38.0), (10141, 'Buy', 38.0), (10142, 'Buy', 38.0), (10143, 'Buy', 38.0), (10144, 'Buy', 38.0), (10145, 'Buy', 38.0), (10146, 'Buy', 38.0), (10147, 'Buy', 38.0), (10162, 'Buy', 37.0), (10163, 'Buy', 37.0), (10171, 'Buy', 37.0), (10172, 'Buy', 37.0), (10186, 'Buy', 37.0), (10187, 'Buy', 6.0), (10188, 'Buy', 6.0), (10189, 'Buy', 6.0), (10190, 'Buy', 6.0), (10191, 'Buy', 6.0), (10192, 'Buy', 6.0), (10193, 'Buy', 6.0), (10194, 'Buy', 6.0), (10195, 'Buy', 6.0), (10196, 'Buy', 6.0), (10197, 'Buy', 6.0), (10198, 'Buy', 6.0), (10199, 'Buy', 6.0), (10200, 'Buy', 6.0), (10201, 'Buy', 6.0), (10202, 'Buy', 6.0), (10203, 'Buy', 6.0), (10204, 'Buy', 6.0), (10205, 'Buy', 6.0), (10206, 'Sell', 38.0), (10207, 'Sell', 38.0), (10208, 'Sell', 38.0), (10209, 'Sell', 38.0), (10210, 'Sell', 38.0), (10211, 'Sell', 38.0), (10212, 'Sell', 38.0), (10213, 'Sell', 38.0), (10214, 'Sell', 38.0), (10215, 'Sell', 38.0), (10216, 'Sell', 38.0), (10217, 'Sell', 38.0), (10218, 'Sell', 38.0), (10219, 'Sell', 38.0), (10220, 'Sell', 38.0), (10221, 'Sell', 38.0), (10222, 'Sell', 38.0), (10223, 'Sell', 38.0), (10224, 'Sell', 38.0), (10225, 'Sell', 38.0), (10226, 'Sell', 38.0), (10227, 'Sell', 38.0), (10228, 'Sell', 38.0), (10229, 'Sell', 38.0), (10230, 'Sell', 38.0), (10231, 'Sell', 38.0), (10232, 'Sell', 38.0), (10233, 'Sell', 38.0), (10270, 'Sell', 56.0), (10271, 'Sell', 56.0), (10272, 'Sell', 56.0), (10273, 'Sell', 56.0), (10274, 'Sell', 56.0), (10275, 'Sell', 56.0), (10276, 'Sell', 56.0), (10277, 'Sell', 56.0), (10278, 'Sell', 56.0), (10279, 'Sell', 56.0), (10280, 'Sell', 56.0), (10281, 'Sell', 56.0), (10282, 'Sell', 56.0), (10283, 'Sell', 56.0), (10284, 'Sell', 56.0), (10285, 'Sell', 56.0), (10286, 'Sell', 56.0), (10287, 'Sell', 56.0), (10288, 'Buy', 38.0), (10289, 'Buy', 38.0), (10290, 'Buy', 38.0), (10291, 'Buy', 38.0), (10292, 'Buy', 38.0), (10293, 'Buy', 38.0), (10294, 'Buy', 38.0), (10295, 'Buy', 38.0), (10296, 'Buy', 38.0), (10297, 'Buy', 38.0), (10298, 'Buy', 38.0), (10299, 'Buy', 38.0), (10300, 'Buy', 38.0), (10301, 'Buy', 38.0), (10302, 'Buy', 38.0), (10303, 'Buy', 38.0), (10304, 'Buy', 38.0), (10305, 'Buy', 38.0), (10306, 'Buy', 38.0), (10307, 'Buy', 38.0), (10308, 'Buy', 38.0), (10309, 'Buy', 38.0), (10310, 'Buy', 38.0), (10311, 'Buy', 38.0), (10312, 'Buy', 38.0), (10313, 'Buy', 38.0), (10314, 'Buy', 38.0), (10315, 'Buy', 38.0), (10355, 'Buy', 6.0), (10356, 'Buy', 6.0), (10357, 'Buy', 6.0), (10358, 'Buy', 6.0), (10359, 'Buy', 6.0), (10360, 'Buy', 5.0), (10361, 'Buy', 5.0), (10362, 'Buy', 6.0), (10363, 'Buy', 6.0), (10364, 'Buy', 6.0), (10365, 'Buy', 6.0), (10366, 'Buy', 6.0), (10367, 'Buy', 6.0), (10368, 'Buy', 6.0), (10369, 'Buy', 6.0), (10370, 'Buy', 6.0), (10371, 'Buy', 6.0), (10372, 'Buy', 6.0), (10373, 'Sell', 38.0), (10374, 'Sell', 38.0), (10375, 'Sell', 38.0), (10376, 'Sell', 38.0), (10377, 'Sell', 38.0), (10378, 'Sell', 38.0), (10379, 'Sell', 38.0), (10380, 'Sell', 38.0), (10381, 'Sell', 38.0), (10382, 'Sell', 38.0), (10383, 'Sell', 38.0), (10384, 'Sell', 38.0), (10385, 'Sell', 38.0), (10386, 'Sell', 38.0), (10387, 'Sell', 38.0), (10388, 'Sell', 38.0), (10389, 'Sell', 38.0), (10390, 'Sell', 38.0), (10391, 'Sell', 38.0), (10392, 'Sell', 38.0), (10393, 'Sell', 38.0), (10394, 'Sell', 38.0), (10395, 'Sell', 38.0), (10396, 'Sell', 38.0), (10397, 'Sell', 38.0), (10398, 'Sell', 38.0), (10399, 'Sell', 38.0), (10400, 'Sell', 38.0), (10413, 'Buy', 37.0), (10414, 'Buy', 37.0), (10415, 'Buy', 37.0), (10427, 'Buy', 37.0), (10428, 'Buy', 37.0), (10429, 'Buy', 37.0), (10441, 'Sell', 56.0), (10442, 'Sell', 56.0), (10443, 'Sell', 56.0), (10444, 'Sell', 56.0), (10445, 'Sell', 56.0), (10446, 'Sell', 56.0), (10447, 'Sell', 56.0), (10448, 'Sell', 56.0), (10449, 'Sell', 56.0), (10450, 'Sell', 56.0), (10451, 'Sell', 56.0), (10452, 'Sell', 56.0), (10453, 'Sell', 56.0), (10454, 'Sell', 56.0), (10455, 'Sell', 56.0), (10456, 'Sell', 56.0), (10457, 'Sell', 56.0), (10458, 'Sell', 56.0), (10459, 'Sell', 56.0), (10460, 'Sell', 56.0), (10461, 'Buy', 38.0), (10462, 'Buy', 38.0), (10463, 'Buy', 38.0), (10464, 'Buy', 38.0), (10465, 'Buy', 38.0), (10466, 'Buy', 38.0), (10467, 'Buy', 38.0), (10468, 'Buy', 38.0), (10469, 'Buy', 38.0), (10470, 'Buy', 38.0), (10471, 'Buy', 38.0), (10472, 'Buy', 38.0), (10473, 'Buy', 38.0), (10474, 'Buy', 38.0), (10475, 'Buy', 38.0), (10476, 'Buy', 38.0), (10477, 'Buy', 38.0), (10478, 'Buy', 38.0), (10479, 'Buy', 38.0), (10480, 'Buy', 38.0), (10481, 'Buy', 38.0), (10482, 'Buy', 38.0), (10483, 'Buy', 38.0), (10484, 'Buy', 38.0), (10485, 'Buy', 38.0), (10486, 'Buy', 38.0), (10487, 'Buy', 38.0), (10488, 'Buy', 38.0), (10532, 'Buy', 6.0), (10533, 'Buy', 6.0), (10534, 'Buy', 6.0), (10535, 'Buy', 6.0), (10536, 'Buy', 6.0), (10537, 'Buy', 6.0), (10538, 'Buy', 6.0), (10539, 'Buy', 6.0), (10540, 'Buy', 6.0), (10541, 'Buy', 6.0), (10542, 'Buy', 6.0), (10543, 'Buy', 6.0), (10544, 'Buy', 6.0), (10545, 'Buy', 6.0), (10546, 'Buy', 6.0), (10547, 'Buy', 6.0), (10548, 'Sell', 38.0), (10549, 'Sell', 38.0), (10550, 'Sell', 38.0), (10551, 'Sell', 38.0), (10552, 'Sell', 38.0), (10553, 'Sell', 38.0), (10554, 'Sell', 38.0), (10555, 'Sell', 38.0), (10556, 'Sell', 38.0), (10557, 'Sell', 38.0), (10558, 'Sell', 38.0), (10559, 'Sell', 38.0), (10560, 'Sell', 38.0), (10561, 'Sell', 38.0), (10562, 'Sell', 38.0), (10563, 'Sell', 38.0), (10564, 'Sell', 38.0), (10565, 'Sell', 38.0), (10566, 'Sell', 38.0), (10567, 'Sell', 38.0), (10568, 'Sell', 38.0), (10569, 'Sell', 38.0), (10570, 'Sell', 38.0), (10571, 'Sell', 38.0), (10572, 'Sell', 38.0), (10573, 'Sell', 38.0), (10574, 'Sell', 38.0), (10575, 'Sell', 38.0), (10608, 'Buy', 37.0), (10609, 'Buy', 37.0), (10612, 'Sell', 56.0), (10613, 'Sell', 56.0), (10614, 'Sell', 56.0), (10615, 'Sell', 56.0), (10616, 'Sell', 56.0), (10617, 'Sell', 56.0), (10618, 'Sell', 56.0), (10619, 'Sell', 56.0), (10620, 'Sell', 56.0), (10621, 'Sell', 56.0), (10622, 'Sell', 56.0), (10623, 'Sell', 56.0), (10624, 'Sell', 56.0), (10625, 'Sell', 56.0), (10626, 'Sell', 56.0), (10627, 'Buy', 38.0), (10628, 'Buy', 38.0), (10629, 'Buy', 37.0), (10630, 'Buy', 37.0), (10631, 'Buy', 38.0), (10632, 'Buy', 38.0), (10633, 'Buy', 37.0), (10634, 'Buy', 37.0), (10635, 'Buy', 37.0), (10636, 'Buy', 38.0), (10637, 'Buy', 38.0), (10638, 'Buy', 38.0), (10639, 'Buy', 38.0), (10640, 'Buy', 38.0), (10641, 'Buy', 38.0), (10642, 'Buy', 38.0), (10643, 'Buy', 38.0), (10644, 'Buy', 38.0), (10645, 'Buy', 38.0), (10646, 'Buy', 38.0), (10647, 'Buy', 38.0), (10648, 'Buy', 38.0), (10649, 'Buy', 38.0), (10650, 'Buy', 38.0), (10651, 'Buy', 38.0), (10652, 'Buy', 38.0), (10653, 'Buy', 38.0), (10654, 'Buy', 38.0), (10697, 'Buy', 6.0), (10698, 'Buy', 6.0), (10699, 'Buy', 6.0), (10700, 'Buy', 6.0), (10701, 'Buy', 6.0), (10702, 'Buy', 6.0), (10703, 'Buy', 6.0), (10704, 'Buy', 6.0), (10705, 'Buy', 6.0), (10706, 'Buy', 6.0), (10707, 'Buy', 5.0), (10708, 'Buy', 5.0), (10709, 'Buy', 5.0), (10710, 'Buy', 6.0), (10711, 'Buy', 6.0), (10712, 'Buy', 6.0), (10713, 'Buy', 6.0), (10714, 'Buy', 6.0), (10715, 'Sell', 38.0), (10716, 'Sell', 38.0), (10717, 'Sell', 38.0), (10718, 'Sell', 38.0), (10719, 'Sell', 38.0), (10720, 'Sell', 38.0), (10721, 'Sell', 38.0), (10722, 'Sell', 37.0), (10723, 'Sell', 37.0), (10724, 'Sell', 38.0), (10725, 'Sell', 38.0), (10726, 'Sell', 38.0), (10727, 'Sell', 38.0), (10728, 'Sell', 38.0), (10729, 'Sell', 38.0), (10730, 'Sell', 38.0), (10731, 'Sell', 38.0), (10732, 'Sell', 38.0), (10733, 'Sell', 38.0), (10734, 'Sell', 38.0), (10735, 'Sell', 38.0), (10736, 'Sell', 38.0), (10737, 'Sell', 38.0), (10738, 'Sell', 38.0), (10739, 'Sell', 38.0), (10740, 'Sell', 38.0), (10741, 'Sell', 38.0), (10742, 'Sell', 38.0), (10759, 'Buy', 37.0), (10760, 'Buy', 37.0), (10782, 'Sell', 56.0), (10783, 'Sell', 56.0), (10784, 'Sell', 56.0), (10785, 'Sell', 56.0), (10786, 'Sell', 56.0), (10787, 'Sell', 56.0), (10788, 'Sell', 56.0), (10789, 'Sell', 56.0), (10790, 'Sell', 56.0), (10791, 'Sell', 56.0), (10792, 'Sell', 56.0), (10793, 'Sell', 56.0), (10794, 'Sell', 56.0), (10795, 'Sell', 56.0), (10796, 'Sell', 56.0), (10797, 'Sell', 56.0), (10798, 'Sell', 56.0), (10799, 'Buy', 38.0), (10800, 'Buy', 38.0), (10801, 'Buy', 38.0), (10802, 'Buy', 38.0), (10803, 'Buy', 38.0), (10804, 'Buy', 38.0), (10805, 'Buy', 38.0), (10806, 'Buy', 38.0), (10807, 'Buy', 38.0), (10808, 'Buy', 38.0), (10809, 'Buy', 38.0), (10810, 'Buy', 38.0), (10811, 'Buy', 38.0), (10812, 'Buy', 38.0), (10813, 'Buy', 38.0), (10814, 'Buy', 38.0), (10815, 'Buy', 38.0), (10816, 'Buy', 38.0), (10817, 'Buy', 38.0), (10818, 'Buy', 38.0), (10819, 'Buy', 38.0), (10820, 'Buy', 38.0), (10821, 'Buy', 38.0), (10822, 'Buy', 38.0), (10823, 'Buy', 38.0), (10824, 'Buy', 38.0), (10825, 'Buy', 38.0), (10826, 'Buy', 38.0), (10868, 'Buy', 6.0), (10869, 'Buy', 6.0), (10870, 'Buy', 6.0), (10871, 'Buy', 6.0), (10872, 'Buy', 6.0), (10873, 'Buy', 6.0), (10874, 'Buy', 6.0), (10875, 'Buy', 6.0), (10876, 'Buy', 6.0), (10877, 'Buy', 6.0), (10878, 'Buy', 6.0), (10879, 'Buy', 6.0), (10880, 'Buy', 6.0), (10881, 'Buy', 6.0), (10882, 'Buy', 6.0), (10883, 'Buy', 6.0), (10884, 'Buy', 6.0), (10885, 'Buy', 6.0), (10886, 'Buy', 6.0), (10887, 'Sell', 38.0), (10888, 'Sell', 38.0), (10889, 'Sell', 38.0), (10890, 'Sell', 38.0), (10891, 'Sell', 38.0), (10892, 'Sell', 38.0), (10893, 'Sell', 38.0), (10894, 'Sell', 38.0), (10895, 'Sell', 38.0), (10896, 'Sell', 38.0), (10897, 'Sell', 38.0), (10898, 'Sell', 38.0), (10899, 'Sell', 38.0), (10900, 'Sell', 38.0), (10901, 'Sell', 38.0), (10902, 'Sell', 38.0), (10903, 'Sell', 38.0), (10904, 'Sell', 38.0), (10905, 'Sell', 38.0), (10906, 'Sell', 38.0), (10907, 'Sell', 38.0), (10908, 'Sell', 38.0), (10909, 'Sell', 38.0), (10910, 'Sell', 38.0), (10911, 'Sell', 38.0), (10912, 'Sell', 38.0), (10913, 'Sell', 38.0), (10914, 'Sell', 38.0), (10956, 'Sell', 56.0), (10957, 'Sell', 56.0), (10958, 'Sell', 56.0), (10959, 'Sell', 56.0), (10960, 'Sell', 56.0), (10961, 'Sell', 56.0), (10962, 'Sell', 56.0), (10963, 'Sell', 56.0), (10964, 'Sell', 56.0), (10965, 'Sell', 56.0), (10966, 'Sell', 56.0), (10967, 'Sell', 56.0), (10968, 'Sell', 56.0), (10969, 'Sell', 56.0), (10970, 'Sell', 56.0), (10971, 'Sell', 56.0), (10972, 'Sell', 56.0), (10973, 'Sell', 56.0), (10974, 'Buy', 38.0), (10975, 'Buy', 38.0), (10976, 'Buy', 38.0), (10977, 'Buy', 38.0), (10978, 'Buy', 38.0), (10979, 'Buy', 38.0), (10980, 'Buy', 38.0), (10981, 'Buy', 38.0), (10982, 'Buy', 38.0), (10983, 'Buy', 38.0), (10984, 'Buy', 38.0), (10985, 'Buy', 38.0), (10986, 'Buy', 38.0), (10987, 'Buy', 38.0), (10988, 'Buy', 38.0), (10989, 'Buy', 38.0), (10990, 'Buy', 38.0), (10991, 'Buy', 38.0), (10992, 'Buy', 38.0), (10993, 'Buy', 38.0), (10994, 'Buy', 38.0), (10995, 'Buy', 38.0), (10996, 'Buy', 38.0), (10997, 'Buy', 38.0), (10998, 'Buy', 38.0), (10999, 'Buy', 38.0), (11000, 'Buy', 38.0), (11001, 'Buy', 38.0), (11043, 'Buy', 6.0), (11044, 'Buy', 6.0), (11045, 'Buy', 6.0), (11046, 'Buy', 6.0), (11047, 'Buy', 6.0), (11048, 'Buy', 6.0), (11049, 'Buy', 6.0), (11050, 'Buy', 6.0), (11051, 'Buy', 6.0), (11052, 'Buy', 6.0), (11053, 'Buy', 6.0), (11054, 'Buy', 6.0), (11055, 'Buy', 6.0), (11056, 'Buy', 6.0), (11057, 'Buy', 6.0), (11058, 'Buy', 6.0), (11059, 'Buy', 6.0), (11060, 'Sell', 38.0), (11061, 'Sell', 38.0), (11062, 'Sell', 38.0), (11063, 'Sell', 38.0), (11064, 'Sell', 38.0), (11065, 'Sell', 38.0), (11066, 'Sell', 38.0), (11067, 'Sell', 38.0), (11068, 'Sell', 38.0), (11069, 'Sell', 38.0), (11070, 'Sell', 38.0), (11071, 'Sell', 38.0), (11072, 'Sell', 38.0), (11073, 'Sell', 38.0), (11074, 'Sell', 38.0), (11075, 'Sell', 38.0), (11076, 'Sell', 38.0), (11077, 'Sell', 38.0), (11078, 'Sell', 38.0), (11079, 'Sell', 38.0), (11080, 'Sell', 38.0), (11081, 'Sell', 38.0), (11082, 'Sell', 38.0), (11083, 'Sell', 38.0), (11084, 'Sell', 38.0), (11085, 'Sell', 38.0), (11086, 'Sell', 38.0), (11087, 'Sell', 38.0), (11127, 'Sell', 56.0), (11128, 'Sell', 56.0), (11129, 'Sell', 56.0), (11130, 'Sell', 56.0), (11131, 'Sell', 56.0), (11132, 'Sell', 56.0), (11133, 'Sell', 56.0), (11134, 'Sell', 56.0), (11135, 'Sell', 56.0), (11136, 'Sell', 56.0), (11137, 'Sell', 56.0), (11138, 'Sell', 56.0), (11139, 'Sell', 56.0), (11140, 'Sell', 56.0), (11141, 'Sell', 56.0), (11142, 'Sell', 56.0), (11143, 'Sell', 56.0), (11144, 'Buy', 38.0), (11145, 'Buy', 38.0), (11146, 'Buy', 38.0), (11147, 'Buy', 38.0), (11148, 'Buy', 38.0), (11149, 'Buy', 38.0), (11150, 'Buy', 38.0), (11151, 'Buy', 38.0), (11152, 'Buy', 38.0), (11153, 'Buy', 38.0), (11154, 'Buy', 38.0), (11155, 'Buy', 38.0), (11156, 'Buy', 38.0), (11157, 'Buy', 38.0), (11158, 'Buy', 38.0), (11159, 'Buy', 38.0), (11160, 'Buy', 38.0), (11161, 'Buy', 38.0), (11162, 'Buy', 38.0), (11163, 'Buy', 38.0), (11164, 'Buy', 38.0), (11165, 'Buy', 38.0), (11166, 'Buy', 38.0), (11167, 'Buy', 38.0), (11168, 'Buy', 38.0), (11169, 'Buy', 38.0), (11170, 'Buy', 38.0), (11171, 'Buy', 38.0), (11213, 'Buy', 6.0), (11214, 'Buy', 6.0), (11215, 'Buy', 6.0), (11216, 'Buy', 6.0), (11217, 'Buy', 6.0), (11218, 'Buy', 6.0), (11219, 'Buy', 6.0), (11220, 'Buy', 6.0), (11221, 'Buy', 6.0), (11222, 'Buy', 6.0), (11223, 'Buy', 6.0), (11224, 'Buy', 6.0), (11225, 'Buy', 6.0), (11226, 'Buy', 6.0), (11227, 'Buy', 6.0), (11228, 'Buy', 6.0), (11229, 'Buy', 6.0), (11230, 'Buy', 6.0), (11231, 'Sell', 38.0), (11232, 'Sell', 38.0), (11233, 'Sell', 38.0), (11234, 'Sell', 38.0), (11235, 'Sell', 38.0), (11236, 'Sell', 38.0), (11237, 'Sell', 38.0), (11238, 'Sell', 38.0), (11239, 'Sell', 38.0), (11240, 'Sell', 38.0), (11241, 'Sell', 38.0), (11242, 'Sell', 38.0), (11243, 'Sell', 38.0), (11244, 'Sell', 38.0), (11245, 'Sell', 38.0), (11246, 'Sell', 38.0), (11247, 'Sell', 38.0), (11248, 'Sell', 38.0), (11249, 'Sell', 38.0), (11250, 'Sell', 38.0), (11251, 'Sell', 38.0), (11252, 'Sell', 38.0), (11253, 'Sell', 38.0), (11254, 'Sell', 38.0), (11255, 'Sell', 38.0), (11256, 'Sell', 38.0), (11257, 'Sell', 38.0), (11258, 'Sell', 38.0), (11300, 'Sell', 56.0), (11301, 'Sell', 56.0), (11302, 'Sell', 56.0), (11303, 'Sell', 56.0), (11304, 'Sell', 56.0), (11305, 'Sell', 56.0), (11306, 'Sell', 56.0), (11307, 'Sell', 56.0), (11308, 'Sell', 56.0), (11309, 'Sell', 56.0), (11310, 'Sell', 56.0), (11311, 'Sell', 56.0), (11312, 'Sell', 56.0), (11313, 'Sell', 56.0), (11314, 'Sell', 56.0), (11315, 'Sell', 56.0), (11316, 'Sell', 56.0), (11317, 'Buy', 38.0), (11318, 'Buy', 38.0), (11319, 'Buy', 38.0), (11320, 'Buy', 38.0), (11321, 'Buy', 38.0), (11322, 'Buy', 38.0), (11323, 'Buy', 38.0), (11324, 'Buy', 38.0), (11325, 'Buy', 38.0), (11326, 'Buy', 38.0), (11327, 'Buy', 38.0), (11328, 'Buy', 38.0), (11329, 'Buy', 38.0), (11330, 'Buy', 38.0), (11331, 'Buy', 38.0), (11332, 'Buy', 38.0), (11333, 'Buy', 37.0), (11334, 'Buy', 37.0), (11335, 'Buy', 38.0), (11336, 'Buy', 38.0), (11337, 'Buy', 38.0), (11338, 'Buy', 38.0), (11339, 'Buy', 38.0), (11340, 'Buy', 38.0), (11341, 'Buy', 38.0), (11342, 'Buy', 38.0), (11343, 'Buy', 38.0), (11344, 'Buy', 38.0), (11389, 'Buy', 6.0), (11390, 'Buy', 6.0), (11391, 'Buy', 6.0), (11392, 'Buy', 6.0), (11393, 'Buy', 6.0), (11394, 'Buy', 6.0), (11395, 'Buy', 6.0), (11396, 'Buy', 6.0), (11397, 'Buy', 6.0), (11398, 'Buy', 6.0), (11399, 'Buy', 6.0), (11400, 'Buy', 6.0), (11401, 'Buy', 6.0), (11402, 'Buy', 6.0), (11403, 'Buy', 6.0), (11404, 'Buy', 6.0), (11405, 'Buy', 6.0), (11406, 'Sell', 38.0), (11407, 'Sell', 38.0), (11408, 'Sell', 38.0), (11409, 'Sell', 38.0), (11410, 'Sell', 38.0), (11411, 'Sell', 38.0), (11412, 'Sell', 38.0), (11413, 'Sell', 38.0), (11414, 'Sell', 38.0), (11415, 'Sell', 38.0), (11416, 'Sell', 38.0), (11417, 'Sell', 38.0), (11418, 'Sell', 38.0), (11419, 'Sell', 38.0), (11420, 'Sell', 37.0), (11421, 'Sell', 37.0), (11422, 'Sell', 37.0), (11423, 'Sell', 38.0), (11424, 'Sell', 38.0), (11425, 'Sell', 38.0), (11426, 'Sell', 38.0), (11427, 'Sell', 38.0), (11428, 'Sell', 38.0), (11429, 'Sell', 38.0), (11430, 'Sell', 38.0), (11431, 'Sell', 38.0), (11432, 'Sell', 38.0), (11433, 'Sell', 38.0), (11470, 'Sell', 56.0), (11471, 'Sell', 56.0), (11472, 'Sell', 56.0), (11473, 'Sell', 56.0), (11474, 'Sell', 56.0), (11475, 'Sell', 56.0), (11476, 'Sell', 56.0), (11477, 'Sell', 56.0), (11478, 'Sell', 56.0), (11479, 'Sell', 56.0), (11480, 'Sell', 56.0), (11481, 'Sell', 56.0), (11482, 'Sell', 56.0), (11483, 'Sell', 56.0), (11484, 'Sell', 56.0), (11485, 'Sell', 56.0), (11486, 'Sell', 56.0), (11487, 'Buy', 38.0), (11488, 'Buy', 38.0), (11489, 'Buy', 38.0), (11490, 'Buy', 38.0), (11491, 'Buy', 38.0), (11492, 'Buy', 38.0), (11493, 'Buy', 38.0), (11494, 'Buy', 38.0), (11495, 'Buy', 38.0), (11496, 'Buy', 38.0), (11497, 'Buy', 38.0), (11498, 'Buy', 38.0), (11499, 'Buy', 38.0), (11500, 'Buy', 38.0), (11501, 'Buy', 38.0), (11502, 'Buy', 38.0), (11503, 'Buy', 38.0), (11504, 'Buy', 38.0), (11505, 'Buy', 38.0), (11506, 'Buy', 38.0), (11507, 'Buy', 38.0), (11508, 'Buy', 38.0), (11509, 'Buy', 38.0), (11510, 'Buy', 38.0), (11511, 'Buy', 38.0), (11512, 'Buy', 38.0), (11513, 'Buy', 38.0), (11514, 'Buy', 38.0), (11531, 'Buy', 37.0), (11532, 'Buy', 37.0), (11547, 'Buy', 37.0), (11548, 'Buy', 37.0), (11554, 'Buy', 37.0), (11555, 'Buy', 37.0), (11556, 'Buy', 6.0), (11557, 'Buy', 6.0), (11558, 'Buy', 6.0), (11559, 'Buy', 6.0), (11560, 'Buy', 6.0), (11561, 'Buy', 6.0), (11562, 'Buy', 6.0), (11563, 'Buy', 6.0), (11564, 'Buy', 6.0), (11565, 'Buy', 6.0), (11566, 'Buy', 6.0), (11567, 'Buy', 6.0), (11568, 'Buy', 6.0), (11569, 'Buy', 6.0), (11570, 'Buy', 6.0), (11571, 'Buy', 6.0), (11572, 'Buy', 6.0), (11573, 'Sell', 38.0), (11574, 'Sell', 38.0), (11575, 'Sell', 38.0), (11576, 'Sell', 38.0), (11577, 'Sell', 38.0), (11578, 'Sell', 38.0), (11579, 'Sell', 38.0), (11580, 'Sell', 38.0), (11581, 'Sell', 38.0), (11582, 'Sell', 38.0), (11583, 'Sell', 38.0), (11584, 'Sell', 38.0), (11585, 'Sell', 38.0), (11586, 'Sell', 38.0), (11587, 'Sell', 38.0), (11588, 'Sell', 38.0), (11589, 'Sell', 38.0), (11590, 'Sell', 38.0), (11591, 'Sell', 38.0), (11592, 'Sell', 38.0), (11593, 'Sell', 38.0), (11594, 'Sell', 38.0), (11595, 'Sell', 38.0), (11596, 'Sell', 38.0), (11597, 'Sell', 38.0), (11598, 'Sell', 38.0), (11599, 'Sell', 38.0), (11600, 'Sell', 38.0), (11641, 'Sell', 56.0), (11642, 'Sell', 56.0), (11643, 'Sell', 56.0), (11644, 'Sell', 56.0), (11645, 'Sell', 56.0), (11646, 'Sell', 56.0), (11647, 'Sell', 56.0), (11648, 'Sell', 56.0), (11649, 'Sell', 56.0), (11650, 'Sell', 56.0), (11651, 'Sell', 56.0), (11652, 'Sell', 56.0), (11653, 'Sell', 56.0), (11654, 'Sell', 56.0), (11655, 'Sell', 56.0), (11656, 'Sell', 56.0), (11657, 'Buy', 38.0), (11658, 'Buy', 38.0), (11659, 'Buy', 38.0), (11660, 'Buy', 38.0), (11661, 'Buy', 38.0), (11662, 'Buy', 38.0), (11663, 'Buy', 38.0), (11664, 'Buy', 38.0), (11665, 'Buy', 38.0), (11666, 'Buy', 38.0), (11667, 'Buy', 38.0), (11668, 'Buy', 38.0), (11669, 'Buy', 38.0), (11670, 'Buy', 38.0), (11671, 'Buy', 38.0), (11672, 'Buy', 38.0), (11673, 'Buy', 38.0), (11674, 'Buy', 38.0), (11675, 'Buy', 38.0), (11676, 'Buy', 38.0), (11677, 'Buy', 38.0), (11678, 'Buy', 38.0), (11679, 'Buy', 38.0), (11680, 'Buy', 38.0), (11681, 'Buy', 38.0), (11682, 'Buy', 38.0), (11683, 'Buy', 38.0), (11684, 'Buy', 38.0), (11690, 'Buy', 37.0), (11691, 'Buy', 37.0), (11727, 'Buy', 6.0), (11728, 'Buy', 6.0), (11729, 'Buy', 6.0), (11730, 'Buy', 6.0), (11731, 'Buy', 6.0), (11732, 'Buy', 6.0), (11733, 'Buy', 6.0), (11734, 'Buy', 6.0), (11735, 'Buy', 6.0), (11736, 'Buy', 6.0), (11737, 'Buy', 6.0), (11738, 'Buy', 6.0), (11739, 'Buy', 6.0), (11740, 'Buy', 6.0), (11741, 'Buy', 6.0), (11742, 'Buy', 6.0), (11743, 'Buy', 6.0), (11744, 'Sell', 38.0), (11745, 'Sell', 38.0), (11746, 'Sell', 38.0), (11747, 'Sell', 38.0), (11748, 'Sell', 38.0), (11749, 'Sell', 38.0), (11750, 'Sell', 38.0), (11751, 'Sell', 38.0), (11752, 'Sell', 38.0), (11753, 'Sell', 38.0), (11754, 'Sell', 38.0), (11755, 'Sell', 38.0), (11756, 'Sell', 38.0), (11757, 'Sell', 38.0), (11758, 'Sell', 38.0), (11759, 'Sell', 38.0), (11760, 'Sell', 38.0), (11761, 'Sell', 38.0), (11762, 'Sell', 38.0), (11763, 'Sell', 38.0), (11764, 'Sell', 38.0), (11765, 'Sell', 38.0), (11766, 'Sell', 38.0), (11767, 'Sell', 38.0), (11768, 'Sell', 38.0), (11769, 'Sell', 38.0), (11770, 'Sell', 38.0), (11771, 'Sell', 38.0), (11785, 'Buy', 37.0), (11786, 'Buy', 37.0), (11787, 'Buy', 37.0), (11788, 'Buy', 37.0), (11789, 'Buy', 37.0), (11805, 'Buy', 37.0), (11806, 'Buy', 37.0), (11811, 'Sell', 56.0), (11812, 'Sell', 56.0), (11813, 'Sell', 56.0), (11814, 'Sell', 56.0), (11815, 'Sell', 56.0), (11816, 'Sell', 56.0), (11817, 'Sell', 56.0), (11818, 'Sell', 56.0), (11819, 'Sell', 56.0), (11820, 'Sell', 56.0), (11821, 'Sell', 56.0), (11822, 'Sell', 56.0), (11823, 'Sell', 56.0), (11824, 'Sell', 56.0), (11825, 'Sell', 56.0), (11826, 'Sell', 56.0), (11827, 'Buy', 38.0), (11828, 'Buy', 38.0), (11829, 'Buy', 38.0), (11830, 'Buy', 38.0), (11831, 'Buy', 38.0), (11832, 'Buy', 38.0), (11833, 'Buy', 38.0), (11834, 'Buy', 38.0), (11835, 'Buy', 38.0), (11836, 'Buy', 38.0), (11837, 'Buy', 38.0), (11838, 'Buy', 38.0), (11839, 'Buy', 38.0), (11840, 'Buy', 38.0), (11841, 'Buy', 38.0), (11842, 'Buy', 38.0), (11843, 'Buy', 38.0), (11844, 'Buy', 38.0), (11845, 'Buy', 38.0), (11846, 'Buy', 38.0), (11847, 'Buy', 38.0), (11848, 'Buy', 38.0), (11849, 'Buy', 38.0), (11850, 'Buy', 38.0), (11851, 'Buy', 38.0), (11852, 'Buy', 38.0), (11853, 'Buy', 38.0), (11854, 'Buy', 37.0), (11855, 'Buy', 37.0), (11856, 'Buy', 37.0), (11891, 'Buy', 6.0), (11892, 'Buy', 6.0), (11893, 'Buy', 6.0), (11894, 'Buy', 6.0), (11895, 'Buy', 6.0), (11896, 'Buy', 6.0), (11897, 'Buy', 6.0), (11898, 'Buy', 6.0), (11899, 'Buy', 6.0), (11900, 'Buy', 6.0), (11901, 'Buy', 6.0), (11902, 'Buy', 6.0), (11903, 'Buy', 6.0), (11904, 'Buy', 6.0), (11905, 'Buy', 6.0), (11906, 'Buy', 6.0), (11907, 'Buy', 6.0), (11908, 'Sell', 38.0), (11909, 'Sell', 38.0), (11910, 'Sell', 38.0), (11911, 'Sell', 38.0), (11912, 'Sell', 38.0), (11913, 'Sell', 38.0), (11914, 'Sell', 38.0), (11915, 'Sell', 38.0), (11916, 'Sell', 38.0), (11917, 'Sell', 38.0), (11918, 'Sell', 38.0), (11919, 'Sell', 38.0), (11920, 'Sell', 38.0), (11921, 'Sell', 38.0), (11922, 'Sell', 38.0), (11923, 'Sell', 38.0), (11924, 'Sell', 38.0), (11925, 'Sell', 38.0), (11926, 'Sell', 38.0), (11927, 'Sell', 38.0), (11928, 'Sell', 38.0), (11929, 'Sell', 38.0), (11930, 'Sell', 38.0), (11931, 'Sell', 38.0), (11932, 'Sell', 38.0), (11933, 'Sell', 38.0), (11934, 'Sell', 38.0), (11935, 'Sell', 38.0), (11948, 'Buy', 37.0), (11949, 'Buy', 37.0), (11965, 'Buy', 37.0), (11966, 'Buy', 37.0), (11972, 'Buy', 37.0), (11973, 'Buy', 37.0), (11974, 'Buy', 37.0), (11981, 'Sell', 56.0), (11982, 'Sell', 56.0), (11983, 'Sell', 56.0), (11984, 'Sell', 56.0), (11985, 'Sell', 56.0), (11986, 'Sell', 56.0), (11987, 'Sell', 56.0), (11988, 'Sell', 56.0), (11989, 'Sell', 56.0), (11990, 'Sell', 56.0), (11991, 'Sell', 56.0), (11992, 'Sell', 56.0), (11993, 'Sell', 56.0), (11994, 'Sell', 56.0), (11995, 'Sell', 56.0), (11996, 'Sell', 56.0), (11997, 'Sell', 56.0), (11998, 'Sell', 56.0), (11999, 'Buy', 38.0), (12000, 'Buy', 38.0), (12001, 'Buy', 38.0), (12002, 'Buy', 38.0), (12003, 'Buy', 38.0), (12004, 'Buy', 38.0), (12005, 'Buy', 38.0), (12006, 'Buy', 38.0), (12007, 'Buy', 38.0), (12008, 'Buy', 38.0), (12009, 'Buy', 38.0), (12010, 'Buy', 38.0), (12011, 'Buy', 38.0), (12012, 'Buy', 38.0), (12013, 'Buy', 38.0), (12014, 'Buy', 38.0), (12015, 'Buy', 38.0), (12016, 'Buy', 38.0), (12017, 'Buy', 38.0), (12018, 'Buy', 38.0), (12019, 'Buy', 38.0), (12020, 'Buy', 38.0), (12021, 'Buy', 38.0), (12022, 'Buy', 38.0), (12023, 'Buy', 38.0), (12024, 'Buy', 38.0), (12025, 'Buy', 38.0), (12026, 'Buy', 38.0), (12067, 'Buy', 6.0), (12068, 'Buy', 6.0), (12069, 'Buy', 6.0), (12070, 'Buy', 6.0), (12071, 'Buy', 6.0), (12072, 'Buy', 6.0), (12073, 'Buy', 6.0), (12074, 'Buy', 6.0), (12075, 'Buy', 6.0), (12076, 'Buy', 6.0), (12077, 'Buy', 6.0), (12078, 'Buy', 6.0), (12079, 'Buy', 6.0), (12080, 'Buy', 6.0), (12081, 'Buy', 6.0), (12082, 'Buy', 6.0), (12083, 'Sell', 38.0), (12084, 'Sell', 38.0), (12085, 'Sell', 38.0), (12086, 'Sell', 38.0), (12087, 'Sell', 38.0), (12088, 'Sell', 38.0), (12089, 'Sell', 38.0), (12090, 'Sell', 38.0), (12091, 'Sell', 38.0), (12092, 'Sell', 38.0), (12093, 'Sell', 38.0), (12094, 'Sell', 38.0), (12095, 'Sell', 38.0), (12096, 'Sell', 38.0), (12097, 'Sell', 38.0), (12098, 'Sell', 38.0), (12099, 'Sell', 38.0), (12100, 'Sell', 38.0), (12101, 'Sell', 38.0), (12102, 'Sell', 38.0), (12103, 'Sell', 38.0), (12104, 'Sell', 38.0), (12105, 'Sell', 38.0), (12106, 'Sell', 38.0), (12107, 'Sell', 38.0), (12108, 'Sell', 38.0), (12109, 'Sell', 38.0), (12110, 'Sell', 38.0), (12152, 'Sell', 56.0), (12153, 'Sell', 56.0), (12154, 'Sell', 56.0), (12155, 'Sell', 56.0), (12156, 'Sell', 56.0), (12157, 'Sell', 56.0), (12158, 'Sell', 56.0), (12159, 'Sell', 56.0), (12160, 'Sell', 56.0), (12161, 'Sell', 56.0), (12162, 'Sell', 56.0), (12163, 'Sell', 56.0), (12164, 'Sell', 56.0), (12165, 'Sell', 56.0), (12166, 'Sell', 56.0), (12167, 'Sell', 56.0), (12168, 'Sell', 56.0), (12169, 'Buy', 38.0), (12170, 'Buy', 38.0), (12171, 'Buy', 38.0), (12172, 'Buy', 38.0), (12173, 'Buy', 38.0), (12174, 'Buy', 38.0), (12175, 'Buy', 38.0), (12176, 'Buy', 38.0), (12177, 'Buy', 38.0), (12178, 'Buy', 38.0), (12179, 'Buy', 38.0), (12180, 'Buy', 38.0), (12181, 'Buy', 38.0), (12182, 'Buy', 38.0), (12183, 'Buy', 38.0), (12184, 'Buy', 38.0), (12185, 'Buy', 38.0), (12186, 'Buy', 38.0), (12187, 'Buy', 38.0), (12188, 'Buy', 38.0), (12189, 'Buy', 38.0), (12190, 'Buy', 38.0), (12191, 'Buy', 38.0), (12192, 'Buy', 38.0), (12193, 'Buy', 38.0), (12194, 'Buy', 38.0), (12195, 'Buy', 38.0), (12196, 'Buy', 38.0), (12199, 'Buy', 37.0), (12200, 'Buy', 37.0), (12238, 'Buy', 6.0), (12239, 'Buy', 6.0), (12240, 'Buy', 6.0), (12241, 'Buy', 6.0), (12242, 'Buy', 6.0), (12243, 'Buy', 6.0), (12244, 'Buy', 6.0), (12245, 'Buy', 6.0), (12246, 'Buy', 6.0), (12247, 'Buy', 6.0), (12248, 'Buy', 6.0), (12249, 'Buy', 6.0), (12250, 'Buy', 6.0), (12251, 'Buy', 6.0), (12252, 'Buy', 6.0), (12253, 'Buy', 6.0), (12254, 'Buy', 6.0), (12255, 'Buy', 6.0), (12256, 'Buy', 6.0), (12257, 'Sell', 38.0), (12258, 'Sell', 38.0), (12259, 'Sell', 38.0), (12260, 'Sell', 38.0), (12261, 'Sell', 38.0), (12262, 'Sell', 38.0), (12263, 'Sell', 38.0), (12264, 'Sell', 38.0), (12265, 'Sell', 38.0), (12266, 'Sell', 38.0), (12267, 'Sell', 38.0), (12268, 'Sell', 38.0), (12269, 'Sell', 38.0), (12270, 'Sell', 38.0), (12271, 'Sell', 38.0), (12272, 'Sell', 38.0), (12273, 'Sell', 38.0), (12274, 'Sell', 38.0), (12275, 'Sell', 38.0), (12276, 'Sell', 38.0), (12277, 'Sell', 38.0), (12278, 'Sell', 38.0), (12279, 'Sell', 38.0), (12280, 'Sell', 38.0), (12281, 'Sell', 38.0), (12282, 'Sell', 38.0), (12283, 'Sell', 37.0), (12322, 'Buy', 37.0), (12323, 'Buy', 37.0), (12324, 'Buy', 37.0), (12328, 'Sell', 56.0), (12329, 'Sell', 56.0), (12330, 'Sell', 56.0), (12331, 'Sell', 56.0), (12332, 'Sell', 56.0), (12333, 'Sell', 56.0), (12334, 'Sell', 56.0), (12335, 'Sell', 56.0), (12336, 'Sell', 56.0), (12337, 'Sell', 56.0), (12338, 'Sell', 56.0), (12339, 'Sell', 56.0), (12340, 'Sell', 56.0), (12341, 'Sell', 56.0), (12342, 'Sell', 56.0), (12343, 'Sell', 56.0), (12344, 'Sell', 56.0), (12345, 'Buy', 38.0), (12346, 'Buy', 38.0), (12347, 'Buy', 38.0), (12348, 'Buy', 38.0), (12349, 'Buy', 38.0), (12350, 'Buy', 38.0), (12351, 'Buy', 38.0), (12352, 'Buy', 38.0), (12353, 'Buy', 38.0), (12354, 'Buy', 38.0), (12355, 'Buy', 38.0), (12356, 'Buy', 38.0), (12357, 'Buy', 37.0), (12358, 'Buy', 37.0), (12359, 'Buy', 38.0), (12360, 'Buy', 38.0), (12361, 'Buy', 38.0), (12362, 'Buy', 38.0), (12363, 'Buy', 38.0), (12364, 'Buy', 38.0), (12365, 'Buy', 38.0), (12366, 'Buy', 38.0), (12367, 'Buy', 38.0), (12368, 'Buy', 38.0), (12369, 'Buy', 38.0), (12370, 'Buy', 38.0), (12371, 'Buy', 38.0), (12372, 'Buy', 38.0), (12419, 'Buy', 6.0), (12420, 'Buy', 6.0), (12421, 'Buy', 6.0), (12422, 'Buy', 6.0), (12423, 'Buy', 6.0), (12424, 'Buy', 6.0), (12425, 'Buy', 6.0), (12426, 'Buy', 6.0), (12427, 'Buy', 6.0), (12428, 'Buy', 6.0), (12429, 'Buy', 6.0), (12430, 'Buy', 6.0), (12431, 'Buy', 6.0), (12432, 'Buy', 6.0), (12433, 'Buy', 6.0), (12434, 'Buy', 6.0), (12435, 'Buy', 6.0), (12436, 'Sell', 38.0), (12437, 'Sell', 38.0), (12438, 'Sell', 38.0), (12439, 'Sell', 38.0), (12440, 'Sell', 38.0), (12441, 'Sell', 38.0), (12442, 'Sell', 38.0), (12443, 'Sell', 38.0), (12444, 'Sell', 38.0), (12445, 'Sell', 38.0), (12446, 'Sell', 38.0), (12447, 'Sell', 38.0), (12448, 'Sell', 38.0), (12449, 'Sell', 38.0), (12450, 'Sell', 38.0), (12451, 'Sell', 38.0), (12452, 'Sell', 38.0), (12453, 'Sell', 38.0), (12454, 'Sell', 38.0), (12455, 'Sell', 38.0), (12456, 'Sell', 38.0), (12457, 'Sell', 38.0), (12458, 'Sell', 38.0), (12459, 'Sell', 38.0), (12460, 'Sell', 38.0), (12461, 'Sell', 38.0), (12462, 'Sell', 38.0), (12463, 'Sell', 38.0), (12504, 'Sell', 56.0), (12505, 'Sell', 56.0), (12506, 'Sell', 56.0), (12507, 'Sell', 56.0), (12508, 'Sell', 56.0), (12509, 'Sell', 56.0), (12510, 'Sell', 56.0), (12511, 'Sell', 56.0), (12512, 'Sell', 56.0), (12513, 'Sell', 56.0), (12514, 'Sell', 56.0), (12515, 'Sell', 56.0), (12516, 'Sell', 56.0), (12517, 'Sell', 56.0), (12518, 'Sell', 56.0), (12519, 'Buy', 38.0), (12520, 'Buy', 38.0), (12521, 'Buy', 38.0), (12522, 'Buy', 38.0), (12523, 'Buy', 38.0), (12524, 'Buy', 38.0), (12525, 'Buy', 38.0), (12526, 'Buy', 38.0), (12527, 'Buy', 38.0), (12528, 'Buy', 38.0), (12529, 'Buy', 37.0), (12530, 'Buy', 37.0), (12531, 'Buy', 38.0), (12532, 'Buy', 38.0), (12533, 'Buy', 38.0), (12534, 'Buy', 38.0), (12535, 'Buy', 38.0), (12536, 'Buy', 38.0), (12537, 'Buy', 38.0), (12538, 'Buy', 38.0), (12539, 'Buy', 38.0), (12540, 'Buy', 38.0), (12541, 'Buy', 38.0), (12542, 'Buy', 38.0), (12543, 'Buy', 38.0), (12544, 'Buy', 38.0), (12545, 'Buy', 38.0), (12546, 'Buy', 38.0), (12578, 'Buy', 37.0), (12579, 'Buy', 37.0), (12580, 'Buy', 37.0), (12588, 'Buy', 6.0), (12589, 'Buy', 6.0), (12590, 'Buy', 6.0), (12591, 'Buy', 6.0), (12592, 'Buy', 6.0), (12593, 'Buy', 6.0), (12594, 'Buy', 6.0), (12595, 'Buy', 6.0), (12596, 'Buy', 6.0), (12597, 'Buy', 6.0), (12598, 'Buy', 6.0), (12599, 'Buy', 6.0), (12600, 'Buy', 6.0), (12601, 'Buy', 6.0), (12602, 'Buy', 6.0), (12603, 'Buy', 6.0), (12604, 'Buy', 6.0), (12605, 'Buy', 6.0), (12606, 'Buy', 6.0), (12607, 'Sell', 38.0), (12608, 'Sell', 38.0), (12609, 'Sell', 38.0), (12610, 'Sell', 38.0), (12611, 'Sell', 38.0), (12612, 'Sell', 38.0), (12613, 'Sell', 38.0), (12614, 'Sell', 38.0), (12615, 'Sell', 38.0), (12616, 'Sell', 38.0), (12617, 'Sell', 38.0), (12618, 'Sell', 38.0), (12619, 'Sell', 38.0), (12620, 'Sell', 38.0), (12621, 'Sell', 38.0), (12622, 'Sell', 38.0), (12623, 'Sell', 38.0), (12624, 'Sell', 37.0), (12625, 'Sell', 37.0), (12626, 'Sell', 38.0), (12627, 'Sell', 38.0), (12628, 'Sell', 38.0), (12629, 'Sell', 38.0), (12630, 'Sell', 38.0), (12631, 'Sell', 38.0), (12632, 'Sell', 38.0), (12633, 'Sell', 38.0), (12634, 'Sell', 38.0), (12638, 'Buy', 37.0), (12639, 'Buy', 37.0), (12640, 'Buy', 37.0), (12641, 'Buy', 37.0), (12672, 'Sell', 56.0), (12673, 'Sell', 56.0), (12674, 'Sell', 56.0), (12675, 'Sell', 56.0), (12676, 'Sell', 56.0), (12677, 'Sell', 56.0), (12678, 'Sell', 56.0), (12679, 'Sell', 56.0), (12680, 'Sell', 56.0), (12681, 'Sell', 56.0), (12682, 'Sell', 56.0), (12683, 'Sell', 56.0), (12684, 'Sell', 56.0), (12685, 'Sell', 56.0), (12686, 'Sell', 56.0), (12687, 'Buy', 38.0), (12688, 'Buy', 38.0), (12689, 'Buy', 38.0), (12690, 'Buy', 38.0), (12691, 'Buy', 38.0), (12692, 'Buy', 38.0), (12693, 'Buy', 38.0), (12694, 'Buy', 38.0), (12695, 'Buy', 38.0), (12696, 'Buy', 38.0), (12697, 'Buy', 38.0), (12698, 'Buy', 38.0), (12699, 'Buy', 37.0), (12700, 'Buy', 37.0), (12701, 'Buy', 38.0), (12702, 'Buy', 38.0), (12703, 'Buy', 38.0), (12704, 'Buy', 38.0), (12705, 'Buy', 38.0), (12706, 'Buy', 38.0), (12707, 'Buy', 38.0), (12708, 'Buy', 38.0), (12709, 'Buy', 38.0), (12710, 'Buy', 38.0), (12711, 'Buy', 38.0), (12712, 'Buy', 38.0), (12713, 'Buy', 38.0), (12714, 'Buy', 38.0), (12755, 'Buy', 6.0), (12756, 'Buy', 6.0), (12757, 'Buy', 6.0), (12758, 'Buy', 6.0), (12759, 'Buy', 6.0), (12760, 'Buy', 6.0), (12761, 'Buy', 6.0), (12762, 'Buy', 6.0), (12763, 'Buy', 6.0), (12764, 'Buy', 6.0), (12765, 'Buy', 6.0), (12766, 'Buy', 6.0), (12767, 'Buy', 6.0), (12768, 'Buy', 6.0), (12769, 'Buy', 6.0), (12770, 'Buy', 6.0), (12771, 'Sell', 38.0), (12772, 'Sell', 38.0), (12773, 'Sell', 38.0), (12774, 'Sell', 38.0), (12775, 'Sell', 38.0), (12776, 'Sell', 38.0), (12777, 'Sell', 38.0), (12778, 'Sell', 38.0), (12779, 'Sell', 38.0), (12780, 'Sell', 38.0), (12781, 'Sell', 38.0), (12782, 'Sell', 38.0), (12783, 'Sell', 38.0), (12784, 'Sell', 38.0), (12785, 'Sell', 38.0), (12786, 'Sell', 38.0), (12787, 'Sell', 38.0), (12788, 'Sell', 38.0), (12789, 'Sell', 38.0), (12790, 'Sell', 38.0), (12791, 'Sell', 37.0), (12792, 'Sell', 37.0), (12793, 'Sell', 37.0), (12794, 'Sell', 38.0), (12795, 'Sell', 38.0), (12796, 'Sell', 38.0), (12797, 'Sell', 38.0), (12798, 'Sell', 38.0), (12840, 'Sell', 56.0), (12841, 'Sell', 56.0), (12842, 'Sell', 56.0), (12843, 'Sell', 56.0), (12844, 'Sell', 56.0), (12845, 'Sell', 56.0), (12846, 'Sell', 56.0), (12847, 'Sell', 56.0), (12848, 'Sell', 56.0), (12849, 'Sell', 56.0), (12850, 'Sell', 56.0), (12851, 'Sell', 56.0), (12852, 'Sell', 56.0), (12853, 'Sell', 56.0), (12854, 'Sell', 56.0), (12855, 'Sell', 56.0), (12856, 'Buy', 38.0), (12857, 'Buy', 38.0), (12858, 'Buy', 38.0), (12859, 'Buy', 38.0), (12860, 'Buy', 38.0), (12861, 'Buy', 38.0), (12862, 'Buy', 38.0), (12863, 'Buy', 38.0), (12864, 'Buy', 38.0), (12865, 'Buy', 38.0), (12866, 'Buy', 38.0), (12867, 'Buy', 38.0), (12868, 'Buy', 38.0), (12869, 'Buy', 38.0), (12870, 'Buy', 38.0), (12871, 'Buy', 38.0), (12872, 'Buy', 38.0), (12873, 'Buy', 38.0), (12874, 'Buy', 38.0), (12875, 'Buy', 38.0), (12876, 'Buy', 38.0), (12877, 'Buy', 38.0), (12878, 'Buy', 38.0), (12879, 'Buy', 38.0), (12880, 'Buy', 38.0), (12881, 'Buy', 38.0), (12882, 'Buy', 38.0), (12883, 'Buy', 38.0), (12926, 'Buy', 6.0), (12927, 'Buy', 6.0), (12928, 'Buy', 6.0), (12929, 'Buy', 6.0), (12930, 'Buy', 6.0), (12931, 'Buy', 6.0), (12932, 'Buy', 6.0), (12933, 'Buy', 6.0), (12934, 'Buy', 6.0), (12935, 'Buy', 6.0), (12936, 'Buy', 6.0), (12937, 'Buy', 6.0), (12938, 'Buy', 6.0), (12939, 'Buy', 6.0), (12940, 'Buy', 6.0), (12941, 'Buy', 6.0), (12942, 'Buy', 6.0), (12943, 'Sell', 38.0), (12944, 'Sell', 38.0), (12945, 'Sell', 38.0), (12946, 'Sell', 38.0), (12947, 'Sell', 38.0), (12948, 'Sell', 38.0), (12949, 'Sell', 38.0), (12950, 'Sell', 38.0), (12951, 'Sell', 38.0), (12952, 'Sell', 38.0), (12953, 'Sell', 38.0), (12954, 'Sell', 38.0), (12955, 'Sell', 38.0), (12956, 'Sell', 38.0), (12957, 'Sell', 38.0), (12958, 'Sell', 38.0), (12959, 'Sell', 38.0), (12960, 'Sell', 38.0), (12961, 'Sell', 38.0), (12962, 'Sell', 38.0), (12963, 'Sell', 38.0), (12964, 'Sell', 38.0), (12965, 'Sell', 38.0), (12966, 'Sell', 38.0), (12967, 'Sell', 38.0), (12968, 'Sell', 38.0), (12969, 'Sell', 38.0), (12970, 'Sell', 38.0), (13012, 'Sell', 56.0), (13013, 'Sell', 56.0), (13014, 'Sell', 56.0), (13015, 'Sell', 56.0), (13016, 'Sell', 56.0), (13017, 'Sell', 56.0), (13018, 'Sell', 56.0), (13019, 'Sell', 55.0), (13020, 'Sell', 55.0), (13021, 'Sell', 55.0), (13022, 'Sell', 56.0), (13023, 'Sell', 56.0), (13024, 'Sell', 56.0), (13025, 'Sell', 56.0), (13026, 'Sell', 56.0), (13027, 'Sell', 56.0), (13028, 'Sell', 56.0), (13029, 'Buy', 38.0), (13030, 'Buy', 38.0), (13031, 'Buy', 38.0), (13032, 'Buy', 38.0), (13033, 'Buy', 38.0), (13034, 'Buy', 38.0), (13035, 'Buy', 38.0), (13036, 'Buy', 38.0), (13037, 'Buy', 38.0), (13038, 'Buy', 38.0), (13039, 'Buy', 38.0), (13040, 'Buy', 38.0), (13041, 'Buy', 38.0), (13042, 'Buy', 38.0), (13043, 'Buy', 38.0), (13044, 'Buy', 38.0), (13045, 'Buy', 38.0), (13046, 'Buy', 38.0), (13047, 'Buy', 38.0), (13048, 'Buy', 38.0), (13049, 'Buy', 38.0), (13050, 'Buy', 38.0), (13051, 'Buy', 38.0), (13052, 'Buy', 38.0), (13053, 'Buy', 38.0), (13054, 'Buy', 38.0), (13055, 'Buy', 38.0), (13056, 'Buy', 38.0), (13095, 'Buy', 6.0), (13096, 'Buy', 6.0), (13097, 'Buy', 6.0), (13098, 'Buy', 6.0), (13099, 'Buy', 6.0), (13100, 'Buy', 6.0), (13101, 'Buy', 6.0), (13102, 'Buy', 6.0), (13103, 'Buy', 6.0), (13104, 'Buy', 6.0), (13105, 'Buy', 6.0), (13106, 'Buy', 6.0), (13107, 'Buy', 6.0), (13108, 'Buy', 6.0), (13109, 'Buy', 6.0), (13110, 'Buy', 6.0), (13111, 'Sell', 38.0), (13112, 'Sell', 38.0), (13113, 'Sell', 38.0), (13114, 'Sell', 38.0), (13115, 'Sell', 38.0), (13116, 'Sell', 38.0), (13117, 'Sell', 38.0), (13118, 'Sell', 38.0), (13119, 'Sell', 38.0), (13120, 'Sell', 38.0), (13121, 'Sell', 38.0), (13122, 'Sell', 38.0), (13123, 'Sell', 38.0), (13124, 'Sell', 38.0), (13125, 'Sell', 38.0), (13126, 'Sell', 38.0), (13127, 'Sell', 38.0), (13128, 'Sell', 38.0), (13129, 'Sell', 38.0), (13130, 'Sell', 38.0), (13131, 'Sell', 38.0), (13132, 'Sell', 38.0), (13133, 'Sell', 38.0), (13134, 'Sell', 38.0), (13135, 'Sell', 38.0), (13136, 'Sell', 38.0), (13137, 'Sell', 38.0), (13138, 'Sell', 38.0), (13176, 'Sell', 56.0), (13177, 'Sell', 56.0), (13178, 'Sell', 56.0), (13179, 'Sell', 56.0), (13180, 'Sell', 56.0), (13181, 'Sell', 56.0), (13182, 'Sell', 56.0), (13183, 'Sell', 56.0), (13184, 'Sell', 56.0), (13185, 'Sell', 56.0), (13186, 'Sell', 56.0), (13187, 'Sell', 56.0), (13188, 'Sell', 56.0), (13189, 'Sell', 56.0), (13190, 'Sell', 56.0), (13191, 'Sell', 56.0), (13192, 'Sell', 56.0), (13193, 'Sell', 56.0), (13194, 'Sell', 56.0), (13195, 'Buy', 38.0), (13196, 'Buy', 38.0), (13197, 'Buy', 38.0), (13198, 'Buy', 38.0), (13199, 'Buy', 38.0), (13200, 'Buy', 38.0), (13201, 'Buy', 38.0), (13202, 'Buy', 38.0), (13203, 'Buy', 38.0), (13204, 'Buy', 38.0), (13205, 'Buy', 38.0), (13206, 'Buy', 38.0), (13207, 'Buy', 38.0), (13208, 'Buy', 38.0), (13209, 'Buy', 38.0), (13210, 'Buy', 38.0), (13211, 'Buy', 38.0), (13212, 'Buy', 38.0), (13213, 'Buy', 38.0), (13214, 'Buy', 38.0), (13215, 'Buy', 38.0), (13216, 'Buy', 38.0), (13217, 'Buy', 38.0), (13218, 'Buy', 38.0), (13219, 'Buy', 38.0), (13220, 'Buy', 38.0), (13221, 'Buy', 38.0), (13222, 'Buy', 38.0), (13237, 'Buy', 37.0), (13238, 'Buy', 37.0), (13239, 'Buy', 37.0), (13240, 'Buy', 37.0), (13241, 'Buy', 37.0), (13242, 'Buy', 37.0), (13265, 'Buy', 6.0), (13266, 'Buy', 6.0), (13267, 'Buy', 6.0), (13268, 'Buy', 6.0), (13269, 'Buy', 6.0), (13270, 'Buy', 6.0), (13271, 'Buy', 6.0), (13272, 'Buy', 6.0), (13273, 'Buy', 6.0), (13274, 'Buy', 6.0), (13275, 'Buy', 6.0), (13276, 'Buy', 6.0), (13277, 'Buy', 6.0), (13278, 'Buy', 6.0), (13279, 'Buy', 6.0), (13280, 'Buy', 6.0), (13281, 'Buy', 6.0), (13282, 'Sell', 38.0), (13283, 'Sell', 38.0), (13284, 'Sell', 38.0), (13285, 'Sell', 38.0), (13286, 'Sell', 38.0), (13287, 'Sell', 38.0), (13288, 'Sell', 38.0), (13289, 'Sell', 38.0), (13290, 'Sell', 38.0), (13291, 'Sell', 38.0), (13292, 'Sell', 38.0), (13293, 'Sell', 38.0), (13294, 'Sell', 38.0), (13295, 'Sell', 38.0), (13296, 'Sell', 38.0), (13297, 'Sell', 38.0), (13298, 'Sell', 38.0), (13299, 'Sell', 38.0), (13300, 'Sell', 38.0), (13301, 'Sell', 38.0), (13302, 'Sell', 38.0), (13303, 'Sell', 38.0), (13304, 'Sell', 38.0), (13305, 'Sell', 38.0), (13306, 'Sell', 38.0), (13307, 'Sell', 38.0), (13308, 'Sell', 38.0), (13309, 'Sell', 38.0), (13320, 'Buy', 37.0), (13321, 'Buy', 37.0), (13350, 'Sell', 56.0), (13351, 'Sell', 56.0), (13352, 'Sell', 56.0), (13353, 'Sell', 56.0), (13354, 'Sell', 56.0), (13355, 'Sell', 56.0), (13356, 'Sell', 56.0), (13357, 'Sell', 56.0), (13358, 'Sell', 56.0), (13359, 'Sell', 56.0), (13360, 'Sell', 56.0), (13361, 'Sell', 56.0), (13362, 'Sell', 56.0), (13363, 'Sell', 56.0), (13364, 'Sell', 56.0), (13365, 'Sell', 56.0), (13366, 'Sell', 56.0), (13367, 'Sell', 56.0), (13368, 'Buy', 38.0), (13369, 'Buy', 38.0), (13370, 'Buy', 38.0), (13371, 'Buy', 38.0), (13372, 'Buy', 38.0), (13373, 'Buy', 38.0), (13374, 'Buy', 38.0), (13375, 'Buy', 38.0), (13376, 'Buy', 38.0), (13377, 'Buy', 38.0), (13378, 'Buy', 38.0), (13379, 'Buy', 38.0), (13380, 'Buy', 38.0), (13381, 'Buy', 38.0), (13382, 'Buy', 38.0), (13383, 'Buy', 38.0), (13384, 'Buy', 38.0), (13385, 'Buy', 38.0), (13386, 'Buy', 38.0), (13387, 'Buy', 38.0), (13388, 'Buy', 38.0), (13389, 'Buy', 38.0), (13390, 'Buy', 38.0), (13391, 'Buy', 38.0), (13392, 'Buy', 38.0), (13393, 'Buy', 38.0), (13394, 'Buy', 38.0), (13395, 'Buy', 38.0), (13438, 'Buy', 6.0), (13439, 'Buy', 6.0), (13440, 'Buy', 6.0), (13441, 'Buy', 6.0), (13442, 'Buy', 6.0), (13443, 'Buy', 6.0), (13444, 'Buy', 6.0), (13445, 'Buy', 6.0), (13446, 'Buy', 6.0), (13447, 'Buy', 6.0), (13448, 'Buy', 6.0), (13449, 'Buy', 6.0), (13450, 'Buy', 6.0), (13451, 'Buy', 6.0), (13452, 'Buy', 6.0), (13453, 'Buy', 6.0), (13454, 'Sell', 38.0), (13455, 'Sell', 38.0), (13456, 'Sell', 38.0), (13457, 'Sell', 38.0), (13458, 'Sell', 38.0), (13459, 'Sell', 38.0), (13460, 'Sell', 38.0), (13461, 'Sell', 38.0), (13462, 'Sell', 38.0), (13463, 'Sell', 38.0), (13464, 'Sell', 38.0), (13465, 'Sell', 38.0), (13466, 'Sell', 38.0), (13467, 'Sell', 38.0), (13468, 'Sell', 38.0), (13469, 'Sell', 38.0), (13470, 'Sell', 38.0), (13471, 'Sell', 38.0), (13472, 'Sell', 38.0), (13473, 'Sell', 38.0), (13474, 'Sell', 38.0), (13475, 'Sell', 38.0), (13476, 'Sell', 38.0), (13477, 'Sell', 38.0), (13478, 'Sell', 38.0), (13479, 'Sell', 38.0), (13480, 'Sell', 38.0), (13481, 'Sell', 38.0), (13522, 'Sell', 56.0), (13523, 'Sell', 56.0), (13524, 'Sell', 55.0), (13525, 'Sell', 55.0), (13526, 'Sell', 56.0), (13527, 'Sell', 56.0), (13528, 'Sell', 56.0), (13529, 'Sell', 56.0), (13530, 'Sell', 56.0), (13531, 'Sell', 56.0), (13532, 'Sell', 56.0), (13533, 'Sell', 56.0), (13534, 'Sell', 56.0), (13535, 'Sell', 56.0), (13536, 'Sell', 56.0), (13537, 'Sell', 56.0), (13538, 'Sell', 56.0), (13539, 'Sell', 56.0), (13540, 'Buy', 38.0), (13541, 'Buy', 38.0), (13542, 'Buy', 38.0), (13543, 'Buy', 38.0), (13544, 'Buy', 38.0), (13545, 'Buy', 37.0), (13546, 'Buy', 37.0), (13547, 'Buy', 37.0), (13548, 'Buy', 38.0), (13549, 'Buy', 38.0), (13550, 'Buy', 38.0), (13551, 'Buy', 38.0), (13552, 'Buy', 38.0), (13553, 'Buy', 38.0), (13554, 'Buy', 38.0), (13555, 'Buy', 38.0), (13556, 'Buy', 38.0), (13557, 'Buy', 38.0), (13558, 'Buy', 38.0), (13559, 'Buy', 38.0), (13560, 'Buy', 38.0), (13561, 'Buy', 38.0), (13562, 'Buy', 38.0), (13563, 'Buy', 38.0), (13564, 'Buy', 38.0), (13565, 'Buy', 38.0), (13566, 'Buy', 38.0), (13567, 'Buy', 38.0), (13612, 'Buy', 6.0), (13613, 'Buy', 6.0), (13614, 'Buy', 6.0), (13615, 'Buy', 6.0), (13616, 'Buy', 6.0), (13617, 'Buy', 6.0), (13618, 'Buy', 6.0), (13619, 'Buy', 6.0), (13620, 'Buy', 6.0), (13621, 'Buy', 6.0), (13622, 'Buy', 6.0), (13623, 'Buy', 6.0), (13624, 'Buy', 6.0), (13625, 'Buy', 6.0), (13626, 'Buy', 6.0), (13627, 'Buy', 6.0), (13628, 'Buy', 6.0), (13629, 'Sell', 38.0), (13630, 'Sell', 38.0), (13631, 'Sell', 38.0), (13632, 'Sell', 38.0), (13633, 'Sell', 38.0), (13634, 'Sell', 38.0), (13635, 'Sell', 38.0), (13636, 'Sell', 38.0), (13637, 'Sell', 38.0), (13638, 'Sell', 38.0), (13639, 'Sell', 38.0), (13640, 'Sell', 38.0), (13641, 'Sell', 38.0), (13642, 'Sell', 38.0), (13643, 'Sell', 38.0), (13644, 'Sell', 38.0), (13645, 'Sell', 38.0), (13646, 'Sell', 38.0), (13647, 'Sell', 38.0), (13648, 'Sell', 38.0), (13649, 'Sell', 38.0), (13650, 'Sell', 38.0), (13651, 'Sell', 38.0), (13652, 'Sell', 38.0), (13653, 'Sell', 38.0), (13654, 'Sell', 38.0), (13655, 'Sell', 38.0), (13656, 'Sell', 38.0), (13686, 'Buy', 37.0), (13687, 'Buy', 37.0), (13693, 'Buy', 37.0), (13694, 'Buy', 37.0), (13697, 'Sell', 56.0), (13698, 'Sell', 56.0), (13699, 'Sell', 56.0), (13700, 'Sell', 56.0), (13701, 'Sell', 56.0), (13702, 'Sell', 56.0), (13703, 'Sell', 56.0), (13704, 'Sell', 56.0), (13705, 'Sell', 56.0), (13706, 'Sell', 56.0), (13707, 'Sell', 56.0), (13708, 'Sell', 56.0), (13709, 'Sell', 56.0), (13710, 'Sell', 56.0), (13711, 'Sell', 56.0), (13712, 'Sell', 56.0), (13713, 'Sell', 56.0), (13714, 'Sell', 56.0), (13715, 'Buy', 38.0), (13716, 'Buy', 38.0), (13717, 'Buy', 38.0), (13718, 'Buy', 38.0), (13719, 'Buy', 38.0), (13720, 'Buy', 38.0), (13721, 'Buy', 38.0), (13722, 'Buy', 38.0), (13723, 'Buy', 38.0), (13724, 'Buy', 38.0), (13725, 'Buy', 38.0), (13726, 'Buy', 38.0), (13727, 'Buy', 38.0), (13728, 'Buy', 38.0), (13729, 'Buy', 38.0), (13730, 'Buy', 38.0), (13731, 'Buy', 38.0), (13732, 'Buy', 38.0), (13733, 'Buy', 38.0), (13734, 'Buy', 38.0), (13735, 'Buy', 38.0), (13736, 'Buy', 38.0), (13737, 'Buy', 38.0), (13738, 'Buy', 38.0), (13739, 'Buy', 38.0), (13740, 'Buy', 38.0), (13741, 'Buy', 38.0), (13742, 'Buy', 38.0), (13780, 'Buy', 6.0), (13781, 'Buy', 6.0), (13782, 'Buy', 6.0), (13783, 'Buy', 6.0), (13784, 'Buy', 6.0), (13785, 'Buy', 6.0), (13786, 'Buy', 6.0), (13787, 'Buy', 6.0), (13788, 'Buy', 6.0), (13789, 'Buy', 6.0), (13790, 'Buy', 6.0), (13791, 'Buy', 6.0), (13792, 'Buy', 6.0), (13793, 'Buy', 6.0), (13794, 'Buy', 6.0), (13795, 'Buy', 6.0), (13796, 'Buy', 6.0), (13797, 'Buy', 6.0), (13798, 'Buy', 6.0), (13799, 'Sell', 38.0), (13800, 'Sell', 38.0), (13801, 'Sell', 38.0), (13802, 'Sell', 38.0), (13803, 'Sell', 38.0), (13804, 'Sell', 38.0), (13805, 'Sell', 38.0), (13806, 'Sell', 38.0), (13807, 'Sell', 38.0), (13808, 'Sell', 38.0), (13809, 'Sell', 38.0), (13810, 'Sell', 38.0), (13811, 'Sell', 38.0), (13812, 'Sell', 38.0), (13813, 'Sell', 38.0), (13814, 'Sell', 38.0), (13815, 'Sell', 38.0), (13816, 'Sell', 38.0), (13817, 'Sell', 38.0), (13818, 'Sell', 38.0), (13819, 'Sell', 38.0), (13820, 'Sell', 38.0), (13821, 'Sell', 38.0), (13822, 'Sell', 38.0), (13823, 'Sell', 38.0), (13824, 'Sell', 38.0), (13825, 'Sell', 38.0), (13826, 'Sell', 38.0), (13855, 'Buy', 37.0), (13856, 'Buy', 37.0), (13857, 'Buy', 37.0), (13868, 'Sell', 56.0), (13869, 'Sell', 56.0), (13870, 'Sell', 56.0), (13871, 'Sell', 56.0), (13872, 'Sell', 56.0), (13873, 'Sell', 56.0), (13874, 'Sell', 56.0), (13875, 'Sell', 56.0), (13876, 'Sell', 56.0), (13877, 'Sell', 56.0), (13878, 'Sell', 56.0), (13879, 'Sell', 56.0), (13880, 'Sell', 56.0), (13881, 'Sell', 56.0), (13882, 'Sell', 56.0), (13883, 'Sell', 56.0), (13884, 'Sell', 56.0), (13885, 'Sell', 56.0), (13886, 'Buy', 38.0), (13887, 'Buy', 38.0), (13888, 'Buy', 38.0), (13889, 'Buy', 38.0), (13890, 'Buy', 38.0), (13891, 'Buy', 38.0), (13892, 'Buy', 38.0), (13893, 'Buy', 38.0), (13894, 'Buy', 38.0), (13895, 'Buy', 38.0), (13896, 'Buy', 38.0), (13897, 'Buy', 38.0), (13898, 'Buy', 38.0), (13899, 'Buy', 38.0), (13900, 'Buy', 38.0), (13901, 'Buy', 38.0), (13902, 'Buy', 38.0), (13903, 'Buy', 38.0), (13904, 'Buy', 38.0), (13905, 'Buy', 38.0), (13906, 'Buy', 38.0), (13907, 'Buy', 38.0), (13908, 'Buy', 38.0), (13909, 'Buy', 38.0), (13910, 'Buy', 38.0), (13911, 'Buy', 38.0), (13912, 'Buy', 38.0), (13913, 'Buy', 38.0), (13953, 'Buy', 6.0), (13954, 'Buy', 6.0), (13955, 'Buy', 6.0), (13956, 'Buy', 6.0), (13957, 'Buy', 6.0), (13958, 'Buy', 6.0), (13959, 'Buy', 6.0), (13960, 'Buy', 6.0), (13961, 'Buy', 6.0), (13962, 'Buy', 6.0), (13963, 'Buy', 6.0), (13964, 'Buy', 6.0), (13965, 'Buy', 6.0), (13966, 'Buy', 6.0), (13967, 'Buy', 6.0), (13968, 'Buy', 6.0), (13969, 'Buy', 6.0), (13970, 'Sell', 38.0), (13971, 'Sell', 38.0), (13972, 'Sell', 38.0), (13973, 'Sell', 38.0), (13974, 'Sell', 38.0), (13975, 'Sell', 38.0), (13976, 'Sell', 38.0), (13977, 'Sell', 38.0), (13978, 'Sell', 38.0), (13979, 'Sell', 38.0), (13980, 'Sell', 38.0), (13981, 'Sell', 38.0), (13982, 'Sell', 38.0), (13983, 'Sell', 38.0), (13984, 'Sell', 38.0), (13985, 'Sell', 38.0), (13986, 'Sell', 38.0), (13987, 'Sell', 38.0), (13988, 'Sell', 38.0), (13989, 'Sell', 38.0), (13990, 'Sell', 38.0), (13991, 'Sell', 38.0), (13992, 'Sell', 38.0), (13993, 'Sell', 38.0), (13994, 'Sell', 38.0), (13995, 'Sell', 38.0), (13996, 'Sell', 38.0), (13997, 'Sell', 38.0), (14037, 'Sell', 56.0), (14038, 'Sell', 56.0), (14039, 'Sell', 56.0), (14040, 'Sell', 56.0), (14041, 'Sell', 56.0), (14042, 'Sell', 56.0), (14043, 'Sell', 56.0), (14044, 'Sell', 56.0), (14045, 'Sell', 56.0), (14046, 'Sell', 56.0), (14047, 'Sell', 56.0), (14048, 'Sell', 56.0), (14049, 'Sell', 56.0), (14050, 'Sell', 56.0), (14051, 'Sell', 56.0), (14052, 'Sell', 56.0), (14053, 'Sell', 56.0), (14054, 'Buy', 38.0), (14055, 'Buy', 38.0), (14056, 'Buy', 38.0), (14057, 'Buy', 38.0), (14058, 'Buy', 38.0), (14059, 'Buy', 38.0), (14060, 'Buy', 38.0), (14061, 'Buy', 38.0), (14062, 'Buy', 38.0), (14063, 'Buy', 38.0), (14064, 'Buy', 38.0), (14065, 'Buy', 38.0), (14066, 'Buy', 38.0), (14067, 'Buy', 38.0), (14068, 'Buy', 38.0), (14069, 'Buy', 38.0), (14070, 'Buy', 38.0), (14071, 'Buy', 38.0), (14072, 'Buy', 38.0), (14073, 'Buy', 38.0), (14074, 'Buy', 38.0), (14075, 'Buy', 38.0), (14076, 'Buy', 38.0), (14077, 'Buy', 38.0), (14078, 'Buy', 38.0), (14079, 'Buy', 38.0), (14080, 'Buy', 38.0), (14081, 'Buy', 38.0)]\n",
      "Mean Reversion Trader, ma=29 threshold=1 ----- ROI=697.7075471698114%\n"
     ]
    }
   ],
   "source": [
    "# Initial capital and shares we will use for the backtest. \n",
    "init_capital = 100000\n",
    "init_shares = 1000\n",
    "\n",
    "# Set up trading algorithm parameters.\n",
    "num_shares = 10\n",
    "moving_average = 29\n",
    "threshold = 1\n",
    "\n",
    "# Set up mean reversion trader (Note: we set the trader parameter to None since we are offline.)\n",
    "trader = None\n",
    "mrt = meanReversionTrader(trader, [symbol])\n",
    "\n",
    "# Run the backtest.\n",
    "roi, action_list = mrt.backtest(symbol_historical_trades_df,\n",
    "             num_shares, \n",
    "             init_capital, \n",
    "             init_shares, \n",
    "             ma=moving_average, \n",
    "             threshold=threshold)\n",
    "\n",
    "print(action_list)\n",
    "print(\"Mean Reversion Trader, ma={ma} threshold={threshold} ----- ROI={roi}%\".format(\n",
    "    ma=moving_average, threshold=threshold, roi=roi))"
   ]
  },
  {
   "cell_type": "markdown",
   "metadata": {},
   "source": [
    "# 2. Connect to Live Exchange"
   ]
  },
  {
   "cell_type": "markdown",
   "metadata": {},
   "source": [
    "We will set up a connection to CloudEx which can be established at any time during trading hours. Let's see how we can connect and query for our historical order information."
   ]
  },
  {
   "cell_type": "markdown",
   "metadata": {},
   "source": [
    "## 2.1 Create Trader Object"
   ]
  },
  {
   "cell_type": "markdown",
   "metadata": {},
   "source": [
    "This object will instantiate a connection to a gateway in CloudEx. This Gateway will relay order to the matching engine and market data to your client.\n",
    "\n",
    "**Arguments to `Trader` constructor:**\n",
    "- gateway_ip `str` - The IP address for the gateway assigned to you\n",
    "- client_id `str` - Your client identifier\n",
    "- client_token `str` - Your client token"
   ]
  },
  {
   "cell_type": "code",
   "execution_count": 8,
   "metadata": {},
   "outputs": [],
   "source": [
    "# Get relevant fields from VM-specific config. Token is yours only, so don't make it public.\n",
    "gateway_ip = config[\"gateway_ip\"]\n",
    "client_id = config[\"client_id\"]\n",
    "client_token = config[\"client_token\"]\n",
    "\n",
    "# Clear any existing data locally.\n",
    "redis_api = redis.Redis()\n",
    "redis_api.flushall();\n",
    "\n",
    "# Create trader object.\n",
    "trader = cloud_ex.Trader(gateway_ip, client_id, client_token)"
   ]
  },
  {
   "cell_type": "markdown",
   "metadata": {},
   "source": [
    "## 2.2 Get My Outstanding and Historical Orders"
   ]
  },
  {
   "cell_type": "code",
   "execution_count": 9,
   "metadata": {},
   "outputs": [
    {
     "name": "stdout",
     "output_type": "stream",
     "text": [
      "You have 0 outstanding orders.\n",
      "You have submitted a total of 0 order(s).\n"
     ]
    },
    {
     "data": {
      "text/html": [
       "<div>\n",
       "<style scoped>\n",
       "    .dataframe tbody tr th:only-of-type {\n",
       "        vertical-align: middle;\n",
       "    }\n",
       "\n",
       "    .dataframe tbody tr th {\n",
       "        vertical-align: top;\n",
       "    }\n",
       "\n",
       "    .dataframe thead th {\n",
       "        text-align: right;\n",
       "    }\n",
       "</style>\n",
       "<table border=\"1\" class=\"dataframe\">\n",
       "  <thead>\n",
       "    <tr style=\"text-align: right;\">\n",
       "      <th></th>\n",
       "      <th>Symbol</th>\n",
       "      <th>OrderID</th>\n",
       "      <th>CancelID</th>\n",
       "      <th>ClientID</th>\n",
       "      <th>OrderType</th>\n",
       "      <th>OrderAction</th>\n",
       "      <th>SubmitTimestamp</th>\n",
       "      <th>GatewayTimestamp</th>\n",
       "      <th>EnqueueTimestamp</th>\n",
       "      <th>DequeueTimestamp</th>\n",
       "      <th>OrderSerialNum</th>\n",
       "      <th>LimitPrice</th>\n",
       "      <th>ResultType</th>\n",
       "      <th>NumShares</th>\n",
       "    </tr>\n",
       "  </thead>\n",
       "  <tbody>\n",
       "  </tbody>\n",
       "</table>\n",
       "</div>"
      ],
      "text/plain": [
       "Empty DataFrame\n",
       "Columns: [Symbol, OrderID, CancelID, ClientID, OrderType, OrderAction, SubmitTimestamp, GatewayTimestamp, EnqueueTimestamp, DequeueTimestamp, OrderSerialNum, LimitPrice, ResultType, NumShares]\n",
       "Index: []"
      ]
     },
     "execution_count": 9,
     "metadata": {},
     "output_type": "execute_result"
    }
   ],
   "source": [
    "# Get outstanding orders.\n",
    "outstanding_orders = cloud_ex.MapStringOrder()\n",
    "trader.GetOutstandingOrders(outstanding_orders)\n",
    "\n",
    "print(\"You have {} outstanding orders.\".format(len(outstanding_orders)))\n",
    "\n",
    "# Transform outstanding orders into a DataFrame\n",
    "outstanding_orders = OutstandingOrderDF(outstanding_orders)\n",
    "outstanding_orders\n",
    "\n",
    "\n",
    "# Get my historical orders (max of 100,000 historical orders).\n",
    "my_historical_orders = cloud_ex.VectorOrder()\n",
    "\n",
    "trader.GetAllHistoricalOrders(my_historical_orders)\n",
    "print(\"You have submitted a total of {} order(s).\".format(len(my_historical_orders)))\n",
    "my_historical_orders_df = OrderDF(my_historical_orders)\n",
    "\n",
    "my_historical_orders_df"
   ]
  },
  {
   "cell_type": "markdown",
   "metadata": {},
   "source": [
    "## 2.3 Get My Historical Trades"
   ]
  },
  {
   "cell_type": "code",
   "execution_count": 10,
   "metadata": {},
   "outputs": [
    {
     "name": "stdout",
     "output_type": "stream",
     "text": [
      "You have made a total of 0 trade(s).\n"
     ]
    },
    {
     "data": {
      "text/html": [
       "<div>\n",
       "<style scoped>\n",
       "    .dataframe tbody tr th:only-of-type {\n",
       "        vertical-align: middle;\n",
       "    }\n",
       "\n",
       "    .dataframe tbody tr th {\n",
       "        vertical-align: top;\n",
       "    }\n",
       "\n",
       "    .dataframe thead th {\n",
       "        text-align: right;\n",
       "    }\n",
       "</style>\n",
       "<table border=\"1\" class=\"dataframe\">\n",
       "  <thead>\n",
       "    <tr style=\"text-align: right;\">\n",
       "      <th></th>\n",
       "      <th>Symbol</th>\n",
       "      <th>BuyerSerialNum</th>\n",
       "      <th>SellerSerialNum</th>\n",
       "      <th>BuyerOrderID</th>\n",
       "      <th>SellerOrderID</th>\n",
       "      <th>BuyerClientID</th>\n",
       "      <th>SellerClientID</th>\n",
       "      <th>ExecPrice</th>\n",
       "      <th>CashTraded</th>\n",
       "      <th>SharesTraded</th>\n",
       "      <th>CreationTimestamp</th>\n",
       "      <th>ReleaseTimestamp</th>\n",
       "      <th>TradeSerialNum</th>\n",
       "    </tr>\n",
       "  </thead>\n",
       "  <tbody>\n",
       "  </tbody>\n",
       "</table>\n",
       "</div>"
      ],
      "text/plain": [
       "Empty DataFrame\n",
       "Columns: [Symbol, BuyerSerialNum, SellerSerialNum, BuyerOrderID, SellerOrderID, BuyerClientID, SellerClientID, ExecPrice, CashTraded, SharesTraded, CreationTimestamp, ReleaseTimestamp, TradeSerialNum]\n",
       "Index: []"
      ]
     },
     "execution_count": 10,
     "metadata": {},
     "output_type": "execute_result"
    }
   ],
   "source": [
    "# Get all my historical trades (max of 100,000 historical trades)\n",
    "my_historical_trades = cloud_ex.VectorTrade()\n",
    "\n",
    "trader.GetAllHistoricalTrades(my_historical_trades)\n",
    "print(\"You have made a total of {} trade(s).\".format(len(my_historical_trades)))\n",
    "my_historical_trades_df = TradeDF(my_historical_trades)\n",
    "\n",
    "my_historical_trades_df"
   ]
  },
  {
   "cell_type": "markdown",
   "metadata": {},
   "source": [
    "## 2.4 Get My Portfolio Matrix"
   ]
  },
  {
   "cell_type": "code",
   "execution_count": 11,
   "metadata": {},
   "outputs": [
    {
     "name": "stdout",
     "output_type": "stream",
     "text": [
      "MapStringInt{AA: 10000, AB: 10000, AC: 10000, AD: 10000, AE: 10000, AF: 10000, AG: 10000, AH: 10000, AI: 10000, AJ: 10000, AK: 10000, AL: 10000, AM: 10000, AN: 10000, AO: 10000, AP: 10000, AQ: 10000, AR: 10000, AS: 10000, AT: 10000, AU: 10000, AV: 10000, AW: 10000, AX: 10000, AY: 10000, AZ: 10000, BA: 10000, BB: 10000, BC: 10000, BD: 10000, BE: 10000, BF: 10000, BG: 10000, BH: 10000, BI: 10000, BJ: 10000, BK: 10000, BL: 10000, BM: 10000, BN: 10000, BO: 10000, BP: 10000, BQ: 10000, BR: 10000, BS: 10000, BT: 10000, BU: 10000, BV: 10000, BW: 10000, BX: 10000, BY: 10000, BZ: 10000, CA: 10000, CASH: 50000000, CB: 10000, CC: 10000, CD: 10000, CE: 10000, CF: 10000, CG: 10000, CH: 10000, CI: 10000, CJ: 10000, CK: 10000, CL: 10000, CM: 10000, CN: 10000, CO: 10000, CP: 10000, CQ: 10000, CR: 10000, CS: 10000, CT: 10000, CU: 10000, CV: 10000, CW: 10000, CX: 10000, CY: 10000, CZ: 10000, DA: 10000, DB: 10000, DC: 10000, DD: 10000, DE: 10000, DF: 10000, DG: 10000, DH: 10000, DI: 10000, DJ: 10000, DK: 10000, DL: 10000, DM: 10000, DN: 10000, DO: 10000, DP: 10000, DQ: 10000, DR: 10000, DS: 10000, DT: 10000, DU: 10000, DV: 10000}\n"
     ]
    }
   ],
   "source": [
    "portfolio_mat = cloud_ex.MapStringInt()\n",
    "\n",
    "trader.GetPortfolioMatrix(portfolio_mat)\n",
    "\n",
    "print(portfolio_mat)"
   ]
  },
  {
   "cell_type": "markdown",
   "metadata": {},
   "source": [
    "# 3. Run Trading Algorithm in Live Environment"
   ]
  },
  {
   "cell_type": "markdown",
   "metadata": {},
   "source": [
    "Now that we have an algorithmic trader that we evaluated on historical data, let's see how we can place trades on CloudEx using the mean reversion trader we set up in the section 2."
   ]
  },
  {
   "cell_type": "markdown",
   "metadata": {},
   "source": [
    "## 3.1 Create and Start Mean Reversion Trader"
   ]
  },
  {
   "cell_type": "markdown",
   "metadata": {},
   "source": [
    "First, we will create a mean reversion trader.\n",
    "Once created the trader will pull data from CloudEx, process the data\n",
    "and lastly place buy or sell orders.\n",
    "\n",
    "The `meanReversionTrader` object is created with the following parameters:\n",
    "- trader `cloud_ex.Trader`: The CloudEx base trader object \n",
    "- symbol_list `List(str)`: A list of symbols whose market data we would like to subscribe to\n",
    "\n",
    "We then invoke the trading loop with the following arguments\n",
    "- symbol `str` - The symbol we would like to trade\n",
    "- num_shares `int` - Number of shares to buy/sell per order\n",
    "- num_orders `int` - Number of total orders to place \n",
    "- wait_interval `float` - Time to wait between placing orders (s) \n",
    "- ma `int` - Number of steps in the moving average window \n",
    "- threshold `float` - % above or below the moving average at which we will place orders \n",
    "\n",
    "When you have the above information, you can run the order loop using the `meanReversionTrader.trade` function."
   ]
  },
  {
   "cell_type": "code",
   "execution_count": null,
   "metadata": {},
   "outputs": [],
   "source": [
    "class meanReversionTrader(AlgorithmicTrader):\n",
    "    def __init__(self, trader, symbol_list, bin_interval_ms=500):\n",
    "        \"\"\"\n",
    "        Mean Reversion Trader Class.\n",
    "\n",
    "        :param trader(cloud_ex.Trader): CloudEx's base Trader object.\n",
    "        :param symbol_list: List of ticker symbols (str) to fetch data for.\n",
    "        :param bin_interval_ms: Frequency with which to bin trading data in milliseconds (int).\n",
    "        \"\"\"\n",
    "        # Initialize AlgorithmicTrader.\n",
    "        AlgorithmicTrader.__init__(self, trader, symbol_list, bin_interval_ms=bin_interval_ms)\n",
    "\n",
    "    def algorithm(self, df, **kwargs):\n",
    "        \"\"\" \n",
    "        Calculate buy sell points for an equity.\n",
    "        A buy is triggered when the moving average is threshold% below the price.\n",
    "        A sell is triggered when the moving average is threshold% above the price.\n",
    "        For this implementation we evaluate the stock price at the close of each bin_interval_ms time interval.\n",
    "\n",
    "        :param df: Dataframes with prices for an equity (pd.DataFrame).\n",
    "        Mean reversion specific arguments:\n",
    "          :param ma: Number of bins to consider in the moving average (int).\n",
    "          :param threshold: Amount ma is below/above price (as a percentage) for which to buy/sell (float).\n",
    "\n",
    "        Returns: \n",
    "            An (action, price) pair.\n",
    "            \n",
    "            'action' is None when no action is determined to be taken. This happens either when we do not have enough\n",
    "            data to build a moving average estimate or if the price is within a small threshold above/below\n",
    "            the moving average. In this case, 'price' is also None.\n",
    "\n",
    "            'action' is 'Buy' when the price rises above the threshold defined for the moving average. \n",
    "                The buy price is set to the most recent closing price.\n",
    "                \n",
    "            'action' is 'Sell' when the price drops below the threshold defined for the moving average. \n",
    "                The sell price is set to the most recent closing price.\n",
    "        \"\"\"\n",
    "        # Unpack keyword arguments.\n",
    "        ma = kwargs['ma']\n",
    "        threshold = kwargs['threshold']\n",
    "        \n",
    "        # Handle case when data not available to build moving average.\n",
    "        if len(df) < ma:\n",
    "            return None, None\n",
    "        \n",
    "        # Select the last ma rows from our dataframe for processing.\n",
    "        df = df.iloc[-1*ma:]\n",
    "\n",
    "        df['MA'] = df['ClosePrice'].rolling(ma).mean()\n",
    "        row = df.iloc[-1]\n",
    "\n",
    "        # Check if moving average price is defined.\n",
    "        # This value will be undefined for the first `ma` steps.\n",
    "        if np.isnan(row['MA']):\n",
    "            return None, None\n",
    "\n",
    "        buy_cutoff = (1.0 - threshold / 100.0) * row['MA']\n",
    "        sell_cutoff = (1.0 + threshold / 100.0) * row['MA']\n",
    "        p_s = row['ClosePrice']\n",
    "        if p_s <= buy_cutoff:\n",
    "            return 'Buy', p_s\n",
    "        elif p_s >= sell_cutoff:\n",
    "            return 'Sell', p_s\n",
    "        else:\n",
    "            return None, None"
   ]
  },
  {
   "cell_type": "code",
   "execution_count": 13,
   "metadata": {},
   "outputs": [
    {
     "name": "stdout",
     "output_type": "stream",
     "text": [
      "no new trades\n",
      "Did not submit an order in this iteration.\n",
      "no new trades\n",
      "Did not submit an order in this iteration.\n",
      "no new trades\n",
      "Did not submit an order in this iteration.\n",
      "no new trades\n",
      "Did not submit an order in this iteration.\n",
      "no new trades\n",
      "Did not submit an order in this iteration.\n",
      "2 new trades\n",
      "Did not submit an order in this iteration.\n",
      "2 new trades\n",
      "Did not submit an order in this iteration.\n",
      "no new trades\n",
      "Did not submit an order in this iteration.\n",
      "1 new trades\n",
      "Did not submit an order in this iteration.\n",
      "no new trades\n",
      "Did not submit an order in this iteration.\n",
      "3 new trades\n",
      "Did not submit an order in this iteration.\n",
      "no new trades\n",
      "Did not submit an order in this iteration.\n",
      "no new trades\n",
      "Did not submit an order in this iteration.\n",
      "2 new trades\n",
      "Did not submit an order in this iteration.\n",
      "no new trades\n",
      "Did not submit an order in this iteration.\n",
      "2 new trades\n",
      "Did not submit an order in this iteration.\n",
      "no new trades\n",
      "Did not submit an order in this iteration.\n",
      "no new trades\n",
      "Did not submit an order in this iteration.\n",
      "2 new trades\n",
      "Did not submit an order in this iteration.\n",
      "no new trades\n",
      "Did not submit an order in this iteration.\n",
      "no new trades\n",
      "Did not submit an order in this iteration.\n",
      "2 new trades\n",
      "Did not submit an order in this iteration.\n",
      "no new trades\n",
      "Did not submit an order in this iteration.\n",
      "2 new trades\n",
      "Did not submit an order in this iteration.\n",
      "no new trades\n",
      "Did not submit an order in this iteration.\n",
      "2 new trades\n",
      "Did not submit an order in this iteration.\n",
      "no new trades\n",
      "Did not submit an order in this iteration.\n",
      "2 new trades\n",
      "Did not submit an order in this iteration.\n",
      "no new trades\n",
      "Did not submit an order in this iteration.\n",
      "2 new trades\n",
      "Did not submit an order in this iteration.\n",
      "no new trades\n",
      "Did not submit an order in this iteration.\n",
      "no new trades\n",
      "Did not submit an order in this iteration.\n",
      "2 new trades\n"
     ]
    },
    {
     "name": "stderr",
     "output_type": "stream",
     "text": [
      "Placing trade, symbol= AA  price= 38.0  submit_num_shares= 100  buy= False\n"
     ]
    },
    {
     "name": "stdout",
     "output_type": "stream",
     "text": [
      "1 new trades\n"
     ]
    },
    {
     "name": "stderr",
     "output_type": "stream",
     "text": [
      "Placing trade, symbol= AA  price= 38.0  submit_num_shares= 100  buy= False\n"
     ]
    },
    {
     "name": "stdout",
     "output_type": "stream",
     "text": [
      "1 new trades\n"
     ]
    },
    {
     "name": "stderr",
     "output_type": "stream",
     "text": [
      "Placing trade, symbol= AA  price= 38.0  submit_num_shares= 100  buy= False\n"
     ]
    },
    {
     "name": "stdout",
     "output_type": "stream",
     "text": [
      "3 new trades\n"
     ]
    },
    {
     "name": "stderr",
     "output_type": "stream",
     "text": [
      "Placing trade, symbol= AA  price= 38.0  submit_num_shares= 100  buy= False\n"
     ]
    },
    {
     "name": "stdout",
     "output_type": "stream",
     "text": [
      "1 new trades\n"
     ]
    },
    {
     "name": "stderr",
     "output_type": "stream",
     "text": [
      "Placing trade, symbol= AA  price= 38.0  submit_num_shares= 100  buy= False\n"
     ]
    },
    {
     "name": "stdout",
     "output_type": "stream",
     "text": [
      "3 new trades\n"
     ]
    },
    {
     "name": "stderr",
     "output_type": "stream",
     "text": [
      "Placing trade, symbol= AA  price= 38.0  submit_num_shares= 100  buy= False\n"
     ]
    },
    {
     "name": "stdout",
     "output_type": "stream",
     "text": [
      "1 new trades\n"
     ]
    },
    {
     "name": "stderr",
     "output_type": "stream",
     "text": [
      "Placing trade, symbol= AA  price= 38.0  submit_num_shares= 100  buy= False\n"
     ]
    },
    {
     "name": "stdout",
     "output_type": "stream",
     "text": [
      "3 new trades\n"
     ]
    },
    {
     "name": "stderr",
     "output_type": "stream",
     "text": [
      "Placing trade, symbol= AA  price= 38.0  submit_num_shares= 100  buy= False\n"
     ]
    },
    {
     "name": "stdout",
     "output_type": "stream",
     "text": [
      "1 new trades\n",
      "Did not submit an order in this iteration.\n",
      "2 new trades\n",
      "Did not submit an order in this iteration.\n",
      "no new trades\n",
      "Did not submit an order in this iteration.\n",
      "2 new trades\n",
      "Did not submit an order in this iteration.\n",
      "no new trades\n",
      "Did not submit an order in this iteration.\n",
      "no new trades\n",
      "Did not submit an order in this iteration.\n",
      "2 new trades\n",
      "Did not submit an order in this iteration.\n",
      "no new trades\n",
      "Did not submit an order in this iteration.\n",
      "2 new trades\n",
      "Did not submit an order in this iteration.\n",
      "no new trades\n",
      "Did not submit an order in this iteration.\n",
      "no new trades\n",
      "Did not submit an order in this iteration.\n",
      "2 new trades\n",
      "Did not submit an order in this iteration.\n",
      "no new trades\n",
      "Did not submit an order in this iteration.\n",
      "2 new trades\n",
      "Did not submit an order in this iteration.\n",
      "no new trades\n",
      "Did not submit an order in this iteration.\n",
      "2 new trades\n",
      "Did not submit an order in this iteration.\n",
      "no new trades\n",
      "Did not submit an order in this iteration.\n",
      "2 new trades\n",
      "Did not submit an order in this iteration.\n",
      "no new trades\n",
      "Did not submit an order in this iteration.\n",
      "2 new trades\n",
      "Did not submit an order in this iteration.\n",
      "no new trades\n",
      "Did not submit an order in this iteration.\n",
      "no new trades\n",
      "Did not submit an order in this iteration.\n",
      "2 new trades\n",
      "Did not submit an order in this iteration.\n",
      "no new trades\n",
      "Did not submit an order in this iteration.\n",
      "2 new trades\n",
      "Did not submit an order in this iteration.\n",
      "no new trades\n",
      "Did not submit an order in this iteration.\n",
      "no new trades\n",
      "Did not submit an order in this iteration.\n",
      "2 new trades\n",
      "Did not submit an order in this iteration.\n",
      "no new trades\n",
      "Did not submit an order in this iteration.\n",
      "no new trades\n",
      "Did not submit an order in this iteration.\n",
      "2 new trades\n",
      "Did not submit an order in this iteration.\n",
      "no new trades\n",
      "Did not submit an order in this iteration.\n",
      "2 new trades\n",
      "Did not submit an order in this iteration.\n",
      "no new trades\n",
      "Did not submit an order in this iteration.\n",
      "2 new trades\n",
      "Did not submit an order in this iteration.\n",
      "no new trades\n",
      "Did not submit an order in this iteration.\n",
      "2 new trades\n",
      "Did not submit an order in this iteration.\n",
      "no new trades\n",
      "Did not submit an order in this iteration.\n",
      "2 new trades\n"
     ]
    },
    {
     "name": "stderr",
     "output_type": "stream",
     "text": [
      "Placing trade, symbol= AA  price= 56.0  submit_num_shares= 100  buy= False\n"
     ]
    },
    {
     "name": "stdout",
     "output_type": "stream",
     "text": [
      "1 new trades\n"
     ]
    },
    {
     "name": "stderr",
     "output_type": "stream",
     "text": [
      "Placing trade, symbol= AA  price= 56.0  submit_num_shares= 100  buy= False\n"
     ]
    },
    {
     "name": "stdout",
     "output_type": "stream",
     "text": [
      "1 new trades\n"
     ]
    },
    {
     "name": "stderr",
     "output_type": "stream",
     "text": [
      "Placing trade, symbol= AA  price= 56.0  submit_num_shares= 100  buy= False\n"
     ]
    },
    {
     "name": "stdout",
     "output_type": "stream",
     "text": [
      "3 new trades\n"
     ]
    },
    {
     "name": "stderr",
     "output_type": "stream",
     "text": [
      "Placing trade, symbol= AA  price= 56.0  submit_num_shares= 100  buy= False\n"
     ]
    },
    {
     "name": "stdout",
     "output_type": "stream",
     "text": [
      "1 new trades\n"
     ]
    },
    {
     "name": "stderr",
     "output_type": "stream",
     "text": [
      "Placing trade, symbol= AA  price= 56.0  submit_num_shares= 100  buy= False\n"
     ]
    },
    {
     "name": "stdout",
     "output_type": "stream",
     "text": [
      "3 new trades\n"
     ]
    },
    {
     "name": "stderr",
     "output_type": "stream",
     "text": [
      "Placing trade, symbol= AA  price= 56.0  submit_num_shares= 100  buy= False\n"
     ]
    },
    {
     "name": "stdout",
     "output_type": "stream",
     "text": [
      "1 new trades\n"
     ]
    },
    {
     "name": "stderr",
     "output_type": "stream",
     "text": [
      "Placing trade, symbol= AA  price= 56.0  submit_num_shares= 100  buy= False\n"
     ]
    },
    {
     "name": "stdout",
     "output_type": "stream",
     "text": [
      "3 new trades\n"
     ]
    },
    {
     "name": "stderr",
     "output_type": "stream",
     "text": [
      "Placing trade, symbol= AA  price= 56.0  submit_num_shares= 100  buy= False\n"
     ]
    },
    {
     "name": "stdout",
     "output_type": "stream",
     "text": [
      "1 new trades\n"
     ]
    },
    {
     "name": "stderr",
     "output_type": "stream",
     "text": [
      "Placing trade, symbol= AA  price= 56.0  submit_num_shares= 100  buy= False\n"
     ]
    },
    {
     "name": "stdout",
     "output_type": "stream",
     "text": [
      "1 new trades\n"
     ]
    },
    {
     "name": "stderr",
     "output_type": "stream",
     "text": [
      "Placing trade, symbol= AA  price= 56.0  submit_num_shares= 100  buy= False\n"
     ]
    },
    {
     "name": "stdout",
     "output_type": "stream",
     "text": [
      "3 new trades\n"
     ]
    },
    {
     "name": "stderr",
     "output_type": "stream",
     "text": [
      "Placing trade, symbol= AA  price= 56.0  submit_num_shares= 100  buy= False\n"
     ]
    },
    {
     "name": "stdout",
     "output_type": "stream",
     "text": [
      "1 new trades\n"
     ]
    },
    {
     "name": "stderr",
     "output_type": "stream",
     "text": [
      "Placing trade, symbol= AA  price= 56.0  submit_num_shares= 100  buy= False\n"
     ]
    },
    {
     "name": "stdout",
     "output_type": "stream",
     "text": [
      "1 new trades\n"
     ]
    },
    {
     "name": "stderr",
     "output_type": "stream",
     "text": [
      "Placing trade, symbol= AA  price= 56.0  submit_num_shares= 100  buy= False\n"
     ]
    },
    {
     "name": "stdout",
     "output_type": "stream",
     "text": [
      "3 new trades\n"
     ]
    },
    {
     "name": "stderr",
     "output_type": "stream",
     "text": [
      "Placing trade, symbol= AA  price= 56.0  submit_num_shares= 100  buy= False\n"
     ]
    },
    {
     "name": "stdout",
     "output_type": "stream",
     "text": [
      "1 new trades\n"
     ]
    },
    {
     "name": "stderr",
     "output_type": "stream",
     "text": [
      "Placing trade, symbol= AA  price= 56.0  submit_num_shares= 100  buy= False\n"
     ]
    },
    {
     "name": "stdout",
     "output_type": "stream",
     "text": [
      "3 new trades\n"
     ]
    },
    {
     "name": "stderr",
     "output_type": "stream",
     "text": [
      "Placing trade, symbol= AA  price= 56.0  submit_num_shares= 100  buy= False\n"
     ]
    },
    {
     "name": "stdout",
     "output_type": "stream",
     "text": [
      "1 new trades\n"
     ]
    },
    {
     "name": "stderr",
     "output_type": "stream",
     "text": [
      "Placing trade, symbol= AA  price= 56.0  submit_num_shares= 100  buy= False\n"
     ]
    },
    {
     "name": "stdout",
     "output_type": "stream",
     "text": [
      "3 new trades\n"
     ]
    },
    {
     "name": "stderr",
     "output_type": "stream",
     "text": [
      "Placing trade, symbol= AA  price= 38.0  submit_num_shares= 100  buy= True\n"
     ]
    },
    {
     "name": "stdout",
     "output_type": "stream",
     "text": [
      "no new trades\n"
     ]
    },
    {
     "name": "stderr",
     "output_type": "stream",
     "text": [
      "Placing trade, symbol= AA  price= 38.0  submit_num_shares= 100  buy= True\n"
     ]
    },
    {
     "name": "stdout",
     "output_type": "stream",
     "text": [
      "no new trades\n"
     ]
    },
    {
     "name": "stderr",
     "output_type": "stream",
     "text": [
      "Placing trade, symbol= AA  price= 38.0  submit_num_shares= 100  buy= True\n"
     ]
    },
    {
     "name": "stdout",
     "output_type": "stream",
     "text": [
      "2 new trades\n"
     ]
    },
    {
     "name": "stderr",
     "output_type": "stream",
     "text": [
      "Placing trade, symbol= AA  price= 38.0  submit_num_shares= 100  buy= True\n"
     ]
    },
    {
     "name": "stdout",
     "output_type": "stream",
     "text": [
      "no new trades\n"
     ]
    },
    {
     "name": "stderr",
     "output_type": "stream",
     "text": [
      "Placing trade, symbol= AA  price= 38.0  submit_num_shares= 100  buy= True\n"
     ]
    },
    {
     "name": "stdout",
     "output_type": "stream",
     "text": [
      "2 new trades\n"
     ]
    },
    {
     "name": "stderr",
     "output_type": "stream",
     "text": [
      "Placing trade, symbol= AA  price= 38.0  submit_num_shares= 100  buy= True\n"
     ]
    },
    {
     "name": "stdout",
     "output_type": "stream",
     "text": [
      "no new trades\n"
     ]
    },
    {
     "name": "stderr",
     "output_type": "stream",
     "text": [
      "Placing trade, symbol= AA  price= 38.0  submit_num_shares= 100  buy= True\n"
     ]
    },
    {
     "name": "stdout",
     "output_type": "stream",
     "text": [
      "no new trades\n"
     ]
    },
    {
     "name": "stderr",
     "output_type": "stream",
     "text": [
      "Placing trade, symbol= AA  price= 38.0  submit_num_shares= 100  buy= True\n"
     ]
    },
    {
     "name": "stdout",
     "output_type": "stream",
     "text": [
      "2 new trades\n"
     ]
    },
    {
     "name": "stderr",
     "output_type": "stream",
     "text": [
      "Placing trade, symbol= AA  price= 38.0  submit_num_shares= 100  buy= True\n"
     ]
    },
    {
     "name": "stdout",
     "output_type": "stream",
     "text": [
      "no new trades\n"
     ]
    },
    {
     "name": "stderr",
     "output_type": "stream",
     "text": [
      "Placing trade, symbol= AA  price= 38.0  submit_num_shares= 100  buy= True\n"
     ]
    },
    {
     "name": "stdout",
     "output_type": "stream",
     "text": [
      "2 new trades\n"
     ]
    },
    {
     "name": "stderr",
     "output_type": "stream",
     "text": [
      "Placing trade, symbol= AA  price= 38.0  submit_num_shares= 100  buy= True\n"
     ]
    },
    {
     "name": "stdout",
     "output_type": "stream",
     "text": [
      "no new trades\n"
     ]
    },
    {
     "name": "stderr",
     "output_type": "stream",
     "text": [
      "Placing trade, symbol= AA  price= 38.0  submit_num_shares= 100  buy= True\n"
     ]
    },
    {
     "name": "stdout",
     "output_type": "stream",
     "text": [
      "2 new trades\n"
     ]
    },
    {
     "name": "stderr",
     "output_type": "stream",
     "text": [
      "Placing trade, symbol= AA  price= 38.0  submit_num_shares= 100  buy= True\n"
     ]
    },
    {
     "name": "stdout",
     "output_type": "stream",
     "text": [
      "no new trades\n"
     ]
    },
    {
     "name": "stderr",
     "output_type": "stream",
     "text": [
      "Placing trade, symbol= AA  price= 38.0  submit_num_shares= 100  buy= True\n"
     ]
    },
    {
     "name": "stdout",
     "output_type": "stream",
     "text": [
      "3 new trades\n"
     ]
    },
    {
     "name": "stderr",
     "output_type": "stream",
     "text": [
      "Placing trade, symbol= AA  price= 38.0  submit_num_shares= 100  buy= True\n"
     ]
    },
    {
     "name": "stdout",
     "output_type": "stream",
     "text": [
      "no new trades\n"
     ]
    },
    {
     "name": "stderr",
     "output_type": "stream",
     "text": [
      "Placing trade, symbol= AA  price= 38.0  submit_num_shares= 100  buy= True\n"
     ]
    },
    {
     "name": "stdout",
     "output_type": "stream",
     "text": [
      "2 new trades\n"
     ]
    },
    {
     "name": "stderr",
     "output_type": "stream",
     "text": [
      "Placing trade, symbol= AA  price= 38.0  submit_num_shares= 100  buy= True\n"
     ]
    },
    {
     "name": "stdout",
     "output_type": "stream",
     "text": [
      "no new trades\n"
     ]
    },
    {
     "name": "stderr",
     "output_type": "stream",
     "text": [
      "Placing trade, symbol= AA  price= 38.0  submit_num_shares= 100  buy= True\n"
     ]
    },
    {
     "name": "stdout",
     "output_type": "stream",
     "text": [
      "no new trades\n"
     ]
    },
    {
     "name": "stderr",
     "output_type": "stream",
     "text": [
      "Placing trade, symbol= AA  price= 38.0  submit_num_shares= 100  buy= True\n"
     ]
    },
    {
     "name": "stdout",
     "output_type": "stream",
     "text": [
      "2 new trades\n"
     ]
    },
    {
     "name": "stderr",
     "output_type": "stream",
     "text": [
      "Placing trade, symbol= AA  price= 38.0  submit_num_shares= 100  buy= True\n"
     ]
    },
    {
     "name": "stdout",
     "output_type": "stream",
     "text": [
      "no new trades\n"
     ]
    },
    {
     "name": "stderr",
     "output_type": "stream",
     "text": [
      "Placing trade, symbol= AA  price= 38.0  submit_num_shares= 100  buy= True\n"
     ]
    },
    {
     "name": "stdout",
     "output_type": "stream",
     "text": [
      "2 new trades\n"
     ]
    },
    {
     "name": "stderr",
     "output_type": "stream",
     "text": [
      "Placing trade, symbol= AA  price= 38.0  submit_num_shares= 100  buy= True\n"
     ]
    },
    {
     "name": "stdout",
     "output_type": "stream",
     "text": [
      "no new trades\n"
     ]
    },
    {
     "name": "stderr",
     "output_type": "stream",
     "text": [
      "Placing trade, symbol= AA  price= 38.0  submit_num_shares= 100  buy= True\n"
     ]
    },
    {
     "name": "stdout",
     "output_type": "stream",
     "text": [
      "no new trades\n"
     ]
    },
    {
     "name": "stderr",
     "output_type": "stream",
     "text": [
      "Placing trade, symbol= AA  price= 38.0  submit_num_shares= 100  buy= True\n"
     ]
    },
    {
     "name": "stdout",
     "output_type": "stream",
     "text": [
      "2 new trades\n"
     ]
    },
    {
     "name": "stderr",
     "output_type": "stream",
     "text": [
      "Placing trade, symbol= AA  price= 38.0  submit_num_shares= 100  buy= True\n"
     ]
    },
    {
     "name": "stdout",
     "output_type": "stream",
     "text": [
      "no new trades\n"
     ]
    },
    {
     "name": "stderr",
     "output_type": "stream",
     "text": [
      "Placing trade, symbol= AA  price= 38.0  submit_num_shares= 100  buy= True\n"
     ]
    },
    {
     "name": "stdout",
     "output_type": "stream",
     "text": [
      "2 new trades\n",
      "Did not submit an order in this iteration.\n",
      "no new trades\n",
      "Did not submit an order in this iteration.\n",
      "2 new trades\n",
      "Did not submit an order in this iteration.\n",
      "no new trades\n",
      "Did not submit an order in this iteration.\n",
      "2 new trades\n",
      "Did not submit an order in this iteration.\n",
      "no new trades\n",
      "Did not submit an order in this iteration.\n",
      "2 new trades\n",
      "Did not submit an order in this iteration.\n",
      "no new trades\n",
      "Did not submit an order in this iteration.\n",
      "2 new trades\n",
      "Did not submit an order in this iteration.\n",
      "no new trades\n",
      "Did not submit an order in this iteration.\n",
      "no new trades\n",
      "Did not submit an order in this iteration.\n",
      "2 new trades\n",
      "Did not submit an order in this iteration.\n",
      "2 new trades\n",
      "Did not submit an order in this iteration.\n",
      "no new trades\n",
      "Did not submit an order in this iteration.\n",
      "2 new trades\n",
      "Did not submit an order in this iteration.\n",
      "no new trades\n",
      "Did not submit an order in this iteration.\n",
      "2 new trades\n",
      "Did not submit an order in this iteration.\n",
      "no new trades\n",
      "Did not submit an order in this iteration.\n",
      "2 new trades\n",
      "Did not submit an order in this iteration.\n",
      "no new trades\n",
      "Did not submit an order in this iteration.\n",
      "2 new trades\n",
      "Did not submit an order in this iteration.\n",
      "no new trades\n",
      "Did not submit an order in this iteration.\n",
      "2 new trades\n",
      "Did not submit an order in this iteration.\n",
      "no new trades\n",
      "Did not submit an order in this iteration.\n",
      "2 new trades\n",
      "Did not submit an order in this iteration.\n",
      "no new trades\n",
      "Did not submit an order in this iteration.\n",
      "2 new trades\n",
      "Did not submit an order in this iteration.\n",
      "no new trades\n",
      "Did not submit an order in this iteration.\n",
      "2 new trades\n",
      "Did not submit an order in this iteration.\n",
      "no new trades\n",
      "Did not submit an order in this iteration.\n",
      "2 new trades\n",
      "Did not submit an order in this iteration.\n",
      "no new trades\n",
      "Did not submit an order in this iteration.\n",
      "2 new trades\n",
      "Did not submit an order in this iteration.\n",
      "no new trades\n",
      "Did not submit an order in this iteration.\n",
      "no new trades\n",
      "Did not submit an order in this iteration.\n",
      "30 new trades\n"
     ]
    },
    {
     "name": "stderr",
     "output_type": "stream",
     "text": [
      "Placing trade, symbol= AA  price= 6.0  submit_num_shares= 100  buy= True\n"
     ]
    },
    {
     "name": "stdout",
     "output_type": "stream",
     "text": [
      "2 new trades\n"
     ]
    },
    {
     "name": "stderr",
     "output_type": "stream",
     "text": [
      "Placing trade, symbol= AA  price= 6.0  submit_num_shares= 100  buy= True\n"
     ]
    },
    {
     "name": "stdout",
     "output_type": "stream",
     "text": [
      "no new trades\n"
     ]
    },
    {
     "name": "stderr",
     "output_type": "stream",
     "text": [
      "Placing trade, symbol= AA  price= 6.0  submit_num_shares= 100  buy= True\n"
     ]
    },
    {
     "name": "stdout",
     "output_type": "stream",
     "text": [
      "2 new trades\n"
     ]
    },
    {
     "name": "stderr",
     "output_type": "stream",
     "text": [
      "Placing trade, symbol= AA  price= 6.0  submit_num_shares= 100  buy= True\n"
     ]
    },
    {
     "name": "stdout",
     "output_type": "stream",
     "text": [
      "no new trades\n"
     ]
    },
    {
     "name": "stderr",
     "output_type": "stream",
     "text": [
      "Placing trade, symbol= AA  price= 6.0  submit_num_shares= 100  buy= True\n"
     ]
    },
    {
     "name": "stdout",
     "output_type": "stream",
     "text": [
      "no new trades\n"
     ]
    },
    {
     "name": "stderr",
     "output_type": "stream",
     "text": [
      "Placing trade, symbol= AA  price= 6.0  submit_num_shares= 100  buy= True\n"
     ]
    },
    {
     "name": "stdout",
     "output_type": "stream",
     "text": [
      "2 new trades\n"
     ]
    },
    {
     "name": "stderr",
     "output_type": "stream",
     "text": [
      "Placing trade, symbol= AA  price= 6.0  submit_num_shares= 100  buy= True\n"
     ]
    },
    {
     "name": "stdout",
     "output_type": "stream",
     "text": [
      "1 new trades\n"
     ]
    },
    {
     "name": "stderr",
     "output_type": "stream",
     "text": [
      "Placing trade, symbol= AA  price= 7.0  submit_num_shares= 100  buy= True\n"
     ]
    },
    {
     "name": "stdout",
     "output_type": "stream",
     "text": [
      "3 new trades\n"
     ]
    },
    {
     "name": "stderr",
     "output_type": "stream",
     "text": [
      "Placing trade, symbol= AA  price= 7.0  submit_num_shares= 100  buy= True\n"
     ]
    },
    {
     "name": "stdout",
     "output_type": "stream",
     "text": [
      "1 new trades\n"
     ]
    },
    {
     "name": "stderr",
     "output_type": "stream",
     "text": [
      "Placing trade, symbol= AA  price= 7.0  submit_num_shares= 100  buy= True\n"
     ]
    },
    {
     "name": "stdout",
     "output_type": "stream",
     "text": [
      "3 new trades\n"
     ]
    },
    {
     "name": "stderr",
     "output_type": "stream",
     "text": [
      "Placing trade, symbol= AA  price= 6.0  submit_num_shares= 100  buy= True\n"
     ]
    },
    {
     "name": "stdout",
     "output_type": "stream",
     "text": [
      "no new trades\n"
     ]
    },
    {
     "name": "stderr",
     "output_type": "stream",
     "text": [
      "Placing trade, symbol= AA  price= 6.0  submit_num_shares= 100  buy= True\n"
     ]
    },
    {
     "name": "stdout",
     "output_type": "stream",
     "text": [
      "2 new trades\n"
     ]
    },
    {
     "name": "stderr",
     "output_type": "stream",
     "text": [
      "Placing trade, symbol= AA  price= 6.0  submit_num_shares= 100  buy= True\n"
     ]
    },
    {
     "name": "stdout",
     "output_type": "stream",
     "text": [
      "no new trades\n"
     ]
    },
    {
     "name": "stderr",
     "output_type": "stream",
     "text": [
      "Placing trade, symbol= AA  price= 6.0  submit_num_shares= 100  buy= True\n"
     ]
    },
    {
     "name": "stdout",
     "output_type": "stream",
     "text": [
      "no new trades\n"
     ]
    },
    {
     "name": "stderr",
     "output_type": "stream",
     "text": [
      "Placing trade, symbol= AA  price= 6.0  submit_num_shares= 100  buy= True\n"
     ]
    },
    {
     "name": "stdout",
     "output_type": "stream",
     "text": [
      "2 new trades\n"
     ]
    },
    {
     "name": "stderr",
     "output_type": "stream",
     "text": [
      "Placing trade, symbol= AA  price= 38.0  submit_num_shares= 100  buy= False\n"
     ]
    },
    {
     "name": "stdout",
     "output_type": "stream",
     "text": [
      "1 new trades\n"
     ]
    },
    {
     "name": "stderr",
     "output_type": "stream",
     "text": [
      "Placing trade, symbol= AA  price= 38.0  submit_num_shares= 100  buy= False\n"
     ]
    },
    {
     "name": "stdout",
     "output_type": "stream",
     "text": [
      "3 new trades\n"
     ]
    },
    {
     "name": "stderr",
     "output_type": "stream",
     "text": [
      "Placing trade, symbol= AA  price= 38.0  submit_num_shares= 100  buy= False\n"
     ]
    },
    {
     "name": "stdout",
     "output_type": "stream",
     "text": [
      "1 new trades\n"
     ]
    },
    {
     "name": "stderr",
     "output_type": "stream",
     "text": [
      "Placing trade, symbol= AA  price= 38.0  submit_num_shares= 100  buy= False\n"
     ]
    },
    {
     "name": "stdout",
     "output_type": "stream",
     "text": [
      "3 new trades\n"
     ]
    },
    {
     "name": "stderr",
     "output_type": "stream",
     "text": [
      "Placing trade, symbol= AA  price= 38.0  submit_num_shares= 100  buy= False\n"
     ]
    },
    {
     "name": "stdout",
     "output_type": "stream",
     "text": [
      "1 new trades\n"
     ]
    },
    {
     "name": "stderr",
     "output_type": "stream",
     "text": [
      "Placing trade, symbol= AA  price= 38.0  submit_num_shares= 100  buy= False\n"
     ]
    },
    {
     "name": "stdout",
     "output_type": "stream",
     "text": [
      "3 new trades\n"
     ]
    },
    {
     "name": "stderr",
     "output_type": "stream",
     "text": [
      "Placing trade, symbol= AA  price= 38.0  submit_num_shares= 100  buy= False\n"
     ]
    },
    {
     "name": "stdout",
     "output_type": "stream",
     "text": [
      "1 new trades\n"
     ]
    },
    {
     "name": "stderr",
     "output_type": "stream",
     "text": [
      "Placing trade, symbol= AA  price= 38.0  submit_num_shares= 100  buy= False\n"
     ]
    },
    {
     "name": "stdout",
     "output_type": "stream",
     "text": [
      "3 new trades\n"
     ]
    },
    {
     "name": "stderr",
     "output_type": "stream",
     "text": [
      "Placing trade, symbol= AA  price= 38.0  submit_num_shares= 100  buy= False\n"
     ]
    },
    {
     "name": "stdout",
     "output_type": "stream",
     "text": [
      "1 new trades\n"
     ]
    },
    {
     "name": "stderr",
     "output_type": "stream",
     "text": [
      "Placing trade, symbol= AA  price= 38.0  submit_num_shares= 100  buy= False\n"
     ]
    },
    {
     "name": "stdout",
     "output_type": "stream",
     "text": [
      "1 new trades\n"
     ]
    },
    {
     "name": "stderr",
     "output_type": "stream",
     "text": [
      "Placing trade, symbol= AA  price= 37.0  submit_num_shares= 100  buy= False\n"
     ]
    },
    {
     "name": "stdout",
     "output_type": "stream",
     "text": [
      "5 new trades\n"
     ]
    },
    {
     "name": "stderr",
     "output_type": "stream",
     "text": [
      "Placing trade, symbol= AA  price= 38.0  submit_num_shares= 100  buy= False\n"
     ]
    },
    {
     "name": "stdout",
     "output_type": "stream",
     "text": [
      "1 new trades\n"
     ]
    },
    {
     "name": "stderr",
     "output_type": "stream",
     "text": [
      "Placing trade, symbol= AA  price= 38.0  submit_num_shares= 100  buy= False\n"
     ]
    },
    {
     "name": "stdout",
     "output_type": "stream",
     "text": [
      "3 new trades\n"
     ]
    },
    {
     "name": "stderr",
     "output_type": "stream",
     "text": [
      "Placing trade, symbol= AA  price= 38.0  submit_num_shares= 100  buy= False\n"
     ]
    },
    {
     "name": "stdout",
     "output_type": "stream",
     "text": [
      "1 new trades\n"
     ]
    },
    {
     "name": "stderr",
     "output_type": "stream",
     "text": [
      "Placing trade, symbol= AA  price= 38.0  submit_num_shares= 100  buy= False\n"
     ]
    },
    {
     "name": "stdout",
     "output_type": "stream",
     "text": [
      "3 new trades\n"
     ]
    },
    {
     "name": "stderr",
     "output_type": "stream",
     "text": [
      "Placing trade, symbol= AA  price= 38.0  submit_num_shares= 100  buy= False\n"
     ]
    },
    {
     "name": "stdout",
     "output_type": "stream",
     "text": [
      "1 new trades\n"
     ]
    },
    {
     "name": "stderr",
     "output_type": "stream",
     "text": [
      "Placing trade, symbol= AA  price= 38.0  submit_num_shares= 100  buy= False\n"
     ]
    },
    {
     "name": "stdout",
     "output_type": "stream",
     "text": [
      "3 new trades\n"
     ]
    },
    {
     "name": "stderr",
     "output_type": "stream",
     "text": [
      "Placing trade, symbol= AA  price= 38.0  submit_num_shares= 100  buy= False\n"
     ]
    },
    {
     "name": "stdout",
     "output_type": "stream",
     "text": [
      "2 new trades\n"
     ]
    },
    {
     "name": "stderr",
     "output_type": "stream",
     "text": [
      "Placing trade, symbol= AA  price= 38.0  submit_num_shares= 100  buy= False\n"
     ]
    },
    {
     "name": "stdout",
     "output_type": "stream",
     "text": [
      "3 new trades\n"
     ]
    },
    {
     "name": "stderr",
     "output_type": "stream",
     "text": [
      "Placing trade, symbol= AA  price= 38.0  submit_num_shares= 100  buy= False\n"
     ]
    },
    {
     "name": "stdout",
     "output_type": "stream",
     "text": [
      "1 new trades\n"
     ]
    },
    {
     "name": "stderr",
     "output_type": "stream",
     "text": [
      "Placing trade, symbol= AA  price= 38.0  submit_num_shares= 100  buy= False\n"
     ]
    },
    {
     "name": "stdout",
     "output_type": "stream",
     "text": [
      "3 new trades\n"
     ]
    },
    {
     "name": "stderr",
     "output_type": "stream",
     "text": [
      "Placing trade, symbol= AA  price= 38.0  submit_num_shares= 100  buy= False\n"
     ]
    },
    {
     "name": "stdout",
     "output_type": "stream",
     "text": [
      "1 new trades\n",
      "Did not submit an order in this iteration.\n",
      "2 new trades\n",
      "Did not submit an order in this iteration.\n",
      "no new trades\n",
      "Did not submit an order in this iteration.\n",
      "2 new trades\n",
      "Did not submit an order in this iteration.\n",
      "2 new trades\n",
      "Did not submit an order in this iteration.\n",
      "no new trades\n",
      "Did not submit an order in this iteration.\n",
      "2 new trades\n",
      "Did not submit an order in this iteration.\n",
      "no new trades\n",
      "Did not submit an order in this iteration.\n",
      "no new trades\n",
      "Did not submit an order in this iteration.\n",
      "2 new trades\n",
      "Did not submit an order in this iteration.\n",
      "no new trades\n",
      "Did not submit an order in this iteration.\n",
      "2 new trades\n",
      "Did not submit an order in this iteration.\n",
      "no new trades\n",
      "Did not submit an order in this iteration.\n",
      "1 new trades\n"
     ]
    },
    {
     "name": "stderr",
     "output_type": "stream",
     "text": [
      "Placing trade, symbol= AA  price= 37.0  submit_num_shares= 100  buy= True\n"
     ]
    },
    {
     "name": "stdout",
     "output_type": "stream",
     "text": [
      "no new trades\n"
     ]
    },
    {
     "name": "stderr",
     "output_type": "stream",
     "text": [
      "Placing trade, symbol= AA  price= 37.0  submit_num_shares= 100  buy= True\n"
     ]
    },
    {
     "name": "stdout",
     "output_type": "stream",
     "text": [
      "3 new trades\n",
      "Did not submit an order in this iteration.\n",
      "no new trades\n",
      "Did not submit an order in this iteration.\n",
      "2 new trades\n",
      "Did not submit an order in this iteration.\n",
      "no new trades\n",
      "Did not submit an order in this iteration.\n",
      "2 new trades\n",
      "Did not submit an order in this iteration.\n",
      "2 new trades\n",
      "Did not submit an order in this iteration.\n",
      "no new trades\n",
      "Did not submit an order in this iteration.\n",
      "2 new trades\n",
      "Did not submit an order in this iteration.\n",
      "no new trades\n",
      "Did not submit an order in this iteration.\n",
      "2 new trades\n",
      "Did not submit an order in this iteration.\n",
      "no new trades\n",
      "Did not submit an order in this iteration.\n",
      "no new trades\n",
      "Did not submit an order in this iteration.\n",
      "2 new trades\n",
      "Did not submit an order in this iteration.\n",
      "no new trades\n",
      "Did not submit an order in this iteration.\n",
      "2 new trades\n",
      "Did not submit an order in this iteration.\n",
      "2 new trades\n",
      "Did not submit an order in this iteration.\n",
      "no new trades\n",
      "Did not submit an order in this iteration.\n",
      "2 new trades\n"
     ]
    },
    {
     "name": "stderr",
     "output_type": "stream",
     "text": [
      "Placing trade, symbol= AA  price= 56.0  submit_num_shares= 100  buy= False\n"
     ]
    },
    {
     "name": "stdout",
     "output_type": "stream",
     "text": [
      "1 new trades\n"
     ]
    },
    {
     "name": "stderr",
     "output_type": "stream",
     "text": [
      "Placing trade, symbol= AA  price= 56.0  submit_num_shares= 100  buy= False\n"
     ]
    },
    {
     "name": "stdout",
     "output_type": "stream",
     "text": [
      "3 new trades\n"
     ]
    },
    {
     "name": "stderr",
     "output_type": "stream",
     "text": [
      "Placing trade, symbol= AA  price= 56.0  submit_num_shares= 100  buy= False\n"
     ]
    },
    {
     "name": "stdout",
     "output_type": "stream",
     "text": [
      "1 new trades\n"
     ]
    },
    {
     "name": "stderr",
     "output_type": "stream",
     "text": [
      "Placing trade, symbol= AA  price= 56.0  submit_num_shares= 100  buy= False\n"
     ]
    },
    {
     "name": "stdout",
     "output_type": "stream",
     "text": [
      "3 new trades\n"
     ]
    },
    {
     "name": "stderr",
     "output_type": "stream",
     "text": [
      "Placing trade, symbol= AA  price= 56.0  submit_num_shares= 100  buy= False\n"
     ]
    },
    {
     "name": "stdout",
     "output_type": "stream",
     "text": [
      "1 new trades\n"
     ]
    },
    {
     "name": "stderr",
     "output_type": "stream",
     "text": [
      "Placing trade, symbol= AA  price= 56.0  submit_num_shares= 100  buy= False\n"
     ]
    },
    {
     "name": "stdout",
     "output_type": "stream",
     "text": [
      "3 new trades\n"
     ]
    },
    {
     "name": "stderr",
     "output_type": "stream",
     "text": [
      "Placing trade, symbol= AA  price= 56.0  submit_num_shares= 100  buy= False\n"
     ]
    },
    {
     "name": "stdout",
     "output_type": "stream",
     "text": [
      "1 new trades\n"
     ]
    },
    {
     "name": "stderr",
     "output_type": "stream",
     "text": [
      "Placing trade, symbol= AA  price= 56.0  submit_num_shares= 100  buy= False\n"
     ]
    },
    {
     "name": "stdout",
     "output_type": "stream",
     "text": [
      "3 new trades\n"
     ]
    },
    {
     "name": "stderr",
     "output_type": "stream",
     "text": [
      "Placing trade, symbol= AA  price= 56.0  submit_num_shares= 100  buy= False\n"
     ]
    },
    {
     "name": "stdout",
     "output_type": "stream",
     "text": [
      "3 new trades\n"
     ]
    },
    {
     "name": "stderr",
     "output_type": "stream",
     "text": [
      "Placing trade, symbol= AA  price= 56.0  submit_num_shares= 100  buy= False\n"
     ]
    },
    {
     "name": "stdout",
     "output_type": "stream",
     "text": [
      "1 new trades\n"
     ]
    },
    {
     "name": "stderr",
     "output_type": "stream",
     "text": [
      "Placing trade, symbol= AA  price= 56.0  submit_num_shares= 100  buy= False\n"
     ]
    },
    {
     "name": "stdout",
     "output_type": "stream",
     "text": [
      "3 new trades\n"
     ]
    },
    {
     "name": "stderr",
     "output_type": "stream",
     "text": [
      "Placing trade, symbol= AA  price= 56.0  submit_num_shares= 100  buy= False\n"
     ]
    },
    {
     "name": "stdout",
     "output_type": "stream",
     "text": [
      "1 new trades\n"
     ]
    },
    {
     "name": "stderr",
     "output_type": "stream",
     "text": [
      "Placing trade, symbol= AA  price= 56.0  submit_num_shares= 100  buy= False\n"
     ]
    },
    {
     "name": "stdout",
     "output_type": "stream",
     "text": [
      "2 new trades\n"
     ]
    },
    {
     "name": "stderr",
     "output_type": "stream",
     "text": [
      "Placing trade, symbol= AA  price= 38.0  submit_num_shares= 100  buy= True\n"
     ]
    },
    {
     "name": "stdout",
     "output_type": "stream",
     "text": [
      "no new trades\n"
     ]
    },
    {
     "name": "stderr",
     "output_type": "stream",
     "text": [
      "Placing trade, symbol= AA  price= 38.0  submit_num_shares= 100  buy= True\n"
     ]
    },
    {
     "name": "stdout",
     "output_type": "stream",
     "text": [
      "2 new trades\n"
     ]
    },
    {
     "name": "stderr",
     "output_type": "stream",
     "text": [
      "Placing trade, symbol= AA  price= 38.0  submit_num_shares= 100  buy= True\n"
     ]
    },
    {
     "name": "stdout",
     "output_type": "stream",
     "text": [
      "no new trades\n"
     ]
    },
    {
     "name": "stderr",
     "output_type": "stream",
     "text": [
      "Placing trade, symbol= AA  price= 38.0  submit_num_shares= 100  buy= True\n"
     ]
    },
    {
     "name": "stdout",
     "output_type": "stream",
     "text": [
      "2 new trades\n"
     ]
    },
    {
     "name": "stderr",
     "output_type": "stream",
     "text": [
      "Placing trade, symbol= AA  price= 38.0  submit_num_shares= 100  buy= True\n"
     ]
    },
    {
     "name": "stdout",
     "output_type": "stream",
     "text": [
      "no new trades\n"
     ]
    },
    {
     "name": "stderr",
     "output_type": "stream",
     "text": [
      "Placing trade, symbol= AA  price= 38.0  submit_num_shares= 100  buy= True\n"
     ]
    },
    {
     "name": "stdout",
     "output_type": "stream",
     "text": [
      "2 new trades\n"
     ]
    },
    {
     "name": "stderr",
     "output_type": "stream",
     "text": [
      "Placing trade, symbol= AA  price= 38.0  submit_num_shares= 100  buy= True\n"
     ]
    },
    {
     "name": "stdout",
     "output_type": "stream",
     "text": [
      "no new trades\n"
     ]
    },
    {
     "name": "stderr",
     "output_type": "stream",
     "text": [
      "Placing trade, symbol= AA  price= 38.0  submit_num_shares= 100  buy= True\n"
     ]
    },
    {
     "name": "stdout",
     "output_type": "stream",
     "text": [
      "2 new trades\n"
     ]
    },
    {
     "name": "stderr",
     "output_type": "stream",
     "text": [
      "Placing trade, symbol= AA  price= 38.0  submit_num_shares= 100  buy= True\n"
     ]
    },
    {
     "name": "stdout",
     "output_type": "stream",
     "text": [
      "2 new trades\n"
     ]
    },
    {
     "name": "stderr",
     "output_type": "stream",
     "text": [
      "Placing trade, symbol= AA  price= 38.0  submit_num_shares= 100  buy= True\n"
     ]
    },
    {
     "name": "stdout",
     "output_type": "stream",
     "text": [
      "no new trades\n"
     ]
    },
    {
     "name": "stderr",
     "output_type": "stream",
     "text": [
      "Placing trade, symbol= AA  price= 38.0  submit_num_shares= 100  buy= True\n"
     ]
    },
    {
     "name": "stdout",
     "output_type": "stream",
     "text": [
      "2 new trades\n"
     ]
    },
    {
     "name": "stderr",
     "output_type": "stream",
     "text": [
      "Placing trade, symbol= AA  price= 38.0  submit_num_shares= 100  buy= True\n"
     ]
    },
    {
     "name": "stdout",
     "output_type": "stream",
     "text": [
      "no new trades\n"
     ]
    },
    {
     "name": "stderr",
     "output_type": "stream",
     "text": [
      "Placing trade, symbol= AA  price= 38.0  submit_num_shares= 100  buy= True\n"
     ]
    },
    {
     "name": "stdout",
     "output_type": "stream",
     "text": [
      "no new trades\n"
     ]
    },
    {
     "name": "stderr",
     "output_type": "stream",
     "text": [
      "Placing trade, symbol= AA  price= 38.0  submit_num_shares= 100  buy= True\n"
     ]
    },
    {
     "name": "stdout",
     "output_type": "stream",
     "text": [
      "2 new trades\n"
     ]
    },
    {
     "name": "stderr",
     "output_type": "stream",
     "text": [
      "Placing trade, symbol= AA  price= 38.0  submit_num_shares= 100  buy= True\n"
     ]
    },
    {
     "name": "stdout",
     "output_type": "stream",
     "text": [
      "no new trades\n"
     ]
    },
    {
     "name": "stderr",
     "output_type": "stream",
     "text": [
      "Placing trade, symbol= AA  price= 38.0  submit_num_shares= 100  buy= True\n"
     ]
    },
    {
     "name": "stdout",
     "output_type": "stream",
     "text": [
      "2 new trades\n"
     ]
    },
    {
     "name": "stderr",
     "output_type": "stream",
     "text": [
      "Placing trade, symbol= AA  price= 38.0  submit_num_shares= 100  buy= True\n"
     ]
    },
    {
     "name": "stdout",
     "output_type": "stream",
     "text": [
      "2 new trades\n"
     ]
    },
    {
     "name": "stderr",
     "output_type": "stream",
     "text": [
      "Placing trade, symbol= AA  price= 38.0  submit_num_shares= 100  buy= True\n"
     ]
    },
    {
     "name": "stdout",
     "output_type": "stream",
     "text": [
      "no new trades\n"
     ]
    },
    {
     "name": "stderr",
     "output_type": "stream",
     "text": [
      "Placing trade, symbol= AA  price= 38.0  submit_num_shares= 100  buy= True\n"
     ]
    },
    {
     "name": "stdout",
     "output_type": "stream",
     "text": [
      "2 new trades\n"
     ]
    },
    {
     "name": "stderr",
     "output_type": "stream",
     "text": [
      "Placing trade, symbol= AA  price= 38.0  submit_num_shares= 100  buy= True\n"
     ]
    },
    {
     "name": "stdout",
     "output_type": "stream",
     "text": [
      "2 new trades\n"
     ]
    },
    {
     "name": "stderr",
     "output_type": "stream",
     "text": [
      "Placing trade, symbol= AA  price= 38.0  submit_num_shares= 100  buy= True\n"
     ]
    },
    {
     "name": "stdout",
     "output_type": "stream",
     "text": [
      "no new trades\n"
     ]
    },
    {
     "name": "stderr",
     "output_type": "stream",
     "text": [
      "Placing trade, symbol= AA  price= 38.0  submit_num_shares= 100  buy= True\n"
     ]
    },
    {
     "name": "stdout",
     "output_type": "stream",
     "text": [
      "2 new trades\n",
      "Did not submit an order in this iteration.\n",
      "no new trades\n",
      "Did not submit an order in this iteration.\n",
      "2 new trades\n",
      "Did not submit an order in this iteration.\n",
      "no new trades\n",
      "Did not submit an order in this iteration.\n",
      "2 new trades\n",
      "Did not submit an order in this iteration.\n",
      "no new trades\n",
      "Did not submit an order in this iteration.\n",
      "2 new trades\n",
      "Did not submit an order in this iteration.\n",
      "no new trades\n",
      "Did not submit an order in this iteration.\n",
      "2 new trades\n",
      "Did not submit an order in this iteration.\n",
      "2 new trades\n",
      "Did not submit an order in this iteration.\n",
      "no new trades\n",
      "Did not submit an order in this iteration.\n",
      "2 new trades\n",
      "Did not submit an order in this iteration.\n",
      "no new trades\n",
      "Did not submit an order in this iteration.\n",
      "2 new trades\n",
      "Did not submit an order in this iteration.\n",
      "no new trades\n",
      "Did not submit an order in this iteration.\n",
      "2 new trades\n",
      "Did not submit an order in this iteration.\n",
      "no new trades\n",
      "Did not submit an order in this iteration.\n",
      "2 new trades\n",
      "Did not submit an order in this iteration.\n",
      "no new trades\n",
      "Did not submit an order in this iteration.\n",
      "2 new trades\n",
      "Did not submit an order in this iteration.\n",
      "2 new trades\n",
      "Did not submit an order in this iteration.\n",
      "no new trades\n",
      "Did not submit an order in this iteration.\n",
      "2 new trades\n",
      "Did not submit an order in this iteration.\n",
      "no new trades\n",
      "Did not submit an order in this iteration.\n",
      "2 new trades\n",
      "Did not submit an order in this iteration.\n",
      "no new trades\n",
      "Did not submit an order in this iteration.\n",
      "2 new trades\n",
      "Did not submit an order in this iteration.\n",
      "no new trades\n",
      "Did not submit an order in this iteration.\n",
      "2 new trades\n",
      "Did not submit an order in this iteration.\n",
      "no new trades\n",
      "Did not submit an order in this iteration.\n",
      "29 new trades\n"
     ]
    },
    {
     "name": "stderr",
     "output_type": "stream",
     "text": [
      "Placing trade, symbol= AA  price= 6.0  submit_num_shares= 100  buy= True\n"
     ]
    },
    {
     "name": "stdout",
     "output_type": "stream",
     "text": [
      "no new trades\n"
     ]
    },
    {
     "name": "stderr",
     "output_type": "stream",
     "text": [
      "Placing trade, symbol= AA  price= 6.0  submit_num_shares= 100  buy= True\n"
     ]
    },
    {
     "name": "stdout",
     "output_type": "stream",
     "text": [
      "2 new trades\n"
     ]
    },
    {
     "name": "stderr",
     "output_type": "stream",
     "text": [
      "Placing trade, symbol= AA  price= 6.0  submit_num_shares= 100  buy= True\n"
     ]
    },
    {
     "name": "stdout",
     "output_type": "stream",
     "text": [
      "2 new trades\n"
     ]
    },
    {
     "name": "stderr",
     "output_type": "stream",
     "text": [
      "Placing trade, symbol= AA  price= 6.0  submit_num_shares= 100  buy= True\n"
     ]
    },
    {
     "name": "stdout",
     "output_type": "stream",
     "text": [
      "no new trades\n"
     ]
    },
    {
     "name": "stderr",
     "output_type": "stream",
     "text": [
      "Placing trade, symbol= AA  price= 6.0  submit_num_shares= 100  buy= True\n"
     ]
    },
    {
     "name": "stdout",
     "output_type": "stream",
     "text": [
      "2 new trades\n"
     ]
    },
    {
     "name": "stderr",
     "output_type": "stream",
     "text": [
      "Placing trade, symbol= AA  price= 6.0  submit_num_shares= 100  buy= True\n"
     ]
    },
    {
     "name": "stdout",
     "output_type": "stream",
     "text": [
      "no new trades\n"
     ]
    },
    {
     "name": "stderr",
     "output_type": "stream",
     "text": [
      "Placing trade, symbol= AA  price= 6.0  submit_num_shares= 100  buy= True\n"
     ]
    },
    {
     "name": "stdout",
     "output_type": "stream",
     "text": [
      "2 new trades\n"
     ]
    },
    {
     "name": "stderr",
     "output_type": "stream",
     "text": [
      "Placing trade, symbol= AA  price= 6.0  submit_num_shares= 100  buy= True\n"
     ]
    },
    {
     "name": "stdout",
     "output_type": "stream",
     "text": [
      "no new trades\n"
     ]
    },
    {
     "name": "stderr",
     "output_type": "stream",
     "text": [
      "Placing trade, symbol= AA  price= 6.0  submit_num_shares= 100  buy= True\n"
     ]
    },
    {
     "name": "stdout",
     "output_type": "stream",
     "text": [
      "2 new trades\n"
     ]
    },
    {
     "name": "stderr",
     "output_type": "stream",
     "text": [
      "Placing trade, symbol= AA  price= 6.0  submit_num_shares= 100  buy= True\n"
     ]
    },
    {
     "name": "stdout",
     "output_type": "stream",
     "text": [
      "\n",
      "\n",
      "Submitted orders in 135 out of 300 iterations\n"
     ]
    }
   ],
   "source": [
    "# Algorithm Settings.\n",
    "symbol = 'AA'\n",
    "num_shares = 100\n",
    "num_orders = 300\n",
    "wait_interval = 0.5\n",
    "moving_average = 29\n",
    "threshold = 1\n",
    "\n",
    "# Create and run mean reversion trader.\n",
    "mrt = meanReversionTrader(trader, [symbol])   #the default parameter bin_interval_ms=500\n",
    "mrt_order_id_list = mrt.trade(symbol,\n",
    "                      num_shares,\n",
    "                      num_orders,\n",
    "                      wait_interval,\n",
    "                      ma=moving_average,\n",
    "                      threshold=threshold)\n",
    "num_submitted_orders = len([order_id for order_id in mrt_order_id_list if order_id])\n",
    "print(\"\\n\\nSubmitted orders in {} out of {} iterations\".format(num_submitted_orders, len(mrt_order_id_list)))"
   ]
  },
  {
   "cell_type": "code",
   "execution_count": null,
   "metadata": {},
   "outputs": [],
   "source": []
  }
 ],
 "metadata": {
  "kernelspec": {
   "display_name": "Python 3",
   "language": "python",
   "name": "python3"
  },
  "language_info": {
   "codemirror_mode": {
    "name": "ipython",
    "version": 3
   },
   "file_extension": ".py",
   "mimetype": "text/x-python",
   "name": "python",
   "nbconvert_exporter": "python",
   "pygments_lexer": "ipython3",
   "version": "3.8.1"
  }
 },
 "nbformat": 4,
 "nbformat_minor": 4
}
