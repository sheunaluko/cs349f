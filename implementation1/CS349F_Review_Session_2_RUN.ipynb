{
 "cells": [
  {
   "cell_type": "markdown",
   "metadata": {
    "id": "_0fsVLwW6zL2"
   },
   "source": [
    "# **CS349F Review Session 2**"
   ]
  },
  {
   "cell_type": "markdown",
   "metadata": {},
   "source": [
    "# Table of Contents\n",
    "* [**CS349F Review Session 2**](#**CS349F-Review-Session-2**)\n",
    "* [Setup Libraries](#Setup-Libraries)\n",
    "* [Utility Functions](#Utility-Functions)\n",
    "* [1. Instantiate Your CloudEx Trader Object](#1.-Instantiate-Your-CloudEx-Trader-Object)\n",
    "\t* [1.1 Create Trader Object](#1.1-Create-Trader-Object)\n",
    "\t* [1.2 Get all My Pending Orders](#1.2-Get-all-My-Pending-Orders)\n",
    "\t* [1.3 Get All My Historical Orders](#1.3-Get-All-My-Historical-Orders)\n",
    "\t* [1.4 Get All My Historical Trades](#1.4-Get-All-My-Historical-Trades)\n",
    "\t* [1.5 Get My Portfolio Matrix](#1.5-Get-My-Portfolio-Matrix)\n",
    "* [2. Mean Reversion Trading](#2.-Mean-Reversion-Trading)\n",
    "\t* [2.1 Subclass Mean Reversion Trader from Algorithmic Trader](#2.1-Subclass-Mean-Reversion-Trader-from-Algorithmic-Trader)\n",
    "\t* [2.2 Create and Start Mean Reversion Trader](#2.2-Create-and-Start-Mean-Reversion-Trader)\n",
    "\t* [2.3 View Pending Orders](#2.3-View-Pending-Orders)\n",
    "\t* [2.4 View Recent Trades](#2.4-View-Recent-Trades)\n",
    "* [3. Momentum Trading](#3.-Momentum-Trading)\n",
    "\t* [3.1 Subclass Momentum Trader from Algorithmic Trader](#3.1-Subclass-Momentum-Trader-from-Algorithmic-Trader)\n",
    "\t* [3.2 Create and Start Momentum Trader](#3.2-Create-and-Start-Momentum-Trader)\n",
    "\t* [3.3 View Pending Orders](#3.3-View-Pending-Orders)\n",
    "\t* [3.4 View Recent Trades](#3.4-View-Recent-Trades)\n",
    "* [4. Pairs Trading](#4.-Pairs-Trading)\n",
    "\t* [4.1 Subclass Pairs Trader from Algorithmic Trader](#4.1-Subclass-Pairs-Trader-from-Algorithmic-Trader)\n",
    "\t* [4.2 Create and Start Pairs Trader](#4.2-Create-and-Start-Pairs-Trader)\n",
    "\t* [4.3 View Pending Orders](#4.3-View-Pending-Orders)\n",
    "\t* [4.4 View Recent Trades](#4.4-View-Recent-Trades)\n",
    "* [5. Backtesting](#5.-Backtesting)\n",
    "\t* [5.1 Get Symbol Historical Data](#5.1-Get-Symbol-Historical-Data)\n",
    "\t* [5.2 Setup the Mean Reversion Trader](#5.2-Setup-the-Mean-Reversion-Trader)\n",
    "\t* [5.3 Backtest Mean Reversion Trader](#5.3-Backtest-Mean-Reversion-Trader)\n"
   ]
  },
  {
   "cell_type": "markdown",
   "metadata": {
    "id": "oOQGK4U3kWgi"
   },
   "source": [
    "# Setup Libraries"
   ]
  },
  {
   "cell_type": "code",
   "execution_count": 1,
   "metadata": {
    "cellView": "both",
    "colab": {
     "base_uri": "https://localhost:8080/",
     "height": 368
    },
    "id": "JMg2z0MTCjCD",
    "outputId": "2be47246-266a-45b5-8a37-62825ae20e9c",
    "scrolled": true
   },
   "outputs": [],
   "source": [
    "# Import packages.\n",
    "import datetime\n",
    "import json\n",
    "import os\n",
    "import sys\n",
    "import time\n",
    "\n",
    "import pandas as pd\n",
    "import numpy as np\n",
    "import redis\n",
    "from pandas.core.common import SettingWithCopyWarning\n",
    "\n",
    "import warnings\n",
    "warnings.simplefilter(action=\"ignore\", category=SettingWithCopyWarning)\n",
    "\n",
    "# Import CloudEx.\n",
    "import cloud_ex\n",
    "\n",
    "# Import AlgorithmicTrader helper class.\n",
    "from algorithmic_trader import AlgorithmicTrader\n",
    "from algorithmic_trader import summarize_historical_trades_df\n",
    "\n",
    "# Start Redis backend.\n",
    "os.system(\"redis-server --daemonize yes\")\n",
    "time.sleep(1)\n",
    "\n",
    "# Get CloudEx and VM-specific config \n",
    "def get_vm_config():\n",
    "    with open(\"vm_config.json\", \"r\") as read_file:\n",
    "        config = json.load(read_file)\n",
    "    return config\n",
    "\n",
    "config = get_vm_config()"
   ]
  },
  {
   "cell_type": "markdown",
   "metadata": {},
   "source": [
    "# Utility Functions"
   ]
  },
  {
   "cell_type": "code",
   "execution_count": 2,
   "metadata": {
    "id": "T12dnZgSXDim"
   },
   "outputs": [],
   "source": [
    "ORDER_FIELDS_LIST = [\n",
    "    'Symbol', 'OrderID', 'CancelID', 'ClientID', 'OrderType', 'OrderAction',\n",
    "    'SubmitTimestamp', 'GatewayTimestamp', 'EnqueueTimestamp',\n",
    "    'DequeueTimestamp', 'OrderSerialNum', 'LimitPrice', 'ResultType','NumShares'\n",
    "]\n",
    "\n",
    "TRADE_FIELDS_LIST = [\n",
    "    \"Symbol\", \"BuyerSerialNum\", \"SellerSerialNum\", \"BuyerOrderID\",\n",
    "    \"SellerOrderID\", \"BuyerClientID\", \"SellerClientID\", \"ExecPrice\",\n",
    "    \"CashTraded\", \"SharesTraded\", \"CreationTimestamp\", \"ReleaseTimestamp\",\n",
    "    \"TradeSerialNum\"\n",
    "]\n",
    "\n",
    "'''\n",
    "Takes in a cloud_ex.VectorOrder with serialized orders and returns a DataFrame\n",
    "'''\n",
    "def OrderDF(order_vec):\n",
    "    if not len(order_vec):\n",
    "        return pd.DataFrame(columns=ORDER_FIELDS_LIST)\n",
    "    df = pd.DataFrame(order_vec).applymap(lambda x:x.SerializeOrder())[0].str.split('|', expand=True)\n",
    "    df.columns = ORDER_FIELDS_LIST\n",
    "    for label in ['SubmitTimestamp', 'GatewayTimestamp', 'EnqueueTimestamp',\n",
    "                  'DequeueTimestamp', 'OrderSerialNum', 'LimitPrice','NumShares']:\n",
    "        df.loc[:, label] = pd.to_numeric(df[label], errors='coerce')\n",
    "    return df\n",
    "\n",
    "'''\n",
    "Takes in a cloud_ex.VectorOrder with serialized trades and returns a DataFrame\n",
    "'''\n",
    "def TradeDF(trade_vec):\n",
    "    if not len(trade_vec):\n",
    "        return pd.DataFrame(columns=TRADE_FIELDS_LIST)\n",
    "    df = pd.DataFrame(trade_vec).applymap(lambda x:x.SerializeTrade())[0].str.split('|', expand=True)\n",
    "    df.columns = TRADE_FIELDS_LIST\n",
    "    for label in [\"ExecPrice\", \"CashTraded\", \"SharesTraded\",\n",
    "                  \"CreationTimestamp\", \"ReleaseTimestamp\", \"TradeSerialNum\"]:\n",
    "        df.loc[:, label] = pd.to_numeric(df[label], errors='coerce')\n",
    "    return df\n",
    "\n",
    "'''\n",
    "Takes in a cloud_ex.MapStringOrder mapping Order ID strings to outstanding the coorresponding orders, \n",
    "and returns a DataFrame\n",
    "'''\n",
    "def OutstandingOrderDF(outstanding_orders):\n",
    "    if not len(outstanding_orders):\n",
    "        return pd.DataFrame(columns=ORDER_FIELDS_LIST)\n",
    "    df = (pd.DataFrame(outstanding_orders.items())[1]).apply(lambda x:x.SerializeOrder()).str.split('|', expand=True)\n",
    "    df.columns = ORDER_FIELDS_LIST\n",
    "    for label in ['SubmitTimestamp', 'GatewayTimestamp', 'EnqueueTimestamp',\n",
    "                  'DequeueTimestamp', 'OrderSerialNum', 'LimitPrice','NumShares']:\n",
    "        df.loc[:, label] = pd.to_numeric(df[label], errors='coerce')\n",
    "    return df "
   ]
  },
  {
   "cell_type": "markdown",
   "metadata": {},
   "source": [
    "# 1. Instantiate Your CloudEx Trader Object"
   ]
  },
  {
   "cell_type": "markdown",
   "metadata": {},
   "source": [
    "## 1.1 Create Trader Object "
   ]
  },
  {
   "cell_type": "markdown",
   "metadata": {},
   "source": [
    "This object will instantiate a connection to a gateway in CloudEx. This gateway will relay orders to the matching engine and market data to your client.\n",
    "\n",
    "**Arguments to `cloud_ex.Trader` constructor:**\n",
    "- gateway_ip `str` - The IP address for the gateway assigned to you\n",
    "- client_id `str` - Your client identifier\n",
    "- client_token `str` - Your client token"
   ]
  },
  {
   "cell_type": "code",
   "execution_count": 3,
   "metadata": {},
   "outputs": [],
   "source": [
    "# Get relevant fields from VM-specific config. Token is yours only, so don't make it public.\n",
    "gateway_ip = config[\"gateway_ip\"]\n",
    "client_id = config[\"client_id\"]\n",
    "client_token = config[\"client_token\"]\n",
    "\n",
    "# Clear any existing data locally.\n",
    "redis_api = redis.Redis()\n",
    "redis_api.flushall();\n",
    "\n",
    "# Create CloudEx base trader object.\n",
    "trader = cloud_ex.Trader(gateway_ip, client_id, client_token)"
   ]
  },
  {
   "cell_type": "code",
   "execution_count": 4,
   "metadata": {},
   "outputs": [
    {
     "name": "stdout",
     "output_type": "stream",
     "text": [
      "These are all the 100 symbols available for trading at the CloudEx exchange: ['AA', 'AB', 'AC', 'AD', 'AE', 'AF', 'AG', 'AH', 'AI', 'AJ', 'AK', 'AL', 'AM', 'AN', 'AO', 'AP', 'AQ', 'AR', 'AS', 'AT', 'AU', 'AV', 'AW', 'AX', 'AY', 'AZ', 'BA', 'BB', 'BC', 'BD', 'BE', 'BF', 'BG', 'BH', 'BI', 'BJ', 'BK', 'BL', 'BM', 'BN', 'BO', 'BP', 'BQ', 'BR', 'BS', 'BT', 'BU', 'BV', 'BW', 'BX', 'BY', 'BZ', 'CA', 'CB', 'CC', 'CD', 'CE', 'CF', 'CG', 'CH', 'CI', 'CJ', 'CK', 'CL', 'CM', 'CN', 'CO', 'CP', 'CQ', 'CR', 'CS', 'CT', 'CU', 'CV', 'CW', 'CX', 'CY', 'CZ', 'DA', 'DB', 'DC', 'DD', 'DE', 'DF', 'DG', 'DH', 'DI', 'DJ', 'DK', 'DL', 'DM', 'DN', 'DO', 'DP', 'DQ', 'DR', 'DS', 'DT', 'DU', 'DV']\n"
     ]
    }
   ],
   "source": [
    "# Get a list of all symbols available for trading.\n",
    "symbol_list = trader.GetSymbols()\n",
    "print(\"These are all the {} symbols available for trading at the CloudEx exchange: {}\".format(\n",
    "    len(symbol_list),symbol_list))"
   ]
  },
  {
   "cell_type": "markdown",
   "metadata": {},
   "source": [
    "## 1.2 Get all My Pending Orders"
   ]
  },
  {
   "cell_type": "code",
   "execution_count": 5,
   "metadata": {},
   "outputs": [
    {
     "name": "stdout",
     "output_type": "stream",
     "text": [
      "You have 0 outstanding orders.\n"
     ]
    },
    {
     "data": {
      "text/html": [
       "<div>\n",
       "<style scoped>\n",
       "    .dataframe tbody tr th:only-of-type {\n",
       "        vertical-align: middle;\n",
       "    }\n",
       "\n",
       "    .dataframe tbody tr th {\n",
       "        vertical-align: top;\n",
       "    }\n",
       "\n",
       "    .dataframe thead th {\n",
       "        text-align: right;\n",
       "    }\n",
       "</style>\n",
       "<table border=\"1\" class=\"dataframe\">\n",
       "  <thead>\n",
       "    <tr style=\"text-align: right;\">\n",
       "      <th></th>\n",
       "      <th>Symbol</th>\n",
       "      <th>OrderID</th>\n",
       "      <th>CancelID</th>\n",
       "      <th>ClientID</th>\n",
       "      <th>OrderType</th>\n",
       "      <th>OrderAction</th>\n",
       "      <th>SubmitTimestamp</th>\n",
       "      <th>GatewayTimestamp</th>\n",
       "      <th>EnqueueTimestamp</th>\n",
       "      <th>DequeueTimestamp</th>\n",
       "      <th>OrderSerialNum</th>\n",
       "      <th>LimitPrice</th>\n",
       "      <th>ResultType</th>\n",
       "      <th>NumShares</th>\n",
       "    </tr>\n",
       "  </thead>\n",
       "  <tbody>\n",
       "  </tbody>\n",
       "</table>\n",
       "</div>"
      ],
      "text/plain": [
       "Empty DataFrame\n",
       "Columns: [Symbol, OrderID, CancelID, ClientID, OrderType, OrderAction, SubmitTimestamp, GatewayTimestamp, EnqueueTimestamp, DequeueTimestamp, OrderSerialNum, LimitPrice, ResultType, NumShares]\n",
       "Index: []"
      ]
     },
     "execution_count": 5,
     "metadata": {},
     "output_type": "execute_result"
    }
   ],
   "source": [
    "outstanding_orders = cloud_ex.MapStringOrder()\n",
    "trader.GetOutstandingOrders(outstanding_orders)\n",
    "\n",
    "print(\"You have {} outstanding orders.\".format(len(outstanding_orders)))\n",
    "\n",
    "# Transform outstanding orders into a DataFrame\n",
    "outstanding_orders = OutstandingOrderDF(outstanding_orders)\n",
    "outstanding_orders"
   ]
  },
  {
   "cell_type": "markdown",
   "metadata": {},
   "source": [
    "## 1.3 Get All My Historical Orders"
   ]
  },
  {
   "cell_type": "code",
   "execution_count": 6,
   "metadata": {},
   "outputs": [
    {
     "name": "stdout",
     "output_type": "stream",
     "text": [
      "You have submitted a total of 0 order(s).\n"
     ]
    },
    {
     "data": {
      "text/html": [
       "<div>\n",
       "<style scoped>\n",
       "    .dataframe tbody tr th:only-of-type {\n",
       "        vertical-align: middle;\n",
       "    }\n",
       "\n",
       "    .dataframe tbody tr th {\n",
       "        vertical-align: top;\n",
       "    }\n",
       "\n",
       "    .dataframe thead th {\n",
       "        text-align: right;\n",
       "    }\n",
       "</style>\n",
       "<table border=\"1\" class=\"dataframe\">\n",
       "  <thead>\n",
       "    <tr style=\"text-align: right;\">\n",
       "      <th></th>\n",
       "      <th>Symbol</th>\n",
       "      <th>OrderID</th>\n",
       "      <th>CancelID</th>\n",
       "      <th>ClientID</th>\n",
       "      <th>OrderType</th>\n",
       "      <th>OrderAction</th>\n",
       "      <th>SubmitTimestamp</th>\n",
       "      <th>GatewayTimestamp</th>\n",
       "      <th>EnqueueTimestamp</th>\n",
       "      <th>DequeueTimestamp</th>\n",
       "      <th>OrderSerialNum</th>\n",
       "      <th>LimitPrice</th>\n",
       "      <th>ResultType</th>\n",
       "      <th>NumShares</th>\n",
       "    </tr>\n",
       "  </thead>\n",
       "  <tbody>\n",
       "  </tbody>\n",
       "</table>\n",
       "</div>"
      ],
      "text/plain": [
       "Empty DataFrame\n",
       "Columns: [Symbol, OrderID, CancelID, ClientID, OrderType, OrderAction, SubmitTimestamp, GatewayTimestamp, EnqueueTimestamp, DequeueTimestamp, OrderSerialNum, LimitPrice, ResultType, NumShares]\n",
       "Index: []"
      ]
     },
     "execution_count": 6,
     "metadata": {},
     "output_type": "execute_result"
    }
   ],
   "source": [
    "# Get all my historical orders\n",
    "my_historical_orders = cloud_ex.VectorOrder()\n",
    "\n",
    "trader.GetAllHistoricalOrders(my_historical_orders)\n",
    "print(\"You have submitted a total of {} order(s).\".format(len(my_historical_orders)))\n",
    "my_historical_orders_df = OrderDF(my_historical_orders)\n",
    "\n",
    "my_historical_orders_df"
   ]
  },
  {
   "cell_type": "markdown",
   "metadata": {},
   "source": [
    "## 1.4 Get All My Historical Trades"
   ]
  },
  {
   "cell_type": "code",
   "execution_count": 7,
   "metadata": {},
   "outputs": [
    {
     "name": "stdout",
     "output_type": "stream",
     "text": [
      "You have made a total of 0 trade(s).\n"
     ]
    },
    {
     "data": {
      "text/html": [
       "<div>\n",
       "<style scoped>\n",
       "    .dataframe tbody tr th:only-of-type {\n",
       "        vertical-align: middle;\n",
       "    }\n",
       "\n",
       "    .dataframe tbody tr th {\n",
       "        vertical-align: top;\n",
       "    }\n",
       "\n",
       "    .dataframe thead th {\n",
       "        text-align: right;\n",
       "    }\n",
       "</style>\n",
       "<table border=\"1\" class=\"dataframe\">\n",
       "  <thead>\n",
       "    <tr style=\"text-align: right;\">\n",
       "      <th></th>\n",
       "      <th>Symbol</th>\n",
       "      <th>BuyerSerialNum</th>\n",
       "      <th>SellerSerialNum</th>\n",
       "      <th>BuyerOrderID</th>\n",
       "      <th>SellerOrderID</th>\n",
       "      <th>BuyerClientID</th>\n",
       "      <th>SellerClientID</th>\n",
       "      <th>ExecPrice</th>\n",
       "      <th>CashTraded</th>\n",
       "      <th>SharesTraded</th>\n",
       "      <th>CreationTimestamp</th>\n",
       "      <th>ReleaseTimestamp</th>\n",
       "      <th>TradeSerialNum</th>\n",
       "    </tr>\n",
       "  </thead>\n",
       "  <tbody>\n",
       "  </tbody>\n",
       "</table>\n",
       "</div>"
      ],
      "text/plain": [
       "Empty DataFrame\n",
       "Columns: [Symbol, BuyerSerialNum, SellerSerialNum, BuyerOrderID, SellerOrderID, BuyerClientID, SellerClientID, ExecPrice, CashTraded, SharesTraded, CreationTimestamp, ReleaseTimestamp, TradeSerialNum]\n",
       "Index: []"
      ]
     },
     "execution_count": 7,
     "metadata": {},
     "output_type": "execute_result"
    }
   ],
   "source": [
    "# Get all my historical trades\n",
    "my_historical_trades = cloud_ex.VectorTrade()\n",
    "\n",
    "trader.GetAllHistoricalTrades(my_historical_trades)\n",
    "print(\"You have made a total of {} trade(s).\".format(len(my_historical_trades)))\n",
    "my_historical_trades_df = TradeDF(my_historical_trades)\n",
    "\n",
    "my_historical_trades_df"
   ]
  },
  {
   "cell_type": "markdown",
   "metadata": {},
   "source": [
    "## 1.5 Get My Portfolio Matrix"
   ]
  },
  {
   "cell_type": "code",
   "execution_count": 8,
   "metadata": {},
   "outputs": [
    {
     "name": "stdout",
     "output_type": "stream",
     "text": [
      "MapStringInt{AA: 10000, AB: 10000, AC: 10000, AD: 10000, AE: 10000, AF: 10000, AG: 10000, AH: 10000, AI: 10000, AJ: 10000, AK: 10000, AL: 10000, AM: 10000, AN: 10000, AO: 10000, AP: 10000, AQ: 10000, AR: 10000, AS: 10000, AT: 10000, AU: 10000, AV: 10000, AW: 10000, AX: 10000, AY: 10000, AZ: 10000, BA: 10000, BB: 10000, BC: 10000, BD: 10000, BE: 10000, BF: 10000, BG: 10000, BH: 10000, BI: 10000, BJ: 10000, BK: 10000, BL: 10000, BM: 10000, BN: 10000, BO: 10000, BP: 10000, BQ: 10000, BR: 10000, BS: 10000, BT: 10000, BU: 10000, BV: 10000, BW: 10000, BX: 10000, BY: 10000, BZ: 10000, CA: 10000, CASH: 50000000, CB: 10000, CC: 10000, CD: 10000, CE: 10000, CF: 10000, CG: 10000, CH: 10000, CI: 10000, CJ: 10000, CK: 10000, CL: 10000, CM: 10000, CN: 10000, CO: 10000, CP: 10000, CQ: 10000, CR: 10000, CS: 10000, CT: 10000, CU: 10000, CV: 10000, CW: 10000, CX: 10000, CY: 10000, CZ: 10000, DA: 10000, DB: 10000, DC: 10000, DD: 10000, DE: 10000, DF: 10000, DG: 10000, DH: 10000, DI: 10000, DJ: 10000, DK: 10000, DL: 10000, DM: 10000, DN: 10000, DO: 10000, DP: 10000, DQ: 10000, DR: 10000, DS: 10000, DT: 10000, DU: 10000, DV: 10000}\n"
     ]
    }
   ],
   "source": [
    "portfolio_mat = cloud_ex.MapStringInt()\n",
    "\n",
    "trader.GetPortfolioMatrix(portfolio_mat)\n",
    "\n",
    "print(portfolio_mat)"
   ]
  },
  {
   "cell_type": "markdown",
   "metadata": {
    "id": "d8aJ86PRl2LQ"
   },
   "source": [
    "# 2. Mean Reversion Trading"
   ]
  },
  {
   "cell_type": "markdown",
   "metadata": {},
   "source": [
    "## 2.1 Subclass Mean Reversion Trader from Algorithmic Trader"
   ]
  },
  {
   "cell_type": "code",
   "execution_count": 9,
   "metadata": {},
   "outputs": [],
   "source": [
    "class meanReversionTrader(AlgorithmicTrader):\n",
    "    def __init__(self, trader, symbol_list, bin_interval_ms=500):\n",
    "        \"\"\"\n",
    "        Mean Reversion Trader Class.\n",
    "\n",
    "        :param trader(cloud_ex.Trader): CloudEx's base Trader object.\n",
    "        :param symbol_list: List of ticker symbols (str) to fetch data for.\n",
    "        :param bin_interval_ms: Frequency with which to bin trading data in milliseconds (int).\n",
    "        \"\"\"\n",
    "        # Initialize AlgorithmicTrader.\n",
    "        AlgorithmicTrader.__init__(self, trader, symbol_list, bin_interval_ms=bin_interval_ms)\n",
    "\n",
    "    def algorithm(self, df, **kwargs):\n",
    "        \"\"\" \n",
    "        Calculate buy sell points for an equity.\n",
    "        A buy is triggered when the moving average is threshold% below the price.\n",
    "        A sell is triggered when the moving average is threshold% above the price.\n",
    "        For this implementation we evaluate the stock price at the close of each bin_interval_ms time interval.\n",
    "\n",
    "        :param df: Dataframes with prices for an equity (pd.DataFrame).\n",
    "        Mean reversion specific arguments:\n",
    "          :param ma: Number of bins to consider in the moving average (int).\n",
    "          :param threshold: Amount ma is below/above price (as a percentage) for which to buy/sell (float).\n",
    "\n",
    "        Returns: \n",
    "            An (action, price) pair.\n",
    "            \n",
    "            'action' is None when no action is determined to be taken. This happens either when we do not have enough\n",
    "            data to build a moving average estimate or if the price is within a small threshold above/below\n",
    "            the moving average. In this case, 'price' is also None.\n",
    "\n",
    "            'action' is 'Buy' when the price rises above the threshold defined for the moving average. \n",
    "                The buy price is set to the most recent closing price.\n",
    "                \n",
    "            'action' is 'Sell' when the price drops below the threshold defined for the moving average. \n",
    "                The sell price is set to the most recent closing price.\n",
    "        \"\"\"\n",
    "        # Unpack keyword arguments.\n",
    "        ma = kwargs['ma']\n",
    "        threshold = kwargs['threshold']\n",
    "        \n",
    "        # Handle case when data not available to build moving average.\n",
    "        if len(df) < ma:\n",
    "            return None, None\n",
    "        \n",
    "        # Select the last ma rows from our dataframe for processing.\n",
    "        df = df.iloc[-1*ma:]\n",
    "\n",
    "        df['MA'] = df['ClosePrice'].rolling(ma).mean()\n",
    "        row = df.iloc[-1]\n",
    "\n",
    "        # Check if moving average price is defined.\n",
    "        # This value will be undefined for the first `ma` steps.\n",
    "        if np.isnan(row['MA']):\n",
    "            return None, None\n",
    "\n",
    "        buy_cutoff = (1.0 - threshold / 100.0) * row['MA']\n",
    "        sell_cutoff = (1.0 + threshold / 100.0) * row['MA']\n",
    "        p_s = row['ClosePrice']\n",
    "        if p_s <= buy_cutoff:\n",
    "            return 'Buy', p_s\n",
    "        elif p_s >= sell_cutoff:\n",
    "            return 'Sell', p_s\n",
    "        else:\n",
    "            return None, None"
   ]
  },
  {
   "cell_type": "markdown",
   "metadata": {},
   "source": [
    "## 2.2 Create and Start Mean Reversion Trader"
   ]
  },
  {
   "cell_type": "markdown",
   "metadata": {},
   "source": [
    "First, we will create a mean reversion trader.\n",
    "Once created the trader will pull data from CloudEx, process the data\n",
    "and lastly place buy or sell orders.\n",
    "\n",
    "The `meanReversionTrader` object is created with the following parameters:\n",
    "- trader `cloud_ex.Trader`: The CloudEx base trader object \n",
    "- symbol_list `List(str)`: A list of symbols whose market data we would like to subscribe to\n",
    "\n",
    "We then invoke the trading loop with the following arguments\n",
    "- symbol `str` - The symbol we would like to trade\n",
    "- num_shares `int` - Number of shares to buy/sell per order\n",
    "- num_orders `int` - Number of total orders to place \n",
    "- wait_interval `float` - Time to wait between placing orders (s) \n",
    "- ma `int` - Number of steps in the moving average window \n",
    "- threshold `float` - % above or below the moving average at which we will place orders \n",
    "\n",
    "When you have the above information, you can run the order loop using the `meanReversionTrader.trade` function."
   ]
  },
  {
   "cell_type": "code",
   "execution_count": 10,
   "metadata": {
    "cellView": "both",
    "id": "rjz6t7Ezl-U2"
   },
   "outputs": [
    {
     "name": "stdout",
     "output_type": "stream",
     "text": [
      "no new trades\n",
      "Did not submit an order in this iteration.\n",
      "no new trades\n",
      "Did not submit an order in this iteration.\n",
      "8 new trades\n",
      "Did not submit an order in this iteration.\n",
      "no new trades\n",
      "Did not submit an order in this iteration.\n",
      "1 new trades\n",
      "Did not submit an order in this iteration.\n",
      "no new trades\n",
      "Did not submit an order in this iteration.\n",
      "no new trades\n",
      "Did not submit an order in this iteration.\n",
      "1 new trades\n",
      "Did not submit an order in this iteration.\n",
      "no new trades\n",
      "Did not submit an order in this iteration.\n",
      "no new trades\n",
      "Did not submit an order in this iteration.\n",
      "1 new trades\n"
     ]
    },
    {
     "name": "stderr",
     "output_type": "stream",
     "text": [
      "Placing trade, symbol= AA  price= 31.0  submit_num_shares= 100  buy= True\n"
     ]
    },
    {
     "name": "stdout",
     "output_type": "stream",
     "text": [
      "no new trades\n"
     ]
    },
    {
     "name": "stderr",
     "output_type": "stream",
     "text": [
      "Placing trade, symbol= AA  price= 31.0  submit_num_shares= 100  buy= True\n"
     ]
    },
    {
     "name": "stdout",
     "output_type": "stream",
     "text": [
      "no new trades\n"
     ]
    },
    {
     "name": "stderr",
     "output_type": "stream",
     "text": [
      "Placing trade, symbol= AA  price= 31.0  submit_num_shares= 100  buy= True\n"
     ]
    },
    {
     "name": "stdout",
     "output_type": "stream",
     "text": [
      "4 new trades\n"
     ]
    },
    {
     "name": "stderr",
     "output_type": "stream",
     "text": [
      "Placing trade, symbol= AA  price= 31.0  submit_num_shares= 100  buy= True\n"
     ]
    },
    {
     "name": "stdout",
     "output_type": "stream",
     "text": [
      "1 new trades\n"
     ]
    },
    {
     "name": "stderr",
     "output_type": "stream",
     "text": [
      "Placing trade, symbol= AA  price= 31.0  submit_num_shares= 100  buy= True\n"
     ]
    },
    {
     "name": "stdout",
     "output_type": "stream",
     "text": [
      "2 new trades\n"
     ]
    },
    {
     "name": "stderr",
     "output_type": "stream",
     "text": [
      "Placing trade, symbol= AA  price= 29.0  submit_num_shares= 100  buy= True\n"
     ]
    },
    {
     "name": "stdout",
     "output_type": "stream",
     "text": [
      "no new trades\n"
     ]
    },
    {
     "name": "stderr",
     "output_type": "stream",
     "text": [
      "Placing trade, symbol= AA  price= 29.0  submit_num_shares= 100  buy= True\n"
     ]
    },
    {
     "name": "stdout",
     "output_type": "stream",
     "text": [
      "1 new trades\n"
     ]
    },
    {
     "name": "stderr",
     "output_type": "stream",
     "text": [
      "Placing trade, symbol= AA  price= 29.0  submit_num_shares= 100  buy= True\n"
     ]
    },
    {
     "name": "stdout",
     "output_type": "stream",
     "text": [
      "no new trades\n"
     ]
    },
    {
     "name": "stderr",
     "output_type": "stream",
     "text": [
      "Placing trade, symbol= AA  price= 29.0  submit_num_shares= 100  buy= True\n"
     ]
    },
    {
     "name": "stdout",
     "output_type": "stream",
     "text": [
      "1 new trades\n"
     ]
    },
    {
     "name": "stderr",
     "output_type": "stream",
     "text": [
      "Placing trade, symbol= AA  price= 29.0  submit_num_shares= 100  buy= True\n"
     ]
    },
    {
     "name": "stdout",
     "output_type": "stream",
     "text": [
      "\n",
      "\n",
      "Submitted orders in 10 out of 20 iterations\n"
     ]
    }
   ],
   "source": [
    "# Algorithm Settings.\n",
    "symbol = 'AA'\n",
    "num_shares = 100\n",
    "num_orders = 20\n",
    "wait_interval = 0.5\n",
    "moving_average = 29\n",
    "threshold = 1\n",
    "\n",
    "# Create and run mean reversion trader.\n",
    "mrt = meanReversionTrader(trader, [symbol])\n",
    "mrt_order_id_list = mrt.trade(symbol,\n",
    "                      num_shares,\n",
    "                      num_orders,\n",
    "                      wait_interval,\n",
    "                      ma=moving_average,\n",
    "                      threshold=threshold)\n",
    "num_submitted_orders = len([order_id for order_id in mrt_order_id_list if order_id])\n",
    "print(\"\\n\\nSubmitted orders in {} out of {} iterations\".format(num_submitted_orders, len(mrt_order_id_list)))"
   ]
  },
  {
   "cell_type": "markdown",
   "metadata": {
    "id": "JNWKs9Dxmn-Y"
   },
   "source": [
    "## 2.3 View Pending Orders"
   ]
  },
  {
   "cell_type": "markdown",
   "metadata": {},
   "source": [
    "You can view all outstanding orders (those that have not been fulfilled) by calling the `trader.GetOutstandingOrders` function. \n",
    "\n",
    "Doing so can give you the information needed to cancel any or all orders.\n"
   ]
  },
  {
   "cell_type": "code",
   "execution_count": 11,
   "metadata": {
    "id": "lNEshKidmnVz"
   },
   "outputs": [
    {
     "name": "stdout",
     "output_type": "stream",
     "text": [
      "You have 5 outstanding orders.\n"
     ]
    },
    {
     "data": {
      "text/html": [
       "<div>\n",
       "<style scoped>\n",
       "    .dataframe tbody tr th:only-of-type {\n",
       "        vertical-align: middle;\n",
       "    }\n",
       "\n",
       "    .dataframe tbody tr th {\n",
       "        vertical-align: top;\n",
       "    }\n",
       "\n",
       "    .dataframe thead th {\n",
       "        text-align: right;\n",
       "    }\n",
       "</style>\n",
       "<table border=\"1\" class=\"dataframe\">\n",
       "  <thead>\n",
       "    <tr style=\"text-align: right;\">\n",
       "      <th></th>\n",
       "      <th>Symbol</th>\n",
       "      <th>OrderID</th>\n",
       "      <th>CancelID</th>\n",
       "      <th>ClientID</th>\n",
       "      <th>OrderType</th>\n",
       "      <th>OrderAction</th>\n",
       "      <th>SubmitTimestamp</th>\n",
       "      <th>GatewayTimestamp</th>\n",
       "      <th>EnqueueTimestamp</th>\n",
       "      <th>DequeueTimestamp</th>\n",
       "      <th>OrderSerialNum</th>\n",
       "      <th>LimitPrice</th>\n",
       "      <th>ResultType</th>\n",
       "      <th>NumShares</th>\n",
       "    </tr>\n",
       "  </thead>\n",
       "  <tbody>\n",
       "    <tr>\n",
       "      <th>0</th>\n",
       "      <td>AA</td>\n",
       "      <td>AA.0999711602867132153943600000516</td>\n",
       "      <td>NULL</td>\n",
       "      <td>C16</td>\n",
       "      <td>L</td>\n",
       "      <td>B</td>\n",
       "      <td>1602867132153677</td>\n",
       "      <td>1602867132153954</td>\n",
       "      <td>1602867132154141</td>\n",
       "      <td>1602867132154304</td>\n",
       "      <td>6</td>\n",
       "      <td>29</td>\n",
       "      <td>V</td>\n",
       "      <td>98</td>\n",
       "    </tr>\n",
       "    <tr>\n",
       "      <th>1</th>\n",
       "      <td>AA</td>\n",
       "      <td>AA.0999711602867132659255600000616</td>\n",
       "      <td>NULL</td>\n",
       "      <td>C16</td>\n",
       "      <td>L</td>\n",
       "      <td>B</td>\n",
       "      <td>1602867132659036</td>\n",
       "      <td>1602867132659267</td>\n",
       "      <td>1602867132659458</td>\n",
       "      <td>1602867132659618</td>\n",
       "      <td>7</td>\n",
       "      <td>29</td>\n",
       "      <td>V</td>\n",
       "      <td>100</td>\n",
       "    </tr>\n",
       "    <tr>\n",
       "      <th>2</th>\n",
       "      <td>AA</td>\n",
       "      <td>AA.0999711602867133208178600000716</td>\n",
       "      <td>NULL</td>\n",
       "      <td>C16</td>\n",
       "      <td>L</td>\n",
       "      <td>B</td>\n",
       "      <td>1602867133207918</td>\n",
       "      <td>1602867133208192</td>\n",
       "      <td>1602867133208409</td>\n",
       "      <td>1602867133208542</td>\n",
       "      <td>8</td>\n",
       "      <td>29</td>\n",
       "      <td>V</td>\n",
       "      <td>100</td>\n",
       "    </tr>\n",
       "    <tr>\n",
       "      <th>3</th>\n",
       "      <td>AA</td>\n",
       "      <td>AA.0999711602867133714495600000816</td>\n",
       "      <td>NULL</td>\n",
       "      <td>C16</td>\n",
       "      <td>L</td>\n",
       "      <td>B</td>\n",
       "      <td>1602867133714269</td>\n",
       "      <td>1602867133714509</td>\n",
       "      <td>1602867133714743</td>\n",
       "      <td>1602867133714859</td>\n",
       "      <td>9</td>\n",
       "      <td>29</td>\n",
       "      <td>V</td>\n",
       "      <td>100</td>\n",
       "    </tr>\n",
       "    <tr>\n",
       "      <th>4</th>\n",
       "      <td>AA</td>\n",
       "      <td>AA.0999711602867134264463600000916</td>\n",
       "      <td>NULL</td>\n",
       "      <td>C16</td>\n",
       "      <td>L</td>\n",
       "      <td>B</td>\n",
       "      <td>1602867134264259</td>\n",
       "      <td>1602867134264476</td>\n",
       "      <td>1602867134264707</td>\n",
       "      <td>1602867134264827</td>\n",
       "      <td>10</td>\n",
       "      <td>29</td>\n",
       "      <td>V</td>\n",
       "      <td>100</td>\n",
       "    </tr>\n",
       "  </tbody>\n",
       "</table>\n",
       "</div>"
      ],
      "text/plain": [
       "  Symbol                             OrderID CancelID ClientID OrderType  \\\n",
       "0     AA  AA.0999711602867132153943600000516     NULL      C16         L   \n",
       "1     AA  AA.0999711602867132659255600000616     NULL      C16         L   \n",
       "2     AA  AA.0999711602867133208178600000716     NULL      C16         L   \n",
       "3     AA  AA.0999711602867133714495600000816     NULL      C16         L   \n",
       "4     AA  AA.0999711602867134264463600000916     NULL      C16         L   \n",
       "\n",
       "  OrderAction   SubmitTimestamp  GatewayTimestamp  EnqueueTimestamp  \\\n",
       "0           B  1602867132153677  1602867132153954  1602867132154141   \n",
       "1           B  1602867132659036  1602867132659267  1602867132659458   \n",
       "2           B  1602867133207918  1602867133208192  1602867133208409   \n",
       "3           B  1602867133714269  1602867133714509  1602867133714743   \n",
       "4           B  1602867134264259  1602867134264476  1602867134264707   \n",
       "\n",
       "   DequeueTimestamp  OrderSerialNum  LimitPrice ResultType  NumShares  \n",
       "0  1602867132154304               6          29          V         98  \n",
       "1  1602867132659618               7          29          V        100  \n",
       "2  1602867133208542               8          29          V        100  \n",
       "3  1602867133714859               9          29          V        100  \n",
       "4  1602867134264827              10          29          V        100  "
      ]
     },
     "execution_count": 11,
     "metadata": {},
     "output_type": "execute_result"
    }
   ],
   "source": [
    "outstanding_orders = cloud_ex.MapStringOrder()\n",
    "mrt.trader.GetOutstandingOrders(outstanding_orders)\n",
    "\n",
    "print(\"You have {} outstanding orders.\".format(len(outstanding_orders)))\n",
    "\n",
    "# Transform outstanding orders into a DataFrame\n",
    "outstanding_orders = OutstandingOrderDF(outstanding_orders)\n",
    "outstanding_orders"
   ]
  },
  {
   "cell_type": "markdown",
   "metadata": {
    "id": "gsnbBvGNO4L9"
   },
   "source": [
    "## 2.4 View Recent Trades"
   ]
  },
  {
   "cell_type": "markdown",
   "metadata": {},
   "source": [
    "For any of the symbols we have subscribed to, we can pull recent trades. We will use the `trader.GetRecentTrades` to do so.\n",
    "- symbol `str` - Ticker we will fetch data for.\n",
    "- trade_vec `cloud_ex.VectorTrade` - Datastructure to hold the recent trades. \n",
    "- start_fetch_time `int` - Time (in microseconds) to start fetching data from.\n"
   ]
  },
  {
   "cell_type": "code",
   "execution_count": 12,
   "metadata": {
    "id": "YPyucQ8rO26N"
   },
   "outputs": [
    {
     "name": "stdout",
     "output_type": "stream",
     "text": [
      "There were 20 Trades for AA in the last 60 seconds.\n"
     ]
    },
    {
     "data": {
      "text/html": [
       "<div>\n",
       "<style scoped>\n",
       "    .dataframe tbody tr th:only-of-type {\n",
       "        vertical-align: middle;\n",
       "    }\n",
       "\n",
       "    .dataframe tbody tr th {\n",
       "        vertical-align: top;\n",
       "    }\n",
       "\n",
       "    .dataframe thead th {\n",
       "        text-align: right;\n",
       "    }\n",
       "</style>\n",
       "<table border=\"1\" class=\"dataframe\">\n",
       "  <thead>\n",
       "    <tr style=\"text-align: right;\">\n",
       "      <th></th>\n",
       "      <th>Symbol</th>\n",
       "      <th>BuyerSerialNum</th>\n",
       "      <th>SellerSerialNum</th>\n",
       "      <th>BuyerOrderID</th>\n",
       "      <th>SellerOrderID</th>\n",
       "      <th>BuyerClientID</th>\n",
       "      <th>SellerClientID</th>\n",
       "      <th>ExecPrice</th>\n",
       "      <th>CashTraded</th>\n",
       "      <th>SharesTraded</th>\n",
       "      <th>CreationTimestamp</th>\n",
       "      <th>ReleaseTimestamp</th>\n",
       "      <th>TradeSerialNum</th>\n",
       "    </tr>\n",
       "  </thead>\n",
       "  <tbody>\n",
       "    <tr>\n",
       "      <th>0</th>\n",
       "      <td>AA</td>\n",
       "      <td>0</td>\n",
       "      <td>0</td>\n",
       "      <td>NULL</td>\n",
       "      <td>NULL</td>\n",
       "      <td>NULL</td>\n",
       "      <td>NULL</td>\n",
       "      <td>29</td>\n",
       "      <td>29</td>\n",
       "      <td>1</td>\n",
       "      <td>1602867134124948</td>\n",
       "      <td>1602867134125298</td>\n",
       "      <td>100394</td>\n",
       "    </tr>\n",
       "    <tr>\n",
       "      <th>1</th>\n",
       "      <td>AA</td>\n",
       "      <td>0</td>\n",
       "      <td>0</td>\n",
       "      <td>NULL</td>\n",
       "      <td>NULL</td>\n",
       "      <td>NULL</td>\n",
       "      <td>NULL</td>\n",
       "      <td>29</td>\n",
       "      <td>29</td>\n",
       "      <td>1</td>\n",
       "      <td>1602867132674937</td>\n",
       "      <td>1602867132675287</td>\n",
       "      <td>100295</td>\n",
       "    </tr>\n",
       "    <tr>\n",
       "      <th>2</th>\n",
       "      <td>AA</td>\n",
       "      <td>0</td>\n",
       "      <td>0</td>\n",
       "      <td>NULL</td>\n",
       "      <td>NULL</td>\n",
       "      <td>NULL</td>\n",
       "      <td>NULL</td>\n",
       "      <td>29</td>\n",
       "      <td>29</td>\n",
       "      <td>1</td>\n",
       "      <td>1602867131653969</td>\n",
       "      <td>1602867131654319</td>\n",
       "      <td>100217</td>\n",
       "    </tr>\n",
       "    <tr>\n",
       "      <th>3</th>\n",
       "      <td>AA</td>\n",
       "      <td>0</td>\n",
       "      <td>0</td>\n",
       "      <td>NULL</td>\n",
       "      <td>NULL</td>\n",
       "      <td>NULL</td>\n",
       "      <td>NULL</td>\n",
       "      <td>31</td>\n",
       "      <td>3100</td>\n",
       "      <td>100</td>\n",
       "      <td>1602867131605635</td>\n",
       "      <td>1602867131605985</td>\n",
       "      <td>100213</td>\n",
       "    </tr>\n",
       "    <tr>\n",
       "      <th>4</th>\n",
       "      <td>AA</td>\n",
       "      <td>0</td>\n",
       "      <td>0</td>\n",
       "      <td>NULL</td>\n",
       "      <td>NULL</td>\n",
       "      <td>NULL</td>\n",
       "      <td>NULL</td>\n",
       "      <td>31</td>\n",
       "      <td>3100</td>\n",
       "      <td>100</td>\n",
       "      <td>1602867131056028</td>\n",
       "      <td>1602867131056378</td>\n",
       "      <td>100179</td>\n",
       "    </tr>\n",
       "    <tr>\n",
       "      <th>5</th>\n",
       "      <td>AA</td>\n",
       "      <td>0</td>\n",
       "      <td>0</td>\n",
       "      <td>NULL</td>\n",
       "      <td>NULL</td>\n",
       "      <td>NULL</td>\n",
       "      <td>NULL</td>\n",
       "      <td>31</td>\n",
       "      <td>3100</td>\n",
       "      <td>100</td>\n",
       "      <td>1602867130507071</td>\n",
       "      <td>1602867130507421</td>\n",
       "      <td>100140</td>\n",
       "    </tr>\n",
       "    <tr>\n",
       "      <th>6</th>\n",
       "      <td>AA</td>\n",
       "      <td>0</td>\n",
       "      <td>0</td>\n",
       "      <td>NULL</td>\n",
       "      <td>NULL</td>\n",
       "      <td>NULL</td>\n",
       "      <td>NULL</td>\n",
       "      <td>30</td>\n",
       "      <td>30</td>\n",
       "      <td>1</td>\n",
       "      <td>1602867130377955</td>\n",
       "      <td>1602867130378305</td>\n",
       "      <td>100131</td>\n",
       "    </tr>\n",
       "    <tr>\n",
       "      <th>7</th>\n",
       "      <td>AA</td>\n",
       "      <td>0</td>\n",
       "      <td>0</td>\n",
       "      <td>NULL</td>\n",
       "      <td>NULL</td>\n",
       "      <td>NULL</td>\n",
       "      <td>NULL</td>\n",
       "      <td>31</td>\n",
       "      <td>3100</td>\n",
       "      <td>100</td>\n",
       "      <td>1602867130375241</td>\n",
       "      <td>1602867130375591</td>\n",
       "      <td>100130</td>\n",
       "    </tr>\n",
       "    <tr>\n",
       "      <th>8</th>\n",
       "      <td>AA</td>\n",
       "      <td>0</td>\n",
       "      <td>0</td>\n",
       "      <td>NULL</td>\n",
       "      <td>NULL</td>\n",
       "      <td>NULL</td>\n",
       "      <td>NULL</td>\n",
       "      <td>31</td>\n",
       "      <td>3100</td>\n",
       "      <td>100</td>\n",
       "      <td>1602867130375238</td>\n",
       "      <td>1602867130375588</td>\n",
       "      <td>100129</td>\n",
       "    </tr>\n",
       "    <tr>\n",
       "      <th>9</th>\n",
       "      <td>AA</td>\n",
       "      <td>0</td>\n",
       "      <td>0</td>\n",
       "      <td>NULL</td>\n",
       "      <td>NULL</td>\n",
       "      <td>NULL</td>\n",
       "      <td>NULL</td>\n",
       "      <td>31</td>\n",
       "      <td>31</td>\n",
       "      <td>1</td>\n",
       "      <td>1602867129154697</td>\n",
       "      <td>1602867129155047</td>\n",
       "      <td>100044</td>\n",
       "    </tr>\n",
       "    <tr>\n",
       "      <th>10</th>\n",
       "      <td>AA</td>\n",
       "      <td>0</td>\n",
       "      <td>0</td>\n",
       "      <td>NULL</td>\n",
       "      <td>NULL</td>\n",
       "      <td>NULL</td>\n",
       "      <td>NULL</td>\n",
       "      <td>31</td>\n",
       "      <td>31</td>\n",
       "      <td>1</td>\n",
       "      <td>1602867127503690</td>\n",
       "      <td>1602867127504040</td>\n",
       "      <td>99927</td>\n",
       "    </tr>\n",
       "    <tr>\n",
       "      <th>11</th>\n",
       "      <td>AA</td>\n",
       "      <td>0</td>\n",
       "      <td>0</td>\n",
       "      <td>NULL</td>\n",
       "      <td>NULL</td>\n",
       "      <td>NULL</td>\n",
       "      <td>NULL</td>\n",
       "      <td>32</td>\n",
       "      <td>32</td>\n",
       "      <td>1</td>\n",
       "      <td>1602867126190812</td>\n",
       "      <td>1602867126191162</td>\n",
       "      <td>99844</td>\n",
       "    </tr>\n",
       "    <tr>\n",
       "      <th>12</th>\n",
       "      <td>AA</td>\n",
       "      <td>0</td>\n",
       "      <td>0</td>\n",
       "      <td>NULL</td>\n",
       "      <td>NULL</td>\n",
       "      <td>NULL</td>\n",
       "      <td>NULL</td>\n",
       "      <td>32</td>\n",
       "      <td>32</td>\n",
       "      <td>1</td>\n",
       "      <td>1602867124962875</td>\n",
       "      <td>1602867124963225</td>\n",
       "      <td>99756</td>\n",
       "    </tr>\n",
       "    <tr>\n",
       "      <th>13</th>\n",
       "      <td>AA</td>\n",
       "      <td>0</td>\n",
       "      <td>0</td>\n",
       "      <td>NULL</td>\n",
       "      <td>NULL</td>\n",
       "      <td>NULL</td>\n",
       "      <td>NULL</td>\n",
       "      <td>33</td>\n",
       "      <td>33</td>\n",
       "      <td>1</td>\n",
       "      <td>1602867123673760</td>\n",
       "      <td>1602867123674110</td>\n",
       "      <td>99671</td>\n",
       "    </tr>\n",
       "    <tr>\n",
       "      <th>14</th>\n",
       "      <td>AA</td>\n",
       "      <td>0</td>\n",
       "      <td>0</td>\n",
       "      <td>NULL</td>\n",
       "      <td>NULL</td>\n",
       "      <td>NULL</td>\n",
       "      <td>NULL</td>\n",
       "      <td>34</td>\n",
       "      <td>34</td>\n",
       "      <td>1</td>\n",
       "      <td>1602867122426299</td>\n",
       "      <td>1602867122426649</td>\n",
       "      <td>99587</td>\n",
       "    </tr>\n",
       "    <tr>\n",
       "      <th>15</th>\n",
       "      <td>AA</td>\n",
       "      <td>0</td>\n",
       "      <td>0</td>\n",
       "      <td>NULL</td>\n",
       "      <td>NULL</td>\n",
       "      <td>NULL</td>\n",
       "      <td>NULL</td>\n",
       "      <td>34</td>\n",
       "      <td>34</td>\n",
       "      <td>1</td>\n",
       "      <td>1602867121142473</td>\n",
       "      <td>1602867121142823</td>\n",
       "      <td>99503</td>\n",
       "    </tr>\n",
       "    <tr>\n",
       "      <th>16</th>\n",
       "      <td>AA</td>\n",
       "      <td>0</td>\n",
       "      <td>0</td>\n",
       "      <td>NULL</td>\n",
       "      <td>NULL</td>\n",
       "      <td>NULL</td>\n",
       "      <td>NULL</td>\n",
       "      <td>35</td>\n",
       "      <td>35</td>\n",
       "      <td>1</td>\n",
       "      <td>1602867119700586</td>\n",
       "      <td>1602867119700936</td>\n",
       "      <td>99403</td>\n",
       "    </tr>\n",
       "    <tr>\n",
       "      <th>17</th>\n",
       "      <td>AA</td>\n",
       "      <td>0</td>\n",
       "      <td>0</td>\n",
       "      <td>NULL</td>\n",
       "      <td>NULL</td>\n",
       "      <td>NULL</td>\n",
       "      <td>NULL</td>\n",
       "      <td>36</td>\n",
       "      <td>36</td>\n",
       "      <td>1</td>\n",
       "      <td>1602867117432717</td>\n",
       "      <td>1602867117433067</td>\n",
       "      <td>99249</td>\n",
       "    </tr>\n",
       "    <tr>\n",
       "      <th>18</th>\n",
       "      <td>AA</td>\n",
       "      <td>0</td>\n",
       "      <td>0</td>\n",
       "      <td>NULL</td>\n",
       "      <td>NULL</td>\n",
       "      <td>NULL</td>\n",
       "      <td>NULL</td>\n",
       "      <td>37</td>\n",
       "      <td>37</td>\n",
       "      <td>1</td>\n",
       "      <td>1602867116179752</td>\n",
       "      <td>1602867116180102</td>\n",
       "      <td>99165</td>\n",
       "    </tr>\n",
       "    <tr>\n",
       "      <th>19</th>\n",
       "      <td>AA</td>\n",
       "      <td>0</td>\n",
       "      <td>0</td>\n",
       "      <td>NULL</td>\n",
       "      <td>NULL</td>\n",
       "      <td>NULL</td>\n",
       "      <td>NULL</td>\n",
       "      <td>38</td>\n",
       "      <td>38</td>\n",
       "      <td>1</td>\n",
       "      <td>1602867114911478</td>\n",
       "      <td>1602867114911828</td>\n",
       "      <td>99081</td>\n",
       "    </tr>\n",
       "  </tbody>\n",
       "</table>\n",
       "</div>"
      ],
      "text/plain": [
       "   Symbol BuyerSerialNum SellerSerialNum BuyerOrderID SellerOrderID  \\\n",
       "0      AA              0               0         NULL          NULL   \n",
       "1      AA              0               0         NULL          NULL   \n",
       "2      AA              0               0         NULL          NULL   \n",
       "3      AA              0               0         NULL          NULL   \n",
       "4      AA              0               0         NULL          NULL   \n",
       "5      AA              0               0         NULL          NULL   \n",
       "6      AA              0               0         NULL          NULL   \n",
       "7      AA              0               0         NULL          NULL   \n",
       "8      AA              0               0         NULL          NULL   \n",
       "9      AA              0               0         NULL          NULL   \n",
       "10     AA              0               0         NULL          NULL   \n",
       "11     AA              0               0         NULL          NULL   \n",
       "12     AA              0               0         NULL          NULL   \n",
       "13     AA              0               0         NULL          NULL   \n",
       "14     AA              0               0         NULL          NULL   \n",
       "15     AA              0               0         NULL          NULL   \n",
       "16     AA              0               0         NULL          NULL   \n",
       "17     AA              0               0         NULL          NULL   \n",
       "18     AA              0               0         NULL          NULL   \n",
       "19     AA              0               0         NULL          NULL   \n",
       "\n",
       "   BuyerClientID SellerClientID  ExecPrice  CashTraded  SharesTraded  \\\n",
       "0           NULL           NULL         29          29             1   \n",
       "1           NULL           NULL         29          29             1   \n",
       "2           NULL           NULL         29          29             1   \n",
       "3           NULL           NULL         31        3100           100   \n",
       "4           NULL           NULL         31        3100           100   \n",
       "5           NULL           NULL         31        3100           100   \n",
       "6           NULL           NULL         30          30             1   \n",
       "7           NULL           NULL         31        3100           100   \n",
       "8           NULL           NULL         31        3100           100   \n",
       "9           NULL           NULL         31          31             1   \n",
       "10          NULL           NULL         31          31             1   \n",
       "11          NULL           NULL         32          32             1   \n",
       "12          NULL           NULL         32          32             1   \n",
       "13          NULL           NULL         33          33             1   \n",
       "14          NULL           NULL         34          34             1   \n",
       "15          NULL           NULL         34          34             1   \n",
       "16          NULL           NULL         35          35             1   \n",
       "17          NULL           NULL         36          36             1   \n",
       "18          NULL           NULL         37          37             1   \n",
       "19          NULL           NULL         38          38             1   \n",
       "\n",
       "    CreationTimestamp  ReleaseTimestamp  TradeSerialNum  \n",
       "0    1602867134124948  1602867134125298          100394  \n",
       "1    1602867132674937  1602867132675287          100295  \n",
       "2    1602867131653969  1602867131654319          100217  \n",
       "3    1602867131605635  1602867131605985          100213  \n",
       "4    1602867131056028  1602867131056378          100179  \n",
       "5    1602867130507071  1602867130507421          100140  \n",
       "6    1602867130377955  1602867130378305          100131  \n",
       "7    1602867130375241  1602867130375591          100130  \n",
       "8    1602867130375238  1602867130375588          100129  \n",
       "9    1602867129154697  1602867129155047          100044  \n",
       "10   1602867127503690  1602867127504040           99927  \n",
       "11   1602867126190812  1602867126191162           99844  \n",
       "12   1602867124962875  1602867124963225           99756  \n",
       "13   1602867123673760  1602867123674110           99671  \n",
       "14   1602867122426299  1602867122426649           99587  \n",
       "15   1602867121142473  1602867121142823           99503  \n",
       "16   1602867119700586  1602867119700936           99403  \n",
       "17   1602867117432717  1602867117433067           99249  \n",
       "18   1602867116179752  1602867116180102           99165  \n",
       "19   1602867114911478  1602867114911828           99081  "
      ]
     },
     "execution_count": 12,
     "metadata": {},
     "output_type": "execute_result"
    }
   ],
   "source": [
    "# 'symbol' should be same symbol we used before\n",
    "symbol = 'AA'\n",
    "past_seconds = 60\n",
    "trade_vec = cloud_ex.VectorTrade()\n",
    "start_fetch_time_us = int((time.time() - past_seconds) * 1e6) # We will fetch from past_seconds seconds ago to now.\n",
    "\n",
    "success = mrt.trader.GetRecentTrades(symbol, trade_vec, start_fetch_time_us)\n",
    "if not success:\n",
    "    print(\"Error getting {symbol} trades. Check that {symbol} is in your active symbol list\".format(symbol=symbol))\n",
    "else:\n",
    "    print(\"There were {} Trades for {} in the last {} seconds.\".format(len(trade_vec), symbol, past_seconds))\n",
    "\n",
    "# Transform recent trades into a DataFrame\n",
    "recent_trade_df = TradeDF(trade_vec)\n",
    "recent_trade_df"
   ]
  },
  {
   "cell_type": "markdown",
   "metadata": {
    "id": "3raxfhall_Cw"
   },
   "source": [
    "# 3. Momentum Trading"
   ]
  },
  {
   "cell_type": "markdown",
   "metadata": {},
   "source": [
    "## 3.1 Subclass Momentum Trader from Algorithmic Trader"
   ]
  },
  {
   "cell_type": "code",
   "execution_count": 13,
   "metadata": {},
   "outputs": [],
   "source": [
    "class momentumTrader(AlgorithmicTrader):\n",
    "    def __init__(self, trader, symbol_list, bin_interval_ms=500):\n",
    "        \"\"\"\n",
    "        Momentum Trader Class.\n",
    "\n",
    "        :param trader(cloud_ex.Trader): CloudEx's base Trader object\n",
    "        :param symbol_list: List of ticker symbols (str) to fetch data for.\n",
    "        :param bin_interval_ms: Frequency with which to bin trading data in milliseconds (int).\n",
    "        \"\"\"\n",
    "        # Initialize Trader.\n",
    "        AlgorithmicTrader.__init__(self, trader, symbol_list, bin_interval_ms=bin_interval_ms)\n",
    "\n",
    "    def algorithm(self, df, **kwargs):\n",
    "        \"\"\"\n",
    "        Calculate buy sell points for an equity.\n",
    "        A buy is triggered when the weighted rate of change for the past two time intervals is above a given threshold.\n",
    "        A sell is triggered when the weighted rate of change for the past two time intervals is below a given threshold.\n",
    "        For this implementation we evaluate the rate of change for stock price from open to close for each bin_interval_ms time interval.\n",
    "\n",
    "        :param df: Dataframes with prices for an equity (pd.DataFrame).\n",
    "        Momentum specific arguments:\n",
    "        :param threshold: Weighted rate of change above/below which we will buy/sell (float).\n",
    "        :param p1: weight for t-1 rate of change, Note: p1+p2=1 (float).\n",
    "        :param p2: Weight for t-2 rate of change, Note: p1+p2=1 (float).\n",
    "\n",
    "        Returns: \n",
    "            An (action, price) pair.\n",
    "            \n",
    "            'action' is None when no action is determined to be taken. This happens either when we do not have enough\n",
    "            data to build a moving average estimate or if the price is within a small threshold above/below\n",
    "            the moving average. In this case, 'price' is also None.\n",
    "\n",
    "            'action' is 'Buy' when the price rises above the threshold defined for the moving average. \n",
    "                The buy price is set to the most recent closing price.\n",
    "                \n",
    "            'action' is 'Sell' when the price drops below the threshold defined for the moving average. \n",
    "                The sell price is set to the most recent closing price.\n",
    "        \"\"\"\n",
    "        # Handle case when data not available to get momentum.\n",
    "        if len(df) < 2:\n",
    "            return None, None\n",
    "\n",
    "        # Select the last few rows from our dataframe for processing.\n",
    "        df = df.iloc[-2:]\n",
    "        \n",
    "        # Unpack keyword arguments\n",
    "        threshold = kwargs['threshold']\n",
    "        p1 = kwargs['p1']\n",
    "        p2 = kwargs['p2']\n",
    "\n",
    "        # Calculate the rate of change for our equity at each timestep.\n",
    "        df['Perc Change'] = (df['ClosePrice'] / df['OpenPrice'] - 1)\n",
    "        row = df.iloc[-1]\n",
    "        prev_row = df.iloc[-2]\n",
    "\n",
    "        # Check if percentage change of previous row is defined.\n",
    "        # This value will be undefined for the first step.\n",
    "        if np.isnan(prev_row['Perc Change']):\n",
    "            return None, None\n",
    "\n",
    "        # Find the weighted average of recent moves (as a percent of stock price).\n",
    "        weighted_ave_roc = p1 * row['Perc Change'] + p2 * prev_row[\n",
    "            'Perc Change']\n",
    "        print(\"Momentum value= \", weighted_ave_roc*100)\n",
    "        p_s = row['ClosePrice']\n",
    "        \n",
    "        if weighted_ave_roc >= threshold / 100.0:\n",
    "            return 'Buy', p_s\n",
    "        elif weighted_ave_roc <= -threshold / 100.0:\n",
    "            return 'Sell', p_s\n",
    "        else:\n",
    "            return None, None\n"
   ]
  },
  {
   "cell_type": "markdown",
   "metadata": {
    "id": "2DMOPPBQmzKE"
   },
   "source": [
    "## 3.2 Create and Start Momentum Trader"
   ]
  },
  {
   "cell_type": "markdown",
   "metadata": {},
   "source": [
    "First, we will create a momentum trader.\n",
    "Once created the trader will pull data from CloudEx, process the data\n",
    "and lastly place buy or sell orders.\n",
    "\n",
    "The `momentumTrader` object is created with the following parameters:\n",
    "- trader `cloud_ex.Trader`: The CloudEx base trader object \n",
    "- symbol_list `List(str)`: A list of symbols whose market data we would like to subscribe to\n",
    "\n",
    "We then invoke the trading loop with the following arguments\n",
    "- symbol `str` - The symbol we would like to trade \n",
    "- num_shares `int` - Number of shares to buy/sell per order  \n",
    "- num_orders `int` - Number of total orders to place \n",
    "- wait_interval `float` - Time to wait between placing orders (s) \n",
    "- threshold `float` - % above or below the moving average at which we will place orders \n",
    "- p1 `float` - Weight for t-1 rate of change \n",
    "- p2 `float` - Weight for t-2 rate of change \n",
    "\n",
    "When you have the above information, you can run the order loop using the `momentumTrader.trade` function."
   ]
  },
  {
   "cell_type": "code",
   "execution_count": null,
   "metadata": {
    "cellView": "both",
    "id": "E8KpbIPQm8pg"
   },
   "outputs": [
    {
     "name": "stdout",
     "output_type": "stream",
     "text": [
      "no new trades\n",
      "Did not submit an order in this iteration.\n",
      "17 new trades\n",
      "Momentum value=  -0.8771929824561431\n",
      "Did not submit an order in this iteration.\n",
      "2 new trades\n",
      "Momentum value=  -1.785714285714285\n"
     ]
    },
    {
     "name": "stderr",
     "output_type": "stream",
     "text": [
      "Placing trade, symbol= AI  price= 54.0  submit_num_shares= 100  buy= False\n"
     ]
    }
   ],
   "source": [
    "symbol = 'AI'\n",
    "num_shares = 100\n",
    "num_orders = 10\n",
    "wait_interval = 3\n",
    "threshold = 1\n",
    "p1 = .5\n",
    "p2 = .5\n",
    "\n",
    "# Create and run momentum trader.\n",
    "mt = momentumTrader(trader, [symbol], bin_interval_ms=wait_interval*1000)\n",
    "mt_order_id_list = mt.trade(symbol,\n",
    "                      num_shares,\n",
    "                      num_orders,\n",
    "                      wait_interval,\n",
    "                      p1=p1,\n",
    "                      p2=p2,\n",
    "                      threshold=threshold)\n",
    "\n",
    "num_submitted_orders = len([order_id for order_id in mt_order_id_list if order_id])\n",
    "print(\"\\n\\nSubmitted orders in {} out of {} iterations\".format(num_submitted_orders, len(mt_order_id_list)))"
   ]
  },
  {
   "cell_type": "markdown",
   "metadata": {},
   "source": [
    "## 3.3 View Pending Orders"
   ]
  },
  {
   "cell_type": "markdown",
   "metadata": {},
   "source": [
    "As before, you can view all outstanding orders (those that have not been fulfilled) by calling the `trader.GetOutstandingOrders` function. \n",
    "\n",
    "Doing so can give you the information needed to cancel any or all orders.\n"
   ]
  },
  {
   "cell_type": "code",
   "execution_count": null,
   "metadata": {},
   "outputs": [],
   "source": [
    "outstanding_orders = cloud_ex.MapStringOrder()\n",
    "mt.trader.GetOutstandingOrders(outstanding_orders)\n",
    "\n",
    "print(\"You have {} outstanding orders.\".format(len(outstanding_orders)))\n",
    "\n",
    "# Transform outstanding orders into a DataFrame\n",
    "outstanding_orders = OutstandingOrderDF(outstanding_orders)\n",
    "outstanding_orders"
   ]
  },
  {
   "cell_type": "markdown",
   "metadata": {
    "id": "ANSgZbrTm9QH"
   },
   "source": [
    "## 3.4 View Recent Trades"
   ]
  },
  {
   "cell_type": "markdown",
   "metadata": {},
   "source": [
    "As before, for any of the symbols we have subscribed to, we can pull recent trades. We will use the `trader.GetRecentTrades` to do so.\n",
    "- symbol `str` - Ticker we will fetch data for.\n",
    "- trade_vec `cloud_ex.VectorTrade` - Datastructure to hold the recent trades. \n",
    "- start_fetch_time `int` - Time (in microseconds) to start fetching data from.\n"
   ]
  },
  {
   "cell_type": "code",
   "execution_count": null,
   "metadata": {
    "id": "qG-OL0MHm_qK"
   },
   "outputs": [],
   "source": [
    "# 'symbol' should be same symbol we used before\n",
    "symbol = 'AI'\n",
    "past_seconds = 60\n",
    "trade_vec = cloud_ex.VectorTrade()\n",
    "start_fetch_time_us = int((time.time() - past_seconds) * 1e6) # We will fetch from past_seconds seconds ago to now.\n",
    "\n",
    "success = mt.trader.GetRecentTrades(symbol, trade_vec, start_fetch_time_us)\n",
    "if not success:\n",
    "    print(\"Error getting {symbol} trades. Check that {symbol} is in your active symbol list\".format(symbol=symbol))\n",
    "else:\n",
    "    print(\"There were {} Trades for {} in the last {} seconds.\".format(len(trade_vec), symbol, past_seconds))\n",
    "\n",
    "# Transform recent trades into a DataFrame\n",
    "recent_trade_df = TradeDF(trade_vec)\n",
    "recent_trade_df"
   ]
  },
  {
   "cell_type": "markdown",
   "metadata": {
    "id": "jA-evqxRnMI4"
   },
   "source": [
    "# 4. Pairs Trading"
   ]
  },
  {
   "cell_type": "markdown",
   "metadata": {
    "id": "gM4aQ4h3nWLV"
   },
   "source": [
    "## 4.1 Subclass Pairs Trader from Algorithmic Trader"
   ]
  },
  {
   "cell_type": "code",
   "execution_count": null,
   "metadata": {},
   "outputs": [],
   "source": [
    "class pairsTrader(AlgorithmicTrader):\n",
    "    def __init__(self, trader, symbol_list, bin_interval_ms=500):\n",
    "        \"\"\"\n",
    "        Pairs Trader Class.\n",
    "\n",
    "        :param trader(cloud_ex.Trader): CloudEx's base Trader object\n",
    "        :param symbol_list: List of ticker symbols (str) to fetch data for.\n",
    "        :param bin_interval_ms: Frequency with which to bin trading data in milliseconds (int).\n",
    "        \"\"\"\n",
    "        # Initialize Trader.\n",
    "        AlgorithmicTrader.__init__(self, trader, symbol_list, bin_interval_ms=bin_interval_ms)\n",
    "\n",
    "    def algorithm(self, df1, symbol2, ma, threshold):\n",
    "        \"\"\" Calculate buy sell points for an equity.\n",
    "            We will difference the two time series in our pairs trading strategy in the following order:\n",
    "                differenced_time_series(t) = symbol_1(t) - symbol_2(t)\n",
    "            A buy is triggered when the moving average (of the difference time series) is threshold% below the current price.\n",
    "            A sell is triggered when the moving average (of the difference time series) is threshold% above the current price.\n",
    "            For this implementation we evaluate the stock price at the close of each bin_interval_ms time interval.\n",
    "            \n",
    "        Arguments:\n",
    "            :param df1: Dataframes with prices for the first symbol (pd.DataFrame).\n",
    "            :param symbol2: the second symbol in our pairs trading strategy (str).\n",
    "            :param ma: Number of periods to consider in the moving average (int).\n",
    "            :param threshold: Amount ma is below/above price (as a percentage) for which to buy/sell (float).\n",
    "\n",
    "        Returns: \n",
    "            An (action, price) pair.\n",
    "            \n",
    "            'action' is None when no action is determined to be taken. This happens either when we do not have enough\n",
    "            data to build a moving average estimate or if the price is within a small threshold above/below\n",
    "            the moving average. In this case, 'price' is also None.\n",
    "\n",
    "            'action' is 'Buy' when the price rises above the threshold defined for the moving average. \n",
    "                The buy price is set to the most recent closing price.\n",
    "                \n",
    "            'action' is 'Sell' when the price drops below the threshold defined for the moving average. \n",
    "                The sell price is set to the most recent closing price.\n",
    "        \"\"\"\n",
    "        # Get dataframe for second symbol.\n",
    "        self._update_time_and_sales(symbol2)\n",
    "        # df2 {pd.DataFrame} -- Dataframe with prices for the second equity.\n",
    "        df2 = self.summarized_time_and_sales_dict[symbol2]\n",
    "        \n",
    "        # Handle case when data not available to build moving average.\n",
    "        if len(df1) < ma or len(df2) < ma:\n",
    "            return None, None\n",
    "        \n",
    "        df1 = df1.iloc[-1*ma:]\n",
    "        df2 = df2.iloc[-1*ma:]\n",
    "        \n",
    "        # Check that the dataframe indexes (timestamps) match for the two symbols we are trading.\n",
    "        if df1.index.values[-1] != df2.index.values[-1]:\n",
    "            return None, None\n",
    "        \n",
    "        # Get difference time series, pair_df.\n",
    "        pair_df = df1 - df2\n",
    "        pair_df['MA'] = pair_df['ClosePrice'].rolling(ma).mean()\n",
    "        row = pair_df.iloc[-1]\n",
    "\n",
    "        # Check if moving average price is defined.\n",
    "        # This value will be undefined for the first `ma` steps.\n",
    "        if np.isnan(row['MA']):\n",
    "            return None, None\n",
    "\n",
    "        buy_cutoff = (1.0 - threshold / 100.0) * row['MA']\n",
    "        sell_cutoff = (1.0 + threshold / 100.0) * row['MA']\n",
    "        p_s = row['ClosePrice']\n",
    "\n",
    "        p_s1 = df1.iloc[-1]['ClosePrice']\n",
    "        if p_s <= buy_cutoff:\n",
    "            return 'Buy', p_s1  # Sell s1 (can also buy s2)\n",
    "        elif p_s >= sell_cutoff:\n",
    "            return 'Sell', p_s1  # Buy s1 (can also sell s2)\n",
    "        else:\n",
    "            return None, None"
   ]
  },
  {
   "cell_type": "markdown",
   "metadata": {},
   "source": [
    "## 4.2 Create and Start Pairs Trader"
   ]
  },
  {
   "cell_type": "markdown",
   "metadata": {},
   "source": [
    "First, we will create a pairs trader.\n",
    "Once created the trader will pull data from CloudEx, process the data\n",
    "and lastly place buy or sell orders.\n",
    "\n",
    "The `pairsTrader` object is created with the following parameters:\n",
    "- trader `cloud_ex.Trader`: The CloudEx base trader object \n",
    "- symbol_list `List(str)`: A list of symbols whose market data we would like to subscribe to\n",
    "\n",
    "We then invoke the trading loop with the following arguments\n",
    "- symbol1, symbol2 `str` - The two symbol we would like to trade using pairs trading\n",
    "- num_shares `int` - Number of shares to buy/sell per order  \n",
    "- num_orders `int` - Number of total orders to place \n",
    "- wait_interval `float` - Time to wait between placing orders (s) \n",
    "- ma `int` - Number of steps in the moving average window \n",
    "- threshold `float` - % above or below the moving average at which we will place orders \n",
    "\n",
    "When you have the above information, you can run the order loop using the `pairsTrader.trade` function."
   ]
  },
  {
   "cell_type": "code",
   "execution_count": null,
   "metadata": {
    "id": "5Uqkwl_ZnV6V"
   },
   "outputs": [],
   "source": [
    "# Algorithm Settings\n",
    "symbol1 = 'AE'\n",
    "symbol2 = 'AF'\n",
    "num_shares = 100\n",
    "num_orders = 20\n",
    "wait_interval = .5\n",
    "moving_average = 10\n",
    "threshold = 5\n",
    "\n",
    "# Create and run pairs trader.\n",
    "pt = pairsTrader(trader, [symbol1, symbol2])\n",
    "pt_order_id_list = pt.trade(symbol1,\n",
    "                    num_shares,\n",
    "                    num_orders,\n",
    "                    wait_interval,\n",
    "                    ma=moving_average,\n",
    "                    threshold=threshold,\n",
    "                    symbol2=symbol2)\n",
    "\n",
    "num_submitted_orders = len([order_id for order_id in pt_order_id_list if order_id])\n",
    "print(\"\\n\\nSubmitted orders in {} out of {} iterations\".format(num_submitted_orders, len(pt_order_id_list)))"
   ]
  },
  {
   "cell_type": "markdown",
   "metadata": {},
   "source": [
    "## 4.3 View Pending Orders"
   ]
  },
  {
   "cell_type": "markdown",
   "metadata": {},
   "source": [
    "As before, you can view all outstanding orders (those that have not been fulfilled) by calling the `trader.GetOutstandingOrders` function. \n",
    "\n",
    "Doing so can give you the information needed to cancel any or all orders."
   ]
  },
  {
   "cell_type": "code",
   "execution_count": null,
   "metadata": {},
   "outputs": [],
   "source": [
    "outstanding_orders = cloud_ex.MapStringOrder()\n",
    "pt.trader.GetOutstandingOrders(outstanding_orders)\n",
    "\n",
    "print(\"You have {} outstanding orders.\".format(len(outstanding_orders)))\n",
    "\n",
    "# Transform outstanding orders into a DataFrame\n",
    "outstanding_orders = OutstandingOrderDF(outstanding_orders)\n",
    "outstanding_orders"
   ]
  },
  {
   "cell_type": "markdown",
   "metadata": {
    "id": "menSPrpsTF2y"
   },
   "source": [
    "## 4.4 View Recent Trades"
   ]
  },
  {
   "cell_type": "markdown",
   "metadata": {},
   "source": [
    "As before, for any of the symbols we have subscribed to, we can pull recent trades. We will use the `trader.GetRecentTrades` to do so.\n",
    "- symbol `str` - Ticker we will fetch data for.\n",
    "- trade_vec `cloud_ex.VectorTrade` - Datastructure to hold the recent trades. \n",
    "- start_fetch_time `int` - Time (in microseconds) to start fetching data from."
   ]
  },
  {
   "cell_type": "code",
   "execution_count": null,
   "metadata": {
    "id": "S1Hl-EQKTF2z"
   },
   "outputs": [],
   "source": [
    "symbol = 'AE' # Same symbol we used before\n",
    "past_seconds = 60\n",
    "trade_vec = cloud_ex.VectorTrade()\n",
    "start_fetch_time_us = int((time.time() - past_seconds) * 1e6) # We will fetch from past_seconds seconds ago to now.\n",
    "\n",
    "success = pt.trader.GetRecentTrades(symbol, trade_vec, start_fetch_time_us)\n",
    "if not success:\n",
    "    print(\"Error getting {symbol} trades. Check that {symbol} is in your active symbol list\".format(symbol=symbol))\n",
    "else:\n",
    "    print(\"There were {} Trades for {} in the last {} seconds.\".format(len(trade_vec), symbol, past_seconds))\n",
    "\n",
    "# Transform recent trades into a DataFrame\n",
    "recent_trade_df = TradeDF(trade_vec)\n",
    "recent_trade_df"
   ]
  },
  {
   "cell_type": "markdown",
   "metadata": {
    "id": "hY1b_tfPTQfg"
   },
   "source": [
    "# 5. Backtesting"
   ]
  },
  {
   "cell_type": "markdown",
   "metadata": {},
   "source": [
    "## 5.1 Get Symbol Historical Data"
   ]
  },
  {
   "cell_type": "code",
   "execution_count": null,
   "metadata": {},
   "outputs": [],
   "source": [
    "symbol = 'AA'\n",
    "seconds_in_past = 60*60*24 # One day\n",
    "end_time_ms = int(time.time()*1e3)\n",
    "start_time_ms = end_time_ms - int(seconds_in_past*1e3)\n",
    "\n",
    "symbol_trades_vec = cloud_ex.VectorTrade()\n",
    "\n",
    "cloud_ex.MarketDataAPI.PullTrades(config['project_id'], config['bigtable_id'], \n",
    "                                          config['table_name'], symbol, start_time_ms, \n",
    "                                          end_time_ms, symbol_trades_vec)\n",
    "print(\"There are a total of {} trade(s) in the last day.\".format(len(symbol_trades_vec)))\n",
    "symbol_historical_trades_df = TradeDF(symbol_trades_vec)\n",
    "\n",
    "symbol_historical_trades_df = symbol_historical_trades_df.sort_values(by=\"CreationTimestamp\")\n",
    "symbol_historical_trades_df"
   ]
  },
  {
   "cell_type": "code",
   "execution_count": null,
   "metadata": {},
   "outputs": [],
   "source": [
    "bin_interval_ms = 500\n",
    "summarize_historical_trades_df(symbol_historical_trades_df, bin_interval_ms)"
   ]
  },
  {
   "cell_type": "markdown",
   "metadata": {
    "id": "eQhgxJ95TXTI"
   },
   "source": [
    "## 5.2 Setup the Mean Reversion Trader"
   ]
  },
  {
   "cell_type": "code",
   "execution_count": null,
   "metadata": {
    "id": "usRwHYBWTgL7"
   },
   "outputs": [],
   "source": [
    "symbol = 'AA'\n",
    "# Create mean reversion trader for backtesting.\n",
    "mrt = meanReversionTrader(trader, [symbol])"
   ]
  },
  {
   "cell_type": "markdown",
   "metadata": {
    "id": "6yJMJYCpTqzQ"
   },
   "source": [
    "## 5.3 Backtest Mean Reversion Trader"
   ]
  },
  {
   "cell_type": "markdown",
   "metadata": {},
   "source": [
    "We can backtest the choice of parameters (`moving_average` and `threshold`) that we have selected by evaluating performance on historical data. \n",
    "\n",
    "`backtest()` Arguments:\n",
    "- symbol_historical_trades_df `pd.DataFrame` - Stock time series dataframe to backtest on. \n",
    "- num_shares `int`: Number of shares to buy or sell. \n",
    "- init_capital `int`: Amount of capital to start with. \n",
    "- init_shares `int`: Number of shares to start with. \n",
    "- Specific to mean reversion algorithm:\n",
    " - ma `int` - Number of steps in the moving average window \n",
    " - threshold `float` - % above or below the moving average at which we will place orders \n",
    "\n",
    "`backtest()` returns:\n",
    "- ROI (%)\n",
    "- a list of (time index, action, price) tuples"
   ]
  },
  {
   "cell_type": "code",
   "execution_count": null,
   "metadata": {
    "id": "hxVQsMpxTwPQ"
   },
   "outputs": [],
   "source": [
    "# Initial capital and shares we will use for the backtest. \n",
    "# Bad parameters.\n",
    "num_shares = 10\n",
    "moving_average = 10\n",
    "threshold = 5\n",
    "init_capital = 100000\n",
    "init_shares = 1000\n",
    "\n",
    "roi, action_list = mrt.backtest(symbol_historical_trades_df,\n",
    "             num_shares, \n",
    "             init_capital, \n",
    "             init_shares, \n",
    "             ma=moving_average, \n",
    "             threshold=threshold)\n",
    "\n",
    "print(action_list)\n",
    "print(\"Mean Reversion Trader, ma={ma} threshold={threshold} ----- ROI={roi}%\".format(\n",
    "    ma=moving_average, threshold=threshold, roi=roi))"
   ]
  },
  {
   "cell_type": "code",
   "execution_count": null,
   "metadata": {},
   "outputs": [],
   "source": [
    "# Initial capital and shares we will use for the backtest. \n",
    "# Good parameters.\n",
    "num_shares = 10\n",
    "moving_average = 29\n",
    "threshold = 1\n",
    "init_capital = 100000\n",
    "init_shares = 1000\n",
    "\n",
    "roi, action_list = mrt.backtest(symbol_historical_trades_df,\n",
    "             num_shares, \n",
    "             init_capital, \n",
    "             init_shares, \n",
    "             ma=moving_average, \n",
    "             threshold=threshold)\n",
    "\n",
    "print(action_list)\n",
    "print(\"Mean Reversion Trader, ma={ma} threshold={threshold} ----- ROI={roi}%\".format(\n",
    "    ma=moving_average, threshold=threshold, roi=roi))"
   ]
  }
 ],
 "metadata": {
  "colab": {
   "collapsed_sections": [],
   "name": "CS349F - Review Session 2",
   "provenance": [],
   "toc_visible": true
  },
  "kernelspec": {
   "display_name": "Python 3",
   "language": "python",
   "name": "python3"
  },
  "language_info": {
   "codemirror_mode": {
    "name": "ipython",
    "version": 3
   },
   "file_extension": ".py",
   "mimetype": "text/x-python",
   "name": "python",
   "nbconvert_exporter": "python",
   "pygments_lexer": "ipython3",
   "version": "3.8.1"
  }
 },
 "nbformat": 4,
 "nbformat_minor": 4
}
